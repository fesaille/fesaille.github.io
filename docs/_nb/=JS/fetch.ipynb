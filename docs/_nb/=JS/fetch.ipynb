{
 "cells": [
  {
   "cell_type": "markdown",
   "metadata": {},
   "source": [
    "[fetch in node.js](https://github.com/lquixada/cross-fetch)"
   ]
  },
  {
   "cell_type": "code",
   "execution_count": 2,
   "metadata": {},
   "outputs": [],
   "source": [
    "const fetch = require('node-fetch');"
   ]
  },
  {
   "cell_type": "code",
   "execution_count": 4,
   "metadata": {},
   "outputs": [
    {
     "name": "stdout",
     "output_type": "stream",
     "text": [
      "{ Accept: '*/*',\n",
      "  'Accept-Encoding': 'gzip,deflate',\n",
      "  'Content-Length': '3',\n",
      "  'Content-Type': 'text/plain;charset=UTF-8',\n",
      "  Host: 'httpbin.org',\n",
      "  'User-Agent': 'node-fetch/1.0 (+https://github.com/bitinn/node-fetch)' }\n"
     ]
    }
   ],
   "source": [
    "fetch('https://httpbin.org/post', { method: 'POST', body: 'a=1' })\n",
    "    .then(res => res.json()) // expecting a json response\n",
    "    .then(json => console.log(json.headers));"
   ]
  },
  {
   "cell_type": "code",
   "execution_count": null,
   "metadata": {},
   "outputs": [],
   "source": []
  }
 ],
 "metadata": {
  "kernelspec": {
   "display_name": "Node.js",
   "language": "javascript",
   "name": "js"
  },
  "language_info": {
   "file_extension": ".js",
   "mimetype": "application/javascript",
   "name": "javascript",
   "version": "11.14.0"
  }
 },
 "nbformat": 4,
 "nbformat_minor": 4
}
