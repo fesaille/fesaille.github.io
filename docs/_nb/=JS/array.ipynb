{
 "cells": [
  {
   "cell_type": "code",
   "execution_count": 1,
   "metadata": {},
   "outputs": [],
   "source": [
    "let foo = [\"fee\", \"fi\", \"fo\", \"fum\"];\n",
    "let numbers = [1, 2, 3, 4, 5, 6, 7, 8, 9, 10];"
   ]
  },
  {
   "cell_type": "markdown",
   "metadata": {},
   "source": [
    "## Copying/Cloning an Array: `Array.slice`"
   ]
  },
  {
   "cell_type": "markdown",
   "metadata": {},
   "source": [
    "[doc (fr)](https://developer.mozilla.org/fr/docs/Web/JavaScript/Reference/Objets_globaux/Array/slice)"
   ]
  },
  {
   "cell_type": "code",
   "execution_count": 2,
   "metadata": {},
   "outputs": [],
   "source": [
    "let fooCopy = foo.slice();"
   ]
  },
  {
   "cell_type": "code",
   "execution_count": 7,
   "metadata": {},
   "outputs": [
    {
     "name": "stdout",
     "output_type": "stream",
     "text": [
      "false false\n"
     ]
    }
   ],
   "source": [
    "console.log(foo == fooCopy, foo === fooCopy)"
   ]
  },
  {
   "cell_type": "markdown",
   "metadata": {},
   "source": [
    "## Checking if an Object Is an Array"
   ]
  },
  {
   "cell_type": "markdown",
   "metadata": {},
   "source": [
    "https://tc39.es/ecma262/#sec-relational-operators"
   ]
  },
  {
   "cell_type": "code",
   "execution_count": 9,
   "metadata": {},
   "outputs": [
    {
     "data": {
      "text/plain": [
       "true"
      ]
     },
     "execution_count": 9,
     "metadata": {},
     "output_type": "execute_result"
    }
   ],
   "source": [
    "Array.isArray(numbers)"
   ]
  },
  {
   "cell_type": "code",
   "execution_count": 10,
   "metadata": {},
   "outputs": [
    {
     "data": {
      "text/plain": [
       "true"
      ]
     },
     "execution_count": 10,
     "metadata": {},
     "output_type": "execute_result"
    }
   ],
   "source": [
    "numbers.constructor === Array"
   ]
  },
  {
   "cell_type": "code",
   "execution_count": 7,
   "metadata": {},
   "outputs": [],
   "source": [
    "let name = \"Homer Simpson\";"
   ]
  },
  {
   "cell_type": "code",
   "execution_count": 8,
   "metadata": {},
   "outputs": [
    {
     "data": {
      "text/plain": [
       "false"
      ]
     },
     "execution_count": 8,
     "metadata": {},
     "output_type": "execute_result"
    }
   ],
   "source": [
    "name.constructor === Array"
   ]
  },
  {
   "cell_type": "markdown",
   "metadata": {},
   "source": [
    "## Deleting an Array Item"
   ]
  },
  {
   "cell_type": "code",
   "execution_count": 9,
   "metadata": {},
   "outputs": [
    {
     "name": "stdout",
     "output_type": "stream",
     "text": [
      "[ 0, 2, 4, 6, 7, 8, 10 ]\n",
      "7\n"
     ]
    }
   ],
   "source": [
    "let evenNumbers = [0, 2, 4, 6, 7, 8, 10];\n",
    "console.log(evenNumbers)\n",
    "console.log(evenNumbers.length) // 7 items"
   ]
  },
  {
   "cell_type": "markdown",
   "metadata": {},
   "source": [
    "`Array.splice` replace (or remove) element inplace when `delete` nullate the element"
   ]
  },
  {
   "cell_type": "code",
   "execution_count": 11,
   "metadata": {},
   "outputs": [
    {
     "name": "stdout",
     "output_type": "stream",
     "text": [
      "[ 0, <1 empty item>, 4, 6, 7, 8, 10 ]\n"
     ]
    }
   ],
   "source": [
    "delete evenNumbers[1];\n",
    "console.log(evenNumbers)"
   ]
  },
  {
   "cell_type": "code",
   "execution_count": 16,
   "metadata": {},
   "outputs": [
    {
     "name": "stdout",
     "output_type": "stream",
     "text": [
      "[ 0, 10, 20, 6, 7, 8, 10 ]\n"
     ]
    }
   ],
   "source": [
    "evenNumbers.splice(1, 2, 10, 20);\n",
    "console.log(evenNumbers)"
   ]
  },
  {
   "cell_type": "code",
   "execution_count": 17,
   "metadata": {},
   "outputs": [
    {
     "name": "stdout",
     "output_type": "stream",
     "text": [
      "[ 0, 6, 7, 8, 10 ]\n"
     ]
    }
   ],
   "source": [
    "evenNumbers.splice(1, 2);\n",
    "console.log(evenNumbers)"
   ]
  },
  {
   "cell_type": "markdown",
   "metadata": {},
   "source": [
    "## Get index of element in `Array`"
   ]
  },
  {
   "cell_type": "code",
   "execution_count": 18,
   "metadata": {},
   "outputs": [],
   "source": [
    "let removeIndex = evenNumbers.indexOf(7);"
   ]
  },
  {
   "cell_type": "code",
   "execution_count": 20,
   "metadata": {},
   "outputs": [
    {
     "name": "stdout",
     "output_type": "stream",
     "text": [
      "3\n",
      "[ 0, 6, 10 ]\n"
     ]
    }
   ],
   "source": [
    "if (removeIndex > -1) {\n",
    "    evenNumbers.splice(removeIndex, 1);\n",
    "}\n",
    "\n",
    "console.log(evenNumbers.length)\n",
    "console.log(evenNumbers)"
   ]
  },
  {
   "cell_type": "markdown",
   "metadata": {},
   "source": [
    "## Emptying an `Array`"
   ]
  },
  {
   "cell_type": "code",
   "execution_count": 21,
   "metadata": {},
   "outputs": [
    {
     "name": "stdout",
     "output_type": "stream",
     "text": [
      "4\n",
      "0\n"
     ]
    }
   ],
   "source": [
    "let myItems = [\"apples\", \"oranges\", \"bananas\", \"kiwis\"];\n",
    "console.log(myItems.length); // 4\n",
    "\n",
    "myItems.length = 0;\n",
    "console.log(myItems.length); // 0"
   ]
  },
  {
   "cell_type": "markdown",
   "metadata": {},
   "source": [
    "## Extract unique elements of `Array` with `Set`"
   ]
  },
  {
   "cell_type": "code",
   "execution_count": 22,
   "metadata": {},
   "outputs": [
    {
     "name": "stdout",
     "output_type": "stream",
     "text": [
      "[ 'Peter', 'Joe', 'Cleveland', 'Quagmire' ]\n"
     ]
    }
   ],
   "source": [
    "let names = [\"Peter\", \"Joe\", \"Cleveland\", \"Quagmire\", \"Joe\"];\n",
    "let uniqueNames = [...new Set(names)];\n",
    "\n",
    "console.log(uniqueNames);"
   ]
  },
  {
   "cell_type": "code",
   "execution_count": 23,
   "metadata": {},
   "outputs": [
    {
     "data": {
      "text/plain": [
       "Set { 'Peter', 'Joe', 'Cleveland', 'Quagmire' }"
      ]
     },
     "execution_count": 23,
     "metadata": {},
     "output_type": "execute_result"
    }
   ],
   "source": [
    "new Set(names)"
   ]
  },
  {
   "cell_type": "markdown",
   "metadata": {},
   "source": [
    "## `Array` sort \n",
    "[doc (fr)](https://developer.mozilla.org/fr/docs/Web/JavaScript/Reference/Objets_globaux/Array/sort)"
   ]
  },
  {
   "cell_type": "code",
   "execution_count": 26,
   "metadata": {},
   "outputs": [
    {
     "name": "stdout",
     "output_type": "stream",
     "text": [
      "[ 2, 2, 3, 5, 7, 9, 10, 14 ]\n",
      "[ 'George', 'John', 'Paul', 'Ringo' ]\n"
     ]
    }
   ],
   "source": [
    "let numbers8 = [3, 10, 2, 14, 7, 2, 9, 5];\n",
    "let beatles = [\"Ringo\", \"George\", \"Paul\", \"John\"];\n",
    "\n",
    "numbers8.sort(compareValues);\n",
    "beatles.sort(compareValues);\n",
    "\n",
    "function compareValues(a, b) {\n",
    "    if (a < b) {\n",
    "        // if a less than b\n",
    "        return -1;\n",
    "    } else if (a > b) {\n",
    "        // if a greater than b\n",
    "        return 1;\n",
    "    } else {\n",
    "        // a and b are equal\n",
    "        return 0;\n",
    "    }\n",
    "}\n",
    "\n",
    "console.log(numbers8);\n",
    "console.log(beatles);"
   ]
  },
  {
   "cell_type": "code",
   "execution_count": null,
   "metadata": {},
   "outputs": [],
   "source": []
  }
 ],
 "metadata": {
  "kernelspec": {
   "display_name": "Node.js",
   "language": "javascript",
   "name": "js"
  },
  "language_info": {
   "file_extension": ".js",
   "mimetype": "application/javascript",
   "name": "javascript",
   "version": "11.14.0"
  }
 },
 "nbformat": 4,
 "nbformat_minor": 4
}
