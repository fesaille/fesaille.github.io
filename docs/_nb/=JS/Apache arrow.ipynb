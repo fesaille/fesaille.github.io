{
 "cells": [
  {
   "cell_type": "markdown",
   "metadata": {},
   "source": [
    "## Imports"
   ]
  },
  {
   "cell_type": "code",
   "execution_count": 1,
   "metadata": {},
   "outputs": [],
   "source": [
    "const fetch = require(\"node-fetch\");"
   ]
  },
  {
   "cell_type": "code",
   "execution_count": 2,
   "metadata": {},
   "outputs": [],
   "source": [
    "const arrow = require('apache-arrow');"
   ]
  },
  {
   "cell_type": "code",
   "execution_count": 3,
   "metadata": {},
   "outputs": [
    {
     "data": {
      "text/plain": [
       "'https://raw.githubusercontent.com/RandomFractals/ChicagoCrimes/master/data/chicago-crimes-2017.arrow'"
      ]
     },
     "execution_count": 3,
     "metadata": {},
     "output_type": "execute_result"
    }
   ],
   "source": [
    "dataUrl = \"https://raw.githubusercontent.com/RandomFractals/ChicagoCrimes/master/data/chicago-crimes-2017.arrow\""
   ]
  },
  {
   "cell_type": "code",
   "execution_count": 4,
   "metadata": {},
   "outputs": [],
   "source": [
    "async function loadData(dataUrl){\n",
    "  const response = await fetch(dataUrl);\n",
    "  return await response.arrayBuffer();\n",
    "}"
   ]
  },
  {
   "cell_type": "code",
   "execution_count": 5,
   "metadata": {},
   "outputs": [
    {
     "name": "stdout",
     "output_type": "stream",
     "text": [
      "true\n",
      "200\n",
      "OK\n",
      "[Object: null prototype] {\n",
      "  'content-security-policy': [ \"default-src 'none'; style-src 'unsafe-inline'; sandbox\" ],\n",
      "  'strict-transport-security': [ 'max-age=31536000' ],\n",
      "  'x-content-type-options': [ 'nosniff' ],\n",
      "  'x-frame-options': [ 'deny' ],\n",
      "  'x-xss-protection': [ '1; mode=block' ],\n",
      "  etag:\n",
      "   [ 'W/\"54801d6e8e8bce558eb964790a95105e16c4a597fef89e71c2edab21e18189a8\"' ],\n",
      "  'content-type': [ 'application/octet-stream' ],\n",
      "  'cache-control': [ 'max-age=300' ],\n",
      "  'x-geo-block-list': [ '' ],\n",
      "  'x-github-request-id': [ '9C90:1231:66FED:82564:5DC740BD' ],\n",
      "  'content-length': [ '3975450' ],\n",
      "  'accept-ranges': [ 'bytes' ],\n",
      "  date: [ 'Sat, 09 Nov 2019 22:42:06 GMT' ],\n",
      "  via: [ '1.1 varnish' ],\n",
      "  connection: [ 'close' ],\n",
      "  'x-served-by': [ 'cache-hhn4067-HHN' ],\n",
      "  'x-cache': [ 'MISS' ],\n",
      "  'x-cache-hits': [ '0' ],\n",
      "  'x-timer': [ 'S1573339327.588676,VS0,VE208' ],\n",
      "  vary: [ 'Authorization,Accept-Encoding' ],\n",
      "  'access-control-allow-origin': [ '*' ],\n",
      "  'x-fastly-request-id': [ '5480e6580b4a34022333d56daef2d409d3fa8c4e' ],\n",
      "  expires: [ 'Sat, 09 Nov 2019 22:47:06 GMT' ],\n",
      "  'source-age': [ '0' ] }\n",
      "application/octet-stream\n"
     ]
    }
   ],
   "source": [
    "fetch(dataUrl)\n",
    "    .then(res => {\n",
    "        console.log(res.ok);\n",
    "        console.log(res.status);\n",
    "        console.log(res.statusText);\n",
    "        console.log(res.headers.raw());\n",
    "        console.log(res.headers.get('content-type'));\n",
    "    });"
   ]
  },
  {
   "cell_type": "raw",
   "metadata": {},
   "source": [
    "const getBuffer = async url => {\n",
    "  try {\n",
    "    const response = await fetch(url);\n",
    "    return await response.arrayBuffer();\n",
    "  } catch (error) {\n",
    "    console.log(error);\n",
    "  }\n",
    "};"
   ]
  },
  {
   "cell_type": "code",
   "execution_count": 14,
   "metadata": {},
   "outputs": [
    {
     "name": "stdout",
     "output_type": "stream",
     "text": [
      "in script 1\n",
      "in script 2\n"
     ]
    },
    {
     "data": {
      "text/plain": [
       "ArrayBuffer {\n",
       "  [Uint8Contents]: <41 52 52 4f 57 31 00 00 00 eb 02 00 00 10 00 00 00 0c 00 0e 00 06 00 05 00 08 00 00 00 0c 00 00 00 00 01 02 00 10 00 00 00 00 00 0a 00 0c 00 00 00 04 00 08 00 0a 00 00 00 90 01 00 00 04 00 00 00 01 00 00 00 0c 00 00 00 08 00 0c 00 04 00 08 00 08 00 00 00 08 00 00 00 10 00 00 00 06 00 00 00 70 61 6e ... 3975350 more bytes>,\n",
       "  byteLength: 3975450 }"
      ]
     },
     "execution_count": 14,
     "metadata": {},
     "output_type": "execute_result"
    }
   ],
   "source": [
    "buf = loadData(dataUrl)"
   ]
  },
  {
   "cell_type": "code",
   "execution_count": 17,
   "metadata": {},
   "outputs": [
    {
     "data": {
      "text/plain": [
       "ArrayBuffer {\n",
       "  [Uint8Contents]: <41 52 52 4f 57 31 00 00 00 eb 02 00 00 10 00 00 00 0c 00 0e 00 06 00 05 00 08 00 00 00 0c 00 00 00 00 01 02 00 10 00 00 00 00 00 0a 00 0c 00 00 00 04 00 08 00 0a 00 00 00 90 01 00 00 04 00 00 00 01 00 00 00 0c 00 00 00 08 00 0c 00 04 00 08 00 08 00 00 00 08 00 00 00 10 00 00 00 06 00 00 00 70 61 6e ... 3975350 more bytes>,\n",
       "  byteLength: 3975450 }"
      ]
     },
     "execution_count": 17,
     "metadata": {},
     "output_type": "execute_result"
    }
   ],
   "source": [
    "buf"
   ]
  },
  {
   "cell_type": "code",
   "execution_count": 70,
   "metadata": {},
   "outputs": [
    {
     "data": {
      "text/plain": [
       "{ aze: 1, qsd: 'aze' }"
      ]
     },
     "execution_count": 70,
     "metadata": {},
     "output_type": "execute_result"
    }
   ],
   "source": [
    "aze = {\n",
    "    aze: 1,\n",
    "    qsd: \"aze\"\n",
    "}"
   ]
  },
  {
   "cell_type": "code",
   "execution_count": null,
   "metadata": {},
   "outputs": [],
   "source": []
  },
  {
   "cell_type": "code",
   "execution_count": 55,
   "metadata": {},
   "outputs": [
    {
     "data": {
      "text/plain": [
       "Float64 [Float] { precision: 2 }"
      ]
     },
     "execution_count": 55,
     "metadata": {},
     "output_type": "execute_result"
    }
   ],
   "source": [
    "t0 = new arrow.Float64()"
   ]
  },
  {
   "cell_type": "code",
   "execution_count": 78,
   "metadata": {},
   "outputs": [
    {
     "data": {
      "text/plain": [
       "Field {\n",
       "  name: 'signal 0',\n",
       "  type: Float64 [Float] { precision: 2 },\n",
       "  nullable: true,\n",
       "  metadata:\n",
       "   { label: 'A simple label',\n",
       "     unit: 'A label containing utf-8 character: µ' } }"
      ]
     },
     "execution_count": 78,
     "metadata": {},
     "output_type": "execute_result"
    }
   ],
   "source": [
    "f0 = new arrow.Field('signal 0',\n",
    "                     t0,\n",
    "                     nullable=true,\n",
    "                     metadata={label:'A simple label',\n",
    "                               unit:\"A label containing utf-8 character: µ\"})"
   ]
  },
  {
   "cell_type": "code",
   "execution_count": 100,
   "metadata": {},
   "outputs": [],
   "source": [
    "function sayHello() {\n",
    "    console.log(\"Hello, World!\");\n",
    "}\n",
    "var t = setTimeout(sayHello, 1000);"
   ]
  },
  {
   "cell_type": "code",
   "execution_count": 101,
   "metadata": {},
   "outputs": [
    {
     "data": {
      "text/plain": [
       "2000"
      ]
     },
     "execution_count": 101,
     "metadata": {},
     "output_type": "execute_result"
    },
    {
     "name": "stdout",
     "output_type": "stream",
     "text": [
      "Hello, World!\n"
     ]
    }
   ],
   "source": [
    "LENGTH"
   ]
  },
  {
   "cell_type": "code",
   "execution_count": 102,
   "metadata": {},
   "outputs": [
    {
     "name": "stdout",
     "output_type": "stream",
     "text": [
      "Hello, World!\n"
     ]
    }
   ],
   "source": [
    "$$.async();\n",
    "\n",
    "console.log(\"Hello, World!\");\n",
    "\n",
    "setTimeout($$.done, 1000);"
   ]
  },
  {
   "cell_type": "code",
   "execution_count": null,
   "metadata": {},
   "outputs": [],
   "source": [
    "let LENGTH = 2000"
   ]
  },
  {
   "cell_type": "code",
   "execution_count": 119,
   "metadata": {},
   "outputs": [
    {
     "data": {
      "text/plain": [
       "[ { name: 'precipitation',\n",
       "    type: { name: 'floatingpoint', precision: 'SINGLE' },\n",
       "    nullable: false,\n",
       "    children: [] },\n",
       "  { name: 'date',\n",
       "    type: { name: 'date', unit: 'MILLISECOND' },\n",
       "    nullable: false,\n",
       "    children: [] } ]"
      ]
     },
     "execution_count": 119,
     "metadata": {},
     "output_type": "execute_result"
    }
   ],
   "source": [
    "$$.clear({})\n",
    "\n",
    "fields = [\n",
    "    {\n",
    "        name: 'precipitation',\n",
    "        type: { name: 'floatingpoint', precision: 'SINGLE'},\n",
    "        nullable: false, children: []\n",
    "    },\n",
    "    {\n",
    "        name: 'date',\n",
    "        type: { name: 'date', unit: 'MILLISECOND' },\n",
    "        nullable: false, children: []\n",
    "    }\n",
    "]"
   ]
  },
  {
   "cell_type": "markdown",
   "metadata": {},
   "source": [
    "## Manipulating Flat Arrays, Arrow-Style\n",
    "\n",
    "https://observablehq.com/@lmeyerov/manipulating-flat-arrays-arrow-style"
   ]
  },
  {
   "cell_type": "code",
   "execution_count": 109,
   "metadata": {},
   "outputs": [
    {
     "data": {
      "text/plain": [
       "Table {\n",
       "  _nullCount: -1,\n",
       "  _type: Struct { children: [ [Field], [Field] ] },\n",
       "  _chunks:\n",
       "   [ RecordBatch [StructVector<Struct>] {\n",
       "       _children: undefined,\n",
       "       numChildren: 2,\n",
       "       data: [Data],\n",
       "       _schema: [Schema] } ],\n",
       "  _chunkOffsets: Uint32Array [ 0, 2000 ],\n",
       "  _length: 2000,\n",
       "  _numChildren: 2,\n",
       "  _schema:\n",
       "   Schema {\n",
       "     fields: [ [Field], [Field] ],\n",
       "     metadata: Map {},\n",
       "     dictionaries: Map {} } }"
      ]
     },
     "execution_count": 109,
     "metadata": {},
     "output_type": "execute_result"
    }
   ],
   "source": [
    "rainAmounts = Array.from({length: LENGTH},\n",
    "                         () => Number((Math.random() * 20).toFixed(1)))\n",
    "rainDates = Array.from({length: LENGTH},\n",
    "                       (_, i) => Date.now() - 1000 * 60 * 60 * 24 * i)\n",
    "\n",
    "rainfall = arrow.Table.from({\n",
    "  schema: { fields: fields },\n",
    "  batches: [{ \n",
    "    count: LENGTH,\n",
    "    columns: [\n",
    "      {name: \"precipitation\", count: LENGTH, VALIDITY: [], DATA: rainAmounts },\n",
    "      {name: \"date\",          count: LENGTH, VALIDITY: [], DATA: rainDates }      \n",
    "    ]\n",
    "  }]\n",
    "})"
   ]
  },
  {
   "cell_type": "code",
   "execution_count": 115,
   "metadata": {},
   "outputs": [
    {
     "data": {
      "text/plain": [
       "2000"
      ]
     },
     "execution_count": 115,
     "metadata": {},
     "output_type": "execute_result"
    }
   ],
   "source": [
    "rainfall.count()"
   ]
  },
  {
   "cell_type": "code",
   "execution_count": 120,
   "metadata": {},
   "outputs": [
    {
     "data": {
      "text/plain": [
       "'{ \"precipitation\": 17.899999618530273, \"date\": Wed Oct 30 2019 11:17:50 GMT+0000 (Coordinated Universal Time) }'"
      ]
     },
     "execution_count": 120,
     "metadata": {},
     "output_type": "execute_result"
    }
   ],
   "source": [
    "rainfall.get(10).toString()"
   ]
  },
  {
   "cell_type": "code",
   "execution_count": 46,
   "metadata": {},
   "outputs": [
    {
     "data": {
      "text/plain": [
       "Table {\n",
       "  _nullCount: -1,\n",
       "  _type: Struct { children: [] },\n",
       "  _chunks:\n",
       "   [ _InternalEmptyPlaceholderRecordBatch [StructVector<Struct>] {\n",
       "       _children: undefined,\n",
       "       numChildren: 0,\n",
       "       data: [Data],\n",
       "       _schema: [Schema] } ],\n",
       "  _chunkOffsets: Uint32Array [ 0, 0 ],\n",
       "  _length: 0,\n",
       "  _numChildren: 0,\n",
       "  _schema:\n",
       "   Schema { fields: [], metadata: Map {}, dictionaries: Map {} } }"
      ]
     },
     "execution_count": 46,
     "metadata": {},
     "output_type": "execute_result"
    }
   ],
   "source": [
    "\n",
    "tab = arrow.Table.from(new Uint8Array([1, 2, 4, 3]))"
   ]
  },
  {
   "cell_type": "code",
   "execution_count": 49,
   "metadata": {},
   "outputs": [
    {
     "data": {
      "text/plain": [
       "Schema { fields: [], metadata: Map {}, dictionaries: Map {} }"
      ]
     },
     "execution_count": 49,
     "metadata": {},
     "output_type": "execute_result"
    }
   ],
   "source": [
    "tab"
   ]
  },
  {
   "cell_type": "code",
   "execution_count": 35,
   "metadata": {},
   "outputs": [
    {
     "data": {
      "text/plain": [
       "Table {\n",
       "  _nullCount: -1,\n",
       "  _type: Struct { children: [ [Field], [Field], [Field] ] },\n",
       "  _chunks:\n",
       "   [ RecordBatch [StructVector<Struct>] {\n",
       "       _children: undefined,\n",
       "       numChildren: 3,\n",
       "       data: [Data],\n",
       "       _schema: [Schema] } ],\n",
       "  _chunkOffsets: Uint32Array [ 0, 165567 ],\n",
       "  _length: 165567,\n",
       "  _numChildren: 3,\n",
       "  _schema:\n",
       "   Schema {\n",
       "     fields: [ [Field], [Field], [Field] ],\n",
       "     metadata:\n",
       "      Map {\n",
       "        'pandas' => '{\"index_columns\": [\"Date\"], \"columns\": [{\"numpy_type\": \"float64\", \"pandas_type\": \"float64\", \"metadata\": null, \"name\": \"Latitude\"}, {\"numpy_type\": \"float64\", \"pandas_type\": \"float64\", \"metadata\": null, \"name\": \"Longitude\"}, {\"numpy_type\": \"datetime64[ns]\", \"pandas_type\": \"datetime\", \"metadata\": null, \"name\": \"Date\"}], \"pandas_version\": \"0.20.3\"}' },\n",
       "     dictionaries: Map {} } }"
      ]
     },
     "execution_count": 35,
     "metadata": {},
     "output_type": "execute_result"
    }
   ],
   "source": [
    "data = fetch(dataUrl)\n",
    "  .then(res => {\n",
    "    if (res.status >= 400) {\n",
    "      throw new Error(\"Bad response from server\");\n",
    "    }\n",
    "    return res.arrayBuffer();\n",
    "  })\n",
    "  .then(buffer => {\n",
    "    return arrow.Table.from(new Uint8Array(buffer));\n",
    "  })\n",
    "  .catch(err => {\n",
    "    console.error(err);\n",
    "  });"
   ]
  },
  {
   "cell_type": "code",
   "execution_count": 34,
   "metadata": {},
   "outputs": [
    {
     "data": {
      "text/plain": [
       "Table {\n",
       "  _nullCount: -1,\n",
       "  _type: Struct { children: [ [Field], [Field], [Field] ] },\n",
       "  _chunks:\n",
       "   [ RecordBatch [StructVector<Struct>] {\n",
       "       _children: undefined,\n",
       "       numChildren: 3,\n",
       "       data: [Data],\n",
       "       _schema: [Schema] } ],\n",
       "  _chunkOffsets: Uint32Array [ 0, 165567 ],\n",
       "  _length: 165567,\n",
       "  _numChildren: 3,\n",
       "  _schema:\n",
       "   Schema {\n",
       "     fields: [ [Field], [Field], [Field] ],\n",
       "     metadata:\n",
       "      Map {\n",
       "        'pandas' => '{\"index_columns\": [\"Date\"], \"columns\": [{\"numpy_type\": \"float64\", \"pandas_type\": \"float64\", \"metadata\": null, \"name\": \"Latitude\"}, {\"numpy_type\": \"float64\", \"pandas_type\": \"float64\", \"metadata\": null, \"name\": \"Longitude\"}, {\"numpy_type\": \"datetime64[ns]\", \"pandas_type\": \"datetime\", \"metadata\": null, \"name\": \"Date\"}], \"pandas_version\": \"0.20.3\"}' },\n",
       "     dictionaries: Map {} } }"
      ]
     },
     "execution_count": 34,
     "metadata": {},
     "output_type": "execute_result"
    }
   ],
   "source": [
    "data"
   ]
  },
  {
   "cell_type": "code",
   "execution_count": 13,
   "metadata": {},
   "outputs": [
    {
     "name": "stdout",
     "output_type": "stream",
     "text": [
      "in script 1\n",
      "in script 2\n"
     ]
    },
    {
     "data": {
      "text/plain": [
       "Table {\n",
       "  _nullCount: -1,\n",
       "  _type: Struct { children: [ [Field], [Field], [Field] ] },\n",
       "  _chunks:\n",
       "   [ RecordBatch [StructVector<Struct>] {\n",
       "       _children: undefined,\n",
       "       numChildren: 3,\n",
       "       data: [Data],\n",
       "       _schema: [Schema] } ],\n",
       "  _chunkOffsets: Uint32Array [ 0, 165567 ],\n",
       "  _length: 165567,\n",
       "  _numChildren: 3,\n",
       "  _schema:\n",
       "   Schema {\n",
       "     fields: [ [Field], [Field], [Field] ],\n",
       "     metadata:\n",
       "      Map {\n",
       "        'pandas' => '{\"index_columns\": [\"Date\"], \"columns\": [{\"numpy_type\": \"float64\", \"pandas_type\": \"float64\", \"metadata\": null, \"name\": \"Latitude\"}, {\"numpy_type\": \"float64\", \"pandas_type\": \"float64\", \"metadata\": null, \"name\": \"Longitude\"}, {\"numpy_type\": \"datetime64[ns]\", \"pandas_type\": \"datetime\", \"metadata\": null, \"name\": \"Date\"}], \"pandas_version\": \"0.20.3\"}' },\n",
       "     dictionaries: Map {} } }"
      ]
     },
     "execution_count": 13,
     "metadata": {},
     "output_type": "execute_result"
    }
   ],
   "source": [
    "crimes = loadData(dataUrl).then(buffer => arrow.Table.from(new Uint8Array(buffer)))\n"
   ]
  },
  {
   "cell_type": "code",
   "execution_count": 9,
   "metadata": {},
   "outputs": [
    {
     "ename": "TypeError",
     "evalue": "crimes.count is not a function",
     "execution_count": 9,
     "output_type": "error",
     "traceback": [
      "evalmachine.<anonymous>:1",
      "rowCount = crimes.count()",
      "                  ^",
      "",
      "TypeError: crimes.count is not a function",
      "    at evalmachine.<anonymous>:1:19",
      "    at Script.runInThisContext (vm.js:124:20)",
      "    at Object.runInThisContext (vm.js:314:38)",
      "    at run ([eval]:1054:15)",
      "    at onRunRequest ([eval]:888:18)",
      "    at onMessage ([eval]:848:13)",
      "    at process.emit (events.js:193:13)",
      "    at emit (internal/child_process.js:848:12)",
      "    at processTicksAndRejections (internal/process/task_queues.js:81:17)"
     ]
    }
   ],
   "source": [
    "rowCount = crimes.count()"
   ]
  },
  {
   "cell_type": "code",
   "execution_count": 12,
   "metadata": {},
   "outputs": [
    {
     "data": {
      "text/plain": [
       "[ 1, 2 ]"
      ]
     },
     "execution_count": 12,
     "metadata": {},
     "output_type": "execute_result"
    }
   ],
   "source": [
    "(new Array(1, 2)).map((elt, i) => elt)"
   ]
  },
  {
   "cell_type": "code",
   "execution_count": null,
   "metadata": {},
   "outputs": [],
   "source": []
  }
 ],
 "metadata": {
  "kernelspec": {
   "display_name": "Node.js",
   "language": "javascript",
   "name": "js"
  },
  "language_info": {
   "file_extension": ".js",
   "mimetype": "application/javascript",
   "name": "javascript",
   "version": "11.14.0"
  },
  "toc-autonumbering": true
 },
 "nbformat": 4,
 "nbformat_minor": 4
}
