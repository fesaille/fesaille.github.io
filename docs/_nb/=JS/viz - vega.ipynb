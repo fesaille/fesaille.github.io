{
 "cells": [
  {
   "cell_type": "code",
   "execution_count": 5,
   "metadata": {},
   "outputs": [],
   "source": [
    "var vega = require('vega');\n",
    "const fetch = require('node-fetch');"
   ]
  },
  {
   "cell_type": "code",
   "execution_count": 6,
   "metadata": {},
   "outputs": [
    {
     "name": "stderr",
     "output_type": "stream",
     "text": [
      "ERROR DOM document instance not found.\n",
      "TypeError: Cannot read property 'getContext' of null\n",
      "    at resize (/home/jovyan/node_modules/vega-scenegraph/build/vega-scenegraph.js:3442:26)\n",
      "    at CanvasRenderer.prototype$6.resize (/home/jovyan/node_modules/vega-scenegraph/build/vega-scenegraph.js:3492:5)\n",
      "    at CanvasRenderer.prototype$4.initialize (/home/jovyan/node_modules/vega-scenegraph/build/vega-scenegraph.js:3054:17)\n",
      "    at CanvasRenderer.prototype$6.initialize (/home/jovyan/node_modules/vega-scenegraph/build/vega-scenegraph.js:3487:28)\n",
      "    at initializeRenderer (/home/jovyan/node_modules/vega-view/build/vega-view.js:630:8)\n",
      "    at View.initialize (/home/jovyan/node_modules/vega-view/build/vega-view.js:677:9)\n",
      "    at new View (/home/jovyan/node_modules/vega-view/build/vega-view.js:1060:33)\n",
      "    at render (evalmachine.<anonymous>:9:10)\n",
      "    at fetch.then.then.spec (evalmachine.<anonymous>:5:17)\n",
      "    at processTicksAndRejections (internal/process/task_queues.js:86:5)\n"
     ]
    }
   ],
   "source": [
    "var view;\n",
    "\n",
    "fetch('https://vega.github.io/vega/examples/bar-chart.vg.json')\n",
    "  .then(res => res.json())\n",
    "  .then(spec => render(spec))\n",
    "  .catch(err => console.error(err));\n",
    "\n",
    "function render(spec) {\n",
    "  view = new vega.View(vega.parse(spec), {\n",
    "    renderer:  'canvas',  // renderer (canvas or svg)\n",
    "    container: '#view',   // parent DOM container\n",
    "    hover:     true       // enable hover processing\n",
    "  });\n",
    "  return view.runAsync();\n",
    "}"
   ]
  },
  {
   "cell_type": "code",
   "execution_count": 7,
   "metadata": {},
   "outputs": [
    {
     "data": {
      "text/plain": [
       "{ '$schema': 'https://vega.github.io/schema/vega/v5.json',\n",
       "  width: 400,\n",
       "  height: 200,\n",
       "  padding: 5,\n",
       "  data: [ { name: 'table', values: [Array] } ],\n",
       "  signals: [ { name: 'tooltip', value: {}, on: [Array] } ],\n",
       "  scales:\n",
       "   [ { name: 'xscale',\n",
       "       type: 'band',\n",
       "       domain: [Object],\n",
       "       range: 'width',\n",
       "       padding: 0.05,\n",
       "       round: true },\n",
       "     { name: 'yscale', domain: [Object], nice: true, range: 'height' } ],\n",
       "  axes:\n",
       "   [ { orient: 'bottom', scale: 'xscale' },\n",
       "     { orient: 'left', scale: 'yscale' } ],\n",
       "  marks:\n",
       "   [ { type: 'rect', from: [Object], encode: [Object] },\n",
       "     { type: 'text', encode: [Object] } ] }"
      ]
     },
     "execution_count": 7,
     "metadata": {},
     "output_type": "execute_result"
    }
   ],
   "source": [
    "fetch('https://vega.github.io/vega/examples/bar-chart.vg.json')\n",
    "  .then(res => res.json())"
   ]
  },
  {
   "cell_type": "code",
   "execution_count": null,
   "metadata": {},
   "outputs": [],
   "source": []
  }
 ],
 "metadata": {
  "kernelspec": {
   "display_name": "Node.js",
   "language": "javascript",
   "name": "js"
  },
  "language_info": {
   "file_extension": ".js",
   "mimetype": "application/javascript",
   "name": "javascript",
   "version": "11.14.0"
  }
 },
 "nbformat": 4,
 "nbformat_minor": 4
}
