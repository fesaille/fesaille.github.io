{
 "cells": [
  {
   "cell_type": "markdown",
   "metadata": {},
   "source": [
    "# File formats\n",
    "\n",
    "There are many different file formats in widespread use within data science. In this lecture, we will review common file formats and their trade-offs, and how to choose an appropriate file format. We will also review the mechanics of reading/parsing different file formats, and how to write to them."
   ]
  },
  {
   "cell_type": "code",
   "execution_count": null,
   "metadata": {},
   "outputs": [],
   "source": []
  },
  {
   "cell_type": "markdown",
   "metadata": {},
   "source": [
    "## Reading data from different file formats"
   ]
  },
  {
   "cell_type": "markdown",
   "metadata": {},
   "source": [
    "### CSV"
   ]
  },
  {
   "cell_type": "markdown",
   "metadata": {},
   "source": [
    "#### When the CSV file can be read as is"
   ]
  },
  {
   "cell_type": "code",
   "execution_count": 1,
   "metadata": {},
   "outputs": [],
   "source": [
    "import pandas as pd"
   ]
  },
  {
   "cell_type": "code",
   "execution_count": 2,
   "metadata": {},
   "outputs": [],
   "source": [
    "df = pd.read_csv('data/profiles.csv')"
   ]
  },
  {
   "cell_type": "code",
   "execution_count": 3,
   "metadata": {},
   "outputs": [
    {
     "data": {
      "text/html": [
       "<div>\n",
       "<style scoped>\n",
       "    .dataframe tbody tr th:only-of-type {\n",
       "        vertical-align: middle;\n",
       "    }\n",
       "\n",
       "    .dataframe tbody tr th {\n",
       "        vertical-align: top;\n",
       "    }\n",
       "\n",
       "    .dataframe thead th {\n",
       "        text-align: right;\n",
       "    }\n",
       "</style>\n",
       "<table border=\"1\" class=\"dataframe\">\n",
       "  <thead>\n",
       "    <tr style=\"text-align: right;\">\n",
       "      <th></th>\n",
       "      <th>address</th>\n",
       "      <th>birthdate</th>\n",
       "      <th>blood_group</th>\n",
       "      <th>company</th>\n",
       "      <th>current_location</th>\n",
       "      <th>job</th>\n",
       "      <th>mail</th>\n",
       "      <th>name</th>\n",
       "      <th>residence</th>\n",
       "      <th>sex</th>\n",
       "      <th>ssn</th>\n",
       "      <th>username</th>\n",
       "      <th>website</th>\n",
       "    </tr>\n",
       "  </thead>\n",
       "  <tbody>\n",
       "    <tr>\n",
       "      <th>0</th>\n",
       "      <td>8009 آل علي Place Apt. 860\\nNorth نصري, LA 85261</td>\n",
       "      <td>1917-10-14</td>\n",
       "      <td>A-</td>\n",
       "      <td>آل محمد بن علي بن جماز-آل عواض</td>\n",
       "      <td>(Decimal('84.6993865'), Decimal('173.552786'))</td>\n",
       "      <td>Toxicologist</td>\n",
       "      <td>jyln11@gmail.com</td>\n",
       "      <td>المهندس عبد الرّحمن حجار</td>\n",
       "      <td>5059 نورس Cove\\nالعقيلmouth, WV 15321</td>\n",
       "      <td>M</td>\n",
       "      <td>045-50-8831</td>\n",
       "      <td>slshy</td>\n",
       "      <td>['https://www.al.com/', 'https://lkhrfy.biz/',...</td>\n",
       "    </tr>\n",
       "  </tbody>\n",
       "</table>\n",
       "</div>"
      ],
      "text/plain": [
       "                                            address   birthdate blood_group  \\\n",
       "0  8009 آل علي Place Apt. 860\\nNorth نصري, LA 85261  1917-10-14          A-   \n",
       "\n",
       "                          company  \\\n",
       "0  آل محمد بن علي بن جماز-آل عواض   \n",
       "\n",
       "                                 current_location           job  \\\n",
       "0  (Decimal('84.6993865'), Decimal('173.552786'))  Toxicologist   \n",
       "\n",
       "               mail                      name  \\\n",
       "0  jyln11@gmail.com  المهندس عبد الرّحمن حجار   \n",
       "\n",
       "                               residence sex          ssn username  \\\n",
       "0  5059 نورس Cove\\nالعقيلmouth, WV 15321   M  045-50-8831    slshy   \n",
       "\n",
       "                                             website  \n",
       "0  ['https://www.al.com/', 'https://lkhrfy.biz/',...  "
      ]
     },
     "execution_count": 3,
     "metadata": {},
     "output_type": "execute_result"
    }
   ],
   "source": [
    "df.head(1)"
   ]
  },
  {
   "cell_type": "code",
   "execution_count": 4,
   "metadata": {},
   "outputs": [
    {
     "data": {
      "text/plain": [
       "address              8009 آل علي Place Apt. 860\\nNorth نصري, LA 85261\n",
       "birthdate                                                  1917-10-14\n",
       "blood_group                                                        A-\n",
       "company                                آل محمد بن علي بن جماز-آل عواض\n",
       "current_location       (Decimal('84.6993865'), Decimal('173.552786'))\n",
       "job                                                      Toxicologist\n",
       "mail                                                 jyln11@gmail.com\n",
       "name                                         المهندس عبد الرّحمن حجار\n",
       "residence                       5059 نورس Cove\\nالعقيلmouth, WV 15321\n",
       "sex                                                                 M\n",
       "ssn                                                       045-50-8831\n",
       "username                                                        slshy\n",
       "website             ['https://www.al.com/', 'https://lkhrfy.biz/',...\n",
       "Name: 0, dtype: object"
      ]
     },
     "execution_count": 4,
     "metadata": {},
     "output_type": "execute_result"
    }
   ],
   "source": [
    "df.loc[0]"
   ]
  },
  {
   "cell_type": "markdown",
   "metadata": {},
   "source": [
    "#### When scrubbing of rows may be needed"
   ]
  },
  {
   "cell_type": "code",
   "execution_count": 5,
   "metadata": {},
   "outputs": [],
   "source": [
    "import csv"
   ]
  },
  {
   "cell_type": "code",
   "execution_count": 6,
   "metadata": {},
   "outputs": [],
   "source": [
    "rows = []\n",
    "with open('data/profiles.csv') as f:\n",
    "    reader = csv.reader(f)\n",
    "    for row in reader:\n",
    "        rows.append(row)"
   ]
  },
  {
   "cell_type": "code",
   "execution_count": 7,
   "metadata": {},
   "outputs": [
    {
     "data": {
      "text/plain": [
       "[13, 13, 13, 13]"
      ]
     },
     "execution_count": 7,
     "metadata": {},
     "output_type": "execute_result"
    }
   ],
   "source": [
    "list(map(len, rows))"
   ]
  },
  {
   "cell_type": "code",
   "execution_count": 8,
   "metadata": {},
   "outputs": [
    {
     "data": {
      "text/plain": [
       "[['address',\n",
       "  'birthdate',\n",
       "  'blood_group',\n",
       "  'company',\n",
       "  'current_location',\n",
       "  'job',\n",
       "  'mail',\n",
       "  'name',\n",
       "  'residence',\n",
       "  'sex',\n",
       "  'ssn',\n",
       "  'username',\n",
       "  'website'],\n",
       " ['8009 آل علي Place Apt. 860\\nNorth نصري, LA 85261',\n",
       "  '1917-10-14',\n",
       "  'A-',\n",
       "  'آل محمد بن علي بن جماز-آل عواض',\n",
       "  \"(Decimal('84.6993865'), Decimal('173.552786'))\",\n",
       "  'Toxicologist',\n",
       "  'jyln11@gmail.com',\n",
       "  'المهندس عبد الرّحمن حجار',\n",
       "  '5059 نورس Cove\\nالعقيلmouth, WV 15321',\n",
       "  'M',\n",
       "  '045-50-8831',\n",
       "  'slshy',\n",
       "  \"['https://www.al.com/', 'https://lkhrfy.biz/', 'https://www.al.org/']\"]]"
      ]
     },
     "execution_count": 8,
     "metadata": {},
     "output_type": "execute_result"
    }
   ],
   "source": [
    "rows[:2]"
   ]
  },
  {
   "cell_type": "code",
   "execution_count": 9,
   "metadata": {},
   "outputs": [],
   "source": [
    "df = pd.DataFrame(rows[1:], columns=rows[0])"
   ]
  },
  {
   "cell_type": "code",
   "execution_count": 10,
   "metadata": {},
   "outputs": [
    {
     "data": {
      "text/html": [
       "<div>\n",
       "<style scoped>\n",
       "    .dataframe tbody tr th:only-of-type {\n",
       "        vertical-align: middle;\n",
       "    }\n",
       "\n",
       "    .dataframe tbody tr th {\n",
       "        vertical-align: top;\n",
       "    }\n",
       "\n",
       "    .dataframe thead th {\n",
       "        text-align: right;\n",
       "    }\n",
       "</style>\n",
       "<table border=\"1\" class=\"dataframe\">\n",
       "  <thead>\n",
       "    <tr style=\"text-align: right;\">\n",
       "      <th></th>\n",
       "      <th>address</th>\n",
       "      <th>birthdate</th>\n",
       "      <th>blood_group</th>\n",
       "      <th>company</th>\n",
       "      <th>current_location</th>\n",
       "      <th>job</th>\n",
       "      <th>mail</th>\n",
       "      <th>name</th>\n",
       "      <th>residence</th>\n",
       "      <th>sex</th>\n",
       "      <th>ssn</th>\n",
       "      <th>username</th>\n",
       "      <th>website</th>\n",
       "    </tr>\n",
       "  </thead>\n",
       "  <tbody>\n",
       "    <tr>\n",
       "      <th>0</th>\n",
       "      <td>8009 آل علي Place Apt. 860\\nNorth نصري, LA 85261</td>\n",
       "      <td>1917-10-14</td>\n",
       "      <td>A-</td>\n",
       "      <td>آل محمد بن علي بن جماز-آل عواض</td>\n",
       "      <td>(Decimal('84.6993865'), Decimal('173.552786'))</td>\n",
       "      <td>Toxicologist</td>\n",
       "      <td>jyln11@gmail.com</td>\n",
       "      <td>المهندس عبد الرّحمن حجار</td>\n",
       "      <td>5059 نورس Cove\\nالعقيلmouth, WV 15321</td>\n",
       "      <td>M</td>\n",
       "      <td>045-50-8831</td>\n",
       "      <td>slshy</td>\n",
       "      <td>['https://www.al.com/', 'https://lkhrfy.biz/',...</td>\n",
       "    </tr>\n",
       "  </tbody>\n",
       "</table>\n",
       "</div>"
      ],
      "text/plain": [
       "                                            address   birthdate blood_group  \\\n",
       "0  8009 آل علي Place Apt. 860\\nNorth نصري, LA 85261  1917-10-14          A-   \n",
       "\n",
       "                          company  \\\n",
       "0  آل محمد بن علي بن جماز-آل عواض   \n",
       "\n",
       "                                 current_location           job  \\\n",
       "0  (Decimal('84.6993865'), Decimal('173.552786'))  Toxicologist   \n",
       "\n",
       "               mail                      name  \\\n",
       "0  jyln11@gmail.com  المهندس عبد الرّحمن حجار   \n",
       "\n",
       "                               residence sex          ssn username  \\\n",
       "0  5059 نورس Cove\\nالعقيلmouth, WV 15321   M  045-50-8831    slshy   \n",
       "\n",
       "                                             website  \n",
       "0  ['https://www.al.com/', 'https://lkhrfy.biz/',...  "
      ]
     },
     "execution_count": 10,
     "metadata": {},
     "output_type": "execute_result"
    }
   ],
   "source": [
    "df.head(1)"
   ]
  },
  {
   "cell_type": "markdown",
   "metadata": {},
   "source": [
    "### Tab-delimited\n",
    "\n",
    "Same as CSV, just change separator."
   ]
  },
  {
   "cell_type": "markdown",
   "metadata": {},
   "source": [
    "#### Direct reading into DataFrame"
   ]
  },
  {
   "cell_type": "code",
   "execution_count": 11,
   "metadata": {},
   "outputs": [],
   "source": [
    "df = pd.read_csv('data/profiles.txt', sep='\\t')"
   ]
  },
  {
   "cell_type": "code",
   "execution_count": 12,
   "metadata": {},
   "outputs": [
    {
     "data": {
      "text/html": [
       "<div>\n",
       "<style scoped>\n",
       "    .dataframe tbody tr th:only-of-type {\n",
       "        vertical-align: middle;\n",
       "    }\n",
       "\n",
       "    .dataframe tbody tr th {\n",
       "        vertical-align: top;\n",
       "    }\n",
       "\n",
       "    .dataframe thead th {\n",
       "        text-align: right;\n",
       "    }\n",
       "</style>\n",
       "<table border=\"1\" class=\"dataframe\">\n",
       "  <thead>\n",
       "    <tr style=\"text-align: right;\">\n",
       "      <th></th>\n",
       "      <th>address</th>\n",
       "      <th>birthdate</th>\n",
       "      <th>blood_group</th>\n",
       "      <th>company</th>\n",
       "      <th>current_location</th>\n",
       "      <th>job</th>\n",
       "      <th>mail</th>\n",
       "      <th>name</th>\n",
       "      <th>residence</th>\n",
       "      <th>sex</th>\n",
       "      <th>ssn</th>\n",
       "      <th>username</th>\n",
       "      <th>website</th>\n",
       "    </tr>\n",
       "  </thead>\n",
       "  <tbody>\n",
       "    <tr>\n",
       "      <th>0</th>\n",
       "      <td>8009 آل علي Place Apt. 860\\nNorth نصري, LA 85261</td>\n",
       "      <td>1917-10-14</td>\n",
       "      <td>A-</td>\n",
       "      <td>آل محمد بن علي بن جماز-آل عواض</td>\n",
       "      <td>(Decimal('84.6993865'), Decimal('173.552786'))</td>\n",
       "      <td>Toxicologist</td>\n",
       "      <td>jyln11@gmail.com</td>\n",
       "      <td>المهندس عبد الرّحمن حجار</td>\n",
       "      <td>5059 نورس Cove\\nالعقيلmouth, WV 15321</td>\n",
       "      <td>M</td>\n",
       "      <td>045-50-8831</td>\n",
       "      <td>slshy</td>\n",
       "      <td>['https://www.al.com/', 'https://lkhrfy.biz/',...</td>\n",
       "    </tr>\n",
       "    <tr>\n",
       "      <th>1</th>\n",
       "      <td>7372 Sheila Springs Apt. 873\\nLake Danielle, W...</td>\n",
       "      <td>1913-05-10</td>\n",
       "      <td>AB+</td>\n",
       "      <td>Diaz, Williams and Nelson</td>\n",
       "      <td>(Decimal('-26.938657'), Decimal('-33.134258'))</td>\n",
       "      <td>Hotel manager</td>\n",
       "      <td>susan77@yahoo.com</td>\n",
       "      <td>Karen Butler DVM</td>\n",
       "      <td>85542 Shelby Branch Apt. 181\\nWest Joseph, KS ...</td>\n",
       "      <td>F</td>\n",
       "      <td>611-04-5409</td>\n",
       "      <td>angelamccormick</td>\n",
       "      <td>['https://rogers.com/']</td>\n",
       "    </tr>\n",
       "    <tr>\n",
       "      <th>2</th>\n",
       "      <td>湖南省丽华县沙湾潘街c座 318538</td>\n",
       "      <td>2012-09-10</td>\n",
       "      <td>B+</td>\n",
       "      <td>快讯网络有限公司</td>\n",
       "      <td>(Decimal('7.011327'), Decimal('-59.304854'))</td>\n",
       "      <td>系统集成工程师</td>\n",
       "      <td>jun96@hotmail.com</td>\n",
       "      <td>王凤兰</td>\n",
       "      <td>吉林省太原市城东太原街d座 229987</td>\n",
       "      <td>F</td>\n",
       "      <td>622924194002266298</td>\n",
       "      <td>leizhao</td>\n",
       "      <td>['http://www.an.cn/', 'http://ping.cn/', 'http...</td>\n",
       "    </tr>\n",
       "  </tbody>\n",
       "</table>\n",
       "</div>"
      ],
      "text/plain": [
       "                                             address   birthdate blood_group  \\\n",
       "0   8009 آل علي Place Apt. 860\\nNorth نصري, LA 85261  1917-10-14          A-   \n",
       "1  7372 Sheila Springs Apt. 873\\nLake Danielle, W...  1913-05-10         AB+   \n",
       "2                                湖南省丽华县沙湾潘街c座 318538  2012-09-10          B+   \n",
       "\n",
       "                          company  \\\n",
       "0  آل محمد بن علي بن جماز-آل عواض   \n",
       "1       Diaz, Williams and Nelson   \n",
       "2                        快讯网络有限公司   \n",
       "\n",
       "                                 current_location            job  \\\n",
       "0  (Decimal('84.6993865'), Decimal('173.552786'))   Toxicologist   \n",
       "1  (Decimal('-26.938657'), Decimal('-33.134258'))  Hotel manager   \n",
       "2    (Decimal('7.011327'), Decimal('-59.304854'))        系统集成工程师   \n",
       "\n",
       "                mail                      name  \\\n",
       "0   jyln11@gmail.com  المهندس عبد الرّحمن حجار   \n",
       "1  susan77@yahoo.com          Karen Butler DVM   \n",
       "2  jun96@hotmail.com                       王凤兰   \n",
       "\n",
       "                                           residence sex                 ssn  \\\n",
       "0              5059 نورس Cove\\nالعقيلmouth, WV 15321   M         045-50-8831   \n",
       "1  85542 Shelby Branch Apt. 181\\nWest Joseph, KS ...   F         611-04-5409   \n",
       "2                               吉林省太原市城东太原街d座 229987   F  622924194002266298   \n",
       "\n",
       "          username                                            website  \n",
       "0            slshy  ['https://www.al.com/', 'https://lkhrfy.biz/',...  \n",
       "1  angelamccormick                            ['https://rogers.com/']  \n",
       "2          leizhao  ['http://www.an.cn/', 'http://ping.cn/', 'http...  "
      ]
     },
     "execution_count": 12,
     "metadata": {},
     "output_type": "execute_result"
    }
   ],
   "source": [
    "df.head()"
   ]
  },
  {
   "cell_type": "markdown",
   "metadata": {},
   "source": [
    "#### Row by row processing"
   ]
  },
  {
   "cell_type": "code",
   "execution_count": 13,
   "metadata": {},
   "outputs": [],
   "source": [
    "rows = []\n",
    "with open('data/profiles.txt') as f:\n",
    "    reader = csv.reader(f, delimiter='\\t')\n",
    "    for row in reader:\n",
    "        rows.append(row)"
   ]
  },
  {
   "cell_type": "code",
   "execution_count": 14,
   "metadata": {},
   "outputs": [
    {
     "data": {
      "text/plain": [
       "[13, 13, 13, 13]"
      ]
     },
     "execution_count": 14,
     "metadata": {},
     "output_type": "execute_result"
    }
   ],
   "source": [
    "list(map(len, rows))"
   ]
  },
  {
   "cell_type": "markdown",
   "metadata": {},
   "source": [
    "### JSON\n",
    "\n",
    "JSON is the most popular format for sharing information over the web. Most data retrieval APIs will return JSON.m"
   ]
  },
  {
   "cell_type": "code",
   "execution_count": 15,
   "metadata": {},
   "outputs": [],
   "source": [
    "import json"
   ]
  },
  {
   "cell_type": "code",
   "execution_count": 16,
   "metadata": {},
   "outputs": [],
   "source": [
    "with open('data/profiles.json') as f:\n",
    "    profiles = json.load(f)"
   ]
  },
  {
   "cell_type": "code",
   "execution_count": 17,
   "metadata": {},
   "outputs": [
    {
     "data": {
      "text/plain": [
       "3"
      ]
     },
     "execution_count": 17,
     "metadata": {},
     "output_type": "execute_result"
    }
   ],
   "source": [
    "len(profiles)"
   ]
  },
  {
   "cell_type": "code",
   "execution_count": 18,
   "metadata": {},
   "outputs": [
    {
     "data": {
      "text/plain": [
       "{'job': 'Toxicologist',\n",
       " 'company': 'آل محمد بن علي بن جماز-آل عواض',\n",
       " 'ssn': '045-50-8831',\n",
       " 'residence': '5059 نورس Cove\\nالعقيلmouth, WV 15321',\n",
       " 'current_location': [84.6993865, 173.552786],\n",
       " 'blood_group': 'A-',\n",
       " 'website': ['https://www.al.com/',\n",
       "  'https://lkhrfy.biz/',\n",
       "  'https://www.al.org/'],\n",
       " 'username': 'slshy',\n",
       " 'name': 'المهندس عبد الرّحمن حجار',\n",
       " 'sex': 'M',\n",
       " 'address': '8009 آل علي Place Apt. 860\\nNorth نصري, LA 85261',\n",
       " 'mail': 'jyln11@gmail.com',\n",
       " 'birthdate': None}"
      ]
     },
     "execution_count": 18,
     "metadata": {},
     "output_type": "execute_result"
    }
   ],
   "source": [
    "profiles[0]"
   ]
  },
  {
   "cell_type": "markdown",
   "metadata": {},
   "source": [
    "#### Using a REST API to retrieve JSON data"
   ]
  },
  {
   "cell_type": "code",
   "execution_count": 19,
   "metadata": {},
   "outputs": [],
   "source": [
    "import os"
   ]
  },
  {
   "cell_type": "code",
   "execution_count": 20,
   "metadata": {},
   "outputs": [],
   "source": [
    "if not os.path.exists('data/pokemon.json'):\n",
    "    ! curl -o data/pokemon.json https://pokeapi.co/api/v2/pokemon/23"
   ]
  },
  {
   "cell_type": "code",
   "execution_count": 21,
   "metadata": {},
   "outputs": [],
   "source": [
    "with open('data/pokemon.json') as f:\n",
    "    pokemon = json.load(f)"
   ]
  },
  {
   "cell_type": "code",
   "execution_count": 22,
   "metadata": {},
   "outputs": [
    {
     "data": {
      "text/plain": [
       "dict_keys(['abilities', 'base_experience', 'forms', 'game_indices', 'height', 'held_items', 'id', 'is_default', 'location_area_encounters', 'moves', 'name', 'order', 'species', 'sprites', 'stats', 'types', 'weight'])"
      ]
     },
     "execution_count": 22,
     "metadata": {},
     "output_type": "execute_result"
    }
   ],
   "source": [
    "pokemon.keys()"
   ]
  },
  {
   "cell_type": "code",
   "execution_count": 23,
   "metadata": {},
   "outputs": [
    {
     "data": {
      "text/plain": [
       "'ekans'"
      ]
     },
     "execution_count": 23,
     "metadata": {},
     "output_type": "execute_result"
    }
   ],
   "source": [
    "pokemon['name']"
   ]
  },
  {
   "cell_type": "code",
   "execution_count": 24,
   "metadata": {},
   "outputs": [
    {
     "data": {
      "text/plain": [
       "[{'ability': {'name': 'unnerve',\n",
       "   'url': 'https://pokeapi.co/api/v2/ability/127/'},\n",
       "  'is_hidden': True,\n",
       "  'slot': 3},\n",
       " {'ability': {'name': 'shed-skin',\n",
       "   'url': 'https://pokeapi.co/api/v2/ability/61/'},\n",
       "  'is_hidden': False,\n",
       "  'slot': 2},\n",
       " {'ability': {'name': 'intimidate',\n",
       "   'url': 'https://pokeapi.co/api/v2/ability/22/'},\n",
       "  'is_hidden': False,\n",
       "  'slot': 1}]"
      ]
     },
     "execution_count": 24,
     "metadata": {},
     "output_type": "execute_result"
    }
   ],
   "source": [
    "pokemon['abilities']"
   ]
  },
  {
   "cell_type": "markdown",
   "metadata": {},
   "source": [
    "### XML"
   ]
  },
  {
   "cell_type": "code",
   "execution_count": 25,
   "metadata": {},
   "outputs": [],
   "source": [
    "import xml.etree.cElementTree as ET"
   ]
  },
  {
   "cell_type": "code",
   "execution_count": 26,
   "metadata": {},
   "outputs": [],
   "source": [
    "tree = ET.parse('data/profiles.xml')\n",
    "root = tree.getroot()"
   ]
  },
  {
   "cell_type": "code",
   "execution_count": 27,
   "metadata": {},
   "outputs": [
    {
     "data": {
      "text/plain": [
       "'duke'"
      ]
     },
     "execution_count": 27,
     "metadata": {},
     "output_type": "execute_result"
    }
   ],
   "source": [
    "root.tag"
   ]
  },
  {
   "cell_type": "code",
   "execution_count": 28,
   "metadata": {},
   "outputs": [
    {
     "name": "stdout",
     "output_type": "stream",
     "text": [
      "<duke>\n",
      "    <employee>\n",
      "        <address>8009 آل علي Place Apt. 860\n",
      "        North نصري, LA 85261</address>\n",
      "        <birthdate>None</birthdate>\n",
      "        <blood_group>A-</blood_group>\n",
      "        <company>آل محمد بن علي بن جماز-آل عواض</company>\n",
      "        <current_location>84.6993865</current_location>\n",
      "        <current_location>173.552786</current_location>\n",
      "        <job>Toxicologist</job>\n",
      "        <mail>jyln11@gmail.com</mail>\n",
      "        <name>المهندس عبد الرّحمن حجار</name>\n",
      "        <residence>5059 نورس Cove\n",
      "        العقيلmouth, WV 15321</residence>\n",
      "        <sex>M</sex>\n",
      "        <ssn>045-50-8831</ssn>\n",
      "        <username>slshy</username>\n",
      "        <website>https://www.al.com/</website>\n",
      "        <website>https://lkhrfy.biz/</website>\n",
      "        <website>https://www.al.org/</website>\n",
      "    </employee>\n",
      "    <employee>\n",
      "        <address>7372 Sheila Springs Apt. 873\n",
      "        Lake Danielle, WV 06246</address>\n",
      "        <birthdate>None</birthdate>\n",
      "        <blood_group>AB+</blood_group>\n",
      "        <company>Diaz, Williams and Nelson</company>\n",
      "        <current_location>-26.938657</current_location>\n",
      "        <current_location>-33.134258</current_location>\n",
      "        <job>Hotel manager</job>\n",
      "        <mail>susan77@yahoo.com</mail>\n",
      "        <name>Karen Butler DVM</name>\n",
      "        <residence>85542 Shelby Branch Apt. 181\n",
      "        West Joseph, KS 53929</residence>\n",
      "        <sex>F</sex>\n",
      "        <ssn>611-04-5409</ssn>\n",
      "        <username>angelamccormick</username>\n",
      "        <website>https://rogers.com/</website>\n",
      "    </employee>\n",
      "    <employee>\n",
      "        <address>湖南省丽华县沙湾潘街c座 318538</address>\n",
      "        <birthdate>None</birthdate>\n",
      "        <blood_group>B+</blood_group>\n",
      "        <company>快讯网络有限公司</company>\n",
      "        <current_location>7.011327</current_location>\n",
      "        <current_location>-59.304854</current_location>\n",
      "        <job>系统集成工程师</job>\n",
      "        <mail>jun96@hotmail.com</mail>\n",
      "        <name>王凤兰</name>\n",
      "        <residence>吉林省太原市城东太原街d座 229987</residence>\n",
      "        <sex>F</sex>\n",
      "        <ssn>622924194002266298</ssn>\n",
      "        <username>leizhao</username>\n",
      "        <website>http://www.an.cn/</website>\n",
      "        <website>http://ping.cn/</website>\n",
      "        <website>https://gao.cn/</website>\n",
      "        <website>https://qinlei.cn/</website>\n",
      "    </employee>\n",
      "</duke>\n"
     ]
    }
   ],
   "source": [
    "ET.dump(root)"
   ]
  },
  {
   "cell_type": "code",
   "execution_count": 29,
   "metadata": {},
   "outputs": [
    {
     "name": "stdout",
     "output_type": "stream",
     "text": [
      "             address: 8009 آل علي Place Apt. 860\n",
      "        North نصري, LA 85261\n",
      "           birthdate: None\n",
      "         blood_group: A-\n",
      "             company: آل محمد بن علي بن جماز-آل عواض\n",
      "    current_location: 84.6993865\n",
      "    current_location: 173.552786\n",
      "                 job: Toxicologist\n",
      "                mail: jyln11@gmail.com\n",
      "                name: المهندس عبد الرّحمن حجار\n",
      "           residence: 5059 نورس Cove\n",
      "        العقيلmouth, WV 15321\n",
      "                 sex: M\n",
      "                 ssn: 045-50-8831\n",
      "            username: slshy\n",
      "             website: https://www.al.com/\n",
      "             website: https://lkhrfy.biz/\n",
      "             website: https://www.al.org/\n"
     ]
    }
   ],
   "source": [
    "for employee in root:\n",
    "    for elem in employee:\n",
    "        print(f'{elem.tag:>20}: {elem.text}')\n",
    "    break"
   ]
  },
  {
   "cell_type": "code",
   "execution_count": 30,
   "metadata": {},
   "outputs": [
    {
     "data": {
      "text/plain": [
       "[<Element 'duke' at 0x11449e9a8>]"
      ]
     },
     "execution_count": 30,
     "metadata": {},
     "output_type": "execute_result"
    }
   ],
   "source": [
    "root.findall('.')"
   ]
  },
  {
   "cell_type": "code",
   "execution_count": 31,
   "metadata": {},
   "outputs": [
    {
     "data": {
      "text/plain": [
       "[<Element 'employee' at 0x11449e958>,\n",
       " <Element 'employee' at 0x1144ae4a8>,\n",
       " <Element 'employee' at 0x1144aeae8>]"
      ]
     },
     "execution_count": 31,
     "metadata": {},
     "output_type": "execute_result"
    }
   ],
   "source": [
    "root.findall('./')"
   ]
  },
  {
   "cell_type": "code",
   "execution_count": 32,
   "metadata": {},
   "outputs": [
    {
     "data": {
      "text/plain": [
       "[<Element 'employee' at 0x11449e958>,\n",
       " <Element 'address' at 0x1144a8f48>,\n",
       " <Element 'birthdate' at 0x1144a8f98>,\n",
       " <Element 'blood_group' at 0x1144ae048>,\n",
       " <Element 'company' at 0x1144ae098>]"
      ]
     },
     "execution_count": 32,
     "metadata": {},
     "output_type": "execute_result"
    }
   ],
   "source": [
    "root.findall('.//')[:5]"
   ]
  },
  {
   "cell_type": "code",
   "execution_count": 33,
   "metadata": {},
   "outputs": [
    {
     "name": "stdout",
     "output_type": "stream",
     "text": [
      "آل محمد بن علي بن جماز-آل عواض\n",
      "Diaz, Williams and Nelson\n",
      "快讯网络有限公司\n"
     ]
    }
   ],
   "source": [
    "for item in root.findall('.//company'):\n",
    "    print(item.text)"
   ]
  },
  {
   "cell_type": "markdown",
   "metadata": {},
   "source": [
    "### HDF5\n",
    "\n",
    "Like XML and JSON, HDF5 files store hierarchical data that can be annotated. The strong points of HDF5 are its ability to store large numerical data sets so that selective loading of parts of the data into memory for analysis is possible. HDF5 are also easy to use for people familiar with `numpy` and widely used in the scientific community.\n",
    "\n",
    "There are two popular libraries for working with HDF5. Pandas uses `pytables`, and the stored schema can be quite unintuitive, but that does not matter since we usually just use Pandas to read it back in."
   ]
  },
  {
   "cell_type": "markdown",
   "metadata": {},
   "source": [
    "#### Pandas and `tables`"
   ]
  },
  {
   "cell_type": "code",
   "execution_count": 34,
   "metadata": {},
   "outputs": [],
   "source": [
    "import tables"
   ]
  },
  {
   "cell_type": "code",
   "execution_count": 35,
   "metadata": {},
   "outputs": [],
   "source": [
    "f = tables.open_file('data/profiles.h5')"
   ]
  },
  {
   "cell_type": "code",
   "execution_count": 36,
   "metadata": {},
   "outputs": [
    {
     "data": {
      "text/plain": [
       "File(filename=data/profiles.h5, title='', mode='r', root_uep='/', filters=Filters(complevel=0, shuffle=False, bitshuffle=False, fletcher32=False, least_significant_digit=None))\n",
       "/ (RootGroup) ''\n",
       "/duke (Group) ''\n",
       "/duke/axis0 (Array(14,)) ''\n",
       "  atom := StringAtom(itemsize=11, shape=(), dflt=b'')\n",
       "  maindim := 0\n",
       "  flavor := 'numpy'\n",
       "  byteorder := 'irrelevant'\n",
       "  chunkshape := None\n",
       "/duke/axis1 (Array(3,)) ''\n",
       "  atom := Int64Atom(shape=(), dflt=0)\n",
       "  maindim := 0\n",
       "  flavor := 'numpy'\n",
       "  byteorder := 'little'\n",
       "  chunkshape := None\n",
       "/duke/block0_items (Array(1,)) ''\n",
       "  atom := StringAtom(itemsize=9, shape=(), dflt=b'')\n",
       "  maindim := 0\n",
       "  flavor := 'numpy'\n",
       "  byteorder := 'irrelevant'\n",
       "  chunkshape := None\n",
       "/duke/block0_values (Array(3, 1)) ''\n",
       "  atom := Int64Atom(shape=(), dflt=0)\n",
       "  maindim := 0\n",
       "  flavor := 'numpy'\n",
       "  byteorder := 'little'\n",
       "  chunkshape := None\n",
       "/duke/block1_items (Array(2,)) ''\n",
       "  atom := StringAtom(itemsize=10, shape=(), dflt=b'')\n",
       "  maindim := 0\n",
       "  flavor := 'numpy'\n",
       "  byteorder := 'irrelevant'\n",
       "  chunkshape := None\n",
       "/duke/block1_values (Array(3, 2)) ''\n",
       "  atom := Float64Atom(shape=(), dflt=0.0)\n",
       "  maindim := 0\n",
       "  flavor := 'numpy'\n",
       "  byteorder := 'little'\n",
       "  chunkshape := None\n",
       "/duke/block2_items (Array(11,)) ''\n",
       "  atom := StringAtom(itemsize=11, shape=(), dflt=b'')\n",
       "  maindim := 0\n",
       "  flavor := 'numpy'\n",
       "  byteorder := 'irrelevant'\n",
       "  chunkshape := None\n",
       "/duke/block2_values (VLArray(1,)) ''\n",
       "  atom = ObjectAtom()\n",
       "  byteorder = 'irrelevant'\n",
       "  nrows = 1\n",
       "  flavor = 'numpy'"
      ]
     },
     "execution_count": 36,
     "metadata": {},
     "output_type": "execute_result"
    }
   ],
   "source": [
    "f"
   ]
  },
  {
   "cell_type": "code",
   "execution_count": 37,
   "metadata": {},
   "outputs": [
    {
     "data": {
      "text/plain": [
       "array([b'location_x', b'location_y', b'address', b'birthdate',\n",
       "       b'blood_group', b'company', b'job', b'mail', b'name', b'residence',\n",
       "       b'sex', b'ssn', b'username', b'website'], dtype='|S11')"
      ]
     },
     "execution_count": 37,
     "metadata": {},
     "output_type": "execute_result"
    }
   ],
   "source": [
    "f.root.duke.axis0[:]"
   ]
  },
  {
   "cell_type": "code",
   "execution_count": 38,
   "metadata": {},
   "outputs": [
    {
     "data": {
      "text/plain": [
       "array([0, 1, 2])"
      ]
     },
     "execution_count": 38,
     "metadata": {},
     "output_type": "execute_result"
    }
   ],
   "source": [
    "f.root.duke.axis1[:]"
   ]
  },
  {
   "cell_type": "code",
   "execution_count": 39,
   "metadata": {},
   "outputs": [
    {
     "data": {
      "text/plain": [
       "array([b'birthdate'], dtype='|S9')"
      ]
     },
     "execution_count": 39,
     "metadata": {},
     "output_type": "execute_result"
    }
   ],
   "source": [
    "f.root.duke.block0_items[:]"
   ]
  },
  {
   "cell_type": "code",
   "execution_count": 40,
   "metadata": {},
   "outputs": [
    {
     "data": {
      "text/plain": [
       "array([[-1647820800000000000],\n",
       "       [-1787616000000000000],\n",
       "       [ 1347235200000000000]])"
      ]
     },
     "execution_count": 40,
     "metadata": {},
     "output_type": "execute_result"
    }
   ],
   "source": [
    "f.root.duke.block0_values[:]"
   ]
  },
  {
   "cell_type": "code",
   "execution_count": 41,
   "metadata": {},
   "outputs": [],
   "source": [
    "f.close()"
   ]
  },
  {
   "cell_type": "markdown",
   "metadata": {},
   "source": [
    "#### Reading into `pandas`"
   ]
  },
  {
   "cell_type": "code",
   "execution_count": 42,
   "metadata": {},
   "outputs": [],
   "source": [
    "df = pd.read_hdf('data/profiles.h5')"
   ]
  },
  {
   "cell_type": "code",
   "execution_count": 43,
   "metadata": {},
   "outputs": [
    {
     "data": {
      "text/html": [
       "<div>\n",
       "<style scoped>\n",
       "    .dataframe tbody tr th:only-of-type {\n",
       "        vertical-align: middle;\n",
       "    }\n",
       "\n",
       "    .dataframe tbody tr th {\n",
       "        vertical-align: top;\n",
       "    }\n",
       "\n",
       "    .dataframe thead th {\n",
       "        text-align: right;\n",
       "    }\n",
       "</style>\n",
       "<table border=\"1\" class=\"dataframe\">\n",
       "  <thead>\n",
       "    <tr style=\"text-align: right;\">\n",
       "      <th></th>\n",
       "      <th>location_x</th>\n",
       "      <th>location_y</th>\n",
       "      <th>address</th>\n",
       "      <th>birthdate</th>\n",
       "      <th>blood_group</th>\n",
       "      <th>company</th>\n",
       "      <th>job</th>\n",
       "      <th>mail</th>\n",
       "      <th>name</th>\n",
       "      <th>residence</th>\n",
       "      <th>sex</th>\n",
       "      <th>ssn</th>\n",
       "      <th>username</th>\n",
       "      <th>website</th>\n",
       "    </tr>\n",
       "  </thead>\n",
       "  <tbody>\n",
       "    <tr>\n",
       "      <th>0</th>\n",
       "      <td>84.699387</td>\n",
       "      <td>173.552786</td>\n",
       "      <td>8009 آل علي Place Apt. 860\\nNorth نصري, LA 85261</td>\n",
       "      <td>1917-10-14</td>\n",
       "      <td>A-</td>\n",
       "      <td>آل محمد بن علي بن جماز-آل عواض</td>\n",
       "      <td>Toxicologist</td>\n",
       "      <td>jyln11@gmail.com</td>\n",
       "      <td>المهندس عبد الرّحمن حجار</td>\n",
       "      <td>5059 نورس Cove\\nالعقيلmouth, WV 15321</td>\n",
       "      <td>M</td>\n",
       "      <td>045-50-8831</td>\n",
       "      <td>slshy</td>\n",
       "      <td>https://www.al.com/,https://lkhrfy.biz/,https:...</td>\n",
       "    </tr>\n",
       "    <tr>\n",
       "      <th>1</th>\n",
       "      <td>-26.938657</td>\n",
       "      <td>-33.134258</td>\n",
       "      <td>7372 Sheila Springs Apt. 873\\nLake Danielle, W...</td>\n",
       "      <td>1913-05-10</td>\n",
       "      <td>AB+</td>\n",
       "      <td>Diaz, Williams and Nelson</td>\n",
       "      <td>Hotel manager</td>\n",
       "      <td>susan77@yahoo.com</td>\n",
       "      <td>Karen Butler DVM</td>\n",
       "      <td>85542 Shelby Branch Apt. 181\\nWest Joseph, KS ...</td>\n",
       "      <td>F</td>\n",
       "      <td>611-04-5409</td>\n",
       "      <td>angelamccormick</td>\n",
       "      <td>https://rogers.com/</td>\n",
       "    </tr>\n",
       "    <tr>\n",
       "      <th>2</th>\n",
       "      <td>7.011327</td>\n",
       "      <td>-59.304854</td>\n",
       "      <td>湖南省丽华县沙湾潘街c座 318538</td>\n",
       "      <td>2012-09-10</td>\n",
       "      <td>B+</td>\n",
       "      <td>快讯网络有限公司</td>\n",
       "      <td>系统集成工程师</td>\n",
       "      <td>jun96@hotmail.com</td>\n",
       "      <td>王凤兰</td>\n",
       "      <td>吉林省太原市城东太原街d座 229987</td>\n",
       "      <td>F</td>\n",
       "      <td>622924194002266298</td>\n",
       "      <td>leizhao</td>\n",
       "      <td>http://www.an.cn/,http://ping.cn/,https://gao....</td>\n",
       "    </tr>\n",
       "  </tbody>\n",
       "</table>\n",
       "</div>"
      ],
      "text/plain": [
       "   location_x  location_y                                            address  \\\n",
       "0   84.699387  173.552786   8009 آل علي Place Apt. 860\\nNorth نصري, LA 85261   \n",
       "1  -26.938657  -33.134258  7372 Sheila Springs Apt. 873\\nLake Danielle, W...   \n",
       "2    7.011327  -59.304854                                湖南省丽华县沙湾潘街c座 318538   \n",
       "\n",
       "   birthdate blood_group                         company            job  \\\n",
       "0 1917-10-14          A-  آل محمد بن علي بن جماز-آل عواض   Toxicologist   \n",
       "1 1913-05-10         AB+       Diaz, Williams and Nelson  Hotel manager   \n",
       "2 2012-09-10          B+                        快讯网络有限公司        系统集成工程师   \n",
       "\n",
       "                mail                      name  \\\n",
       "0   jyln11@gmail.com  المهندس عبد الرّحمن حجار   \n",
       "1  susan77@yahoo.com          Karen Butler DVM   \n",
       "2  jun96@hotmail.com                       王凤兰   \n",
       "\n",
       "                                           residence sex                 ssn  \\\n",
       "0              5059 نورس Cove\\nالعقيلmouth, WV 15321   M         045-50-8831   \n",
       "1  85542 Shelby Branch Apt. 181\\nWest Joseph, KS ...   F         611-04-5409   \n",
       "2                               吉林省太原市城东太原街d座 229987   F  622924194002266298   \n",
       "\n",
       "          username                                            website  \n",
       "0            slshy  https://www.al.com/,https://lkhrfy.biz/,https:...  \n",
       "1  angelamccormick                                https://rogers.com/  \n",
       "2          leizhao  http://www.an.cn/,http://ping.cn/,https://gao....  "
      ]
     },
     "execution_count": 43,
     "metadata": {},
     "output_type": "execute_result"
    }
   ],
   "source": [
    "df"
   ]
  },
  {
   "cell_type": "markdown",
   "metadata": {},
   "source": [
    "#### Using `h5py`\n",
    "\n",
    "For actually working directly with HDF5, I find `h5py` more intuitive."
   ]
  },
  {
   "cell_type": "code",
   "execution_count": 44,
   "metadata": {},
   "outputs": [],
   "source": [
    "import h5py"
   ]
  },
  {
   "cell_type": "code",
   "execution_count": 45,
   "metadata": {},
   "outputs": [],
   "source": [
    "filename = 'data/simulations.h5'\n",
    "if os.path.exists(filename):\n",
    "    os.remove(filename)\n",
    "f = h5py.File(filename)"
   ]
  },
  {
   "cell_type": "code",
   "execution_count": 46,
   "metadata": {},
   "outputs": [],
   "source": [
    "import numpy as np\n",
    "import pendulum"
   ]
  },
  {
   "cell_type": "code",
   "execution_count": 47,
   "metadata": {},
   "outputs": [],
   "source": [
    "start = pendulum.datetime(2019, 8, 31)\n",
    "stop = start.add(days=3)\n",
    "for day in pendulum.period(start, stop):\n",
    "    g = f.create_group(day.format('ddd'))\n",
    "    g.attrs['date'] = day.format('LLL')\n",
    "    g.attrs['analyst'] = 'Mario'\n",
    "    for expt in range(3):\n",
    "        data = np.random.poisson(size=(100, 100))\n",
    "        ds = g.create_dataset(f'expt-{expt:02d}', data=data)"
   ]
  },
  {
   "cell_type": "code",
   "execution_count": 48,
   "metadata": {},
   "outputs": [],
   "source": [
    "f = h5py.File(filename, 'r')"
   ]
  },
  {
   "cell_type": "code",
   "execution_count": 49,
   "metadata": {},
   "outputs": [
    {
     "data": {
      "text/plain": [
       "['Mon', 'Sat', 'Sun', 'Tue']"
      ]
     },
     "execution_count": 49,
     "metadata": {},
     "output_type": "execute_result"
    }
   ],
   "source": [
    "list(f.keys())"
   ]
  },
  {
   "cell_type": "code",
   "execution_count": 50,
   "metadata": {},
   "outputs": [
    {
     "data": {
      "text/plain": [
       "['analyst', 'date']"
      ]
     },
     "execution_count": 50,
     "metadata": {},
     "output_type": "execute_result"
    }
   ],
   "source": [
    "list(f['Sat'].attrs.keys())"
   ]
  },
  {
   "cell_type": "code",
   "execution_count": 51,
   "metadata": {},
   "outputs": [
    {
     "data": {
      "text/plain": [
       "'Mario'"
      ]
     },
     "execution_count": 51,
     "metadata": {},
     "output_type": "execute_result"
    }
   ],
   "source": [
    "f['Sat'].attrs['analyst']"
   ]
  },
  {
   "cell_type": "code",
   "execution_count": 52,
   "metadata": {},
   "outputs": [
    {
     "data": {
      "text/plain": [
       "'August 31, 2019 12:00 AM'"
      ]
     },
     "execution_count": 52,
     "metadata": {},
     "output_type": "execute_result"
    }
   ],
   "source": [
    "f['Sat'].attrs['date']"
   ]
  },
  {
   "cell_type": "code",
   "execution_count": 53,
   "metadata": {},
   "outputs": [
    {
     "data": {
      "text/plain": [
       "['expt-00', 'expt-01', 'expt-02']"
      ]
     },
     "execution_count": 53,
     "metadata": {},
     "output_type": "execute_result"
    }
   ],
   "source": [
    "list(f['Sat'].keys())"
   ]
  },
  {
   "cell_type": "code",
   "execution_count": 54,
   "metadata": {},
   "outputs": [
    {
     "data": {
      "text/plain": [
       "array([[0, 2, 4, 0, 2],\n",
       "       [2, 0, 1, 0, 3],\n",
       "       [0, 1, 2, 2, 3],\n",
       "       [0, 3, 0, 1, 1],\n",
       "       [1, 0, 1, 2, 1]])"
      ]
     },
     "execution_count": 54,
     "metadata": {},
     "output_type": "execute_result"
    }
   ],
   "source": [
    "f['Sat']['expt-01'][5:10, 5:10]"
   ]
  },
  {
   "cell_type": "code",
   "execution_count": 55,
   "metadata": {},
   "outputs": [
    {
     "data": {
      "text/plain": [
       "array([ 3,  6,  8,  5, 10])"
      ]
     },
     "execution_count": 55,
     "metadata": {},
     "output_type": "execute_result"
    }
   ],
   "source": [
    "f['Sat']['expt-01'][5:10, 5:10].sum(axis=0)"
   ]
  },
  {
   "cell_type": "code",
   "execution_count": 56,
   "metadata": {},
   "outputs": [],
   "source": [
    "f.close()"
   ]
  },
  {
   "cell_type": "markdown",
   "metadata": {},
   "source": [
    "## Avro"
   ]
  },
  {
   "cell_type": "code",
   "execution_count": 57,
   "metadata": {},
   "outputs": [],
   "source": [
    "import fastavro "
   ]
  },
  {
   "cell_type": "code",
   "execution_count": 58,
   "metadata": {},
   "outputs": [],
   "source": [
    "%%bash --out s\n",
    "fastavro --schema data/profiles.avro"
   ]
  },
  {
   "cell_type": "code",
   "execution_count": 59,
   "metadata": {},
   "outputs": [],
   "source": [
    "schema = eval(s.replace('true', 'True'))"
   ]
  },
  {
   "cell_type": "code",
   "execution_count": 60,
   "metadata": {},
   "outputs": [
    {
     "data": {
      "text/plain": [
       "{'__rec_avro_schema__': True,\n",
       " 'type': 'record',\n",
       " 'name': 'rec_avro.rec_object',\n",
       " 'fields': [{'name': '_',\n",
       "   'type': [{'type': 'map',\n",
       "     'values': ['null',\n",
       "      'boolean',\n",
       "      'int',\n",
       "      'long',\n",
       "      'float',\n",
       "      'double',\n",
       "      'string',\n",
       "      'bytes',\n",
       "      'rec_avro.rec_object']},\n",
       "    {'type': 'array',\n",
       "     'items': ['null',\n",
       "      'boolean',\n",
       "      'int',\n",
       "      'long',\n",
       "      'float',\n",
       "      'double',\n",
       "      'string',\n",
       "      'bytes',\n",
       "      'rec_avro.rec_object']}]}]}"
      ]
     },
     "execution_count": 60,
     "metadata": {},
     "output_type": "execute_result"
    }
   ],
   "source": [
    "schema"
   ]
  },
  {
   "cell_type": "code",
   "execution_count": 61,
   "metadata": {},
   "outputs": [
    {
     "name": "stdout",
     "output_type": "stream",
     "text": [
      "{'_': {'job': 'Toxicologist', 'company': 'آل محمد بن علي بن جماز-آل عواض', 'ssn': '045-50-8831', 'residence': '5059 نورس Cove\\nالعقيلmouth, WV 15321', 'current_location': {'_': [84.69938659667969, 173.5527801513672]}, 'blood_group': 'A-', 'website': {'_': ['https://www.al.com/', 'https://lkhrfy.biz/', 'https://www.al.org/']}, 'username': 'slshy', 'name': 'المهندس عبد الرّحمن حجار', 'sex': 'M', 'address': '8009 آل علي Place Apt. 860\\nNorth نصري, LA 85261', 'mail': 'jyln11@gmail.com', 'birthdate': None}}\n",
      "{'_': {'job': 'Hotel manager', 'company': 'Diaz, Williams and Nelson', 'ssn': '611-04-5409', 'residence': '85542 Shelby Branch Apt. 181\\nWest Joseph, KS 53929', 'current_location': {'_': [-26.938657760620117, -33.13425827026367]}, 'blood_group': 'AB+', 'website': {'_': ['https://rogers.com/']}, 'username': 'angelamccormick', 'name': 'Karen Butler DVM', 'sex': 'F', 'address': '7372 Sheila Springs Apt. 873\\nLake Danielle, WV 06246', 'mail': 'susan77@yahoo.com', 'birthdate': None}}\n",
      "{'_': {'job': '系统集成工程师', 'company': '快讯网络有限公司', 'ssn': '622924194002266298', 'residence': '吉林省太原市城东太原街d座 229987', 'current_location': {'_': [7.011326789855957, -59.30485534667969]}, 'blood_group': 'B+', 'website': {'_': ['http://www.an.cn/', 'http://ping.cn/', 'https://gao.cn/', 'https://qinlei.cn/']}, 'username': 'leizhao', 'name': '王凤兰', 'sex': 'F', 'address': '湖南省丽华县沙湾潘街c座 318538', 'mail': 'jun96@hotmail.com', 'birthdate': None}}\n"
     ]
    }
   ],
   "source": [
    "with open('data/profiles.avro', 'rb') as f:\n",
    "    avro_reader = fastavro.reader(f, reader_schema=schema)\n",
    "    for record in avro_reader:\n",
    "        print(record)"
   ]
  },
  {
   "cell_type": "markdown",
   "metadata": {},
   "source": [
    "#### Avro to JSON"
   ]
  },
  {
   "cell_type": "code",
   "execution_count": 62,
   "metadata": {},
   "outputs": [],
   "source": [
    "from rec_avro import from_rec_avro_destructive"
   ]
  },
  {
   "cell_type": "code",
   "execution_count": 63,
   "metadata": {},
   "outputs": [
    {
     "name": "stdout",
     "output_type": "stream",
     "text": [
      "{'job': 'Toxicologist', 'company': 'آل محمد بن علي بن جماز-آل عواض', 'ssn': '045-50-8831', 'residence': '5059 نورس Cove\\nالعقيلmouth, WV 15321', 'current_location': [84.69938659667969, 173.5527801513672], 'blood_group': 'A-', 'website': ['https://www.al.com/', 'https://lkhrfy.biz/', 'https://www.al.org/'], 'username': 'slshy', 'name': 'المهندس عبد الرّحمن حجار', 'sex': 'M', 'address': '8009 آل علي Place Apt. 860\\nNorth نصري, LA 85261', 'mail': 'jyln11@gmail.com', 'birthdate': None}\n",
      "{'job': 'Hotel manager', 'company': 'Diaz, Williams and Nelson', 'ssn': '611-04-5409', 'residence': '85542 Shelby Branch Apt. 181\\nWest Joseph, KS 53929', 'current_location': [-26.938657760620117, -33.13425827026367], 'blood_group': 'AB+', 'website': ['https://rogers.com/'], 'username': 'angelamccormick', 'name': 'Karen Butler DVM', 'sex': 'F', 'address': '7372 Sheila Springs Apt. 873\\nLake Danielle, WV 06246', 'mail': 'susan77@yahoo.com', 'birthdate': None}\n",
      "{'job': '系统集成工程师', 'company': '快讯网络有限公司', 'ssn': '622924194002266298', 'residence': '吉林省太原市城东太原街d座 229987', 'current_location': [7.011326789855957, -59.30485534667969], 'blood_group': 'B+', 'website': ['http://www.an.cn/', 'http://ping.cn/', 'https://gao.cn/', 'https://qinlei.cn/'], 'username': 'leizhao', 'name': '王凤兰', 'sex': 'F', 'address': '湖南省丽华县沙湾潘街c座 318538', 'mail': 'jun96@hotmail.com', 'birthdate': None}\n"
     ]
    }
   ],
   "source": [
    "with open('data/profiles.avro', 'rb') as f:\n",
    "    avro_reader = fastavro.reader(f, reader_schema=schema)\n",
    "    for record in avro_reader:\n",
    "        print(from_rec_avro_destructive(record))"
   ]
  },
  {
   "cell_type": "markdown",
   "metadata": {},
   "source": [
    "### Parquet"
   ]
  },
  {
   "cell_type": "code",
   "execution_count": 64,
   "metadata": {},
   "outputs": [],
   "source": [
    "import fastparquet"
   ]
  },
  {
   "cell_type": "code",
   "execution_count": 65,
   "metadata": {},
   "outputs": [],
   "source": [
    "parq = fastparquet.ParquetFile('data/profiles.parq')"
   ]
  },
  {
   "cell_type": "code",
   "execution_count": 66,
   "metadata": {},
   "outputs": [
    {
     "data": {
      "text/plain": [
       "['location_x',\n",
       " 'location_y',\n",
       " 'address',\n",
       " 'birthdate',\n",
       " 'blood_group',\n",
       " 'company',\n",
       " 'job',\n",
       " 'mail',\n",
       " 'name',\n",
       " 'residence',\n",
       " 'sex',\n",
       " 'ssn',\n",
       " 'username',\n",
       " 'website']"
      ]
     },
     "execution_count": 66,
     "metadata": {},
     "output_type": "execute_result"
    }
   ],
   "source": [
    "parq.columns"
   ]
  },
  {
   "cell_type": "code",
   "execution_count": 67,
   "metadata": {},
   "outputs": [],
   "source": [
    "df = parq.to_pandas()"
   ]
  },
  {
   "cell_type": "code",
   "execution_count": 68,
   "metadata": {},
   "outputs": [
    {
     "data": {
      "text/html": [
       "<div>\n",
       "<style scoped>\n",
       "    .dataframe tbody tr th:only-of-type {\n",
       "        vertical-align: middle;\n",
       "    }\n",
       "\n",
       "    .dataframe tbody tr th {\n",
       "        vertical-align: top;\n",
       "    }\n",
       "\n",
       "    .dataframe thead th {\n",
       "        text-align: right;\n",
       "    }\n",
       "</style>\n",
       "<table border=\"1\" class=\"dataframe\">\n",
       "  <thead>\n",
       "    <tr style=\"text-align: right;\">\n",
       "      <th></th>\n",
       "      <th>location_x</th>\n",
       "      <th>location_y</th>\n",
       "      <th>address</th>\n",
       "      <th>birthdate</th>\n",
       "      <th>blood_group</th>\n",
       "      <th>company</th>\n",
       "      <th>job</th>\n",
       "      <th>mail</th>\n",
       "      <th>name</th>\n",
       "      <th>residence</th>\n",
       "      <th>sex</th>\n",
       "      <th>ssn</th>\n",
       "      <th>username</th>\n",
       "      <th>website</th>\n",
       "    </tr>\n",
       "  </thead>\n",
       "  <tbody>\n",
       "    <tr>\n",
       "      <th>0</th>\n",
       "      <td>84.699387</td>\n",
       "      <td>173.552786</td>\n",
       "      <td>8009 آل علي Place Apt. 860\\nNorth نصري, LA 85261</td>\n",
       "      <td>1917-10-14</td>\n",
       "      <td>A-</td>\n",
       "      <td>آل محمد بن علي بن جماز-آل عواض</td>\n",
       "      <td>Toxicologist</td>\n",
       "      <td>jyln11@gmail.com</td>\n",
       "      <td>المهندس عبد الرّحمن حجار</td>\n",
       "      <td>5059 نورس Cove\\nالعقيلmouth, WV 15321</td>\n",
       "      <td>M</td>\n",
       "      <td>045-50-8831</td>\n",
       "      <td>slshy</td>\n",
       "      <td>https://www.al.com/,https://lkhrfy.biz/,https:...</td>\n",
       "    </tr>\n",
       "  </tbody>\n",
       "</table>\n",
       "</div>"
      ],
      "text/plain": [
       "   location_x  location_y                                           address  \\\n",
       "0   84.699387  173.552786  8009 آل علي Place Apt. 860\\nNorth نصري, LA 85261   \n",
       "\n",
       "   birthdate blood_group                         company           job  \\\n",
       "0 1917-10-14          A-  آل محمد بن علي بن جماز-آل عواض  Toxicologist   \n",
       "\n",
       "               mail                      name  \\\n",
       "0  jyln11@gmail.com  المهندس عبد الرّحمن حجار   \n",
       "\n",
       "                               residence sex          ssn username  \\\n",
       "0  5059 نورس Cove\\nالعقيلmouth, WV 15321   M  045-50-8831    slshy   \n",
       "\n",
       "                                             website  \n",
       "0  https://www.al.com/,https://lkhrfy.biz/,https:...  "
      ]
     },
     "execution_count": 68,
     "metadata": {},
     "output_type": "execute_result"
    }
   ],
   "source": [
    "df.head(1)"
   ]
  },
  {
   "cell_type": "markdown",
   "metadata": {},
   "source": [
    "#### Reading directly in `pandas`"
   ]
  },
  {
   "cell_type": "code",
   "execution_count": 69,
   "metadata": {},
   "outputs": [],
   "source": [
    "df = pd.read_parquet('data/profiles.parq')"
   ]
  },
  {
   "cell_type": "code",
   "execution_count": 70,
   "metadata": {},
   "outputs": [
    {
     "data": {
      "text/html": [
       "<div>\n",
       "<style scoped>\n",
       "    .dataframe tbody tr th:only-of-type {\n",
       "        vertical-align: middle;\n",
       "    }\n",
       "\n",
       "    .dataframe tbody tr th {\n",
       "        vertical-align: top;\n",
       "    }\n",
       "\n",
       "    .dataframe thead th {\n",
       "        text-align: right;\n",
       "    }\n",
       "</style>\n",
       "<table border=\"1\" class=\"dataframe\">\n",
       "  <thead>\n",
       "    <tr style=\"text-align: right;\">\n",
       "      <th></th>\n",
       "      <th>location_x</th>\n",
       "      <th>location_y</th>\n",
       "      <th>address</th>\n",
       "      <th>birthdate</th>\n",
       "      <th>blood_group</th>\n",
       "      <th>company</th>\n",
       "      <th>job</th>\n",
       "      <th>mail</th>\n",
       "      <th>name</th>\n",
       "      <th>residence</th>\n",
       "      <th>sex</th>\n",
       "      <th>ssn</th>\n",
       "      <th>username</th>\n",
       "      <th>website</th>\n",
       "    </tr>\n",
       "  </thead>\n",
       "  <tbody>\n",
       "    <tr>\n",
       "      <th>0</th>\n",
       "      <td>84.699387</td>\n",
       "      <td>173.552786</td>\n",
       "      <td>8009 آل علي Place Apt. 860\\nNorth نصري, LA 85261</td>\n",
       "      <td>1917-10-14</td>\n",
       "      <td>A-</td>\n",
       "      <td>آل محمد بن علي بن جماز-آل عواض</td>\n",
       "      <td>Toxicologist</td>\n",
       "      <td>jyln11@gmail.com</td>\n",
       "      <td>المهندس عبد الرّحمن حجار</td>\n",
       "      <td>5059 نورس Cove\\nالعقيلmouth, WV 15321</td>\n",
       "      <td>M</td>\n",
       "      <td>045-50-8831</td>\n",
       "      <td>slshy</td>\n",
       "      <td>https://www.al.com/,https://lkhrfy.biz/,https:...</td>\n",
       "    </tr>\n",
       "  </tbody>\n",
       "</table>\n",
       "</div>"
      ],
      "text/plain": [
       "   location_x  location_y                                           address  \\\n",
       "0   84.699387  173.552786  8009 آل علي Place Apt. 860\\nNorth نصري, LA 85261   \n",
       "\n",
       "   birthdate blood_group                         company           job  \\\n",
       "0 1917-10-14          A-  آل محمد بن علي بن جماز-آل عواض  Toxicologist   \n",
       "\n",
       "               mail                      name  \\\n",
       "0  jyln11@gmail.com  المهندس عبد الرّحمن حجار   \n",
       "\n",
       "                               residence sex          ssn username  \\\n",
       "0  5059 نورس Cove\\nالعقيلmouth, WV 15321   M  045-50-8831    slshy   \n",
       "\n",
       "                                             website  \n",
       "0  https://www.al.com/,https://lkhrfy.biz/,https:...  "
      ]
     },
     "execution_count": 70,
     "metadata": {},
     "output_type": "execute_result"
    }
   ],
   "source": [
    "df.head(1)"
   ]
  },
  {
   "cell_type": "markdown",
   "metadata": {},
   "source": [
    "## SQL\n",
    "\n",
    "A relatinal databse isn't really a filetype, but SQLite3 stores data as a simple file."
   ]
  },
  {
   "cell_type": "code",
   "execution_count": 71,
   "metadata": {},
   "outputs": [],
   "source": [
    "import sqlite3"
   ]
  },
  {
   "cell_type": "code",
   "execution_count": 72,
   "metadata": {},
   "outputs": [],
   "source": [
    "conn = sqlite3.connect('data/profiles.sqlite')\n",
    "c = conn.cursor()"
   ]
  },
  {
   "cell_type": "code",
   "execution_count": 73,
   "metadata": {},
   "outputs": [
    {
     "data": {
      "text/plain": [
       "[('table',\n",
       "  'duke',\n",
       "  'duke',\n",
       "  2,\n",
       "  'CREATE TABLE duke (\\n\\tid BIGINT, \\n\\tlocation_x FLOAT, \\n\\tlocation_y FLOAT, \\n\\taddress TEXT, \\n\\tbirthdate DATETIME, \\n\\tblood_group TEXT, \\n\\tcompany TEXT, \\n\\tjob TEXT, \\n\\tmail TEXT, \\n\\tname TEXT, \\n\\tresidence TEXT, \\n\\tsex TEXT, \\n\\tssn TEXT, \\n\\tusername TEXT, \\n\\twebsite TEXT\\n)')]"
      ]
     },
     "execution_count": 73,
     "metadata": {},
     "output_type": "execute_result"
    }
   ],
   "source": [
    "c.execute(\"SELECT * FROM sqlite_master WHERE type='table'\")\n",
    "c.fetchall()"
   ]
  },
  {
   "cell_type": "code",
   "execution_count": 74,
   "metadata": {},
   "outputs": [
    {
     "data": {
      "text/plain": [
       "(0,\n",
       " 84.6993865,\n",
       " 173.552786,\n",
       " '8009 آل علي Place Apt. 860\\nNorth نصري, LA 85261',\n",
       " '1917-10-14 00:00:00.000000',\n",
       " 'A-',\n",
       " 'آل محمد بن علي بن جماز-آل عواض',\n",
       " 'Toxicologist',\n",
       " 'jyln11@gmail.com',\n",
       " 'المهندس عبد الرّحمن حجار',\n",
       " '5059 نورس Cove\\nالعقيلmouth, WV 15321',\n",
       " 'M',\n",
       " '045-50-8831',\n",
       " 'slshy',\n",
       " 'https://www.al.com/,https://lkhrfy.biz/,https://www.al.org/')"
      ]
     },
     "execution_count": 74,
     "metadata": {},
     "output_type": "execute_result"
    }
   ],
   "source": [
    "c.execute('SELECT * FROM duke')\n",
    "c.fetchone()"
   ]
  },
  {
   "cell_type": "code",
   "execution_count": 75,
   "metadata": {},
   "outputs": [],
   "source": [
    "conn.close()"
   ]
  },
  {
   "cell_type": "markdown",
   "metadata": {},
   "source": [
    "## How the files were created"
   ]
  },
  {
   "cell_type": "markdown",
   "metadata": {},
   "source": [
    "### Create fake profiles using `Faker`"
   ]
  },
  {
   "cell_type": "code",
   "execution_count": 76,
   "metadata": {},
   "outputs": [],
   "source": [
    "from faker import Faker"
   ]
  },
  {
   "cell_type": "code",
   "execution_count": 77,
   "metadata": {},
   "outputs": [],
   "source": [
    "fakes = [\n",
    "    Faker('zh_CN'), \n",
    "    Faker('ar_SA'), \n",
    "    Faker('en_US'), \n",
    "]"
   ]
  },
  {
   "cell_type": "code",
   "execution_count": 78,
   "metadata": {},
   "outputs": [],
   "source": [
    "n = 3\n",
    "p = [0.3, 0.2, 0.5]\n",
    "np.random.seed(1)\n",
    "locales = np.random.choice(len(fakes), size=n, p=p)"
   ]
  },
  {
   "cell_type": "code",
   "execution_count": 79,
   "metadata": {},
   "outputs": [],
   "source": [
    "profiles = [fakes[locale].profile() for locale in locales]"
   ]
  },
  {
   "cell_type": "code",
   "execution_count": 80,
   "metadata": {},
   "outputs": [
    {
     "data": {
      "text/plain": [
       "[{'job': 'Scientist, forensic',\n",
       "  'company': 'المغاولة and Sons',\n",
       "  'ssn': '177-66-4460',\n",
       "  'residence': '8475 جوريّة Brooks\\nعرفانbury, MT 02323',\n",
       "  'current_location': (Decimal('54.993302'), Decimal('-16.808277')),\n",
       "  'blood_group': 'A+',\n",
       "  'website': ['http://al.com/'],\n",
       "  'username': 'mlhjr',\n",
       "  'name': 'السيد موسى المشاولة',\n",
       "  'sex': 'M',\n",
       "  'address': '43457 كتوم Plains Suite 096\\nبنانview, MD 48123',\n",
       "  'mail': 'syfldwynlrshd@hotmail.com',\n",
       "  'birthdate': datetime.date(1992, 4, 24)},\n",
       " {'job': 'Minerals surveyor',\n",
       "  'company': 'Rojas-Manning',\n",
       "  'ssn': '148-32-8045',\n",
       "  'residence': '733 Gordon Freeway Apt. 006\\nWest Richard, DE 29439',\n",
       "  'current_location': (Decimal('36.7676655'), Decimal('-50.791245')),\n",
       "  'blood_group': 'AB-',\n",
       "  'website': ['https://www.shah.com/'],\n",
       "  'username': 'sherry05',\n",
       "  'name': 'Vanessa Smith',\n",
       "  'sex': 'F',\n",
       "  'address': '337 John Mountain\\nSouth Josebury, IL 88948',\n",
       "  'mail': 'davisbarbara@yahoo.com',\n",
       "  'birthdate': datetime.date(1989, 9, 19)},\n",
       " {'job': '电子/电器/半导体/仪器仪表',\n",
       "  'company': '飞利信信息有限公司',\n",
       "  'ssn': '230502195104128216',\n",
       "  'residence': '湖南省济南市和平吴路u座 312685',\n",
       "  'current_location': (Decimal('87.7656005'), Decimal('-52.425800')),\n",
       "  'blood_group': 'AB-',\n",
       "  'website': ['https://www.guiying.cn/',\n",
       "   'http://nading.cn/',\n",
       "   'https://guiyingna.cn/',\n",
       "   'https://minyang.org/'],\n",
       "  'username': 'xiuying46',\n",
       "  'name': '衣建平',\n",
       "  'sex': 'F',\n",
       "  'address': '天津市凯市西夏周路N座 768749',\n",
       "  'mail': 'xiulanlu@gmail.com',\n",
       "  'birthdate': datetime.date(1957, 11, 28)}]"
      ]
     },
     "execution_count": 80,
     "metadata": {},
     "output_type": "execute_result"
    }
   ],
   "source": [
    "profiles"
   ]
  },
  {
   "cell_type": "markdown",
   "metadata": {},
   "source": [
    "### Make JSON files"
   ]
  },
  {
   "cell_type": "code",
   "execution_count": 81,
   "metadata": {},
   "outputs": [],
   "source": [
    "import datetime\n",
    "import decimal"
   ]
  },
  {
   "cell_type": "code",
   "execution_count": 82,
   "metadata": {},
   "outputs": [],
   "source": [
    "def converter(o):\n",
    "    if isinstance(o, datetime.datetime):\n",
    "        return o.__str__()\n",
    "    if isinstance(o, decimal.Decimal):\n",
    "        return o.__str__()"
   ]
  },
  {
   "cell_type": "code",
   "execution_count": 83,
   "metadata": {},
   "outputs": [],
   "source": [
    "import simplejson"
   ]
  },
  {
   "cell_type": "code",
   "execution_count": 84,
   "metadata": {},
   "outputs": [],
   "source": [
    "with open('data/profiles.json', 'w') as f:\n",
    "    simplejson.dump(profiles , f, default=converter)"
   ]
  },
  {
   "cell_type": "markdown",
   "metadata": {},
   "source": [
    "### Make XML files"
   ]
  },
  {
   "cell_type": "code",
   "execution_count": 85,
   "metadata": {},
   "outputs": [],
   "source": [
    "from json2xml import json2xml, readfromstring"
   ]
  },
  {
   "cell_type": "code",
   "execution_count": 86,
   "metadata": {},
   "outputs": [],
   "source": [
    "with open('data/profiles.xml', 'w') as f:\n",
    "    data = readfromstring(simplejson.dumps(profiles , f, default=converter))\n",
    "    f.write(json2xml.Json2xml({'employee': data}, wrapper=\"duke\").to_xml())"
   ]
  },
  {
   "cell_type": "markdown",
   "metadata": {},
   "source": [
    "### Make AVRO files"
   ]
  },
  {
   "cell_type": "code",
   "execution_count": 87,
   "metadata": {},
   "outputs": [],
   "source": [
    "from rec_avro import to_rec_avro_destructive, rec_avro_schema"
   ]
  },
  {
   "cell_type": "code",
   "execution_count": 88,
   "metadata": {},
   "outputs": [],
   "source": [
    "ps = simplejson.load(open('data/profiles.json'))\n",
    "avro_objects = [to_rec_avro_destructive(rec) for rec in ps]\n",
    "with open('data/profiles.avro', 'wb') as f_out:\n",
    "    fastavro.writer(f_out, fastavro.parse_schema(rec_avro_schema()), avro_objects)"
   ]
  },
  {
   "cell_type": "markdown",
   "metadata": {},
   "source": [
    "### Make `pandas` data framee"
   ]
  },
  {
   "cell_type": "code",
   "execution_count": 89,
   "metadata": {},
   "outputs": [],
   "source": [
    "df = pd.DataFrame(profiles)"
   ]
  },
  {
   "cell_type": "code",
   "execution_count": 90,
   "metadata": {},
   "outputs": [
    {
     "data": {
      "text/plain": [
       "address             43457 كتوم Plains Suite 096\\nبنانview, MD 48123\n",
       "birthdate                                                1992-04-24\n",
       "blood_group                                                      A+\n",
       "company                                           المغاولة and Sons\n",
       "current_location                            (54.993302, -16.808277)\n",
       "job                                             Scientist, forensic\n",
       "mail                                      syfldwynlrshd@hotmail.com\n",
       "name                                            السيد موسى المشاولة\n",
       "residence                   8475 جوريّة Brooks\\nعرفانbury, MT 02323\n",
       "sex                                                               M\n",
       "ssn                                                     177-66-4460\n",
       "username                                                      mlhjr\n",
       "website                                            [http://al.com/]\n",
       "Name: 0, dtype: object"
      ]
     },
     "execution_count": 90,
     "metadata": {},
     "output_type": "execute_result"
    }
   ],
   "source": [
    "df.iloc[0]"
   ]
  },
  {
   "cell_type": "markdown",
   "metadata": {},
   "source": [
    "### Make comma delimited files"
   ]
  },
  {
   "cell_type": "code",
   "execution_count": 91,
   "metadata": {},
   "outputs": [],
   "source": [
    "df.to_csv('data/profiles.csv', index=False)"
   ]
  },
  {
   "cell_type": "markdown",
   "metadata": {},
   "source": [
    "### Make tab-delimited files"
   ]
  },
  {
   "cell_type": "code",
   "execution_count": 92,
   "metadata": {},
   "outputs": [],
   "source": [
    "df.to_csv('data/profiles.txt', index=False, sep='\\t')"
   ]
  },
  {
   "cell_type": "markdown",
   "metadata": {},
   "source": [
    "### Munge pandas data to be compratible with storage"
   ]
  },
  {
   "cell_type": "code",
   "execution_count": 93,
   "metadata": {},
   "outputs": [],
   "source": [
    "df.birthdate = pd.to_datetime(df.birthdate)\n",
    "df = (\n",
    "    df.current_location.\n",
    "    apply(pd.Series).\n",
    "    merge(df, left_index=True, right_index=True).\n",
    "    drop('current_location', axis=1).\n",
    "    rename({0: 'location_x', 1: 'location_y'}, axis=1)\n",
    ")\n",
    "df['location_x'] = df['location_x'].astype('float')\n",
    "df['location_y'] = df['location_y'].astype('float')\n",
    "df.website = df.website.apply(lambda s: ','.join(s))"
   ]
  },
  {
   "cell_type": "markdown",
   "metadata": {},
   "source": [
    "### Make HDF5 files"
   ]
  },
  {
   "cell_type": "code",
   "execution_count": 94,
   "metadata": {},
   "outputs": [],
   "source": [
    "df.to_hdf('data/profiles.h5', key='duke')"
   ]
  },
  {
   "cell_type": "markdown",
   "metadata": {},
   "source": [
    "### Make Parquet files"
   ]
  },
  {
   "cell_type": "code",
   "execution_count": 95,
   "metadata": {},
   "outputs": [],
   "source": [
    "fastparquet.write('data/profiles.parq', df)"
   ]
  },
  {
   "cell_type": "markdown",
   "metadata": {},
   "source": [
    "### Make SQLite3 database files"
   ]
  },
  {
   "cell_type": "code",
   "execution_count": 96,
   "metadata": {},
   "outputs": [],
   "source": [
    "from sqlalchemy import create_engine\n",
    "engine = create_engine('sqlite:///data/profiles.sqlite', echo=False)"
   ]
  },
  {
   "cell_type": "code",
   "execution_count": 97,
   "metadata": {},
   "outputs": [],
   "source": [
    "df.to_sql('duke', con=engine, if_exists='replace', index_label='id')"
   ]
  }
 ],
 "metadata": {
  "kernelspec": {
   "display_name": "Python 3",
   "language": "python",
   "name": "python3"
  },
  "language_info": {
   "codemirror_mode": {
    "name": "ipython",
    "version": 3
   },
   "file_extension": ".py",
   "mimetype": "text/x-python",
   "name": "python",
   "nbconvert_exporter": "python",
   "pygments_lexer": "ipython3",
   "version": "3.7.3"
  }
 },
 "nbformat": 4,
 "nbformat_minor": 2
}
