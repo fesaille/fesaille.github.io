{
 "cells": [
  {
   "cell_type": "markdown",
   "metadata": {},
   "source": [
    "# Python Basics\n",
    "\n",
    "This is meant as a Python refresher (or crash course)."
   ]
  },
  {
   "cell_type": "markdown",
   "metadata": {},
   "source": [
    "**1**. (25 points) \n",
    "\n",
    "The code below generates the unique Pythagorean triplets $(a, b, c)$ where $a^2 + b^2 = c^2$ using a nested list comprehension for values of $a, b, c \\le 20$.\n",
    "\n",
    "```Python\n",
    "triplets = [(a, b, c) for a in range(1, 21) for b in range(a, 21) for c in range(b, 21) if a**2 + b**2 == c**2]\n",
    "```\n",
    "\n",
    "- Rewrite using a for loop with the same functionality"
   ]
  },
  {
   "cell_type": "code",
   "execution_count": 13,
   "metadata": {},
   "outputs": [
    {
     "data": {
      "text/plain": [
       "[(3, 4, 5), (5, 12, 13), (6, 8, 10), (8, 15, 17), (9, 12, 15), (12, 16, 20)]"
      ]
     },
     "execution_count": 13,
     "metadata": {},
     "output_type": "execute_result"
    }
   ],
   "source": [
    "triplets = [(a, b, c) for a in range(1, 21) for b in range(a, 21) for c in range(b, 21) if a**2 + b**2 == c**2]\n",
    "triplets"
   ]
  },
  {
   "cell_type": "code",
   "execution_count": null,
   "metadata": {},
   "outputs": [],
   "source": [
    "\n",
    "\n",
    "\n"
   ]
  },
  {
   "cell_type": "markdown",
   "metadata": {},
   "source": [
    "**2**. (25 points) \n",
    "\n",
    "The code below generates the sum of numbers meeting some predicate condition.\n",
    "\n",
    "```python\n",
    "def pred(a):\n",
    "    if a % 3 == 0:\n",
    "        return True\n",
    "    else:\n",
    "        return False\n",
    "    \n",
    "s = []\n",
    "for i in range(100):\n",
    "    if pred(i):\n",
    "        s.append(i**2)\n",
    "\n",
    "sum(s)\n",
    "```\n",
    "\n",
    "- Rewrite using `map`, `filter`, `reduce` and a `lambda` functions to achieve the same functionality.  Do not use the `pred` or `sum` functions."
   ]
  },
  {
   "cell_type": "code",
   "execution_count": 15,
   "metadata": {},
   "outputs": [
    {
     "data": {
      "text/plain": [
       "112761"
      ]
     },
     "execution_count": 15,
     "metadata": {},
     "output_type": "execute_result"
    }
   ],
   "source": [
    "def pred(a):\n",
    "    if a % 3 == 0:\n",
    "        return True\n",
    "    else:\n",
    "        return False\n",
    "    \n",
    "s = []\n",
    "for i in range(100):\n",
    "    if pred(i):\n",
    "        s.append(i**2)\n",
    "\n",
    "sum(s)"
   ]
  },
  {
   "cell_type": "code",
   "execution_count": 8,
   "metadata": {},
   "outputs": [],
   "source": [
    "from functools import reduce"
   ]
  },
  {
   "cell_type": "code",
   "execution_count": null,
   "metadata": {},
   "outputs": [],
   "source": [
    "\n",
    "\n",
    "\n"
   ]
  },
  {
   "cell_type": "markdown",
   "metadata": {},
   "source": [
    "**3**. (50 points)\n",
    "\n",
    "- Perform the median polish to calculate just the *residuals* for this [example](https://mgimond.github.io/ES218/Week11a.html) in Python. \n",
    "- Use the matrix `xs` provided\n",
    "- Display the final result after 3 iterations to 1 decimal place and check if it agrees with \n",
    "\n",
    "![img](https://mgimond.github.io/ES218/img/twoway_09.jpg)"
   ]
  },
  {
   "cell_type": "code",
   "execution_count": 51,
   "metadata": {},
   "outputs": [],
   "source": [
    "import numpy as np"
   ]
  },
  {
   "cell_type": "code",
   "execution_count": 61,
   "metadata": {},
   "outputs": [],
   "source": [
    "xs = np.array([\n",
    "    (25.3,32.1,38.8,25.4), \n",
    "    (25.3,29,31,21.1),\n",
    "    (18.2,18.8,19.3,20.3),\n",
    "    (18.3,24.3,15.7,24),\n",
    "    (16.3,19,16.8,17.5)\n",
    "]).T"
   ]
  },
  {
   "cell_type": "code",
   "execution_count": 62,
   "metadata": {},
   "outputs": [
    {
     "data": {
      "text/plain": [
       "array([[25.3, 25.3, 18.2, 18.3, 16.3],\n",
       "       [32.1, 29. , 18.8, 24.3, 19. ],\n",
       "       [38.8, 31. , 19.3, 15.7, 16.8],\n",
       "       [25.4, 21.1, 20.3, 24. , 17.5]])"
      ]
     },
     "execution_count": 62,
     "metadata": {},
     "output_type": "execute_result"
    }
   ],
   "source": [
    "xs"
   ]
  },
  {
   "cell_type": "code",
   "execution_count": null,
   "metadata": {},
   "outputs": [],
   "source": [
    "\n",
    "\n",
    "\n"
   ]
  }
 ],
 "metadata": {
  "kernelspec": {
   "display_name": "Python 3",
   "language": "python",
   "name": "python3"
  },
  "language_info": {
   "codemirror_mode": {
    "name": "ipython",
    "version": 3
   },
   "file_extension": ".py",
   "mimetype": "text/x-python",
   "name": "python",
   "nbconvert_exporter": "python",
   "pygments_lexer": "ipython3",
   "version": "3.6.5"
  }
 },
 "nbformat": 4,
 "nbformat_minor": 2
}
