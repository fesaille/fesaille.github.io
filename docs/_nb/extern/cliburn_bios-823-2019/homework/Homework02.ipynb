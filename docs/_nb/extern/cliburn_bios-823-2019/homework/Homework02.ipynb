{
 "cells": [
  {
   "cell_type": "markdown",
   "metadata": {},
   "source": [
    "**1**. (25 points)\n",
    "\n",
    "Generate the DataFrame `df` using `pendulum`, `itertools` and `pandas`. Note that th locales used are English, French and Russian."
   ]
  },
  {
   "cell_type": "code",
   "execution_count": 1,
   "metadata": {},
   "outputs": [],
   "source": [
    "import pandas as pd"
   ]
  },
  {
   "cell_type": "code",
   "execution_count": 2,
   "metadata": {},
   "outputs": [
    {
     "data": {
      "text/html": [
       "<div>\n",
       "<style scoped>\n",
       "    .dataframe tbody tr th:only-of-type {\n",
       "        vertical-align: middle;\n",
       "    }\n",
       "\n",
       "    .dataframe tbody tr th {\n",
       "        vertical-align: top;\n",
       "    }\n",
       "\n",
       "    .dataframe thead th {\n",
       "        text-align: right;\n",
       "    }\n",
       "</style>\n",
       "<table border=\"1\" class=\"dataframe\">\n",
       "  <thead>\n",
       "    <tr style=\"text-align: right;\">\n",
       "      <th></th>\n",
       "      <th>Day</th>\n",
       "      <th>Homework due</th>\n",
       "      <th>Subject</th>\n",
       "    </tr>\n",
       "  </thead>\n",
       "  <tbody>\n",
       "    <tr>\n",
       "      <td>0</td>\n",
       "      <td>24 (Sa) August,  2019 12:08:00 PM</td>\n",
       "      <td>1 week before</td>\n",
       "      <td>BIOS 823</td>\n",
       "    </tr>\n",
       "    <tr>\n",
       "      <td>1</td>\n",
       "      <td>25 (Su) August,  2019 12:08:00 PM</td>\n",
       "      <td>6 jours avant</td>\n",
       "      <td>BIOS 824</td>\n",
       "    </tr>\n",
       "    <tr>\n",
       "      <td>2</td>\n",
       "      <td>26 (Mo) August,  2019 12:08:00 PM</td>\n",
       "      <td>5 дней до</td>\n",
       "      <td>BIOS 823</td>\n",
       "    </tr>\n",
       "    <tr>\n",
       "      <td>3</td>\n",
       "      <td>27 (Tu) August,  2019 12:08:00 PM</td>\n",
       "      <td>4 days before</td>\n",
       "      <td>BIOS 824</td>\n",
       "    </tr>\n",
       "    <tr>\n",
       "      <td>4</td>\n",
       "      <td>28 (We) August,  2019 12:08:00 PM</td>\n",
       "      <td>3 jours avant</td>\n",
       "      <td>BIOS 823</td>\n",
       "    </tr>\n",
       "    <tr>\n",
       "      <td>5</td>\n",
       "      <td>29 (Th) August,  2019 12:08:00 PM</td>\n",
       "      <td>2 дня до</td>\n",
       "      <td>BIOS 824</td>\n",
       "    </tr>\n",
       "    <tr>\n",
       "      <td>6</td>\n",
       "      <td>30 (Fr) August,  2019 12:08:00 PM</td>\n",
       "      <td>1 day before</td>\n",
       "      <td>BIOS 823</td>\n",
       "    </tr>\n",
       "    <tr>\n",
       "      <td>7</td>\n",
       "      <td>31 (Sa) August,  2019 12:08:00 PM</td>\n",
       "      <td>12 heures avant</td>\n",
       "      <td>BIOS 824</td>\n",
       "    </tr>\n",
       "  </tbody>\n",
       "</table>\n",
       "</div>"
      ],
      "text/plain": [
       "                                 Day     Homework due   Subject\n",
       "0  24 (Sa) August,  2019 12:08:00 PM    1 week before  BIOS 823\n",
       "1  25 (Su) August,  2019 12:08:00 PM    6 jours avant  BIOS 824\n",
       "2  26 (Mo) August,  2019 12:08:00 PM        5 дней до  BIOS 823\n",
       "3  27 (Tu) August,  2019 12:08:00 PM    4 days before  BIOS 824\n",
       "4  28 (We) August,  2019 12:08:00 PM    3 jours avant  BIOS 823\n",
       "5  29 (Th) August,  2019 12:08:00 PM         2 дня до  BIOS 824\n",
       "6  30 (Fr) August,  2019 12:08:00 PM     1 day before  BIOS 823\n",
       "7  31 (Sa) August,  2019 12:08:00 PM  12 heures avant  BIOS 824"
      ]
     },
     "execution_count": 2,
     "metadata": {},
     "output_type": "execute_result"
    }
   ],
   "source": [
    "df = pd.read_csv('schedule.csv')\n",
    "df"
   ]
  },
  {
   "cell_type": "code",
   "execution_count": null,
   "metadata": {},
   "outputs": [],
   "source": [
    "\n",
    "\n",
    "\n"
   ]
  },
  {
   "cell_type": "markdown",
   "metadata": {},
   "source": [
    "**2**. (25 points)\n",
    "\n",
    "Given the DataFrame `df`, recreate the correlation plot shown using `seaborn`. Note the color mapping is `viridis`."
   ]
  },
  {
   "cell_type": "code",
   "execution_count": 6,
   "metadata": {},
   "outputs": [],
   "source": [
    "import numpy as np\n",
    "import string"
   ]
  },
  {
   "cell_type": "code",
   "execution_count": 7,
   "metadata": {},
   "outputs": [
    {
     "data": {
      "text/html": [
       "<div>\n",
       "<style scoped>\n",
       "    .dataframe tbody tr th:only-of-type {\n",
       "        vertical-align: middle;\n",
       "    }\n",
       "\n",
       "    .dataframe tbody tr th {\n",
       "        vertical-align: top;\n",
       "    }\n",
       "\n",
       "    .dataframe thead th {\n",
       "        text-align: right;\n",
       "    }\n",
       "</style>\n",
       "<table border=\"1\" class=\"dataframe\">\n",
       "  <thead>\n",
       "    <tr style=\"text-align: right;\">\n",
       "      <th></th>\n",
       "      <th>bdryox</th>\n",
       "      <th>fbsfcs</th>\n",
       "      <th>onzdso</th>\n",
       "      <th>wxjrdl</th>\n",
       "      <th>ylkdnx</th>\n",
       "      <th>zzoddo</th>\n",
       "      <th>vwqyxx</th>\n",
       "      <th>eefqyj</th>\n",
       "      <th>cfbfjp</th>\n",
       "      <th>ckedqd</th>\n",
       "    </tr>\n",
       "  </thead>\n",
       "  <tbody>\n",
       "    <tr>\n",
       "      <td>0</td>\n",
       "      <td>-1.085631</td>\n",
       "      <td>0.997345</td>\n",
       "      <td>0.282978</td>\n",
       "      <td>-1.506295</td>\n",
       "      <td>-0.578600</td>\n",
       "      <td>1.651437</td>\n",
       "      <td>-2.426679</td>\n",
       "      <td>-0.428913</td>\n",
       "      <td>1.265936</td>\n",
       "      <td>-0.866740</td>\n",
       "    </tr>\n",
       "    <tr>\n",
       "      <td>1</td>\n",
       "      <td>-0.678886</td>\n",
       "      <td>-0.094709</td>\n",
       "      <td>1.491390</td>\n",
       "      <td>-0.638902</td>\n",
       "      <td>-0.443982</td>\n",
       "      <td>-0.434351</td>\n",
       "      <td>2.205930</td>\n",
       "      <td>2.186786</td>\n",
       "      <td>1.004054</td>\n",
       "      <td>0.386186</td>\n",
       "    </tr>\n",
       "    <tr>\n",
       "      <td>2</td>\n",
       "      <td>0.737369</td>\n",
       "      <td>1.490732</td>\n",
       "      <td>-0.935834</td>\n",
       "      <td>1.175829</td>\n",
       "      <td>-1.253881</td>\n",
       "      <td>-0.637752</td>\n",
       "      <td>0.907105</td>\n",
       "      <td>-1.428681</td>\n",
       "      <td>-0.140069</td>\n",
       "      <td>-0.861755</td>\n",
       "    </tr>\n",
       "    <tr>\n",
       "      <td>3</td>\n",
       "      <td>-0.255619</td>\n",
       "      <td>-2.798589</td>\n",
       "      <td>-1.771533</td>\n",
       "      <td>-0.699877</td>\n",
       "      <td>0.927462</td>\n",
       "      <td>-0.173636</td>\n",
       "      <td>0.002846</td>\n",
       "      <td>0.688223</td>\n",
       "      <td>-0.879536</td>\n",
       "      <td>0.283627</td>\n",
       "    </tr>\n",
       "    <tr>\n",
       "      <td>4</td>\n",
       "      <td>-0.805367</td>\n",
       "      <td>-1.727669</td>\n",
       "      <td>-0.390900</td>\n",
       "      <td>0.573806</td>\n",
       "      <td>0.338589</td>\n",
       "      <td>-0.011830</td>\n",
       "      <td>2.392365</td>\n",
       "      <td>0.412912</td>\n",
       "      <td>0.978736</td>\n",
       "      <td>2.238143</td>\n",
       "    </tr>\n",
       "    <tr>\n",
       "      <td>5</td>\n",
       "      <td>-1.294085</td>\n",
       "      <td>-1.038788</td>\n",
       "      <td>1.743712</td>\n",
       "      <td>-0.798063</td>\n",
       "      <td>0.029683</td>\n",
       "      <td>1.069316</td>\n",
       "      <td>0.890706</td>\n",
       "      <td>1.754886</td>\n",
       "      <td>1.495644</td>\n",
       "      <td>1.069393</td>\n",
       "    </tr>\n",
       "    <tr>\n",
       "      <td>6</td>\n",
       "      <td>-0.772709</td>\n",
       "      <td>0.794863</td>\n",
       "      <td>0.314272</td>\n",
       "      <td>-1.326265</td>\n",
       "      <td>1.417299</td>\n",
       "      <td>0.807237</td>\n",
       "      <td>0.045490</td>\n",
       "      <td>-0.233092</td>\n",
       "      <td>-1.198301</td>\n",
       "      <td>0.199524</td>\n",
       "    </tr>\n",
       "    <tr>\n",
       "      <td>7</td>\n",
       "      <td>0.468439</td>\n",
       "      <td>-0.831155</td>\n",
       "      <td>1.162204</td>\n",
       "      <td>-1.097203</td>\n",
       "      <td>-2.123100</td>\n",
       "      <td>1.039727</td>\n",
       "      <td>-0.403366</td>\n",
       "      <td>-0.126030</td>\n",
       "      <td>-0.837517</td>\n",
       "      <td>-1.605963</td>\n",
       "    </tr>\n",
       "    <tr>\n",
       "      <td>8</td>\n",
       "      <td>1.255237</td>\n",
       "      <td>-0.688869</td>\n",
       "      <td>1.660952</td>\n",
       "      <td>0.807308</td>\n",
       "      <td>-0.314758</td>\n",
       "      <td>-1.085902</td>\n",
       "      <td>-0.732462</td>\n",
       "      <td>-1.212523</td>\n",
       "      <td>2.087113</td>\n",
       "      <td>0.164441</td>\n",
       "    </tr>\n",
       "    <tr>\n",
       "      <td>9</td>\n",
       "      <td>1.150206</td>\n",
       "      <td>-1.267352</td>\n",
       "      <td>0.181035</td>\n",
       "      <td>1.177862</td>\n",
       "      <td>-0.335011</td>\n",
       "      <td>1.031114</td>\n",
       "      <td>-1.084568</td>\n",
       "      <td>-1.363472</td>\n",
       "      <td>0.379401</td>\n",
       "      <td>-0.379176</td>\n",
       "    </tr>\n",
       "  </tbody>\n",
       "</table>\n",
       "</div>"
      ],
      "text/plain": [
       "     bdryox    fbsfcs    onzdso    wxjrdl    ylkdnx    zzoddo    vwqyxx  \\\n",
       "0 -1.085631  0.997345  0.282978 -1.506295 -0.578600  1.651437 -2.426679   \n",
       "1 -0.678886 -0.094709  1.491390 -0.638902 -0.443982 -0.434351  2.205930   \n",
       "2  0.737369  1.490732 -0.935834  1.175829 -1.253881 -0.637752  0.907105   \n",
       "3 -0.255619 -2.798589 -1.771533 -0.699877  0.927462 -0.173636  0.002846   \n",
       "4 -0.805367 -1.727669 -0.390900  0.573806  0.338589 -0.011830  2.392365   \n",
       "5 -1.294085 -1.038788  1.743712 -0.798063  0.029683  1.069316  0.890706   \n",
       "6 -0.772709  0.794863  0.314272 -1.326265  1.417299  0.807237  0.045490   \n",
       "7  0.468439 -0.831155  1.162204 -1.097203 -2.123100  1.039727 -0.403366   \n",
       "8  1.255237 -0.688869  1.660952  0.807308 -0.314758 -1.085902 -0.732462   \n",
       "9  1.150206 -1.267352  0.181035  1.177862 -0.335011  1.031114 -1.084568   \n",
       "\n",
       "     eefqyj    cfbfjp    ckedqd  \n",
       "0 -0.428913  1.265936 -0.866740  \n",
       "1  2.186786  1.004054  0.386186  \n",
       "2 -1.428681 -0.140069 -0.861755  \n",
       "3  0.688223 -0.879536  0.283627  \n",
       "4  0.412912  0.978736  2.238143  \n",
       "5  1.754886  1.495644  1.069393  \n",
       "6 -0.233092 -1.198301  0.199524  \n",
       "7 -0.126030 -0.837517 -1.605963  \n",
       "8 -1.212523  2.087113  0.164441  \n",
       "9 -1.363472  0.379401 -0.379176  "
      ]
     },
     "execution_count": 7,
     "metadata": {},
     "output_type": "execute_result"
    }
   ],
   "source": [
    "np.random.seed(123)\n",
    "nrows = 10\n",
    "ncols = 10\n",
    "k = 6\n",
    "xs = np.random.normal(0, 1, (nrows, ncols))\n",
    "names = [''.join(np.random.choice(list(string.ascii_lowercase), k)) for i in range(10)]\n",
    "df = pd.DataFrame(xs, columns=names)\n",
    "df"
   ]
  },
  {
   "cell_type": "code",
   "execution_count": 8,
   "metadata": {},
   "outputs": [
    {
     "data": {
      "image/png": "[encoded data removed]",
      "text/plain": [
       "<IPython.core.display.Image object>"
      ]
     },
     "execution_count": 8,
     "metadata": {},
     "output_type": "execute_result"
    }
   ],
   "source": [
    "from IPython.display import Image\n",
    "Image('corrplot.png')"
   ]
  },
  {
   "cell_type": "code",
   "execution_count": null,
   "metadata": {},
   "outputs": [],
   "source": [
    "\n",
    "\n",
    "\n"
   ]
  },
  {
   "cell_type": "markdown",
   "metadata": {},
   "source": [
    "**3**. (50 points)\n",
    "\n",
    "We will use the REST API at `https://swapi.co/api` to find out more information about the people with IDs 1,2 and 3.\n",
    "    \n",
    "- Use the `requests` library to get information about these 3 people in JSON format\n",
    "- Store the information in a pandas data frame\n",
    "- Add two columns `bmi` and `obese` \n",
    "    - `bmi` is mass in kg/(height in meters)^2\n",
    "    - `obese` is true if `bmi` > 30 and false otherwise\n",
    "- Convert the data frame to a \"tidy\" data frame by ensuring there is only one value in each cell\n",
    "- Replace URLs in each cell in the `homeworld`, `films`, `species`, `vehicles` and `starships` columns with the `title` (for the films column) or the `name` (for every other column) which you can find by a REST lookup at `https://swapi.co/api`\n",
    "- Minimize the number of REST requests made either by caching results or ensuring only unique lookups\n",
    "\n",
    "The final data frame should look like the one below."
   ]
  },
  {
   "cell_type": "code",
   "execution_count": 11,
   "metadata": {},
   "outputs": [],
   "source": [
    "df = pd.read_csv('starwars.csv')"
   ]
  },
  {
   "cell_type": "code",
   "execution_count": 12,
   "metadata": {},
   "outputs": [
    {
     "data": {
      "text/plain": [
       "name                          Luke Skywalker\n",
       "height                                   172\n",
       "mass                                      77\n",
       "hair_color                             blond\n",
       "skin_color                              fair\n",
       "eye_color                               blue\n",
       "birth_year                             19BBY\n",
       "gender                                  male\n",
       "homeworld                           Tatooine\n",
       "films                The Empire Strikes Back\n",
       "species                                Human\n",
       "vehicles                         Snowspeeder\n",
       "starships                             X-wing\n",
       "created          2014-12-09T13:50:51.644000Z\n",
       "edited           2014-12-20T21:17:56.891000Z\n",
       "url           https://swapi.co/api/people/1/\n",
       "bmi                                  26.0276\n",
       "obese                                  False\n",
       "Name: 0, dtype: object"
      ]
     },
     "execution_count": 12,
     "metadata": {},
     "output_type": "execute_result"
    }
   ],
   "source": [
    "df.iloc[0]"
   ]
  },
  {
   "cell_type": "code",
   "execution_count": 13,
   "metadata": {},
   "outputs": [
    {
     "data": {
      "text/plain": [
       "name                                   C-3PO\n",
       "height                                   167\n",
       "mass                                      75\n",
       "hair_color                               NaN\n",
       "skin_color                              gold\n",
       "eye_color                             yellow\n",
       "birth_year                            112BBY\n",
       "gender                                   NaN\n",
       "homeworld                           Tatooine\n",
       "films                     The Phantom Menace\n",
       "species                                Droid\n",
       "vehicles                                 NaN\n",
       "starships                                NaN\n",
       "created          2014-12-10T15:10:51.357000Z\n",
       "edited           2014-12-20T21:17:50.309000Z\n",
       "url           https://swapi.co/api/people/2/\n",
       "bmi                                  26.8923\n",
       "obese                                  False\n",
       "Name: 21, dtype: object"
      ]
     },
     "execution_count": 13,
     "metadata": {},
     "output_type": "execute_result"
    }
   ],
   "source": [
    "df.iloc[-1]"
   ]
  },
  {
   "cell_type": "code",
   "execution_count": null,
   "metadata": {},
   "outputs": [],
   "source": [
    "\n",
    "\n",
    "\n"
   ]
  }
 ],
 "metadata": {
  "kernelspec": {
   "display_name": "Python 3",
   "language": "python",
   "name": "python3"
  },
  "language_info": {
   "codemirror_mode": {
    "name": "ipython",
    "version": 3
   },
   "file_extension": ".py",
   "mimetype": "text/x-python",
   "name": "python",
   "nbconvert_exporter": "python",
   "pygments_lexer": "ipython3",
   "version": "3.6.5"
  }
 },
 "nbformat": 4,
 "nbformat_minor": 2
}
