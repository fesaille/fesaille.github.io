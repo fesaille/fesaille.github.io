{
 "cells": [
  {
   "cell_type": "markdown",
   "metadata": {},
   "source": [
    "**1**. (10 points)\n",
    "\n",
    "Consider an eager (i.e. non-lazy) form of the map function that takes a list `xs` to another list `ys` by applying the same function `f` to each member of `xs`. Write a recursive version of map `rmap` and test it on the two simple cases shown below."
   ]
  },
  {
   "cell_type": "code",
   "execution_count": 1,
   "metadata": {},
   "outputs": [
    {
     "data": {
      "text/plain": [
       "[]"
      ]
     },
     "execution_count": 1,
     "metadata": {},
     "output_type": "execute_result"
    }
   ],
   "source": [
    "list(map(lambda x: x + x, []))"
   ]
  },
  {
   "cell_type": "code",
   "execution_count": 2,
   "metadata": {},
   "outputs": [
    {
     "data": {
      "text/plain": [
       "[2, 4, 6]"
      ]
     },
     "execution_count": 2,
     "metadata": {},
     "output_type": "execute_result"
    }
   ],
   "source": [
    "list(map(lambda x: x + x, [1,2,3]))"
   ]
  },
  {
   "cell_type": "code",
   "execution_count": 3,
   "metadata": {},
   "outputs": [],
   "source": [
    "def rmap(f, xs):\n",
    "    \"\"\"Recursive version of map.\"\"\"\n",
    "    \n",
    "    if xs == []:\n",
    "        return []\n",
    "    else:\n",
    "        return [f(xs[0])] + rmap(f, xs[1:])"
   ]
  },
  {
   "cell_type": "code",
   "execution_count": 4,
   "metadata": {},
   "outputs": [
    {
     "data": {
      "text/plain": [
       "[]"
      ]
     },
     "execution_count": 4,
     "metadata": {},
     "output_type": "execute_result"
    }
   ],
   "source": [
    "rmap(lambda x: x + x, [])"
   ]
  },
  {
   "cell_type": "code",
   "execution_count": 5,
   "metadata": {},
   "outputs": [
    {
     "data": {
      "text/plain": [
       "[2, 4, 6]"
      ]
     },
     "execution_count": 5,
     "metadata": {},
     "output_type": "execute_result"
    }
   ],
   "source": [
    "rmap(lambda x: x + x, [1,2,3])"
   ]
  },
  {
   "cell_type": "markdown",
   "metadata": {},
   "source": [
    "**2**. (25 points)\n",
    "\n",
    "- Using the `requests` package, download berries 1, 2, and 3 from `https://pokeapi.co/api/v2/berry` in JSON format (5 points)\n",
    "- Convert to a `pandas` DataFrame (5 points)\n",
    "- Create a new DataFrame that only retains numeric columns and the name column (5 points)\n",
    "- Show only rows wheere the name begins with the letter `c` (5 points)\n",
    "- Convert to a numpy array (excluding `name`) and standardize so each **row** has mean 0 and standard deviation 1 (5 points)\n",
    "\n",
    "- The necessary package imports are made for you"
   ]
  },
  {
   "cell_type": "code",
   "execution_count": 6,
   "metadata": {},
   "outputs": [],
   "source": [
    "import requests\n",
    "import numpy as np\n",
    "import pandas as pd\n",
    "from pandas.api.types import is_numeric_dtype"
   ]
  },
  {
   "cell_type": "code",
   "execution_count": 7,
   "metadata": {},
   "outputs": [],
   "source": [
    "berries = []\n",
    "for i in range(1, 4):\n",
    "    berry = requests.get('https://pokeapi.co/api/v2/berry/{}/'.format(i)).json()\n",
    "    berries.append(berry)"
   ]
  },
  {
   "cell_type": "code",
   "execution_count": 8,
   "metadata": {},
   "outputs": [],
   "source": [
    "berries_df = pd.DataFrame(berries)"
   ]
  },
  {
   "cell_type": "code",
   "execution_count": 9,
   "metadata": {},
   "outputs": [],
   "source": [
    "idx = np.nonzero([is_numeric_dtype(x) for x in berries_df.dtypes])"
   ]
  },
  {
   "cell_type": "code",
   "execution_count": 10,
   "metadata": {},
   "outputs": [],
   "source": [
    "idx = np.r_[idx[0], [berries_df.columns.tolist().index('name')]]"
   ]
  },
  {
   "cell_type": "code",
   "execution_count": 11,
   "metadata": {},
   "outputs": [],
   "source": [
    "df = berries_df.iloc[:, idx]"
   ]
  },
  {
   "cell_type": "code",
   "execution_count": 12,
   "metadata": {},
   "outputs": [
    {
     "data": {
      "text/html": [
       "<div>\n",
       "<style scoped>\n",
       "    .dataframe tbody tr th:only-of-type {\n",
       "        vertical-align: middle;\n",
       "    }\n",
       "\n",
       "    .dataframe tbody tr th {\n",
       "        vertical-align: top;\n",
       "    }\n",
       "\n",
       "    .dataframe thead th {\n",
       "        text-align: right;\n",
       "    }\n",
       "</style>\n",
       "<table border=\"1\" class=\"dataframe\">\n",
       "  <thead>\n",
       "    <tr style=\"text-align: right;\">\n",
       "      <th></th>\n",
       "      <th>growth_time</th>\n",
       "      <th>id</th>\n",
       "      <th>max_harvest</th>\n",
       "      <th>natural_gift_power</th>\n",
       "      <th>size</th>\n",
       "      <th>smoothness</th>\n",
       "      <th>soil_dryness</th>\n",
       "      <th>name</th>\n",
       "    </tr>\n",
       "  </thead>\n",
       "  <tbody>\n",
       "    <tr>\n",
       "      <td>0</td>\n",
       "      <td>3</td>\n",
       "      <td>1</td>\n",
       "      <td>5</td>\n",
       "      <td>60</td>\n",
       "      <td>20</td>\n",
       "      <td>25</td>\n",
       "      <td>15</td>\n",
       "      <td>cheri</td>\n",
       "    </tr>\n",
       "    <tr>\n",
       "      <td>1</td>\n",
       "      <td>3</td>\n",
       "      <td>2</td>\n",
       "      <td>5</td>\n",
       "      <td>60</td>\n",
       "      <td>80</td>\n",
       "      <td>25</td>\n",
       "      <td>15</td>\n",
       "      <td>chesto</td>\n",
       "    </tr>\n",
       "  </tbody>\n",
       "</table>\n",
       "</div>"
      ],
      "text/plain": [
       "   growth_time  id  max_harvest  natural_gift_power  size  smoothness  \\\n",
       "0            3   1            5                  60    20          25   \n",
       "1            3   2            5                  60    80          25   \n",
       "\n",
       "   soil_dryness    name  \n",
       "0            15   cheri  \n",
       "1            15  chesto  "
      ]
     },
     "execution_count": 12,
     "metadata": {},
     "output_type": "execute_result"
    }
   ],
   "source": [
    "df[df.name.str.startswith('c')]"
   ]
  },
  {
   "cell_type": "code",
   "execution_count": 13,
   "metadata": {},
   "outputs": [],
   "source": [
    "xs = df.iloc[:, :-1].values"
   ]
  },
  {
   "cell_type": "code",
   "execution_count": 14,
   "metadata": {},
   "outputs": [
    {
     "data": {
      "text/plain": [
       "array([[-0.81514658, -0.92081372, -0.70947943,  2.19636716,  0.08302419,\n",
       "         0.34719206, -0.18114368],\n",
       "       [-0.84377741, -0.87872677, -0.77387869,  1.14833612,  1.84732332,\n",
       "        -0.07489149, -0.42438509],\n",
       "       [-0.92270547, -0.92270547, -0.82333719,  1.90929056,  0.91560774,\n",
       "         0.17034563, -0.32649578]])"
      ]
     },
     "execution_count": 14,
     "metadata": {},
     "output_type": "execute_result"
    }
   ],
   "source": [
    "(xs - xs.mean(axis=1)[:, None])/xs.std(axis=1)[:, None]"
   ]
  },
  {
   "cell_type": "markdown",
   "metadata": {},
   "source": [
    "**3**. (25 points)\n",
    "\n",
    "We have provided an SQLite3 database with 3 tables `dog`, `treat` and `dog_treat`. The `dog_treat` table is a linker table showing which dog ate which treat. \n",
    "\n",
    "- Show a table of ALL dogs and the treats with calories that they ate with column names `dog`, `treat`, `calorie`. A dog that did not eat any treats should still be present in the table (15 points)\n",
    "- Using a common table expression, show a table with two columns `dog` and `total_calories` where only dogs that have eaten more than 500 calories are displayed (5 points)"
   ]
  },
  {
   "cell_type": "code",
   "execution_count": 15,
   "metadata": {},
   "outputs": [],
   "source": [
    "%load_ext sql"
   ]
  },
  {
   "cell_type": "code",
   "execution_count": 16,
   "metadata": {},
   "outputs": [
    {
     "data": {
      "text/plain": [
       "'Connected: @pets.db'"
      ]
     },
     "execution_count": 16,
     "metadata": {},
     "output_type": "execute_result"
    }
   ],
   "source": [
    "%sql sqlite:///pets.db"
   ]
  },
  {
   "cell_type": "code",
   "execution_count": 17,
   "metadata": {},
   "outputs": [
    {
     "name": "stdout",
     "output_type": "stream",
     "text": [
      " * sqlite:///pets.db\n",
      "Done.\n"
     ]
    },
    {
     "data": {
      "text/html": [
       "<table>\n",
       "    <tr>\n",
       "        <th>type</th>\n",
       "        <th>name</th>\n",
       "        <th>tbl_name</th>\n",
       "        <th>rootpage</th>\n",
       "        <th>sql</th>\n",
       "    </tr>\n",
       "    <tr>\n",
       "        <td>table</td>\n",
       "        <td>dog</td>\n",
       "        <td>dog</td>\n",
       "        <td>2</td>\n",
       "        <td>CREATE TABLE dog (<br>\t&quot;index&quot; BIGINT, <br>\tdog_id BIGINT, <br>\tname TEXT, <br>\tage BIGINT<br>)</td>\n",
       "    </tr>\n",
       "    <tr>\n",
       "        <td>index</td>\n",
       "        <td>ix_dog_index</td>\n",
       "        <td>dog</td>\n",
       "        <td>3</td>\n",
       "        <td>CREATE INDEX ix_dog_index ON dog (&quot;index&quot;)</td>\n",
       "    </tr>\n",
       "    <tr>\n",
       "        <td>table</td>\n",
       "        <td>treat</td>\n",
       "        <td>treat</td>\n",
       "        <td>4</td>\n",
       "        <td>CREATE TABLE treat (<br>\t&quot;index&quot; BIGINT, <br>\ttreat_id BIGINT, <br>\tname TEXT, <br>\tcalories BIGINT<br>)</td>\n",
       "    </tr>\n",
       "    <tr>\n",
       "        <td>index</td>\n",
       "        <td>ix_treat_index</td>\n",
       "        <td>treat</td>\n",
       "        <td>5</td>\n",
       "        <td>CREATE INDEX ix_treat_index ON treat (&quot;index&quot;)</td>\n",
       "    </tr>\n",
       "    <tr>\n",
       "        <td>table</td>\n",
       "        <td>dog_treat</td>\n",
       "        <td>dog_treat</td>\n",
       "        <td>6</td>\n",
       "        <td>CREATE TABLE dog_treat (<br>\t&quot;index&quot; BIGINT, <br>\ttreat_id BIGINT, <br>\tdog_id BIGINT<br>)</td>\n",
       "    </tr>\n",
       "    <tr>\n",
       "        <td>index</td>\n",
       "        <td>ix_dog_treat_index</td>\n",
       "        <td>dog_treat</td>\n",
       "        <td>7</td>\n",
       "        <td>CREATE INDEX ix_dog_treat_index ON dog_treat (&quot;index&quot;)</td>\n",
       "    </tr>\n",
       "</table>"
      ],
      "text/plain": [
       "[('table', 'dog', 'dog', 2, 'CREATE TABLE dog (\\n\\t\"index\" BIGINT, \\n\\tdog_id BIGINT, \\n\\tname TEXT, \\n\\tage BIGINT\\n)'),\n",
       " ('index', 'ix_dog_index', 'dog', 3, 'CREATE INDEX ix_dog_index ON dog (\"index\")'),\n",
       " ('table', 'treat', 'treat', 4, 'CREATE TABLE treat (\\n\\t\"index\" BIGINT, \\n\\ttreat_id BIGINT, \\n\\tname TEXT, \\n\\tcalories BIGINT\\n)'),\n",
       " ('index', 'ix_treat_index', 'treat', 5, 'CREATE INDEX ix_treat_index ON treat (\"index\")'),\n",
       " ('table', 'dog_treat', 'dog_treat', 6, 'CREATE TABLE dog_treat (\\n\\t\"index\" BIGINT, \\n\\ttreat_id BIGINT, \\n\\tdog_id BIGINT\\n)'),\n",
       " ('index', 'ix_dog_treat_index', 'dog_treat', 7, 'CREATE INDEX ix_dog_treat_index ON dog_treat (\"index\")')]"
      ]
     },
     "execution_count": 17,
     "metadata": {},
     "output_type": "execute_result"
    }
   ],
   "source": [
    "%sql SELECT * FROM sqlite_master"
   ]
  },
  {
   "cell_type": "code",
   "execution_count": 18,
   "metadata": {},
   "outputs": [
    {
     "name": "stdout",
     "output_type": "stream",
     "text": [
      " * sqlite:///pets.db\n",
      "Done.\n"
     ]
    },
    {
     "data": {
      "text/html": [
       "<table>\n",
       "    <tr>\n",
       "        <th>dog</th>\n",
       "        <th>treat</th>\n",
       "        <th>calories</th>\n",
       "    </tr>\n",
       "    <tr>\n",
       "        <td>Fido</td>\n",
       "        <td>Chewies</td>\n",
       "        <td>100</td>\n",
       "    </tr>\n",
       "    <tr>\n",
       "        <td>Fido</td>\n",
       "        <td>Bones</td>\n",
       "        <td>500</td>\n",
       "    </tr>\n",
       "    <tr>\n",
       "        <td>Roger</td>\n",
       "        <td>Bones</td>\n",
       "        <td>500</td>\n",
       "    </tr>\n",
       "    <tr>\n",
       "        <td>Woof</td>\n",
       "        <td>Bones</td>\n",
       "        <td>500</td>\n",
       "    </tr>\n",
       "    <tr>\n",
       "        <td>Woof</td>\n",
       "        <td>Raw Meat</td>\n",
       "        <td>450</td>\n",
       "    </tr>\n",
       "    <tr>\n",
       "        <td>Lassie</td>\n",
       "        <td>None</td>\n",
       "        <td>None</td>\n",
       "    </tr>\n",
       "</table>"
      ],
      "text/plain": [
       "[('Fido', 'Chewies', 100),\n",
       " ('Fido', 'Bones', 500),\n",
       " ('Roger', 'Bones', 500),\n",
       " ('Woof', 'Bones', 500),\n",
       " ('Woof', 'Raw Meat', 450),\n",
       " ('Lassie', None, None)]"
      ]
     },
     "execution_count": 18,
     "metadata": {},
     "output_type": "execute_result"
    }
   ],
   "source": [
    "%%sql\n",
    "\n",
    "SELECT dog.name as dog, treat.name as treat, treat.calories\n",
    "FROM dog\n",
    "LEFT JOIN dog_treat\n",
    "ON dog.dog_id = dog_treat.dog_id\n",
    "LEFT JOIN treat\n",
    "ON dog_treat.treat_id = treat.treat_id"
   ]
  },
  {
   "cell_type": "code",
   "execution_count": 19,
   "metadata": {},
   "outputs": [
    {
     "name": "stdout",
     "output_type": "stream",
     "text": [
      " * sqlite:///pets.db\n",
      "Done.\n"
     ]
    },
    {
     "data": {
      "text/html": [
       "<table>\n",
       "    <tr>\n",
       "        <th>dog</th>\n",
       "        <th>total_calories</th>\n",
       "    </tr>\n",
       "    <tr>\n",
       "        <td>Fido</td>\n",
       "        <td>600</td>\n",
       "    </tr>\n",
       "    <tr>\n",
       "        <td>Woof</td>\n",
       "        <td>950</td>\n",
       "    </tr>\n",
       "</table>"
      ],
      "text/plain": [
       "[('Fido', 600), ('Woof', 950)]"
      ]
     },
     "execution_count": 19,
     "metadata": {},
     "output_type": "execute_result"
    }
   ],
   "source": [
    "%%sql\n",
    "\n",
    "with t AS\n",
    "(SELECT dog.name as dog, treat.name as treat, treat.calories\n",
    "FROM dog\n",
    "LEFT JOIN dog_treat\n",
    "ON dog.dog_id = dog_treat.dog_id\n",
    "LEFT JOIN treat\n",
    "ON dog_treat.treat_id = treat.treat_id)\n",
    "SELECT dog, SUM(calories) as total_calories\n",
    "FROM t\n",
    "GROUP BY dog\n",
    "HAVING total_calories > 500"
   ]
  },
  {
   "cell_type": "markdown",
   "metadata": {},
   "source": [
    "**4**. (40 points)\n",
    "\n",
    "You want to evaluate whether a liner, quadratic or cubic polynomial is the best model for a set of data using leave-one-out cross-validation (LOOCV) and the mean squared error as evaluation metric. Write a function named `loocv` that takes the predictor variable `x`, the outcome variable `y`, a list of of degrees of polynomial models to be evaluated, and an evaluation function and returns the best model found by LOOCV. For example, you would call the function like this `loocv(x, y, [1,2,3], mse)` where `mse` is of course a function that returns the mean squared error.\n",
    "\n",
    "- Use the `x` and `y` variables provided\n",
    "- Do not use any packages except for the standard library and `numpy`\n",
    "- Code snipets for fitting and estimation of polynomials is provided"
   ]
  },
  {
   "cell_type": "code",
   "execution_count": 20,
   "metadata": {},
   "outputs": [],
   "source": [
    "import numpy as np"
   ]
  },
  {
   "cell_type": "code",
   "execution_count": 21,
   "metadata": {},
   "outputs": [],
   "source": [
    "x = np.load('x.npy')\n",
    "y = np.load('y.npy')"
   ]
  },
  {
   "cell_type": "code",
   "execution_count": 22,
   "metadata": {},
   "outputs": [],
   "source": [
    "coeffs = np.polyfit(x, y, 2)"
   ]
  },
  {
   "cell_type": "code",
   "execution_count": 23,
   "metadata": {},
   "outputs": [],
   "source": [
    "ypred = np.polyval(coeffs, x)"
   ]
  },
  {
   "cell_type": "code",
   "execution_count": 24,
   "metadata": {},
   "outputs": [
    {
     "data": {
      "text/plain": [
       "array([0, 1, 2, 3, 4, 5, 6, 7, 8, 9])"
      ]
     },
     "execution_count": 24,
     "metadata": {},
     "output_type": "execute_result"
    }
   ],
   "source": [
    "x"
   ]
  },
  {
   "cell_type": "code",
   "execution_count": 25,
   "metadata": {},
   "outputs": [
    {
     "data": {
      "text/plain": [
       "array([0, 1, 2, 3, 4, 5, 6, 7, 8, 9])"
      ]
     },
     "execution_count": 25,
     "metadata": {},
     "output_type": "execute_result"
    }
   ],
   "source": [
    "x[np.ones(10).astype('bool')]"
   ]
  },
  {
   "cell_type": "code",
   "execution_count": 26,
   "metadata": {},
   "outputs": [],
   "source": [
    "def loocv(x, y, degrees, metric):\n",
    "    \"\"\"Performs LOOCV to find best polynomial modle.\"\"\"\n",
    "    \n",
    "    n = len(x)\n",
    "    losses = []\n",
    "    for d in degrees:\n",
    "        loss = 0\n",
    "        for i in range(n):\n",
    "            idx = np.ones(n).astype('bool')\n",
    "            idx[i] = False\n",
    "            xx = x[idx]\n",
    "            yy = y[idx]\n",
    "            coeffs = np.polyfit(xx, yy, d)    \n",
    "            ypred = np.polyval(coeffs, x[i])\n",
    "            loss += metric(y[i], ypred)\n",
    "        losses.append(loss)\n",
    "    k = np.argmin(losses)\n",
    "    return degrees[k]"
   ]
  },
  {
   "cell_type": "code",
   "execution_count": 27,
   "metadata": {},
   "outputs": [],
   "source": [
    "def mse(y, ypred):\n",
    "    \"\"\"Returns MSE between y and ypred.\"\"\"\n",
    "    \n",
    "    return np.mean((y - ypred)**2)"
   ]
  },
  {
   "cell_type": "code",
   "execution_count": 28,
   "metadata": {
    "scrolled": true
   },
   "outputs": [
    {
     "data": {
      "text/plain": [
       "2"
      ]
     },
     "execution_count": 28,
     "metadata": {},
     "output_type": "execute_result"
    }
   ],
   "source": [
    "loocv(x, y, [1,2,3, 4], mse)"
   ]
  }
 ],
 "metadata": {
  "kernelspec": {
   "display_name": "Python 3",
   "language": "python",
   "name": "python3"
  },
  "language_info": {
   "codemirror_mode": {
    "name": "ipython",
    "version": 3
   },
   "file_extension": ".py",
   "mimetype": "text/x-python",
   "name": "python",
   "nbconvert_exporter": "python",
   "pygments_lexer": "ipython3",
   "version": "3.6.5"
  }
 },
 "nbformat": 4,
 "nbformat_minor": 2
}
