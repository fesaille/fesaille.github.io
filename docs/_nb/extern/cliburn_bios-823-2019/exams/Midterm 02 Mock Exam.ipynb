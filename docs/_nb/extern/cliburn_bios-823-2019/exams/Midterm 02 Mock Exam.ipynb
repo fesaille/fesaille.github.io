{
 "cells": [
  {
   "cell_type": "markdown",
   "metadata": {},
   "source": [
    "**1**. (25 points)\n",
    "\n",
    "Use the SQLite3 database `faculty.db` and answer the following query:\n",
    "\n",
    "- Make a table of the number of people who know each language from each country, making sure to spell out the full name of the country and language, only showing rows with a count of at least 7\n",
    "- The final solution should look like `country_language.csv`"
   ]
  },
  {
   "cell_type": "code",
   "execution_count": 26,
   "metadata": {},
   "outputs": [
    {
     "data": {
      "text/html": [
       "<div>\n",
       "<style scoped>\n",
       "    .dataframe tbody tr th:only-of-type {\n",
       "        vertical-align: middle;\n",
       "    }\n",
       "\n",
       "    .dataframe tbody tr th {\n",
       "        vertical-align: top;\n",
       "    }\n",
       "\n",
       "    .dataframe thead th {\n",
       "        text-align: right;\n",
       "    }\n",
       "</style>\n",
       "<table border=\"1\" class=\"dataframe\">\n",
       "  <thead>\n",
       "    <tr style=\"text-align: right;\">\n",
       "      <th></th>\n",
       "      <th>country</th>\n",
       "      <th>language</th>\n",
       "      <th>number</th>\n",
       "    </tr>\n",
       "  </thead>\n",
       "  <tbody>\n",
       "    <tr>\n",
       "      <td>0</td>\n",
       "      <td>China</td>\n",
       "      <td>PHP</td>\n",
       "      <td>10</td>\n",
       "    </tr>\n",
       "    <tr>\n",
       "      <td>1</td>\n",
       "      <td>Cambodia</td>\n",
       "      <td>Bash</td>\n",
       "      <td>10</td>\n",
       "    </tr>\n",
       "    <tr>\n",
       "      <td>2</td>\n",
       "      <td>Cambodia</td>\n",
       "      <td>C#</td>\n",
       "      <td>8</td>\n",
       "    </tr>\n",
       "    <tr>\n",
       "      <td>3</td>\n",
       "      <td>Cambodia</td>\n",
       "      <td>Ceylon</td>\n",
       "      <td>8</td>\n",
       "    </tr>\n",
       "    <tr>\n",
       "      <td>4</td>\n",
       "      <td>Cambodia</td>\n",
       "      <td>Java</td>\n",
       "      <td>10</td>\n",
       "    </tr>\n",
       "    <tr>\n",
       "      <td>5</td>\n",
       "      <td>Cambodia</td>\n",
       "      <td>Perl</td>\n",
       "      <td>12</td>\n",
       "    </tr>\n",
       "    <tr>\n",
       "      <td>6</td>\n",
       "      <td>Cambodia</td>\n",
       "      <td>Racket</td>\n",
       "      <td>8</td>\n",
       "    </tr>\n",
       "    <tr>\n",
       "      <td>7</td>\n",
       "      <td>Cambodia</td>\n",
       "      <td>Ruby</td>\n",
       "      <td>8</td>\n",
       "    </tr>\n",
       "    <tr>\n",
       "      <td>8</td>\n",
       "      <td>Cambodia</td>\n",
       "      <td>TypeScript</td>\n",
       "      <td>8</td>\n",
       "    </tr>\n",
       "  </tbody>\n",
       "</table>\n",
       "</div>"
      ],
      "text/plain": [
       "    country    language  number\n",
       "0     China         PHP      10\n",
       "1  Cambodia        Bash      10\n",
       "2  Cambodia          C#       8\n",
       "3  Cambodia      Ceylon       8\n",
       "4  Cambodia        Java      10\n",
       "5  Cambodia        Perl      12\n",
       "6  Cambodia      Racket       8\n",
       "7  Cambodia        Ruby       8\n",
       "8  Cambodia  TypeScript       8"
      ]
     },
     "execution_count": 26,
     "metadata": {},
     "output_type": "execute_result"
    }
   ],
   "source": [
    "pd.read_csv('country_language.csv')"
   ]
  },
  {
   "cell_type": "code",
   "execution_count": 18,
   "metadata": {},
   "outputs": [],
   "source": [
    "%load_ext sql"
   ]
  },
  {
   "cell_type": "code",
   "execution_count": 19,
   "metadata": {},
   "outputs": [
    {
     "data": {
      "text/plain": [
       "'Connected: @faculty.db'"
      ]
     },
     "execution_count": 19,
     "metadata": {},
     "output_type": "execute_result"
    }
   ],
   "source": [
    "%sql sqlite:///faculty.db"
   ]
  },
  {
   "cell_type": "code",
   "execution_count": 20,
   "metadata": {},
   "outputs": [
    {
     "name": "stdout",
     "output_type": "stream",
     "text": [
      " * sqlite:///faculty.db\n",
      "Done.\n"
     ]
    },
    {
     "data": {
      "text/html": [
       "<table>\n",
       "    <tr>\n",
       "        <th>type</th>\n",
       "        <th>name</th>\n",
       "        <th>tbl_name</th>\n",
       "        <th>rootpage</th>\n",
       "        <th>sql</th>\n",
       "    </tr>\n",
       "    <tr>\n",
       "        <td>table</td>\n",
       "        <td>person</td>\n",
       "        <td>person</td>\n",
       "        <td>2</td>\n",
       "        <td>CREATE TABLE person (<br>\t&quot;index&quot; BIGINT, <br>\tperson_id BIGINT, <br>\tfirst TEXT, <br>\tlast TEXT, <br>\tage BIGINT, <br>\theight FLOAT, <br>\tweight BIGINT, <br>\tcountry_id TEXT, <br>\tgender_id BIGINT<br>)</td>\n",
       "    </tr>\n",
       "    <tr>\n",
       "        <td>table</td>\n",
       "        <td>confidential</td>\n",
       "        <td>confidential</td>\n",
       "        <td>18</td>\n",
       "        <td>CREATE TABLE confidential (<br>\t&quot;index&quot; BIGINT, <br>\tperson_id BIGINT, <br>\tsalary BIGINT<br>)</td>\n",
       "    </tr>\n",
       "    <tr>\n",
       "        <td>table</td>\n",
       "        <td>person_language</td>\n",
       "        <td>person_language</td>\n",
       "        <td>33</td>\n",
       "        <td>CREATE TABLE person_language (<br>\t&quot;index&quot; BIGINT, <br>\tperson_id BIGINT, <br>\tlanguage_id BIGINT<br>)</td>\n",
       "    </tr>\n",
       "    <tr>\n",
       "        <td>table</td>\n",
       "        <td>language</td>\n",
       "        <td>language</td>\n",
       "        <td>50</td>\n",
       "        <td>CREATE TABLE language (<br>\t&quot;index&quot; BIGINT, <br>\tlanguage_id BIGINT, <br>\tlanguage_name TEXT<br>)</td>\n",
       "    </tr>\n",
       "    <tr>\n",
       "        <td>table</td>\n",
       "        <td>gender</td>\n",
       "        <td>gender</td>\n",
       "        <td>55</td>\n",
       "        <td>CREATE TABLE gender (<br>\t&quot;index&quot; BIGINT, <br>\tgender_id BIGINT, <br>\tgender TEXT<br>)</td>\n",
       "    </tr>\n",
       "    <tr>\n",
       "        <td>table</td>\n",
       "        <td>country</td>\n",
       "        <td>country</td>\n",
       "        <td>57</td>\n",
       "        <td>CREATE TABLE country (<br>\t&quot;index&quot; BIGINT, <br>\tcountry_id TEXT, <br>\tcountry TEXT, <br>\tnationality TEXT<br>)</td>\n",
       "    </tr>\n",
       "</table>"
      ],
      "text/plain": [
       "[('table', 'person', 'person', 2, 'CREATE TABLE person (\\n\\t\"index\" BIGINT, \\n\\tperson_id BIGINT, \\n\\tfirst TEXT, \\n\\tlast TEXT, \\n\\tage BIGINT, \\n\\theight FLOAT, \\n\\tweight BIGINT, \\n\\tcountry_id TEXT, \\n\\tgender_id BIGINT\\n)'),\n",
       " ('table', 'confidential', 'confidential', 18, 'CREATE TABLE confidential (\\n\\t\"index\" BIGINT, \\n\\tperson_id BIGINT, \\n\\tsalary BIGINT\\n)'),\n",
       " ('table', 'person_language', 'person_language', 33, 'CREATE TABLE person_language (\\n\\t\"index\" BIGINT, \\n\\tperson_id BIGINT, \\n\\tlanguage_id BIGINT\\n)'),\n",
       " ('table', 'language', 'language', 50, 'CREATE TABLE language (\\n\\t\"index\" BIGINT, \\n\\tlanguage_id BIGINT, \\n\\tlanguage_name TEXT\\n)'),\n",
       " ('table', 'gender', 'gender', 55, 'CREATE TABLE gender (\\n\\t\"index\" BIGINT, \\n\\tgender_id BIGINT, \\n\\tgender TEXT\\n)'),\n",
       " ('table', 'country', 'country', 57, 'CREATE TABLE country (\\n\\t\"index\" BIGINT, \\n\\tcountry_id TEXT, \\n\\tcountry TEXT, \\n\\tnationality TEXT\\n)')]"
      ]
     },
     "execution_count": 20,
     "metadata": {},
     "output_type": "execute_result"
    }
   ],
   "source": [
    "%%sql\n",
    "\n",
    "SELECT * FROM sqlite_master WHERE type=='table'"
   ]
  },
  {
   "cell_type": "code",
   "execution_count": null,
   "metadata": {
    "scrolled": false
   },
   "outputs": [],
   "source": [
    "\n",
    "\n",
    "\n"
   ]
  },
  {
   "cell_type": "markdown",
   "metadata": {},
   "source": [
    "**2**. (25 points)\n",
    "\n",
    "- Read the file `wnv_human_cases.csv` as a `pandas` DataFrame\n",
    "- Add up the positive cases for each year\n",
    "- Find the week in the year when there are the highest average cases of West Nile virus reported\n",
    "- Which county reported the highest number of cases in that week and what year did it happen?\n",
    "- Plot the orignal data and a rolling average with window length of 3 and minimum period of 1 on the same plot"
   ]
  },
  {
   "cell_type": "code",
   "execution_count": 5,
   "metadata": {},
   "outputs": [],
   "source": [
    "%matplotlib inline"
   ]
  },
  {
   "cell_type": "code",
   "execution_count": 6,
   "metadata": {},
   "outputs": [],
   "source": [
    "import pandas as pd"
   ]
  },
  {
   "cell_type": "code",
   "execution_count": 7,
   "metadata": {},
   "outputs": [],
   "source": [
    "\n",
    "\n",
    "\n"
   ]
  },
  {
   "cell_type": "markdown",
   "metadata": {},
   "source": [
    "**3**. 25 points\n",
    "\n",
    "- Create a `pandas` DataFrame from the data in `yuck.csv`\n",
    "- When done, your DataFame should look like the one in `less_yuck.csv`"
   ]
  },
  {
   "cell_type": "code",
   "execution_count": 14,
   "metadata": {},
   "outputs": [
    {
     "data": {
      "text/html": [
       "<div>\n",
       "<style scoped>\n",
       "    .dataframe tbody tr th:only-of-type {\n",
       "        vertical-align: middle;\n",
       "    }\n",
       "\n",
       "    .dataframe tbody tr th {\n",
       "        vertical-align: top;\n",
       "    }\n",
       "\n",
       "    .dataframe thead th {\n",
       "        text-align: right;\n",
       "    }\n",
       "</style>\n",
       "<table border=\"1\" class=\"dataframe\">\n",
       "  <thead>\n",
       "    <tr style=\"text-align: right;\">\n",
       "      <th></th>\n",
       "      <th>first</th>\n",
       "      <th>last</th>\n",
       "      <th>age</th>\n",
       "    </tr>\n",
       "  </thead>\n",
       "  <tbody>\n",
       "    <tr>\n",
       "      <td>0</td>\n",
       "      <td>Driehe</td>\n",
       "      <td>Dietriech, von</td>\n",
       "      <td>23</td>\n",
       "    </tr>\n",
       "    <tr>\n",
       "      <td>1</td>\n",
       "      <td>Ahmad</td>\n",
       "      <td>Ibrahim, bin</td>\n",
       "      <td>34</td>\n",
       "    </tr>\n",
       "    <tr>\n",
       "      <td>2</td>\n",
       "      <td>Charles</td>\n",
       "      <td>Blow</td>\n",
       "      <td>57</td>\n",
       "    </tr>\n",
       "    <tr>\n",
       "      <td>3</td>\n",
       "      <td>Andrew</td>\n",
       "      <td>Carnegie</td>\n",
       "      <td>87</td>\n",
       "    </tr>\n",
       "    <tr>\n",
       "      <td>4</td>\n",
       "      <td>Amy</td>\n",
       "      <td>Good</td>\n",
       "      <td>12</td>\n",
       "    </tr>\n",
       "  </tbody>\n",
       "</table>\n",
       "</div>"
      ],
      "text/plain": [
       "     first            last  age\n",
       "0   Driehe  Dietriech, von   23\n",
       "1    Ahmad    Ibrahim, bin   34\n",
       "2  Charles            Blow   57\n",
       "3   Andrew        Carnegie   87\n",
       "4      Amy            Good   12"
      ]
     },
     "execution_count": 14,
     "metadata": {},
     "output_type": "execute_result"
    }
   ],
   "source": [
    "pd.read_csv('less_yuck.csv')"
   ]
  },
  {
   "cell_type": "code",
   "execution_count": null,
   "metadata": {},
   "outputs": [],
   "source": [
    "\n",
    "\n",
    "\n"
   ]
  },
  {
   "cell_type": "markdown",
   "metadata": {},
   "source": [
    "**4**. (25 points)\n",
    "\n",
    "We provide a simple tree represented as nested Python dictionaries. Write a recursive function `visit(t)` that will print the value of the `v` key for all nodes in a tree, using indentation to show off the tree structure. For example,\n",
    "\n",
    "```python\n",
    "visit(t)\n",
    "```\n",
    "should return\n",
    "```\n",
    "  1234\n",
    "    2345\n",
    "      3456\n",
    "      4567\n",
    "    5678\n",
    "      6789\n",
    "```"
   ]
  },
  {
   "cell_type": "code",
   "execution_count": 1,
   "metadata": {},
   "outputs": [],
   "source": [
    "t = {\n",
    "        'v': 1234,\n",
    "        'l': {\n",
    "            'v': 2345,\n",
    "            'l': {\n",
    "                'v': 3456,\n",
    "                'l': None,\n",
    "                'r': None\n",
    "            },\n",
    "            'r':{\n",
    "                'v': 4567,\n",
    "                'l': None,\n",
    "                'r': None\n",
    "            },\n",
    "        },\n",
    "        'r': {\n",
    "            'v': 5678,\n",
    "            'l': None,\n",
    "            'r': {\n",
    "                'v': 6789,\n",
    "                'l': None,\n",
    "                'r': None\n",
    "            },\n",
    "        }\n",
    "    }"
   ]
  },
  {
   "cell_type": "code",
   "execution_count": null,
   "metadata": {},
   "outputs": [],
   "source": [
    "\n",
    "\n",
    "\n"
   ]
  }
 ],
 "metadata": {
  "kernelspec": {
   "display_name": "Python 3",
   "language": "python",
   "name": "python3"
  },
  "language_info": {
   "codemirror_mode": {
    "name": "ipython",
    "version": 3
   },
   "file_extension": ".py",
   "mimetype": "text/x-python",
   "name": "python",
   "nbconvert_exporter": "python",
   "pygments_lexer": "ipython3",
   "version": "3.6.5"
  }
 },
 "nbformat": 4,
 "nbformat_minor": 2
}
