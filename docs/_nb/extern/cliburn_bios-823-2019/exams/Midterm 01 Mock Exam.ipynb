{
 "cells": [
  {
   "cell_type": "markdown",
   "metadata": {},
   "source": [
    "**1**. (10 points)\n",
    "\n",
    "Consider an eager (i.e. non-lazy) form of the map function that takes a list `xs` to another list `ys` by applying the same function `f` to each member of `xs`. Write a recursive version of map `rmap` and test it on the two simple cases shown below."
   ]
  },
  {
   "cell_type": "code",
   "execution_count": 1,
   "metadata": {},
   "outputs": [
    {
     "data": {
      "text/plain": [
       "[]"
      ]
     },
     "execution_count": 1,
     "metadata": {},
     "output_type": "execute_result"
    }
   ],
   "source": [
    "list(map(lambda x: x + x, []))"
   ]
  },
  {
   "cell_type": "code",
   "execution_count": 2,
   "metadata": {},
   "outputs": [
    {
     "data": {
      "text/plain": [
       "[2, 4, 6]"
      ]
     },
     "execution_count": 2,
     "metadata": {},
     "output_type": "execute_result"
    }
   ],
   "source": [
    "list(map(lambda x: x + x, [1,2,3]))"
   ]
  },
  {
   "cell_type": "code",
   "execution_count": null,
   "metadata": {},
   "outputs": [],
   "source": [
    "\n",
    "\n",
    "\n"
   ]
  },
  {
   "cell_type": "markdown",
   "metadata": {},
   "source": [
    "**2**. (25 points)\n",
    "\n",
    "- Using the `requests` package, download berries 1, 2, and 3 from `https://pokeapi.co/api/v2/berry` in JSON format and \n",
    "convert to a `pandas` DataFrame (5 points)\n",
    "- Create a new DataFrame that only retains only the `name` column and numeric columns. You should find the appropriate columns, not hard code their locations. (10 points)\n",
    "- Show only rows where the name begins with the letter `c` (5 points)\n",
    "- Convert to a `numpy` array (excluding `name`) and standardize so each **row** has mean 0 and standard deviation 1 (5 points)\n",
    "\n",
    "The necessary package imports are made for you."
   ]
  },
  {
   "cell_type": "code",
   "execution_count": 6,
   "metadata": {},
   "outputs": [],
   "source": [
    "import requests\n",
    "import numpy as np\n",
    "import pandas as pd\n",
    "from pandas.api.types import is_numeric_dtype"
   ]
  },
  {
   "cell_type": "code",
   "execution_count": null,
   "metadata": {},
   "outputs": [],
   "source": [
    "\n",
    "\n",
    "\n"
   ]
  },
  {
   "cell_type": "markdown",
   "metadata": {},
   "source": [
    "**3**. (25 points)\n",
    "\n",
    "We have provided an SQLite3 database with 3 tables `dog`, `treat` and `dog_treat`. The `dog_treat` table is a linker table showing which dog ate which treat. \n",
    "\n",
    "- Show a table of ALL dogs and the treats with calories that they ate with column names `dog`, `treat`, `calorie`. A dog that did not eat any treats should still be present in the table (15 points)\n",
    "- Using a common table expression, show a table with two columns `dog` and `total_calories` where only dogs that have eaten more than 500 calories are displayed (5 points)"
   ]
  },
  {
   "cell_type": "code",
   "execution_count": 15,
   "metadata": {},
   "outputs": [],
   "source": [
    "%load_ext sql"
   ]
  },
  {
   "cell_type": "code",
   "execution_count": 16,
   "metadata": {},
   "outputs": [
    {
     "data": {
      "text/plain": [
       "'Connected: None@pets.db'"
      ]
     },
     "execution_count": 16,
     "metadata": {},
     "output_type": "execute_result"
    }
   ],
   "source": [
    "%sql sqlite:///pets.db"
   ]
  },
  {
   "cell_type": "code",
   "execution_count": 17,
   "metadata": {},
   "outputs": [
    {
     "name": "stdout",
     "output_type": "stream",
     "text": [
      "Done.\n"
     ]
    },
    {
     "data": {
      "text/html": [
       "<table>\n",
       "    <tr>\n",
       "        <th>type</th>\n",
       "        <th>name</th>\n",
       "        <th>tbl_name</th>\n",
       "        <th>rootpage</th>\n",
       "        <th>sql</th>\n",
       "    </tr>\n",
       "    <tr>\n",
       "        <td>table</td>\n",
       "        <td>dog</td>\n",
       "        <td>dog</td>\n",
       "        <td>2</td>\n",
       "        <td>CREATE TABLE dog (<br>\t&quot;index&quot; BIGINT, <br>\tdog_id BIGINT, <br>\tname TEXT, <br>\tage BIGINT<br>)</td>\n",
       "    </tr>\n",
       "    <tr>\n",
       "        <td>index</td>\n",
       "        <td>ix_dog_index</td>\n",
       "        <td>dog</td>\n",
       "        <td>3</td>\n",
       "        <td>CREATE INDEX ix_dog_index ON dog (&quot;index&quot;)</td>\n",
       "    </tr>\n",
       "    <tr>\n",
       "        <td>table</td>\n",
       "        <td>treat</td>\n",
       "        <td>treat</td>\n",
       "        <td>4</td>\n",
       "        <td>CREATE TABLE treat (<br>\t&quot;index&quot; BIGINT, <br>\ttreat_id BIGINT, <br>\tname TEXT, <br>\tcalories BIGINT<br>)</td>\n",
       "    </tr>\n",
       "    <tr>\n",
       "        <td>index</td>\n",
       "        <td>ix_treat_index</td>\n",
       "        <td>treat</td>\n",
       "        <td>5</td>\n",
       "        <td>CREATE INDEX ix_treat_index ON treat (&quot;index&quot;)</td>\n",
       "    </tr>\n",
       "    <tr>\n",
       "        <td>table</td>\n",
       "        <td>dog_treat</td>\n",
       "        <td>dog_treat</td>\n",
       "        <td>6</td>\n",
       "        <td>CREATE TABLE dog_treat (<br>\t&quot;index&quot; BIGINT, <br>\ttreat_id BIGINT, <br>\tdog_id BIGINT<br>)</td>\n",
       "    </tr>\n",
       "    <tr>\n",
       "        <td>index</td>\n",
       "        <td>ix_dog_treat_index</td>\n",
       "        <td>dog_treat</td>\n",
       "        <td>7</td>\n",
       "        <td>CREATE INDEX ix_dog_treat_index ON dog_treat (&quot;index&quot;)</td>\n",
       "    </tr>\n",
       "</table>"
      ],
      "text/plain": [
       "[('table', 'dog', 'dog', 2, 'CREATE TABLE dog (\\n\\t\"index\" BIGINT, \\n\\tdog_id BIGINT, \\n\\tname TEXT, \\n\\tage BIGINT\\n)'),\n",
       " ('index', 'ix_dog_index', 'dog', 3, 'CREATE INDEX ix_dog_index ON dog (\"index\")'),\n",
       " ('table', 'treat', 'treat', 4, 'CREATE TABLE treat (\\n\\t\"index\" BIGINT, \\n\\ttreat_id BIGINT, \\n\\tname TEXT, \\n\\tcalories BIGINT\\n)'),\n",
       " ('index', 'ix_treat_index', 'treat', 5, 'CREATE INDEX ix_treat_index ON treat (\"index\")'),\n",
       " ('table', 'dog_treat', 'dog_treat', 6, 'CREATE TABLE dog_treat (\\n\\t\"index\" BIGINT, \\n\\ttreat_id BIGINT, \\n\\tdog_id BIGINT\\n)'),\n",
       " ('index', 'ix_dog_treat_index', 'dog_treat', 7, 'CREATE INDEX ix_dog_treat_index ON dog_treat (\"index\")')]"
      ]
     },
     "execution_count": 17,
     "metadata": {},
     "output_type": "execute_result"
    }
   ],
   "source": [
    "%sql SELECT * FROM sqlite_master"
   ]
  },
  {
   "cell_type": "code",
   "execution_count": null,
   "metadata": {},
   "outputs": [],
   "source": [
    "\n",
    "\n",
    "\n"
   ]
  },
  {
   "cell_type": "markdown",
   "metadata": {},
   "source": [
    "**4**. (40 points)\n",
    "\n",
    "You want to evaluate whether a liner, quadratic or cubic polynomial is the best model for a set of data using leave-one-out cross-validation (LOOCV) and the mean squared error as evaluation metric. \n",
    "\n",
    "- Write a function named `loocv` that takes the predictor variable `x`, the outcome variable `y`, a list of of degrees of polynomial models to be evaluated, and an evaluation function and returns the best model found by LOOCV. For example, you would call the function like this `loocv(x, y, [1,2,3], mse)` where `mse` is of course a function that returns the mean squared error. (30 points)\n",
    "- Write the `mse` function to provide to the LOOCV routine (5 points)\n",
    "- Use the `llocv` function to find the best polynomial model for the data provided (5 points)\n",
    "\n",
    "Notes\n",
    "\n",
    "- Use the `x` and `y` variables provided\n",
    "- Do not use any packages except for the standard library and `numpy`\n",
    "- Code snippets for fitting and evaluation of polynomials is provided"
   ]
  },
  {
   "cell_type": "code",
   "execution_count": 2,
   "metadata": {},
   "outputs": [],
   "source": [
    "import numpy as np"
   ]
  },
  {
   "cell_type": "code",
   "execution_count": 13,
   "metadata": {},
   "outputs": [],
   "source": [
    "x = np.load('x.npy')\n",
    "y = np.load('y.npy')"
   ]
  },
  {
   "cell_type": "code",
   "execution_count": 4,
   "metadata": {},
   "outputs": [],
   "source": [
    "coeffs = np.polyfit(x, y, 2)\n",
    "ypred = np.polyval(coeffs, x)"
   ]
  },
  {
   "cell_type": "code",
   "execution_count": 8,
   "metadata": {},
   "outputs": [],
   "source": [
    "\n",
    "\n"
   ]
  }
 ],
 "metadata": {
  "kernelspec": {
   "display_name": "Python 3",
   "language": "python",
   "name": "python3"
  },
  "language_info": {
   "codemirror_mode": {
    "name": "ipython",
    "version": 3
   },
   "file_extension": ".py",
   "mimetype": "text/x-python",
   "name": "python",
   "nbconvert_exporter": "python",
   "pygments_lexer": "ipython3",
   "version": "3.6.5"
  }
 },
 "nbformat": 4,
 "nbformat_minor": 2
}
