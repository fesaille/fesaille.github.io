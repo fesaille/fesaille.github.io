{
 "cells": [
  {
   "cell_type": "markdown",
   "metadata": {},
   "source": [
    "**1**. (25 points)\n",
    "\n",
    "We provide a simple tree represented as nested Python dictionaries. Write a recursive function `visit(t)` that will print the value of the `v` key for all nodes in a tree, using indentation to show off the tree structure. For example,\n",
    "\n",
    "```python\n",
    "visit(t)\n",
    "```\n",
    "should return\n",
    "```\n",
    "  1234\n",
    "    2345\n",
    "      3456\n",
    "      4567\n",
    "    5678\n",
    "      6789\n",
    "```"
   ]
  },
  {
   "cell_type": "code",
   "execution_count": 1,
   "metadata": {},
   "outputs": [],
   "source": [
    "t = {\n",
    "        'v': 1234,\n",
    "        'l': {\n",
    "            'v': 2345,\n",
    "            'l': {\n",
    "                'v': 3456,\n",
    "                'l': None,\n",
    "                'r': None\n",
    "            },\n",
    "            'r':{\n",
    "                'v': 4567,\n",
    "                'l': None,\n",
    "                'r': None\n",
    "            },\n",
    "        },\n",
    "        'r': {\n",
    "            'v': 5678,\n",
    "            'l': None,\n",
    "            'r': {\n",
    "                'v': 6789,\n",
    "                'l': None,\n",
    "                'r': None\n",
    "            },\n",
    "        }\n",
    "    }"
   ]
  },
  {
   "cell_type": "code",
   "execution_count": 2,
   "metadata": {},
   "outputs": [],
   "source": [
    "def visit(t, indent = 0):\n",
    "    \"\"\"Recursive function to print contents of a tree.\"\"\"\n",
    "    \n",
    "    if t is None:\n",
    "        return\n",
    "    indent += 2\n",
    "    for k in t:\n",
    "        if k == 'v':\n",
    "            print(' '*indent + str(t.get(k)))\n",
    "        else:\n",
    "            visit(t.get(k), indent=indent)"
   ]
  },
  {
   "cell_type": "code",
   "execution_count": 3,
   "metadata": {},
   "outputs": [
    {
     "name": "stdout",
     "output_type": "stream",
     "text": [
      "  1234\n",
      "    2345\n",
      "      3456\n",
      "      4567\n",
      "    5678\n",
      "      6789\n"
     ]
    }
   ],
   "source": [
    "visit(t)"
   ]
  },
  {
   "cell_type": "code",
   "execution_count": 4,
   "metadata": {},
   "outputs": [
    {
     "name": "stdout",
     "output_type": "stream",
     "text": [
      "  2345\n",
      "    3456\n",
      "    4567\n"
     ]
    }
   ],
   "source": [
    "visit(t['l'])"
   ]
  },
  {
   "cell_type": "markdown",
   "metadata": {},
   "source": [
    "**2**. (25 points)\n",
    "\n",
    "- Read the file `wnv_human_cases.csv` as a `pandas` DataFrame\n",
    "- Add up the positive cases for each year\n",
    "- Find the week in the year when there are the highest average cases of West Nile virus reported\n",
    "- Which county reported the highest number of cases in that week and what year did it happen?\n",
    "- Using the total cases per year, plot the original data and a rolling average with window length of 3 and minimum period of 1 on the same plot"
   ]
  },
  {
   "cell_type": "code",
   "execution_count": 5,
   "metadata": {},
   "outputs": [],
   "source": [
    "%matplotlib inline"
   ]
  },
  {
   "cell_type": "code",
   "execution_count": 6,
   "metadata": {},
   "outputs": [],
   "source": [
    "import pandas as pd"
   ]
  },
  {
   "cell_type": "code",
   "execution_count": 7,
   "metadata": {},
   "outputs": [],
   "source": [
    "wnv = pd.read_csv('wnv_human_cases.csv')"
   ]
  },
  {
   "cell_type": "code",
   "execution_count": 8,
   "metadata": {},
   "outputs": [
    {
     "data": {
      "text/html": [
       "<div>\n",
       "<style scoped>\n",
       "    .dataframe tbody tr th:only-of-type {\n",
       "        vertical-align: middle;\n",
       "    }\n",
       "\n",
       "    .dataframe tbody tr th {\n",
       "        vertical-align: top;\n",
       "    }\n",
       "\n",
       "    .dataframe thead th {\n",
       "        text-align: right;\n",
       "    }\n",
       "</style>\n",
       "<table border=\"1\" class=\"dataframe\">\n",
       "  <thead>\n",
       "    <tr style=\"text-align: right;\">\n",
       "      <th></th>\n",
       "      <th>Year</th>\n",
       "      <th>Week Reported</th>\n",
       "      <th>County</th>\n",
       "      <th>Positive Cases</th>\n",
       "    </tr>\n",
       "  </thead>\n",
       "  <tbody>\n",
       "    <tr>\n",
       "      <td>0</td>\n",
       "      <td>2006</td>\n",
       "      <td>35</td>\n",
       "      <td>Alameda</td>\n",
       "      <td>1</td>\n",
       "    </tr>\n",
       "    <tr>\n",
       "      <td>1</td>\n",
       "      <td>2006</td>\n",
       "      <td>33</td>\n",
       "      <td>Butte</td>\n",
       "      <td>4</td>\n",
       "    </tr>\n",
       "    <tr>\n",
       "      <td>2</td>\n",
       "      <td>2006</td>\n",
       "      <td>34</td>\n",
       "      <td>Butte</td>\n",
       "      <td>1</td>\n",
       "    </tr>\n",
       "    <tr>\n",
       "      <td>3</td>\n",
       "      <td>2006</td>\n",
       "      <td>35</td>\n",
       "      <td>Butte</td>\n",
       "      <td>10</td>\n",
       "    </tr>\n",
       "    <tr>\n",
       "      <td>4</td>\n",
       "      <td>2006</td>\n",
       "      <td>36</td>\n",
       "      <td>Butte</td>\n",
       "      <td>2</td>\n",
       "    </tr>\n",
       "  </tbody>\n",
       "</table>\n",
       "</div>"
      ],
      "text/plain": [
       "   Year  Week Reported   County  Positive Cases\n",
       "0  2006             35  Alameda               1\n",
       "1  2006             33    Butte               4\n",
       "2  2006             34    Butte               1\n",
       "3  2006             35    Butte              10\n",
       "4  2006             36    Butte               2"
      ]
     },
     "execution_count": 8,
     "metadata": {},
     "output_type": "execute_result"
    }
   ],
   "source": [
    "wnv.head()"
   ]
  },
  {
   "cell_type": "code",
   "execution_count": 9,
   "metadata": {},
   "outputs": [
    {
     "data": {
      "text/plain": [
       "Year\n",
       "2006    272\n",
       "2007    380\n",
       "2008    445\n",
       "2009    112\n",
       "2010    111\n",
       "2011    158\n",
       "2012    479\n",
       "2013    379\n",
       "2014    801\n",
       "2015    782\n",
       "2016    442\n",
       "2017    553\n",
       "2018    217\n",
       "2019     98\n",
       "Name: Positive Cases, dtype: int64"
      ]
     },
     "execution_count": 9,
     "metadata": {},
     "output_type": "execute_result"
    }
   ],
   "source": [
    "wnv.groupby('Year')['Positive Cases'].sum()"
   ]
  },
  {
   "cell_type": "code",
   "execution_count": 10,
   "metadata": {},
   "outputs": [
    {
     "data": {
      "text/plain": [
       "Week Reported\n",
       "41    3.708333\n",
       "Name: Positive Cases, dtype: float64"
      ]
     },
     "execution_count": 10,
     "metadata": {},
     "output_type": "execute_result"
    }
   ],
   "source": [
    "wnv.groupby('Week Reported')['Positive Cases'].mean().sort_values(ascending=False).head(1)"
   ]
  },
  {
   "cell_type": "code",
   "execution_count": 11,
   "metadata": {},
   "outputs": [
    {
     "data": {
      "text/html": [
       "<div>\n",
       "<style scoped>\n",
       "    .dataframe tbody tr th:only-of-type {\n",
       "        vertical-align: middle;\n",
       "    }\n",
       "\n",
       "    .dataframe tbody tr th {\n",
       "        vertical-align: top;\n",
       "    }\n",
       "\n",
       "    .dataframe thead th {\n",
       "        text-align: right;\n",
       "    }\n",
       "</style>\n",
       "<table border=\"1\" class=\"dataframe\">\n",
       "  <thead>\n",
       "    <tr style=\"text-align: right;\">\n",
       "      <th></th>\n",
       "      <th>Year</th>\n",
       "      <th>Week Reported</th>\n",
       "      <th>County</th>\n",
       "      <th>Positive Cases</th>\n",
       "    </tr>\n",
       "  </thead>\n",
       "  <tbody>\n",
       "    <tr>\n",
       "      <td>1642</td>\n",
       "      <td>2017</td>\n",
       "      <td>41</td>\n",
       "      <td>Los Angeles</td>\n",
       "      <td>40</td>\n",
       "    </tr>\n",
       "  </tbody>\n",
       "</table>\n",
       "</div>"
      ],
      "text/plain": [
       "      Year  Week Reported       County  Positive Cases\n",
       "1642  2017             41  Los Angeles              40"
      ]
     },
     "execution_count": 11,
     "metadata": {},
     "output_type": "execute_result"
    }
   ],
   "source": [
    "wnv[wnv['Week Reported'] == 41].sort_values('Positive Cases', ascending=False).head(1)"
   ]
  },
  {
   "cell_type": "code",
   "execution_count": 12,
   "metadata": {},
   "outputs": [],
   "source": [
    "ts = wnv.groupby('Year')['Positive Cases'].sum()"
   ]
  },
  {
   "cell_type": "code",
   "execution_count": 13,
   "metadata": {},
   "outputs": [
    {
     "data": {
      "image/png": "[encoded data removed]",
      "text/plain": [
       "<Figure size 432x288 with 1 Axes>"
      ]
     },
     "metadata": {
      "needs_background": "light"
     },
     "output_type": "display_data"
    }
   ],
   "source": [
    "ts.plot(marker='o')\n",
    "ts.rolling(3, min_periods=1).mean().plot()\n",
    "pass"
   ]
  },
  {
   "cell_type": "markdown",
   "metadata": {},
   "source": [
    "**3**. 25 points\n",
    "\n",
    "- Create a `pandas` DataFrame from the data in `yuck.csv`\n",
    "- When done, your DataFame should look like the one in `less_yuck.csv`"
   ]
  },
  {
   "cell_type": "code",
   "execution_count": 14,
   "metadata": {},
   "outputs": [
    {
     "name": "stdout",
     "output_type": "stream",
     "text": [
      "Overwriting yuck.csv\n"
     ]
    }
   ],
   "source": [
    "%%file yuck.csv\n",
    "% This is my CSV file\n",
    "% I like comments\n",
    "first,last,age\n",
    "% first is first naem, last is last name, age is as of 1 Jan 2019\n",
    "\"Driehe\",\"Dietriech, von\",23\n",
    "\"Ahmad\",\"Ibrahim, bin\",34\n",
    "\n",
    "% I like to mix separators\n",
    "Charles,Blow,57\n",
    "Andrew:Carnegie:87\n",
    "\n",
    "% This is the last entry\n",
    "Amy,Good,12\n"
   ]
  },
  {
   "cell_type": "code",
   "execution_count": 15,
   "metadata": {},
   "outputs": [
    {
     "data": {
      "text/html": [
       "<div>\n",
       "<style scoped>\n",
       "    .dataframe tbody tr th:only-of-type {\n",
       "        vertical-align: middle;\n",
       "    }\n",
       "\n",
       "    .dataframe tbody tr th {\n",
       "        vertical-align: top;\n",
       "    }\n",
       "\n",
       "    .dataframe thead th {\n",
       "        text-align: right;\n",
       "    }\n",
       "</style>\n",
       "<table border=\"1\" class=\"dataframe\">\n",
       "  <thead>\n",
       "    <tr style=\"text-align: right;\">\n",
       "      <th></th>\n",
       "      <th>first</th>\n",
       "      <th>last</th>\n",
       "      <th>age</th>\n",
       "    </tr>\n",
       "  </thead>\n",
       "  <tbody>\n",
       "    <tr>\n",
       "      <td>0</td>\n",
       "      <td>Driehe</td>\n",
       "      <td>Dietriech, von</td>\n",
       "      <td>23</td>\n",
       "    </tr>\n",
       "    <tr>\n",
       "      <td>1</td>\n",
       "      <td>Ahmad</td>\n",
       "      <td>Ibrahim, bin</td>\n",
       "      <td>34</td>\n",
       "    </tr>\n",
       "    <tr>\n",
       "      <td>2</td>\n",
       "      <td>Charles</td>\n",
       "      <td>Blow</td>\n",
       "      <td>57</td>\n",
       "    </tr>\n",
       "    <tr>\n",
       "      <td>3</td>\n",
       "      <td>Andrew</td>\n",
       "      <td>Carnegie</td>\n",
       "      <td>87</td>\n",
       "    </tr>\n",
       "    <tr>\n",
       "      <td>4</td>\n",
       "      <td>Amy</td>\n",
       "      <td>Good</td>\n",
       "      <td>12</td>\n",
       "    </tr>\n",
       "  </tbody>\n",
       "</table>\n",
       "</div>"
      ],
      "text/plain": [
       "     first            last  age\n",
       "0   Driehe  Dietriech, von   23\n",
       "1    Ahmad    Ibrahim, bin   34\n",
       "2  Charles            Blow   57\n",
       "3   Andrew        Carnegie   87\n",
       "4      Amy            Good   12"
      ]
     },
     "execution_count": 15,
     "metadata": {},
     "output_type": "execute_result"
    }
   ],
   "source": [
    "pd.read_csv('less_yuck.csv')"
   ]
  },
  {
   "cell_type": "code",
   "execution_count": 16,
   "metadata": {},
   "outputs": [],
   "source": [
    "import csv"
   ]
  },
  {
   "cell_type": "code",
   "execution_count": 17,
   "metadata": {},
   "outputs": [],
   "source": [
    "with open('yuck.csv') as f:\n",
    "    good_lines = []\n",
    "    for line in csv.reader(f):\n",
    "        if not line:\n",
    "            continue # skip empty lists\n",
    "        elif line[0][0] == '%':\n",
    "            continue # skip comment lines\n",
    "        elif len(line) == 1:\n",
    "            line = line[0].split(':') # try alternative separator\n",
    "            if len(line) == 3:\n",
    "                good_lines.append(line)\n",
    "        else:\n",
    "            good_lines.append(line)"
   ]
  },
  {
   "cell_type": "code",
   "execution_count": 18,
   "metadata": {},
   "outputs": [],
   "source": [
    "df = pd.DataFrame(good_lines[1:], columns=good_lines[0])"
   ]
  },
  {
   "cell_type": "markdown",
   "metadata": {},
   "source": [
    "**4**. (25 points)\n",
    "\n",
    "Use the SQLite3 database `faculty.db` and answer the following query:\n",
    "\n",
    "- Make a table of the number of people who know each language from each country, making sure to spell out the full name of the country and language, only showing rows with a count of at least 5\n",
    "- The final solution should look like `country_language.csv`"
   ]
  },
  {
   "cell_type": "code",
   "execution_count": 19,
   "metadata": {},
   "outputs": [
    {
     "data": {
      "text/html": [
       "<div>\n",
       "<style scoped>\n",
       "    .dataframe tbody tr th:only-of-type {\n",
       "        vertical-align: middle;\n",
       "    }\n",
       "\n",
       "    .dataframe tbody tr th {\n",
       "        vertical-align: top;\n",
       "    }\n",
       "\n",
       "    .dataframe thead th {\n",
       "        text-align: right;\n",
       "    }\n",
       "</style>\n",
       "<table border=\"1\" class=\"dataframe\">\n",
       "  <thead>\n",
       "    <tr style=\"text-align: right;\">\n",
       "      <th></th>\n",
       "      <th>country</th>\n",
       "      <th>language</th>\n",
       "      <th>number</th>\n",
       "    </tr>\n",
       "  </thead>\n",
       "  <tbody>\n",
       "    <tr>\n",
       "      <td>0</td>\n",
       "      <td>China</td>\n",
       "      <td>PHP</td>\n",
       "      <td>10</td>\n",
       "    </tr>\n",
       "    <tr>\n",
       "      <td>1</td>\n",
       "      <td>Cambodia</td>\n",
       "      <td>Bash</td>\n",
       "      <td>10</td>\n",
       "    </tr>\n",
       "    <tr>\n",
       "      <td>2</td>\n",
       "      <td>Cambodia</td>\n",
       "      <td>C#</td>\n",
       "      <td>8</td>\n",
       "    </tr>\n",
       "    <tr>\n",
       "      <td>3</td>\n",
       "      <td>Cambodia</td>\n",
       "      <td>Ceylon</td>\n",
       "      <td>8</td>\n",
       "    </tr>\n",
       "    <tr>\n",
       "      <td>4</td>\n",
       "      <td>Cambodia</td>\n",
       "      <td>Java</td>\n",
       "      <td>10</td>\n",
       "    </tr>\n",
       "    <tr>\n",
       "      <td>5</td>\n",
       "      <td>Cambodia</td>\n",
       "      <td>Perl</td>\n",
       "      <td>12</td>\n",
       "    </tr>\n",
       "    <tr>\n",
       "      <td>6</td>\n",
       "      <td>Cambodia</td>\n",
       "      <td>Racket</td>\n",
       "      <td>8</td>\n",
       "    </tr>\n",
       "    <tr>\n",
       "      <td>7</td>\n",
       "      <td>Cambodia</td>\n",
       "      <td>Ruby</td>\n",
       "      <td>8</td>\n",
       "    </tr>\n",
       "    <tr>\n",
       "      <td>8</td>\n",
       "      <td>Cambodia</td>\n",
       "      <td>TypeScript</td>\n",
       "      <td>8</td>\n",
       "    </tr>\n",
       "  </tbody>\n",
       "</table>\n",
       "</div>"
      ],
      "text/plain": [
       "    country    language  number\n",
       "0     China         PHP      10\n",
       "1  Cambodia        Bash      10\n",
       "2  Cambodia          C#       8\n",
       "3  Cambodia      Ceylon       8\n",
       "4  Cambodia        Java      10\n",
       "5  Cambodia        Perl      12\n",
       "6  Cambodia      Racket       8\n",
       "7  Cambodia        Ruby       8\n",
       "8  Cambodia  TypeScript       8"
      ]
     },
     "execution_count": 19,
     "metadata": {},
     "output_type": "execute_result"
    }
   ],
   "source": [
    "pd.read_csv('country_language.csv')"
   ]
  },
  {
   "cell_type": "code",
   "execution_count": 20,
   "metadata": {},
   "outputs": [],
   "source": [
    "%load_ext sql"
   ]
  },
  {
   "cell_type": "code",
   "execution_count": 21,
   "metadata": {},
   "outputs": [
    {
     "data": {
      "text/plain": [
       "'Connected: @faculty.db'"
      ]
     },
     "execution_count": 21,
     "metadata": {},
     "output_type": "execute_result"
    }
   ],
   "source": [
    "%sql sqlite:///faculty.db"
   ]
  },
  {
   "cell_type": "code",
   "execution_count": 22,
   "metadata": {},
   "outputs": [
    {
     "name": "stdout",
     "output_type": "stream",
     "text": [
      " * sqlite:///faculty.db\n",
      "Done.\n"
     ]
    },
    {
     "data": {
      "text/html": [
       "<table>\n",
       "    <tr>\n",
       "        <th>type</th>\n",
       "        <th>name</th>\n",
       "        <th>tbl_name</th>\n",
       "        <th>rootpage</th>\n",
       "        <th>sql</th>\n",
       "    </tr>\n",
       "    <tr>\n",
       "        <td>table</td>\n",
       "        <td>person</td>\n",
       "        <td>person</td>\n",
       "        <td>2</td>\n",
       "        <td>CREATE TABLE person (<br>\t&quot;index&quot; BIGINT, <br>\tperson_id BIGINT, <br>\tfirst TEXT, <br>\tlast TEXT, <br>\tage BIGINT, <br>\theight FLOAT, <br>\tweight BIGINT, <br>\tcountry_id TEXT, <br>\tgender_id BIGINT<br>)</td>\n",
       "    </tr>\n",
       "    <tr>\n",
       "        <td>table</td>\n",
       "        <td>confidential</td>\n",
       "        <td>confidential</td>\n",
       "        <td>18</td>\n",
       "        <td>CREATE TABLE confidential (<br>\t&quot;index&quot; BIGINT, <br>\tperson_id BIGINT, <br>\tsalary BIGINT<br>)</td>\n",
       "    </tr>\n",
       "    <tr>\n",
       "        <td>table</td>\n",
       "        <td>person_language</td>\n",
       "        <td>person_language</td>\n",
       "        <td>33</td>\n",
       "        <td>CREATE TABLE person_language (<br>\t&quot;index&quot; BIGINT, <br>\tperson_id BIGINT, <br>\tlanguage_id BIGINT<br>)</td>\n",
       "    </tr>\n",
       "    <tr>\n",
       "        <td>table</td>\n",
       "        <td>language</td>\n",
       "        <td>language</td>\n",
       "        <td>50</td>\n",
       "        <td>CREATE TABLE language (<br>\t&quot;index&quot; BIGINT, <br>\tlanguage_id BIGINT, <br>\tlanguage_name TEXT<br>)</td>\n",
       "    </tr>\n",
       "    <tr>\n",
       "        <td>table</td>\n",
       "        <td>gender</td>\n",
       "        <td>gender</td>\n",
       "        <td>55</td>\n",
       "        <td>CREATE TABLE gender (<br>\t&quot;index&quot; BIGINT, <br>\tgender_id BIGINT, <br>\tgender TEXT<br>)</td>\n",
       "    </tr>\n",
       "    <tr>\n",
       "        <td>table</td>\n",
       "        <td>country</td>\n",
       "        <td>country</td>\n",
       "        <td>57</td>\n",
       "        <td>CREATE TABLE country (<br>\t&quot;index&quot; BIGINT, <br>\tcountry_id TEXT, <br>\tcountry TEXT, <br>\tnationality TEXT<br>)</td>\n",
       "    </tr>\n",
       "</table>"
      ],
      "text/plain": [
       "[('table', 'person', 'person', 2, 'CREATE TABLE person (\\n\\t\"index\" BIGINT, \\n\\tperson_id BIGINT, \\n\\tfirst TEXT, \\n\\tlast TEXT, \\n\\tage BIGINT, \\n\\theight FLOAT, \\n\\tweight BIGINT, \\n\\tcountry_id TEXT, \\n\\tgender_id BIGINT\\n)'),\n",
       " ('table', 'confidential', 'confidential', 18, 'CREATE TABLE confidential (\\n\\t\"index\" BIGINT, \\n\\tperson_id BIGINT, \\n\\tsalary BIGINT\\n)'),\n",
       " ('table', 'person_language', 'person_language', 33, 'CREATE TABLE person_language (\\n\\t\"index\" BIGINT, \\n\\tperson_id BIGINT, \\n\\tlanguage_id BIGINT\\n)'),\n",
       " ('table', 'language', 'language', 50, 'CREATE TABLE language (\\n\\t\"index\" BIGINT, \\n\\tlanguage_id BIGINT, \\n\\tlanguage_name TEXT\\n)'),\n",
       " ('table', 'gender', 'gender', 55, 'CREATE TABLE gender (\\n\\t\"index\" BIGINT, \\n\\tgender_id BIGINT, \\n\\tgender TEXT\\n)'),\n",
       " ('table', 'country', 'country', 57, 'CREATE TABLE country (\\n\\t\"index\" BIGINT, \\n\\tcountry_id TEXT, \\n\\tcountry TEXT, \\n\\tnationality TEXT\\n)')]"
      ]
     },
     "execution_count": 22,
     "metadata": {},
     "output_type": "execute_result"
    }
   ],
   "source": [
    "%%sql\n",
    "\n",
    "SELECT * FROM sqlite_master WHERE type=='table'"
   ]
  },
  {
   "cell_type": "code",
   "execution_count": 23,
   "metadata": {},
   "outputs": [
    {
     "name": "stdout",
     "output_type": "stream",
     "text": [
      " * sqlite:///faculty.db\n",
      "Done.\n"
     ]
    },
    {
     "data": {
      "text/html": [
       "<table>\n",
       "    <tr>\n",
       "        <th>country</th>\n",
       "        <th>language</th>\n",
       "        <th>number</th>\n",
       "    </tr>\n",
       "    <tr>\n",
       "        <td>Brazil</td>\n",
       "        <td>ECMAScript</td>\n",
       "        <td>5</td>\n",
       "    </tr>\n",
       "    <tr>\n",
       "        <td>Cambodia</td>\n",
       "        <td>Bash</td>\n",
       "        <td>5</td>\n",
       "    </tr>\n",
       "    <tr>\n",
       "        <td>Cambodia</td>\n",
       "        <td>Java</td>\n",
       "        <td>5</td>\n",
       "    </tr>\n",
       "    <tr>\n",
       "        <td>Cambodia</td>\n",
       "        <td>Perl</td>\n",
       "        <td>6</td>\n",
       "    </tr>\n",
       "    <tr>\n",
       "        <td>Costa Rica</td>\n",
       "        <td>Perl</td>\n",
       "        <td>5</td>\n",
       "    </tr>\n",
       "    <tr>\n",
       "        <td>Cuba</td>\n",
       "        <td>JavaScript</td>\n",
       "        <td>5</td>\n",
       "    </tr>\n",
       "    <tr>\n",
       "        <td>Denmark</td>\n",
       "        <td>AutoIt</td>\n",
       "        <td>6</td>\n",
       "    </tr>\n",
       "    <tr>\n",
       "        <td>Finland</td>\n",
       "        <td>Clojure</td>\n",
       "        <td>5</td>\n",
       "    </tr>\n",
       "    <tr>\n",
       "        <td>Mexico</td>\n",
       "        <td>JavaScript</td>\n",
       "        <td>5</td>\n",
       "    </tr>\n",
       "</table>"
      ],
      "text/plain": [
       "[('Brazil', 'ECMAScript', 5),\n",
       " ('Cambodia', 'Bash', 5),\n",
       " ('Cambodia', 'Java', 5),\n",
       " ('Cambodia', 'Perl', 6),\n",
       " ('Costa Rica', 'Perl', 5),\n",
       " ('Cuba', 'JavaScript', 5),\n",
       " ('Denmark', 'AutoIt', 6),\n",
       " ('Finland', 'Clojure', 5),\n",
       " ('Mexico', 'JavaScript', 5)]"
      ]
     },
     "execution_count": 23,
     "metadata": {},
     "output_type": "execute_result"
    }
   ],
   "source": [
    "%%sql\n",
    "SELECT country.country, language.language_name AS language, \n",
    "    COUNT(DISTINCT person.person_id) AS number\n",
    "FROM person, country, language, person_language\n",
    "WHERE person.country_id = country.country_id AND\n",
    "person.person_id = person_language.person_id AND\n",
    "person_language.language_id = language.language_id\n",
    "GROUP BY person.country_id, language_name\n",
    "HAVING number >= 5"
   ]
  },
  {
   "cell_type": "markdown",
   "metadata": {},
   "source": [
    "Alternative using JOIN syntax"
   ]
  },
  {
   "cell_type": "code",
   "execution_count": 24,
   "metadata": {
    "scrolled": false
   },
   "outputs": [
    {
     "name": "stdout",
     "output_type": "stream",
     "text": [
      " * sqlite:///faculty.db\n",
      "Done.\n"
     ]
    },
    {
     "data": {
      "text/html": [
       "<table>\n",
       "    <tr>\n",
       "        <th>country</th>\n",
       "        <th>language</th>\n",
       "        <th>number</th>\n",
       "    </tr>\n",
       "    <tr>\n",
       "        <td>Brazil</td>\n",
       "        <td>ECMAScript</td>\n",
       "        <td>5</td>\n",
       "    </tr>\n",
       "    <tr>\n",
       "        <td>Cambodia</td>\n",
       "        <td>Bash</td>\n",
       "        <td>5</td>\n",
       "    </tr>\n",
       "    <tr>\n",
       "        <td>Cambodia</td>\n",
       "        <td>Java</td>\n",
       "        <td>5</td>\n",
       "    </tr>\n",
       "    <tr>\n",
       "        <td>Cambodia</td>\n",
       "        <td>Perl</td>\n",
       "        <td>6</td>\n",
       "    </tr>\n",
       "    <tr>\n",
       "        <td>Costa Rica</td>\n",
       "        <td>Perl</td>\n",
       "        <td>5</td>\n",
       "    </tr>\n",
       "    <tr>\n",
       "        <td>Cuba</td>\n",
       "        <td>JavaScript</td>\n",
       "        <td>5</td>\n",
       "    </tr>\n",
       "    <tr>\n",
       "        <td>Denmark</td>\n",
       "        <td>AutoIt</td>\n",
       "        <td>6</td>\n",
       "    </tr>\n",
       "    <tr>\n",
       "        <td>Finland</td>\n",
       "        <td>Clojure</td>\n",
       "        <td>5</td>\n",
       "    </tr>\n",
       "    <tr>\n",
       "        <td>Mexico</td>\n",
       "        <td>JavaScript</td>\n",
       "        <td>5</td>\n",
       "    </tr>\n",
       "</table>"
      ],
      "text/plain": [
       "[('Brazil', 'ECMAScript', 5),\n",
       " ('Cambodia', 'Bash', 5),\n",
       " ('Cambodia', 'Java', 5),\n",
       " ('Cambodia', 'Perl', 6),\n",
       " ('Costa Rica', 'Perl', 5),\n",
       " ('Cuba', 'JavaScript', 5),\n",
       " ('Denmark', 'AutoIt', 6),\n",
       " ('Finland', 'Clojure', 5),\n",
       " ('Mexico', 'JavaScript', 5)]"
      ]
     },
     "execution_count": 24,
     "metadata": {},
     "output_type": "execute_result"
    }
   ],
   "source": [
    "%%sql\n",
    "SELECT country.country, language.language_name AS language,\n",
    "    COUNT(DISTINCT person.person_id) AS number\n",
    "FROM person\n",
    "JOIN country\n",
    "ON person.country_id = country.country_id\n",
    "JOIN person_language\n",
    "ON person.person_id = person_language.person_id\n",
    "JOIN language\n",
    "ON person_language.language_id = language.language_id\n",
    "GROUP BY person.country_id, language_name\n",
    "HAVING number >= 5"
   ]
  },
  {
   "cell_type": "code",
   "execution_count": null,
   "metadata": {},
   "outputs": [],
   "source": []
  }
 ],
 "metadata": {
  "kernelspec": {
   "display_name": "Python 3",
   "language": "python",
   "name": "python3"
  },
  "language_info": {
   "codemirror_mode": {
    "name": "ipython",
    "version": 3
   },
   "file_extension": ".py",
   "mimetype": "text/x-python",
   "name": "python",
   "nbconvert_exporter": "python",
   "pygments_lexer": "ipython3",
   "version": "3.6.5"
  }
 },
 "nbformat": 4,
 "nbformat_minor": 2
}
