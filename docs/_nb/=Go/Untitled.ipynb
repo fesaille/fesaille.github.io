{
 "cells": [
  {
   "cell_type": "code",
   "execution_count": 2,
   "metadata": {},
   "outputs": [],
   "source": [
    "import (\n",
    "    \"encoding/json\"\n",
    "    \"fmt\"\n",
    "    \"io/ioutil\"\n",
    "    \"log\"\n",
    "    \"net/http\"\n",
    "    \"time\"\n",
    ")"
   ]
  },
  {
   "cell_type": "code",
   "execution_count": 4,
   "metadata": {},
   "outputs": [],
   "source": [
    "type people struct {\n",
    "    Number int `json:\"number\"`\n",
    "}"
   ]
  },
  {
   "cell_type": "code",
   "execution_count": 5,
   "metadata": {},
   "outputs": [],
   "source": [
    "func main(url string) {\n",
    "\n",
    "    spaceClient := http.Client{\n",
    "        Timeout: time.Second * 2, // Maximum of 2 secs\n",
    "    }\n",
    "\n",
    "    req, err := http.NewRequest(http.MethodGet, url, nil)\n",
    "    if err != nil {\n",
    "        log.Fatal(err)\n",
    "    }\n",
    "\n",
    "    req.Header.Set(\"User-Agent\", \"spacecount-tutorial\")\n",
    "\n",
    "    res, getErr := spaceClient.Do(req)\n",
    "    if getErr != nil {\n",
    "        log.Fatal(getErr)\n",
    "    }\n",
    "\n",
    "    body, readErr := ioutil.ReadAll(res.Body)\n",
    "    if readErr != nil {\n",
    "        log.Fatal(readErr)\n",
    "    }\n",
    "\n",
    "    people1 := people{}\n",
    "    jsonErr := json.Unmarshal(body, &people1)\n",
    "    if jsonErr != nil {\n",
    "        log.Fatal(jsonErr)\n",
    "    }\n",
    "\n",
    "    fmt.Println(people1.Number)\n",
    "}"
   ]
  },
  {
   "cell_type": "code",
   "execution_count": 6,
   "metadata": {},
   "outputs": [
    {
     "name": "stdout",
     "output_type": "stream",
     "text": [
      "6\n"
     ]
    }
   ],
   "source": [
    "main(\"http://api.open-notify.org/astros.json\")"
   ]
  },
  {
   "cell_type": "code",
   "execution_count": null,
   "metadata": {},
   "outputs": [],
   "source": []
  }
 ],
 "metadata": {
  "kernelspec": {
   "display_name": "Go",
   "language": "go",
   "name": "gophernotes"
  },
  "language_info": {
   "codemirror_mode": "",
   "file_extension": ".go",
   "mimetype": "",
   "name": "go",
   "nbconvert_exporter": "",
   "pygments_lexer": "",
   "version": "go1.13.4"
  }
 },
 "nbformat": 4,
 "nbformat_minor": 4
}
