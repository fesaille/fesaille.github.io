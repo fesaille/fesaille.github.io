{
 "cells": [
  {
   "cell_type": "markdown",
   "metadata": {},
   "source": [
    "[OLTP - Online transaction processing](https://en.wikipedia.org/wiki/Online_transaction_processing)  \n",
    "[OLEP - ]()\n",
    "[OLAP - Online analytical processing](https://en.wikipedia.org/wiki/Online_analytical_processing)  \n",
    "[OLAP cube](https://en.wikipedia.org/wiki/OLAP_cube)  \n",
    "[Cube multidimensionnel](https://www.xavierdupre.fr/app/actuariat_python/helpsphinx/notebooks/seance5_cube_multidimensionnel_enonce.html)  \n",
    "[OLAP vs OLTP](https://diffzi.com/oltp-vs-olap/)  \n",
    "[OLAP operations](https://www.geeksforgeeks.org/olap-operations-in-dbms/)\n",
    "\n",
    "\n",
    "[Apache Kylin](http://kylin.apache.org/docs/tutorial/cube_spark.html)"
   ]
  },
  {
   "cell_type": "markdown",
   "metadata": {},
   "source": [
    "# OLAP"
   ]
  },
  {
   "cell_type": "markdown",
   "metadata": {},
   "source": [
    "## Star/snowflake schemas\n",
    "\n",
    "The [star schema](https://en.wikipedia.org/wiki/Star_schema) separates business process data into facts, which hold the measurable, quantitative data about a business, and dimensions which are descriptive attributes related to fact data:\n",
    "- **Fact tables** record measurements or metrics for a specific event, generally consist of numeric values, and foreign keys to dimensional data where descriptive information is kept\n",
    "- **Dimension tables** usually have a relatively small number of records compared to fact tables, but each record may have a very large number of attributes to describe the fact data.\n",
    "\n",
    "[\"Snowflaking\"](https://en.wikipedia.org/wiki/Snowflake_schema) is a method of normalizing the dimension tables in a star schema.\n",
    "\n",
    "<div style=\"float:left;width: 40%;padding:0% 5%;\"><img src=\"https://software-advice.imgix.net/wordpress/other_pages/BI/Star-Schema-1.png\" alt=\"Star schema\"/></div>\n",
    "<div style=\"float:left;width: 40%;\"><img src=\"https://upload.wikimedia.org/wikipedia/commons/b/b2/Snowflake-schema.png\" alt=\"Star schema\"/></div>\n"
   ]
  },
  {
   "cell_type": "markdown",
   "metadata": {},
   "source": [
    "# Operations"
   ]
  },
  {
   "cell_type": "markdown",
   "metadata": {},
   "source": [
    "## slice\n",
    "\n",
    "<div style=\"width:50%;\"><img src=\"https://upload.wikimedia.org/wikipedia/commons/f/ff/OLAP_slicing.png\"/></div>"
   ]
  },
  {
   "cell_type": "markdown",
   "metadata": {},
   "source": [
    "## Dice\n",
    "\n",
    "<div style=\"width:40%\"><img src=\"https://upload.wikimedia.org/wikipedia/commons/d/d0/OLAP_dicing.png\"/></div>\n",
    "\n",
    "\n",
    "## Drill Down/Up \n",
    "\n",
    "<div style=\"width:40%\"><img src=\"https://upload.wikimedia.org/wikipedia/commons/4/46/OLAP_drill_up%26down.png\"/></div>\n",
    "\n",
    "\n",
    "## Roll-up\n",
    "\n",
    "\n",
    "## Pivot \n",
    "\n",
    "<div style=\"width:40%\"><img src=\"https://upload.wikimedia.org/wikipedia/commons/c/cb/OLAP_pivoting.png\"/></div>"
   ]
  },
  {
   "cell_type": "code",
   "execution_count": null,
   "metadata": {},
   "outputs": [],
   "source": []
  }
 ],
 "metadata": {
  "kernelspec": {
   "display_name": "Python 3",
   "language": "python",
   "name": "python3"
  },
  "language_info": {
   "codemirror_mode": {
    "name": "ipython",
    "version": 3
   },
   "file_extension": ".py",
   "mimetype": "text/x-python",
   "name": "python",
   "nbconvert_exporter": "python",
   "pygments_lexer": "ipython3",
   "version": "3.7.3"
  }
 },
 "nbformat": 4,
 "nbformat_minor": 4
}
