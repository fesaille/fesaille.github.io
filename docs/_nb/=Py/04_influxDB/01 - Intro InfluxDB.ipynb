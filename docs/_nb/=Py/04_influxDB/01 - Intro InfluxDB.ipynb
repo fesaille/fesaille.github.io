{
 "cells": [
  {
   "cell_type": "markdown",
   "metadata": {},
   "source": [
    "<h1><img src=\"https://3yecy51kdipx3blyi37oute1-wpengine.netdna-ssl.com/wp-content/uploads/2016/11/influxdata_400x200.png\" style=\"height: 80px;\"/></h1>\n",
    "\n",
    "> InfluxDB is a time series database designed to handle timestamped data, including DevOps monitoring, application metrics, IoT sensor data, and real-time analytics.\n",
    "\n",
    "## Key features\n",
    "\n",
    "- CLI/HTTP write and query API.\n",
    "- Expressive SQL-like query language\n",
    "- Schemas don't have to be defined up front and schema preferences may change over time. \n",
    "- Tags allow series to be indexed for fast and efficient queries.\n",
    "- Retention policies efficiently auto-expire stale data.\n",
    "- Plugins support for other data ingestion protocols such as Graphite, collectd, and OpenTSDB.\n",
    "- Continuous queries automatically compute aggregate data to make frequent queries more efficient.\n",
    "- InfluxDB isn’t fully CRUD\n",
    "- The open source edition of InfluxDB runs on a single node, high availability is only available in the InfluxDB Enterprise Edition.\n",
    "\n",
    "## Data structure\n",
    "\n",
    "\n",
    "Time series [key concepts](https://docs.influxdata.com/influxdb/v1.7/concepts/key_concepts/):\n",
    "- `time` - a timestamp - is similar to a SQL primary key, \n",
    "- `tags`, zero to many key-values, contain any metadata about the value, **`tags` are indexed**\n",
    "- at least one key-value `field set` (``field key` identifies the measured element while field value` are the measured value itself, e.g. “value=0.64”, or “temperature=21.2”). **fields` are not indexed**\n",
    "    \n",
    "It’s important to note that fields are not indexed. Queries that use field values as filters must scan all values that match the other conditions in the query. As a result, those queries are not performant relative to queries on tags. In general, fields should not contain commonly-queried metadata.\n",
    "\n",
    "    \n",
    "Further concepts:\n",
    "- a `measurement` acts as a container for `tags`, `fields`, and the `time` column. Assimilable to a SQL table, where the primary index is always `time`. `tags` and `fields` are effectively columns in the table.\n",
    "- a `series` is the collection of data that share the same retention policy, measurement, and tag set.\n",
    "- a point represents a single data record that has four components: a measurement, tag set, field set, and a timestamp. A point is uniquely identified by its series and timestamp (similar to a row in a SQL database table)\n",
    "\n",
    "<table>\n",
    "<thead>\n",
    "<tr>\n",
    "<th align=\"left\">Element</th>\n",
    "<th align=\"left\">Optional/Required</th>\n",
    "<th align=\"left\">Description</th>\n",
    "<th align=\"left\">Type<br>(See <a href=\"https://docs.influxdata.com/influxdb/v1.7/write_protocols/line_protocol_reference/#data-types\">data types</a> for more information.)</th>\n",
    "</tr>\n",
    "</thead>\n",
    "\n",
    "<tbody>\n",
    "<tr>\n",
    "<td align=\"left\"><a href=\"https://docs.influxdata.com/influxdb/v1.7/concepts/glossary/#measurement\">Measurement</a></td>\n",
    "<td align=\"left\">Required</td>\n",
    "<td align=\"left\">The measurement name. InfluxDB accepts one measurement per point.</td>\n",
    "<td align=\"left\">String</td>\n",
    "</tr>\n",
    "\n",
    "<tr>\n",
    "<td align=\"left\"><a href=\"https://docs.influxdata.com/influxdb/v1.7/concepts/glossary/#tag-set\">Tag set</a></td>\n",
    "<td align=\"left\">Optional</td>\n",
    "<td align=\"left\">All tag key-value pairs for the point.</td>\n",
    "<td align=\"left\"><a href=\"https://docs.influxdata.com/influxdb/v1.7/concepts/glossary/#tag-key\">Tag keys</a> and <a href=\"https://docs.influxdata.com/influxdb/v1.7/concepts/glossary/#tag-value\">tag values</a> are both strings.</td>\n",
    "</tr>\n",
    "\n",
    "<tr>\n",
    "<td align=\"left\"><a href=\"https://docs.influxdata.com/influxdb/v1.7/concepts/glossary/#field-set\">Field set</a></td>\n",
    "<td align=\"left\">Required. Points must have at least one field.</td>\n",
    "<td align=\"left\">All field key-value pairs for the point.</td>\n",
    "<td align=\"left\"><a href=\"https://docs.influxdata.com/influxdb/v1.7/concepts/glossary/#field-key\">Field keys</a> are strings. <a href=\"https://docs.influxdata.com/influxdb/v1.7/concepts/glossary/#field-value\">Field values</a> can be floats, integers, strings, or Booleans.</td>\n",
    "</tr>\n",
    "\n",
    "<tr>\n",
    "<td align=\"left\"><a href=\"https://docs.influxdata.com/influxdb/v1.7/concepts/glossary/#timestamp\">Timestamp</a></td>\n",
    "<td align=\"left\">Optional. InfluxDB uses the server’s local nanosecond timestamp in UTC if the timestamp is not included with the point.</td>\n",
    "<td align=\"left\">The timestamp for the data point. InfluxDB accepts one timestamp per point.</td>\n",
    "<td align=\"left\">Unix nanosecond timestamp. Specify alternative precisions with the <a href=\"https://docs.influxdata.com/influxdb/v1.7/tools/api/#write-http-endpoint\">InfluxDB API</a>.</td>\n",
    "</tr>\n",
    "</tbody>\n",
    "</table>\n",
    "\n",
    "\n",
    "## Data type\n",
    "\n",
    "<table>\n",
    "<thead>\n",
    "<tr>\n",
    "<th align=\"left\">Datatype</th>\n",
    "<th align=\"left\">Element(s)</th>\n",
    "<th align=\"left\">Description</th>\n",
    "</tr>\n",
    "</thead>\n",
    "\n",
    "<tbody>\n",
    "<tr>\n",
    "<td align=\"left\">Float</td>\n",
    "<td align=\"left\">Field values</td>\n",
    "<td align=\"left\">IEEE-754 64-bit floating-point numbers. This is the default numerical type. Examples: <code>1</code>, <code>1.0</code>, <code>1.e+78</code>, <code>1.E+78</code>.</td>\n",
    "</tr>\n",
    "\n",
    "<tr>\n",
    "<td align=\"left\">Integer</td>\n",
    "<td align=\"left\">Field values</td>\n",
    "<td align=\"left\">Signed 64-bit integers (-9223372036854775808 to 9223372036854775807). Specify an integer with a trailing <code>i</code> on the number. Example: <code>1i</code>.</td>\n",
    "</tr>\n",
    "\n",
    "<tr>\n",
    "<td align=\"left\">String</td>\n",
    "<td align=\"left\">Measurements, tag keys, tag values, field keys, field values</td>\n",
    "<td align=\"left\">Length limit 64KB.</td>\n",
    "</tr>\n",
    "\n",
    "<tr>\n",
    "<td align=\"left\">Boolean</td>\n",
    "<td align=\"left\">Field values</td>\n",
    "<td align=\"left\">Stores TRUE or FALSE values.<br><br>TRUE write syntax:<code>[t, T, true, True, TRUE]</code>.<br><br>FALSE write syntax:<code>[f, F, false, False, FALSE]</code></td>\n",
    "</tr>\n",
    "\n",
    "<tr>\n",
    "<td align=\"left\">Timestamp</td>\n",
    "<td align=\"left\">Timestamps</td>\n",
    "<td align=\"left\">Unix nanosecond timestamp. Specify alternative precisions with the <a href=\"/influxdb/v1.7/tools/api/#write-http-endpoint\">InfluxDB API</a>. The minimum valid timestamp is <code>-9223372036854775806</code> or <code>1677-09-21T00:12:43.145224194Z</code>. The maximum valid timestamp is <code>9223372036854775806</code> or <code>2262-04-11T23:47:16.854775806Z</code>.</td>\n",
    "</tr>\n",
    "</tbody>\n",
    "</table>\n",
    "\n",
    "Python module [documentation](https://influxdb-python.readthedocs.io/en/latest/index.html)\n",
    "\n",
    "\n",
    "## Example\n",
    "\n",
    "<div style=\"display:table;\">\n",
    "<div style=\"display:row;width=100%;\">\n",
    "<div style=\"display:table-cell;\">\n",
    "*census*:\n",
    "\n",
    "<table>\n",
    "<thead>\n",
    "<tr>\n",
    "<th>time</th>\n",
    "<th><span title=\"Field key\">butterflies</span></th>\n",
    "<th><span title=\"Field key\">honeybees</span></th>\n",
    "<th><span title=\"Tag key\">location</span></th>\n",
    "<th><span title=\"Tag key\">scientist</span></th>\n",
    "</tr>\n",
    "</thead>\n",
    "\n",
    "<tbody>\n",
    "<tr>\n",
    "<td title=\"Timestamp\">2015-08-18T00:00:00Z</td>\n",
    "<td title=\"Field value\">12</td>\n",
    "<td title=\"Field value\">23</td>\n",
    "<td title=\"Tag value\">1</td>\n",
    "<td title=\"Tag value\">langstroth</td>\n",
    "</tr>\n",
    "\n",
    "<tr>\n",
    "<td>2015-08-18T00:00:00Z</td>\n",
    "<td>1</td>\n",
    "<td>30</td>\n",
    "<td>1</td>\n",
    "<td>perpetua</td>\n",
    "</tr>\n",
    "\n",
    "<tr>\n",
    "<td>2015-08-18T00:06:00Z</td>\n",
    "<td>11</td>\n",
    "<td>28</td>\n",
    "<td>1</td>\n",
    "<td>langstroth</td>\n",
    "</tr>\n",
    "\n",
    "<tr>\n",
    "<td>015-08-18T00:06:00Z</td>\n",
    "<td>3</td>\n",
    "<td>28</td>\n",
    "<td>1</td>\n",
    "<td>perpetua</td>\n",
    "</tr>\n",
    "\n",
    "<tr>\n",
    "<td>2015-08-18T05:54:00Z</td>\n",
    "<td>2</td>\n",
    "<td>11</td>\n",
    "<td>2</td>\n",
    "<td>langstroth</td>\n",
    "</tr>\n",
    "\n",
    "<tr>\n",
    "<td>2015-08-18T06:00:00Z</td>\n",
    "<td>1</td>\n",
    "<td>10</td>\n",
    "<td>2</td>\n",
    "<td>langstroth</td>\n",
    "</tr>\n",
    "\n",
    "<tr>\n",
    "<td>2015-08-18T06:06:00Z</td>\n",
    "<td>8</td>\n",
    "<td>23</td>\n",
    "<td>2</td>\n",
    "<td>perpetua</td>\n",
    "</tr>\n",
    "\n",
    "<tr>\n",
    "<td>2015-08-18T06:12:00Z</td>\n",
    "<td>7</td>\n",
    "<td>22</td>\n",
    "<td>2</td>\n",
    "<td>perpetua</td>\n",
    "</tr>\n",
    "</tbody>\n",
    "</table>\n",
    "\n",
    "</div>\n",
    "    \n",
    "<div style=\"display:table-cell;padding-left:5%;\">\n",
    "\n",
    "**8 field sets**\n",
    "\n",
    "    butterflies = 12 honeybees = 23\n",
    "    butterflies = 1 honeybees = 30\n",
    "    butterflies = 11 honeybees = 28\n",
    "    butterflies = 3 honeybees = 28\n",
    "    butterflies = 2 honeybees = 11\n",
    "    butterflies = 1 honeybees = 10\n",
    "    butterflies = 8 honeybees = 23\n",
    "    butterflies = 7 honeybees = 22\n",
    "\n",
    "\n",
    "</div>\n",
    "    \n",
    "<div style=\"display:table-cell;padding-left:5%;\">\n",
    "\n",
    "\n",
    "**4 tag sets** (different combinations of all the tag key-value pairs)\n",
    "\n",
    "    location = 1, scientist = langstroth\n",
    "    location = 2, scientist = langstroth\n",
    "    location = 1, scientist = perpetua\n",
    "    location = 2, scientist = perpetua\n",
    "</div>\n",
    "</div>    \n",
    "</div>\n",
    "\n",
    "<table>\n",
    "<thead>\n",
    "<tr>\n",
    "<th>Arbitrary series number</th>\n",
    "<th>Retention policy</th>\n",
    "<th>Measurement</th>\n",
    "<th>Tag set</th>\n",
    "</tr>\n",
    "</thead>\n",
    "\n",
    "<tbody>\n",
    "<tr>\n",
    "<td>series 1</td>\n",
    "<td><code>autogen</code></td>\n",
    "<td><code>census</code></td>\n",
    "<td><code>location = 1</code>,<code>scientist = langstroth</code></td>\n",
    "</tr>\n",
    "\n",
    "<tr>\n",
    "<td>series 2</td>\n",
    "<td><code>autogen</code></td>\n",
    "<td><code>census</code></td>\n",
    "<td><code>location = 2</code>,<code>scientist = langstroth</code></td>\n",
    "</tr>\n",
    "\n",
    "<tr>\n",
    "<td>series 3</td>\n",
    "<td><code>autogen</code></td>\n",
    "<td><code>census</code></td>\n",
    "<td><code>location = 1</code>,<code>scientist = perpetua</code></td>\n",
    "</tr>\n",
    "\n",
    "<tr>\n",
    "<td>series 4</td>\n",
    "<td><code>autogen</code></td>\n",
    "<td><code>census</code></td>\n",
    "<td><code>location = 2</code>,<code>scientist = perpetua</code></td>\n",
    "</tr>\n",
    "</tbody>\n",
    "</table>"
   ]
  },
  {
   "cell_type": "code",
   "execution_count": 1,
   "metadata": {},
   "outputs": [],
   "source": [
    "from datetime import (datetime, timedelta)\n",
    "from random import (choice, randint, random, uniform, lognormvariate)\n",
    "from influxdb import (InfluxDBClient, DataFrameClient)"
   ]
  },
  {
   "cell_type": "code",
   "execution_count": 2,
   "metadata": {},
   "outputs": [],
   "source": [
    "INFLUXDB_USER='telegraf'\n",
    "INFLUXDB_USER_PASSWORD='secretpassword'\n",
    "\n",
    "host='db.influxdb.app.com'\n",
    "port=8086\n",
    "\"\"\"Instantiate a connection to the InfluxDB.\"\"\"\n",
    "user = 'admin'\n",
    "password = 'supersecretpassword'\n",
    "dbname = 'example'\n",
    "\n",
    "dbuser = 'telegraf'\n",
    "dbuser_password = 'secretpassword'\n",
    "\n",
    "client = InfluxDBClient(host, port, user, password, dbname)"
   ]
  },
  {
   "cell_type": "markdown",
   "metadata": {},
   "source": [
    "# DB init"
   ]
  },
  {
   "cell_type": "markdown",
   "metadata": {},
   "source": [
    "For creating the DB"
   ]
  },
  {
   "cell_type": "raw",
   "metadata": {},
   "source": [
    "client.create_database(dbname)"
   ]
  },
  {
   "cell_type": "markdown",
   "metadata": {},
   "source": [
    "Define a specific retention policy, drop after 30d, with replica factor of 3 and applied by default to new elements"
   ]
  },
  {
   "cell_type": "code",
   "execution_count": null,
   "metadata": {},
   "outputs": [],
   "source": [
    "client.create_retention_policy('custom_policy', '30d', 3, default=True)"
   ]
  },
  {
   "cell_type": "raw",
   "metadata": {},
   "source": [
    "# For dropping the policy:\n",
    "client.drop_retention_policy('custom_policy', dbname)"
   ]
  },
  {
   "cell_type": "code",
   "execution_count": 5,
   "metadata": {},
   "outputs": [],
   "source": [
    "client.switch_user(dbuser, dbuser_password)"
   ]
  },
  {
   "cell_type": "code",
   "execution_count": 6,
   "metadata": {},
   "outputs": [],
   "source": [
    "def feed_db(n):\n",
    "    json_body = [\n",
    "        {\n",
    "            \"measurement\": \"starfleet_01\",\n",
    "            \"tags\": {\n",
    "                \"cmdt\": choice((\"Archer\", \"Kirk\", \"Kruge\")),\n",
    "                \"region\": choice((\"Andoria\", \"Deep Space Nine\", \"Earth\", \"Genesis\")),\n",
    "                \"spacecraft\": f\"NX-17{randint(1, 10):02d}\"\n",
    "            },\n",
    "            \"time\": (datetime.now() - timedelta(seconds=2*(n - i))).strftime(\"%Y-%m-%dT%H:%M:%S\"),\n",
    "            \"fields\": {\n",
    "                \"speed\": lognormvariate(10, 3),\n",
    "                \"consumption\": uniform(0, 300),\n",
    "                \"pressure_a\": 3 + random(),\n",
    "                \"status_b\": choice((True, False))\n",
    "            }\n",
    "        } for i in range(n)\n",
    "    ]\n",
    "    client.write_points(json_body, batch_size=100_000)"
   ]
  },
  {
   "cell_type": "code",
   "execution_count": 7,
   "metadata": {},
   "outputs": [],
   "source": [
    "def feed_db_array(n):\n",
    "    json_body = [\n",
    "        {\n",
    "            \"measurement\": \"starfleet_02\",\n",
    "            \"tags\": {\n",
    "                \"cmdt\": choice((\"Archer\", \"Kirk\", \"Kruge\")),\n",
    "                \"region\": choice((\"Andoria\", \"Deep Space Nine\", \"Earth\", \"Genesis\")),\n",
    "                \"spacecraft\": f\"NX-17{randint(1, 10):02d}\"\n",
    "            },\n",
    "            \"time\": (datetime.now() - timedelta(seconds=2*(n - i))).strftime(\"%Y-%m-%dT%H:%M:%S\"),\n",
    "            \"fields\": {\n",
    "                \"curve_b[0]\": 10 + random(),\n",
    "                \"curve_b[1]\": choice((15 + random(), 4 + random())),\n",
    "                \"curve_b[2]\": 20 + random(),\n",
    "            }\n",
    "        } for i in range(n)\n",
    "    ]\n",
    "    client.write_points(json_body, batch_size=100_000)\n",
    "    \n"
   ]
  },
  {
   "cell_type": "code",
   "execution_count": 46,
   "metadata": {},
   "outputs": [
    {
     "name": "stdout",
     "output_type": "stream",
     "text": [
      "13.2 s ± 202 ms per loop (mean ± std. dev. of 7 runs, 1 loop each)\n"
     ]
    }
   ],
   "source": [
    "%timeit feed_db(100_000)"
   ]
  },
  {
   "cell_type": "raw",
   "metadata": {},
   "source": [
    "feed_db_array(1_000_000)"
   ]
  },
  {
   "cell_type": "markdown",
   "metadata": {},
   "source": [
    "Series can be deleted"
   ]
  },
  {
   "cell_type": "raw",
   "metadata": {},
   "source": [
    "client.delete_series(database=\"example\", measurement=\"starfleet_01\")"
   ]
  },
  {
   "cell_type": "code",
   "execution_count": 47,
   "metadata": {},
   "outputs": [
    {
     "data": {
      "text/plain": [
       "ResultSet({'('starfleet_01', None)': [{'time': '1970-01-01T00:00:00Z', 'count_consumption': 1866653, 'count_pressure_a': 1866653, 'count_speed': 1866653, 'count_status_b': 1866653}]})"
      ]
     },
     "execution_count": 47,
     "metadata": {},
     "output_type": "execute_result"
    }
   ],
   "source": [
    "client.query(query='select count(*) from starfleet_01')"
   ]
  },
  {
   "cell_type": "code",
   "execution_count": 9,
   "metadata": {},
   "outputs": [],
   "source": [
    "from IPython.core.magic import (register_line_cell_magic)\n",
    "\n",
    "@register_line_cell_magic\n",
    "def influxql(line, cell=None):\n",
    "    \"Magic that works both as %lcmagic and as %%lcmagic\"\n",
    "    if cell is None:\n",
    "        sqlstr = line\n",
    "    else:\n",
    "        sqlstr = \";\".join((op.strip(\";\") for op in cell.strip(\"\\n\").split(\"\\n\"))) + \";\"\n",
    "    return client.query(query=sqlstr)"
   ]
  },
  {
   "cell_type": "code",
   "execution_count": 10,
   "metadata": {},
   "outputs": [
    {
     "data": {
      "text/plain": [
       "ResultSet({'('starfleet_01', None)': [{'time': '2019-08-19T20:52:05Z', 'speed': 774750.9698706511}, {'time': '2019-08-19T20:52:07Z', 'speed': 487121.20016297186}, {'time': '2019-08-19T20:52:09Z', 'speed': 18753.305850476325}, {'time': '2019-08-19T20:52:11Z', 'speed': 17151.44033960194}, {'time': '2019-08-19T20:52:13Z', 'speed': 34535.68231005546}, {'time': '2019-08-19T20:52:15Z', 'speed': 17274.816825933573}, {'time': '2019-08-19T20:52:17Z', 'speed': 31681.839234807274}, {'time': '2019-08-19T20:52:19Z', 'speed': 9354.756781762246}, {'time': '2019-08-19T20:52:21Z', 'speed': 6355.474730264167}, {'time': '2019-08-19T20:52:23Z', 'speed': 40375.16829113543}]})"
      ]
     },
     "execution_count": 10,
     "metadata": {},
     "output_type": "execute_result"
    }
   ],
   "source": [
    "%influxql SELECT speed FROM starfleet_01 WHERE time > now() - 1d LIMIT 10;"
   ]
  },
  {
   "cell_type": "code",
   "execution_count": 11,
   "metadata": {},
   "outputs": [],
   "source": [
    "result = %influxql SELECT speed FROM starfleet_01 WHERE time > now() - 1d LIMIT 10;"
   ]
  },
  {
   "cell_type": "code",
   "execution_count": 12,
   "metadata": {},
   "outputs": [
    {
     "data": {
      "text/plain": [
       "ResultSet({'('starfleet_01', None)': [{'time': '2019-08-19T20:52:07Z', 'speed': 487121.20016297186}, {'time': '2019-08-19T20:52:09Z', 'speed': 18753.305850476325}, {'time': '2019-08-19T20:52:11Z', 'speed': 17151.44033960194}, {'time': '2019-08-19T20:52:13Z', 'speed': 34535.68231005546}, {'time': '2019-08-19T20:52:15Z', 'speed': 17274.816825933573}, {'time': '2019-08-19T20:52:17Z', 'speed': 31681.839234807274}, {'time': '2019-08-19T20:52:19Z', 'speed': 9354.756781762246}, {'time': '2019-08-19T20:52:21Z', 'speed': 6355.474730264167}, {'time': '2019-08-19T20:52:23Z', 'speed': 40375.16829113543}, {'time': '2019-08-19T20:52:25Z', 'speed': 9.829304084029904}]})"
      ]
     },
     "execution_count": 12,
     "metadata": {},
     "output_type": "execute_result"
    }
   ],
   "source": [
    "result"
   ]
  },
  {
   "cell_type": "code",
   "execution_count": 43,
   "metadata": {},
   "outputs": [
    {
     "data": {
      "text/plain": [
       "ResultSet({'('starfleet_01', None)': [{'time': '1970-01-01T00:00:00Z', 'count': 1000000}]})"
      ]
     },
     "execution_count": 43,
     "metadata": {},
     "output_type": "execute_result"
    }
   ],
   "source": [
    "%influxql SELECT COUNT(DISTINCT(pressure_a)) FROM starfleet_01;"
   ]
  },
  {
   "cell_type": "code",
   "execution_count": 39,
   "metadata": {},
   "outputs": [
    {
     "data": {
      "text/plain": [
       "ResultSet({'('starfleet_01', {'region': 'Andoria'})': [{'time': '2019-07-11T00:00:00Z', 'count': 118099}], '('starfleet_01', {'region': 'Deep Space Nine'})': [{'time': '2019-07-11T00:00:00Z', 'count': 118282}], '('starfleet_01', {'region': 'Earth'})': [{'time': '2019-07-11T00:00:00Z', 'count': 117988}], '('starfleet_01', {'region': 'Genesis'})': [{'time': '2019-07-11T00:00:00Z', 'count': 117959}]})"
      ]
     },
     "execution_count": 39,
     "metadata": {},
     "output_type": "execute_result"
    }
   ],
   "source": [
    "%influxql SELECT COUNT(pressure_a) FROM starfleet_01 GROUP BY time(28d), region LIMIT 1;"
   ]
  },
  {
   "cell_type": "code",
   "execution_count": 38,
   "metadata": {},
   "outputs": [
    {
     "data": {
      "text/plain": [
       "ResultSet({'('starfleet_01', {'region': 'Andoria'})': [{'time': '1970-01-01T00:00:00Z', 'mean': 3.499534039730786}], '('starfleet_01', {'region': 'Deep Space Nine'})': [{'time': '1970-01-01T00:00:00Z', 'mean': 3.4999780335201867}], '('starfleet_01', {'region': 'Earth'})': [{'time': '1970-01-01T00:00:00Z', 'mean': 3.5005520567253616}], '('starfleet_01', {'region': 'Genesis'})': [{'time': '1970-01-01T00:00:00Z', 'mean': 3.5013387093463155}]})"
      ]
     },
     "execution_count": 38,
     "metadata": {},
     "output_type": "execute_result"
    }
   ],
   "source": [
    "%influxql SELECT MEAN(pressure_a) FROM starfleet_01 GROUP BY region"
   ]
  },
  {
   "cell_type": "markdown",
   "metadata": {},
   "source": [
    "You can explain query"
   ]
  },
  {
   "cell_type": "code",
   "execution_count": 20,
   "metadata": {},
   "outputs": [
    {
     "data": {
      "text/plain": [
       "ResultSet({'('results', None)': [{'QUERY PLAN': 'EXPRESSION: <nil>'}, {'QUERY PLAN': 'AUXILIARY FIELDS: cmdt::tag, \"curve_b[0]\"::float, \"curve_b[1]\"::float, \"curve_b[2]\"::float, region::tag, spacecraft::tag'}, {'QUERY PLAN': 'NUMBER OF SHARDS: 25'}, {'QUERY PLAN': 'NUMBER OF SERIES: 750'}, {'QUERY PLAN': 'CACHED VALUES: 0'}, {'QUERY PLAN': 'NUMBER OF FILES: 2160'}, {'QUERY PLAN': 'NUMBER OF BLOCKS: 2160'}, {'QUERY PLAN': 'SIZE OF BLOCKS: 5992395'}]})"
      ]
     },
     "execution_count": 20,
     "metadata": {},
     "output_type": "execute_result"
    }
   ],
   "source": [
    "%influxql EXPLAIN SELECT * FROM starfleet_02 WHERE region = 'Andoria' LIMIT 1"
   ]
  },
  {
   "cell_type": "code",
   "execution_count": 21,
   "metadata": {},
   "outputs": [
    {
     "data": {
      "text/plain": [
       "ResultSet({'('results', None)': [{'QUERY PLAN': 'EXPRESSION: <nil>'}, {'QUERY PLAN': 'AUXILIARY FIELDS: cmdt::tag, \"curve_b[0]\"::float, \"curve_b[1]\"::float, \"curve_b[2]\"::float, region::tag, spacecraft::tag'}, {'QUERY PLAN': 'NUMBER OF SHARDS: 25'}, {'QUERY PLAN': 'NUMBER OF SERIES: 3000'}, {'QUERY PLAN': 'CACHED VALUES: 0'}, {'QUERY PLAN': 'NUMBER OF FILES: 8640'}, {'QUERY PLAN': 'NUMBER OF BLOCKS: 8640'}, {'QUERY PLAN': 'SIZE OF BLOCKS: 23943525'}]})"
      ]
     },
     "execution_count": 21,
     "metadata": {},
     "output_type": "execute_result"
    }
   ],
   "source": [
    "%influxql EXPLAIN SELECT * FROM starfleet_02 WHERE pressure_a > 3.5 LIMIT 1"
   ]
  },
  {
   "cell_type": "code",
   "execution_count": 22,
   "metadata": {},
   "outputs": [],
   "source": [
    "res = %influxql SELECT * FROM \"starfleet_01\" WHERE pressure_a > 3.5 LIMIT 50"
   ]
  },
  {
   "cell_type": "code",
   "execution_count": 23,
   "metadata": {},
   "outputs": [],
   "source": [
    "points = res.get_points(tags={\"region\": \"Andoria\"})"
   ]
  },
  {
   "cell_type": "code",
   "execution_count": 24,
   "metadata": {},
   "outputs": [],
   "source": [
    "from pandas import DataFrame"
   ]
  },
  {
   "cell_type": "code",
   "execution_count": 25,
   "metadata": {},
   "outputs": [],
   "source": [
    "df = DataFrame(points)"
   ]
  },
  {
   "cell_type": "code",
   "execution_count": 26,
   "metadata": {},
   "outputs": [
    {
     "data": {
      "text/html": [
       "<div>\n",
       "<style scoped>\n",
       "    .dataframe tbody tr th:only-of-type {\n",
       "        vertical-align: middle;\n",
       "    }\n",
       "\n",
       "    .dataframe tbody tr th {\n",
       "        vertical-align: top;\n",
       "    }\n",
       "\n",
       "    .dataframe thead th {\n",
       "        text-align: right;\n",
       "    }\n",
       "</style>\n",
       "<table border=\"1\" class=\"dataframe\">\n",
       "  <thead>\n",
       "    <tr style=\"text-align: right;\">\n",
       "      <th></th>\n",
       "      <th>cmdt</th>\n",
       "      <th>consumption</th>\n",
       "      <th>pressure_a</th>\n",
       "      <th>region</th>\n",
       "      <th>spacecraft</th>\n",
       "      <th>speed</th>\n",
       "      <th>status_b</th>\n",
       "      <th>time</th>\n",
       "    </tr>\n",
       "  </thead>\n",
       "  <tbody>\n",
       "    <tr>\n",
       "      <th>0</th>\n",
       "      <td>Archer</td>\n",
       "      <td>80.868742</td>\n",
       "      <td>3.764769</td>\n",
       "      <td>Andoria</td>\n",
       "      <td>NX-1707</td>\n",
       "      <td>4.540769e+06</td>\n",
       "      <td>False</td>\n",
       "      <td>2019-07-28T01:35:50Z</td>\n",
       "    </tr>\n",
       "    <tr>\n",
       "      <th>1</th>\n",
       "      <td>Archer</td>\n",
       "      <td>64.351610</td>\n",
       "      <td>3.784118</td>\n",
       "      <td>Andoria</td>\n",
       "      <td>NX-1707</td>\n",
       "      <td>8.549125e+05</td>\n",
       "      <td>False</td>\n",
       "      <td>2019-07-28T01:36:00Z</td>\n",
       "    </tr>\n",
       "    <tr>\n",
       "      <th>2</th>\n",
       "      <td>Archer</td>\n",
       "      <td>60.765559</td>\n",
       "      <td>3.907481</td>\n",
       "      <td>Andoria</td>\n",
       "      <td>NX-1702</td>\n",
       "      <td>1.679463e+05</td>\n",
       "      <td>False</td>\n",
       "      <td>2019-07-28T01:36:04Z</td>\n",
       "    </tr>\n",
       "    <tr>\n",
       "      <th>3</th>\n",
       "      <td>Archer</td>\n",
       "      <td>252.870551</td>\n",
       "      <td>3.800938</td>\n",
       "      <td>Andoria</td>\n",
       "      <td>NX-1706</td>\n",
       "      <td>1.444727e+04</td>\n",
       "      <td>True</td>\n",
       "      <td>2019-07-28T01:36:06Z</td>\n",
       "    </tr>\n",
       "    <tr>\n",
       "      <th>4</th>\n",
       "      <td>Kruge</td>\n",
       "      <td>192.871755</td>\n",
       "      <td>3.930994</td>\n",
       "      <td>Andoria</td>\n",
       "      <td>NX-1702</td>\n",
       "      <td>4.376490e+03</td>\n",
       "      <td>False</td>\n",
       "      <td>2019-07-28T01:36:08Z</td>\n",
       "    </tr>\n",
       "  </tbody>\n",
       "</table>\n",
       "</div>"
      ],
      "text/plain": [
       "     cmdt  consumption  pressure_a   region spacecraft         speed  \\\n",
       "0  Archer    80.868742    3.764769  Andoria    NX-1707  4.540769e+06   \n",
       "1  Archer    64.351610    3.784118  Andoria    NX-1707  8.549125e+05   \n",
       "2  Archer    60.765559    3.907481  Andoria    NX-1702  1.679463e+05   \n",
       "3  Archer   252.870551    3.800938  Andoria    NX-1706  1.444727e+04   \n",
       "4   Kruge   192.871755    3.930994  Andoria    NX-1702  4.376490e+03   \n",
       "\n",
       "   status_b                  time  \n",
       "0     False  2019-07-28T01:35:50Z  \n",
       "1     False  2019-07-28T01:36:00Z  \n",
       "2     False  2019-07-28T01:36:04Z  \n",
       "3      True  2019-07-28T01:36:06Z  \n",
       "4     False  2019-07-28T01:36:08Z  "
      ]
     },
     "execution_count": 26,
     "metadata": {},
     "output_type": "execute_result"
    }
   ],
   "source": [
    "df.head()"
   ]
  },
  {
   "cell_type": "code",
   "execution_count": 27,
   "metadata": {},
   "outputs": [
    {
     "data": {
      "text/html": [
       "<div>\n",
       "<style scoped>\n",
       "    .dataframe tbody tr th:only-of-type {\n",
       "        vertical-align: middle;\n",
       "    }\n",
       "\n",
       "    .dataframe tbody tr th {\n",
       "        vertical-align: top;\n",
       "    }\n",
       "\n",
       "    .dataframe thead th {\n",
       "        text-align: right;\n",
       "    }\n",
       "</style>\n",
       "<table border=\"1\" class=\"dataframe\">\n",
       "  <thead>\n",
       "    <tr style=\"text-align: right;\">\n",
       "      <th></th>\n",
       "      <th>cmdt</th>\n",
       "      <th>consumption</th>\n",
       "      <th>pressure_a</th>\n",
       "      <th>region</th>\n",
       "      <th>speed</th>\n",
       "      <th>status_b</th>\n",
       "      <th>time</th>\n",
       "    </tr>\n",
       "    <tr>\n",
       "      <th>spacecraft</th>\n",
       "      <th></th>\n",
       "      <th></th>\n",
       "      <th></th>\n",
       "      <th></th>\n",
       "      <th></th>\n",
       "      <th></th>\n",
       "      <th></th>\n",
       "    </tr>\n",
       "  </thead>\n",
       "  <tbody>\n",
       "    <tr>\n",
       "      <th>NX-1701</th>\n",
       "      <td>Kirk</td>\n",
       "      <td>226.626952</td>\n",
       "      <td>3.518973</td>\n",
       "      <td>Andoria</td>\n",
       "      <td>6.987498e+05</td>\n",
       "      <td>False</td>\n",
       "      <td>2019-07-28T01:38:44Z</td>\n",
       "    </tr>\n",
       "    <tr>\n",
       "      <th>NX-1702</th>\n",
       "      <td>Kruge</td>\n",
       "      <td>217.135955</td>\n",
       "      <td>3.952388</td>\n",
       "      <td>Andoria</td>\n",
       "      <td>6.735246e+05</td>\n",
       "      <td>True</td>\n",
       "      <td>2019-07-28T01:37:38Z</td>\n",
       "    </tr>\n",
       "    <tr>\n",
       "      <th>NX-1704</th>\n",
       "      <td>Kruge</td>\n",
       "      <td>278.172741</td>\n",
       "      <td>3.976138</td>\n",
       "      <td>Andoria</td>\n",
       "      <td>2.770339e+01</td>\n",
       "      <td>True</td>\n",
       "      <td>2019-07-28T01:37:54Z</td>\n",
       "    </tr>\n",
       "    <tr>\n",
       "      <th>NX-1705</th>\n",
       "      <td>Kirk</td>\n",
       "      <td>197.423732</td>\n",
       "      <td>3.964069</td>\n",
       "      <td>Andoria</td>\n",
       "      <td>4.300635e+04</td>\n",
       "      <td>True</td>\n",
       "      <td>2019-07-28T01:37:42Z</td>\n",
       "    </tr>\n",
       "    <tr>\n",
       "      <th>NX-1706</th>\n",
       "      <td>Kruge</td>\n",
       "      <td>252.870551</td>\n",
       "      <td>3.800938</td>\n",
       "      <td>Andoria</td>\n",
       "      <td>1.444727e+04</td>\n",
       "      <td>True</td>\n",
       "      <td>2019-07-28T01:37:02Z</td>\n",
       "    </tr>\n",
       "    <tr>\n",
       "      <th>NX-1707</th>\n",
       "      <td>Kruge</td>\n",
       "      <td>289.899273</td>\n",
       "      <td>3.913948</td>\n",
       "      <td>Andoria</td>\n",
       "      <td>4.540769e+06</td>\n",
       "      <td>True</td>\n",
       "      <td>2019-07-28T01:38:46Z</td>\n",
       "    </tr>\n",
       "    <tr>\n",
       "      <th>NX-1709</th>\n",
       "      <td>Kruge</td>\n",
       "      <td>272.085362</td>\n",
       "      <td>3.734222</td>\n",
       "      <td>Andoria</td>\n",
       "      <td>1.653500e+05</td>\n",
       "      <td>True</td>\n",
       "      <td>2019-07-28T01:37:30Z</td>\n",
       "    </tr>\n",
       "    <tr>\n",
       "      <th>NX-1710</th>\n",
       "      <td>Kruge</td>\n",
       "      <td>297.309907</td>\n",
       "      <td>3.875039</td>\n",
       "      <td>Andoria</td>\n",
       "      <td>5.887814e+04</td>\n",
       "      <td>True</td>\n",
       "      <td>2019-07-28T01:38:20Z</td>\n",
       "    </tr>\n",
       "  </tbody>\n",
       "</table>\n",
       "</div>"
      ],
      "text/plain": [
       "             cmdt  consumption  pressure_a   region         speed  status_b  \\\n",
       "spacecraft                                                                    \n",
       "NX-1701      Kirk   226.626952    3.518973  Andoria  6.987498e+05     False   \n",
       "NX-1702     Kruge   217.135955    3.952388  Andoria  6.735246e+05      True   \n",
       "NX-1704     Kruge   278.172741    3.976138  Andoria  2.770339e+01      True   \n",
       "NX-1705      Kirk   197.423732    3.964069  Andoria  4.300635e+04      True   \n",
       "NX-1706     Kruge   252.870551    3.800938  Andoria  1.444727e+04      True   \n",
       "NX-1707     Kruge   289.899273    3.913948  Andoria  4.540769e+06      True   \n",
       "NX-1709     Kruge   272.085362    3.734222  Andoria  1.653500e+05      True   \n",
       "NX-1710     Kruge   297.309907    3.875039  Andoria  5.887814e+04      True   \n",
       "\n",
       "                            time  \n",
       "spacecraft                        \n",
       "NX-1701     2019-07-28T01:38:44Z  \n",
       "NX-1702     2019-07-28T01:37:38Z  \n",
       "NX-1704     2019-07-28T01:37:54Z  \n",
       "NX-1705     2019-07-28T01:37:42Z  \n",
       "NX-1706     2019-07-28T01:37:02Z  \n",
       "NX-1707     2019-07-28T01:38:46Z  \n",
       "NX-1709     2019-07-28T01:37:30Z  \n",
       "NX-1710     2019-07-28T01:38:20Z  "
      ]
     },
     "execution_count": 27,
     "metadata": {},
     "output_type": "execute_result"
    }
   ],
   "source": [
    "df.groupby('spacecraft').max()"
   ]
  },
  {
   "cell_type": "code",
   "execution_count": 28,
   "metadata": {},
   "outputs": [
    {
     "data": {
      "text/plain": [
       "ResultSet({'('results', None)': [{'qid': 2821, 'query': 'SHOW QUERIES', 'database': 'example', 'duration': '171µs', 'status': 'running'}]})"
      ]
     },
     "execution_count": 28,
     "metadata": {},
     "output_type": "execute_result"
    }
   ],
   "source": [
    "%influxql SHOW QUERIES;"
   ]
  },
  {
   "cell_type": "code",
   "execution_count": 29,
   "metadata": {},
   "outputs": [
    {
     "data": {
      "text/plain": [
       "ResultSet({'('starfleet_01', None)': [{'tagKey': 'cmdt'}, {'tagKey': 'region'}, {'tagKey': 'spacecraft'}], '('starfleet_02', None)': [{'tagKey': 'cmdt'}, {'tagKey': 'region'}, {'tagKey': 'spacecraft'}]})"
      ]
     },
     "execution_count": 29,
     "metadata": {},
     "output_type": "execute_result"
    }
   ],
   "source": [
    "%influxql SHOW TAG KEYS;"
   ]
  },
  {
   "cell_type": "code",
   "execution_count": null,
   "metadata": {},
   "outputs": [],
   "source": []
  }
 ],
 "metadata": {
  "kernelspec": {
   "display_name": "Python 3",
   "language": "python",
   "name": "python3"
  },
  "language_info": {
   "codemirror_mode": {
    "name": "ipython",
    "version": 3
   },
   "file_extension": ".py",
   "mimetype": "text/x-python",
   "name": "python",
   "nbconvert_exporter": "python",
   "pygments_lexer": "ipython3",
   "version": "3.7.3"
  }
 },
 "nbformat": 4,
 "nbformat_minor": 4
}
