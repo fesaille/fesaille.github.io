{
 "cells": [
  {
   "cell_type": "markdown",
   "metadata": {},
   "source": [
    "Python is an interpreted, high-level, general-purpose programming language. Created by Guido van Rossum and first released in 1991, Python's design philosophy emphasizes code readability with its notable use of significant whitespace. Its language constructs and object-oriented approach aim to help programmers write clear, logical code for small and large-scale projects.\n",
    "\n",
    "Python is dynamically typed and garbage-collected. It supports multiple programming paradigms, including procedural, object-oriented, and functional programming. Python is often described as a \"batteries included\" language due to its comprehensive standard library."
   ]
  },
  {
   "cell_type": "markdown",
   "metadata": {},
   "source": [
    "<sup id=\"fn1\">[src]</sup><a href=\"http://cpython-devguide.readthedocs.io/compiler/\">Design of CPython’s Compiler</a><br/>\n",
    "<sup id=\"fn1\">[src]</sup> <a href=\"http://pgbovine.net/cpython-internals.htm\">Philip Guo CPython internals lectures</a><br/>\n",
    "<sup id=\"fn1\">[src]</sup> <a href=\"http://trizpug.org/Members/cbc/wyntkap/compiler.html\" title=\"PyOhio PyCamp 2014 :: The Compiler\">PyOhio PyCamp 2014 :: The Compiler</a><br/>\n",
    "<sup id=\"fn1\">[src]</sup> <a href=\"https://greentreesnakes.readthedocs.io\" title=\"The missing Python AST docs\">The missing Python AST docs</a><br/>\n",
    "<sup id=\"fn1\">[src]</sup> <a href=\"pythontutor.com\" title=\"Visualize program execution\">Visualize program execution</a><br/>"
   ]
  },
  {
   "cell_type": "markdown",
   "metadata": {},
   "source": [
    "# High-level"
   ]
  },
  {
   "cell_type": "markdown",
   "metadata": {},
   "source": [
    "In computer science, a high-level programming language is a programming language with strong abstraction from the details of the computer. In contrast to low-level programming languages, it may use natural language elements, be easier to use, or may automate (or even hide entirely) significant areas of computing systems (e.g. memory management), making the process of developing a program simpler and more understandable than when using a lower-level language\n",
    "\n",
    "[*Wikipedia*](https://en.wikipedia.org/wiki/High-level_programming_language)"
   ]
  },
  {
   "cell_type": "markdown",
   "metadata": {},
   "source": [
    "# Interpreted"
   ]
  },
  {
   "cell_type": "markdown",
   "metadata": {},
   "source": [
    "There are three general modes of execution for modern high-level languages:\n",
    "\n",
    "- **Interpreted**: the syntax is read and then executed directly, with no compilation stage. A program called an interpreter reads each program statement, following the program flow, then decides what to do, and does it.\n",
    "\n",
    "- **Compiled**: the code written in a language is compiled, its syntax is transformed into an executable form before running. There are two types of compilation:\n",
    "    - **Machine code generation**\n",
    "    - **Intermediate representations**: the code written in a language is compiled to an intermediate representation, that representation can be optimized or saved for later execution without the need to re-read the source file. When the intermediate representation is saved, it may be in a form such as bytecode. The intermediate representation must then be interpreted or further compiled to execute it.\n",
    "\n",
    "- **Source-to-source translated or transcompiled**"
   ]
  },
  {
   "cell_type": "markdown",
   "metadata": {},
   "source": [
    "# Code structure\n",
    "\n",
    "The code directory structure is described in <a href=\"http://cpython-devguide.readthedocs.io/setup/#directory-structure\">Python Developer's Guide</a>. Guido van Rossum summarizes it in <a href=\"https://paper.dropbox.com/doc/Yet-another-guided-tour-of-CPython-XY7KgFGn88zMNivGJ4Jzv\">Yet another guided tour of CPython</a>\n",
    "\n",
    "- Include — header files\n",
    "- Objects — object implementations, from int to type\n",
    "- Python — interpreter, bytecode compiler and other essential infrastructure\n",
    "- Parser — parser, lexer and parser generator\n",
    "- Modules — stdlib extension modules, and `main.c` \n",
    "- Programs — not much, but has the real `main()` function"
   ]
  },
  {
   "cell_type": "raw",
   "metadata": {},
   "source": [
    "cpython/\n",
    "│\n",
    "├── Doc      ← Source for the documentation\n",
    "├── Grammar  ← The computer-readable language definition\n",
    "├── Include  ← The C header files\n",
    "├── Lib      ← Standard library modules written in Python\n",
    "├── Mac      ← macOS support files\n",
    "├── Misc     ← Miscellaneous files\n",
    "├── Modules  ← Standard Library Modules written in C\n",
    "├── Objects  ← Core types and the object model\n",
    "├── Parser   ← The Python parser source code\n",
    "├── PC       ← Windows build support files\n",
    "├── PCbuild  ← Windows build support files for older Windows versions\n",
    "├── Programs ← Source code for the python executable and other binaries\n",
    "├── Python   ← The CPython interpreter source code\n",
    "└── Tools    ← Standalone tools useful for building or extending Python"
   ]
  },
  {
   "cell_type": "markdown",
   "metadata": {},
   "source": [
    "In CPython, the compilation from source code to bytecode involves several steps <sup id=\"fn1\"><a href=\"http://cpython-devguide.readthedocs.io/compiler/\">[src]</a></sup>\n",
    "\n",
    "- Parse source code into a parse tree (Parser/pgen.c)\n",
    "- Transform parse tree into an Abstract Syntax Tree (Python/ast.c)\n",
    "- Transform AST into a Control Flow Graph (Python/compile.c)\n",
    "- Emit bytecode based on the Control Flow Graph (Python/compile.c)"
   ]
  },
  {
   "cell_type": "markdown",
   "metadata": {},
   "source": [
    "### AST\n",
    "\n",
    "[Doc](https://docs.python.org/3/library/ast.html)\n",
    "\n",
    "The code is parsed, i.e. split up into a list of pieces called tokens. These tokens are based on a set of rules for things that should be treated differently. For instance, the keyword *if* is a different token than a numeric value like *42*.\n",
    "\n",
    "The list of tokens is transformed to build an **Abstract Syntax Tree, AST**, collection of nodes which are linked together based on the Python language [grammar](https://docs.python.org/3/reference/grammar.html).\n",
    "\n",
    "In python, everything is an object, AST represents logicaly each element as an object. [A third pary documentation on AST](https://greentreesnakes.readthedocs.io)"
   ]
  },
  {
   "cell_type": "code",
   "execution_count": 10,
   "metadata": {},
   "outputs": [],
   "source": [
    "import ast\n",
    "from ast import PyCF_ONLY_AST"
   ]
  },
  {
   "cell_type": "code",
   "execution_count": 122,
   "metadata": {},
   "outputs": [],
   "source": [
    "# The code is beeing striped to remove\n",
    "# left and right space before parsing\n",
    "# and limit thee size of the tree\n",
    "code = \"\"\"\n",
    "def hello(who: str) -> None:\n",
    "    msg = f'Hello {who}'\n",
    "    print(msg)\n",
    "\n",
    "hello(\"world\")\n",
    "\"\"\"\n",
    "\n",
    "code = code.strip()"
   ]
  },
  {
   "cell_type": "markdown",
   "metadata": {},
   "source": [
    "Execute the code"
   ]
  },
  {
   "cell_type": "code",
   "execution_count": 88,
   "metadata": {},
   "outputs": [
    {
     "name": "stdout",
     "output_type": "stream",
     "text": [
      "Hello world\n"
     ]
    }
   ],
   "source": [
    "exec(code)"
   ]
  },
  {
   "cell_type": "code",
   "execution_count": 89,
   "metadata": {},
   "outputs": [],
   "source": [
    "tree = ast.parse(code)"
   ]
  },
  {
   "cell_type": "markdown",
   "metadata": {},
   "source": [
    "The code is seen as two elements in the tree"
   ]
  },
  {
   "cell_type": "code",
   "execution_count": 102,
   "metadata": {},
   "outputs": [
    {
     "name": "stdout",
     "output_type": "stream",
     "text": [
      "0 <_ast.FunctionDef object at 0x7f79c9aa0690>\n",
      "1 <_ast.Expr object at 0x7f79c9ad1890>\n"
     ]
    }
   ],
   "source": [
    "for i, elt in enumerate(tree.body):\n",
    "    print(i, elt)"
   ]
  },
  {
   "cell_type": "code",
   "execution_count": 104,
   "metadata": {},
   "outputs": [],
   "source": [
    "# Get the FunctionDef\n",
    "fdef = tree.body[0]\n",
    "# Get the first function argument\n",
    "arg = fdef.args.args[0]"
   ]
  },
  {
   "cell_type": "markdown",
   "metadata": {},
   "source": [
    "Some informations from the tree can be retrieved:"
   ]
  },
  {
   "cell_type": "code",
   "execution_count": 110,
   "metadata": {},
   "outputs": [
    {
     "name": "stdout",
     "output_type": "stream",
     "text": [
      "who: str at col #10\n"
     ]
    }
   ],
   "source": [
    "print(f'{arg.arg}: {arg.annotation.id} at col #{arg.col_offset}')"
   ]
  },
  {
   "cell_type": "markdown",
   "metadata": {},
   "source": [
    "The code can be compiled"
   ]
  },
  {
   "cell_type": "code",
   "execution_count": 112,
   "metadata": {},
   "outputs": [
    {
     "name": "stdout",
     "output_type": "stream",
     "text": [
      "Hello world\n"
     ]
    }
   ],
   "source": [
    "lines = [None] + code.splitlines()  # None at [0] so we can index lines from 1\n",
    "test_namespace = {}\n",
    "\n",
    "for node in tree.body:\n",
    "    wrapper = ast.Module(body=[node])\n",
    "    try:\n",
    "        co = compile(wrapper, \"<ast>\", 'exec')\n",
    "        exec(co, test_namespace)\n",
    "    except AssertionError as e:\n",
    "        print(\"Assertion failed on line\", node.lineno, \":\")\n",
    "        print(lines[node.lineno])\n",
    "        # If the error has a message, show it.\n",
    "        if e.args:\n",
    "            print(e)\n",
    "        print()"
   ]
  },
  {
   "cell_type": "code",
   "execution_count": 116,
   "metadata": {},
   "outputs": [],
   "source": [
    "code = compile(tree, filename=\"<ast>\", mode=\"exec\")"
   ]
  },
  {
   "cell_type": "code",
   "execution_count": 120,
   "metadata": {},
   "outputs": [
    {
     "name": "stdout",
     "output_type": "stream",
     "text": [
      "hello\n"
     ]
    }
   ],
   "source": [
    "class FuncLister(ast.NodeVisitor):\n",
    "    def visit_FunctionDef(self, node):\n",
    "        print(node.name)\n",
    "        self.generic_visit(node)\n",
    "\n",
    "FuncLister().visit(tree)"
   ]
  },
  {
   "cell_type": "markdown",
   "metadata": {},
   "source": [
    "### Bytecode\n",
    "\n",
    "From an abstract syntax tree, the interpreter can produce a lower level form of instructions called **bytecode**. These instructions are things like `BINARY_ADD` and are meant to be very generic so that a computer can run them."
   ]
  },
  {
   "cell_type": "code",
   "execution_count": 1,
   "metadata": {},
   "outputs": [
    {
     "name": "stdout",
     "output_type": "stream",
     "text": [
      "Hello, World!\n"
     ]
    }
   ],
   "source": [
    "print(\"Hello, World!\")"
   ]
  },
  {
   "cell_type": "code",
   "execution_count": 2,
   "metadata": {},
   "outputs": [
    {
     "name": "stdout",
     "output_type": "stream",
     "text": [
      "  1           0 LOAD_NAME                0 (print)\n",
      "              2 LOAD_CONST               0 ('Hello, World!')\n",
      "              4 CALL_FUNCTION            1\n",
      "              6 RETURN_VALUE\n"
     ]
    }
   ],
   "source": [
    "from dis import dis\n",
    "dis('print(\"Hello, World!\")')"
   ]
  },
  {
   "cell_type": "markdown",
   "metadata": {},
   "source": [
    "CPython uses a stack-based virtual machine. That is, it's oriented entirely around stack data structures (where you can \"push\" an item onto the \"top\" of the structure, or \"pop\" an item off the \"top\")."
   ]
  },
  {
   "cell_type": "markdown",
   "metadata": {},
   "source": [
    "With the bytecode instructions available, the interpreter can finally run your code. The bytecode is used to call functions in your operating system which will ultimately interact with a CPU and memory to run the program."
   ]
  },
  {
   "cell_type": "markdown",
   "metadata": {
    "extensions": {
     "jupyter_dashboards": {
      "version": 1,
      "views": {
       "grid_default": {
        "hidden": true
       },
       "report_default": {}
      }
     }
    }
   },
   "source": [
    "# Opcodes and main interpreter loop"
   ]
  },
  {
   "cell_type": "code",
   "execution_count": 126,
   "metadata": {
    "extensions": {
     "jupyter_dashboards": {
      "version": 1,
      "views": {
       "grid_default": {
        "hidden": true
       },
       "report_default": {}
      }
     }
    }
   },
   "outputs": [],
   "source": [
    "import tempfile\n",
    "from os.path import join as pjoin\n",
    "\n",
    "tmp = tempfile.gettempdir()\n",
    "fName = pjoin(tmp, 'test.py')\n",
    "\n",
    "codeExemple = \"\"\"ppl = ['Alice', 'Bob', 'Carol', 'Doug']\n",
    "excited_ppl = [e + '!!' for e in ppl]\n",
    "ppl_len = [len(x) for x in ppl]\"\"\"\n",
    "\n",
    "\n",
    "with open(fName, 'w') as f:\n",
    "    f.write(codeExemple)"
   ]
  },
  {
   "cell_type": "code",
   "execution_count": 127,
   "metadata": {
    "extensions": {
     "jupyter_dashboards": {
      "version": 1,
      "views": {
       "grid_default": {
        "col": 0,
        "height": 11,
        "hidden": false,
        "row": 42,
        "width": 4
       },
       "report_default": {}
      }
     }
    }
   },
   "outputs": [
    {
     "name": "stdout",
     "output_type": "stream",
     "text": [
      "  1           0 LOAD_CONST               0 ('Alice')\n",
      "              2 LOAD_CONST               1 ('Bob')\n",
      "              4 LOAD_CONST               2 ('Carol')\n",
      "              6 LOAD_CONST               3 ('Doug')\n",
      "              8 BUILD_LIST               4\n",
      "             10 STORE_NAME               0 (ppl)\n",
      "\n",
      "  2          12 LOAD_CONST               4 (<code object <listcomp> at 0x7f43f9dc4ed0, file \"/tmp/test.py\", line 2>)\n",
      "             14 LOAD_CONST               5 ('<listcomp>')\n",
      "             16 MAKE_FUNCTION            0\n",
      "             18 LOAD_NAME                0 (ppl)\n",
      "             20 GET_ITER\n",
      "             22 CALL_FUNCTION            1\n",
      "             24 STORE_NAME               1 (excited_ppl)\n",
      "\n",
      "  3          26 LOAD_CONST               6 (<code object <listcomp> at 0x7f43f9dca390, file \"/tmp/test.py\", line 3>)\n",
      "             28 LOAD_CONST               5 ('<listcomp>')\n",
      "             30 MAKE_FUNCTION            0\n",
      "             32 LOAD_NAME                0 (ppl)\n",
      "             34 GET_ITER\n",
      "             36 CALL_FUNCTION            1\n",
      "             38 STORE_NAME               2 (ppl_len)\n",
      "             40 LOAD_CONST               7 (None)\n",
      "             42 RETURN_VALUE\n",
      "\n",
      "Disassembly of <code object <listcomp> at 0x7f43f9dc4ed0, file \"/tmp/test.py\", line 2>:\n",
      "  2           0 BUILD_LIST               0\n",
      "              2 LOAD_FAST                0 (.0)\n",
      "        >>    4 FOR_ITER                12 (to 18)\n",
      "              6 STORE_FAST               1 (e)\n",
      "              8 LOAD_FAST                1 (e)\n",
      "             10 LOAD_CONST               0 ('!!')\n",
      "             12 BINARY_ADD\n",
      "             14 LIST_APPEND              2\n",
      "             16 JUMP_ABSOLUTE            4\n",
      "        >>   18 RETURN_VALUE\n",
      "\n",
      "Disassembly of <code object <listcomp> at 0x7f43f9dca390, file \"/tmp/test.py\", line 3>:\n",
      "  3           0 BUILD_LIST               0\n",
      "              2 LOAD_FAST                0 (.0)\n",
      "        >>    4 FOR_ITER                12 (to 18)\n",
      "              6 STORE_FAST               1 (x)\n",
      "              8 LOAD_GLOBAL              0 (len)\n",
      "             10 LOAD_FAST                1 (x)\n",
      "             12 CALL_FUNCTION            1\n",
      "             14 LIST_APPEND              2\n",
      "             16 JUMP_ABSOLUTE            4\n",
      "        >>   18 RETURN_VALUE\n"
     ]
    }
   ],
   "source": [
    "!python -m dis {fName}"
   ]
  },
  {
   "cell_type": "code",
   "execution_count": 128,
   "metadata": {
    "extensions": {
     "jupyter_dashboards": {
      "version": 1,
      "views": {
       "grid_default": {
        "hidden": true
       },
       "report_default": {}
      }
     }
    }
   },
   "outputs": [],
   "source": [
    "c = compile(codeExemple, 'test.py', 'exec')"
   ]
  },
  {
   "cell_type": "code",
   "execution_count": 129,
   "metadata": {
    "extensions": {
     "jupyter_dashboards": {
      "version": 1,
      "views": {
       "grid_default": {
        "col": 0,
        "height": 4,
        "hidden": false,
        "row": 4,
        "width": 4
       },
       "report_default": {}
      }
     }
    }
   },
   "outputs": [
    {
     "data": {
      "text/plain": [
       "b'd\\x00d\\x01d\\x02d\\x03g\\x04Z\\x00d\\x04d\\x05\\x84\\x00e\\x00D\\x00\\x83\\x01Z\\x01d\\x06d\\x05\\x84\\x00e\\x00D\\x00\\x83\\x01Z\\x02d\\x07S\\x00'"
      ]
     },
     "execution_count": 129,
     "metadata": {},
     "output_type": "execute_result"
    }
   ],
   "source": [
    "c.co_code"
   ]
  },
  {
   "cell_type": "code",
   "execution_count": 130,
   "metadata": {
    "extensions": {
     "jupyter_dashboards": {
      "version": 1,
      "views": {
       "grid_default": {
        "col": 8,
        "height": 4,
        "hidden": false,
        "row": 4,
        "width": 4
       },
       "report_default": {}
      }
     }
    }
   },
   "outputs": [
    {
     "name": "stdout",
     "output_type": "stream",
     "text": [
      "ppl = ['Alice', 'Bob', 'Carol', 'Doug']\n",
      "excited_ppl = [e + '!!' for e in ppl]\n",
      "ppl_len = [len(x) for x in ppl]"
     ]
    }
   ],
   "source": [
    "!cat {fName}"
   ]
  },
  {
   "cell_type": "markdown",
   "metadata": {
    "extensions": {
     "jupyter_dashboards": {
      "version": 1,
      "views": {
       "grid_default": {
        "col": 4,
        "height": 4,
        "hidden": false,
        "row": 42,
        "width": 4
       },
       "report_default": {}
      }
     }
    }
   },
   "source": [
    "## opcode.h"
   ]
  },
  {
   "cell_type": "code",
   "execution_count": 131,
   "metadata": {
    "extensions": {
     "jupyter_dashboards": {
      "version": 1,
      "views": {
       "grid_default": {
        "col": 8,
        "height": 11,
        "hidden": false,
        "row": 42,
        "width": 4
       },
       "report_default": {}
      }
     }
    }
   },
   "outputs": [
    {
     "name": "stdout",
     "output_type": "stream",
     "text": [
      "/* Auto-generated by Tools/scripts/generate_opcode_h.py from Lib/opcode.py */\n",
      "#ifndef Py_OPCODE_H\n",
      "#define Py_OPCODE_H\n",
      "#ifdef __cplusplus\n",
      "extern \"C\" {\n",
      "#endif\n",
      "\n",
      "\n",
      "    /* Instruction opcodes for compiled code */\n",
      "#define POP_TOP                   1\n",
      "#define ROT_TWO                   2\n",
      "#define ROT_THREE                 3\n",
      "#define DUP_TOP                   4\n",
      "#define DUP_TOP_TWO               5\n",
      "#define ROT_FOUR                  6\n",
      "#define NOP                       9\n",
      "#define UNARY_POSITIVE           10\n",
      "#define UNARY_NEGATIVE           11\n",
      "#define UNARY_NOT                12\n",
      "#define UNARY_INVERT             15\n",
      "#define BINARY_MATRIX_MULTIPLY   16\n",
      "#define INPLACE_MATRIX_MULTIPLY  17\n",
      "#define BINARY_POWER             19\n",
      "#define BINARY_MULTIPLY          20\n",
      "#define BINARY_MODULO            22\n",
      "#define BINARY_ADD               23\n",
      "#define BINARY_SUBTRACT          24\n",
      "#define BINARY_SUBSCR            25\n",
      "#define BINARY_FLOOR_DIVIDE      26\n",
      "#define BINARY_TRUE_DIVIDE       27\n"
     ]
    }
   ],
   "source": [
    "!wget --quiet https://raw.githubusercontent.com/python/cpython/master/Include/opcode.h -O {tmp}/opcode.h\n",
    "!head -n 30 {tmp}/opcode.h"
   ]
  },
  {
   "cell_type": "markdown",
   "metadata": {
    "extensions": {
     "jupyter_dashboards": {
      "version": 1,
      "views": {
       "grid_default": {
        "col": 4,
        "height": 4,
        "hidden": false,
        "row": 46,
        "width": 4
       },
       "report_default": {}
      }
     }
    }
   },
   "source": [
    "## ceval.c"
   ]
  },
  {
   "cell_type": "code",
   "execution_count": 133,
   "metadata": {
    "extensions": {
     "jupyter_dashboards": {
      "version": 1,
      "views": {
       "grid_default": {
        "col": 4,
        "height": 11,
        "hidden": false,
        "row": 50,
        "width": 4
       },
       "report_default": {}
      }
     }
    }
   },
   "outputs": [
    {
     "name": "stdout",
     "output_type": "stream",
     "text": [
      "\n",
      "/* Execute compiled code */\n",
      "\n",
      "/* XXX TO DO:\n",
      "   XXX speed up searching for keywords by using a dictionary\n",
      "   XXX document it!\n",
      "   */\n",
      "\n",
      "/* enable more aggressive intra-module optimizations, where available */\n",
      "#define PY_LOCAL_AGGRESSIVE\n",
      "\n",
      "#include \"Python.h\"\n",
      "#include \"pycore_call.h\"\n",
      "#include \"pycore_ceval.h\"\n",
      "#include \"pycore_code.h\"\n",
      "#include \"pycore_object.h\"\n",
      "#include \"pycore_pyerrors.h\"\n",
      "#include \"pycore_pylifecycle.h\"\n",
      "#include \"pycore_pystate.h\"\n",
      "#include \"pycore_tupleobject.h\"\n"
     ]
    }
   ],
   "source": [
    "!wget --quiet https://raw.githubusercontent.com/python/cpython/master/Python/ceval.c -O {tmp}/ceval.c\n",
    "!head -n 20 {tmp}/ceval.c"
   ]
  },
  {
   "cell_type": "markdown",
   "metadata": {
    "extensions": {
     "jupyter_dashboards": {
      "version": 1,
      "views": {
       "grid_default": {
        "hidden": true
       },
       "report_default": {}
      }
     }
    }
   },
   "source": [
    "<iframe width=\"800\" height=\"500\" frameborder=\"0\" src=\"http://pythontutor.com/iframe-embed.html#code=x+%3D+5%0Ay+%3D+10%0Az+%3D+x+%2B+y&cumulative=false&py=2&curInstr=3\"/>"
   ]
  },
  {
   "cell_type": "markdown",
   "metadata": {},
   "source": [
    "# General purpose"
   ]
  },
  {
   "cell_type": "markdown",
   "metadata": {},
   "source": [
    "[https://awesome-python.com/](awesome-python):"
   ]
  },
  {
   "cell_type": "markdown",
   "metadata": {},
   "source": [
    "___\n",
    "References:\n",
    "- [Your Guide to the CPython Source Code](https://realpython.com/cpython-source-code-guide/)\n",
    "- [Inside The Python Virtual Machine](https://leanpub.com/insidethepythonvirtualmachine/read)\n",
    "- [An introduction to Python bytecode](https://opensource.com/article/18/4/introduction-python-bytecode)\n",
    "- [Deciphering Python: How to use Abstract Syntax Trees (AST) to understand code\n",
    "](https://www.mattlayman.com/blog/2018/decipher-python-ast/)"
   ]
  },
  {
   "cell_type": "markdown",
   "metadata": {},
   "source": [
    "# Garbage collected"
   ]
  },
  {
   "cell_type": "markdown",
   "metadata": {},
   "source": [
    "https://github.com/python/cpython/blob/ce6a070414ed1e1374d1e6212bfbff61b6d5d755/Include/object.h#L104"
   ]
  },
  {
   "cell_type": "code",
   "execution_count": 134,
   "metadata": {},
   "outputs": [],
   "source": [
    "from sys import getrefcount"
   ]
  },
  {
   "cell_type": "code",
   "execution_count": 135,
   "metadata": {},
   "outputs": [],
   "source": [
    "a = \"un\""
   ]
  },
  {
   "cell_type": "code",
   "execution_count": 136,
   "metadata": {},
   "outputs": [
    {
     "data": {
      "text/plain": [
       "2"
      ]
     },
     "execution_count": 136,
     "metadata": {},
     "output_type": "execute_result"
    }
   ],
   "source": [
    "getrefcount(a)"
   ]
  },
  {
   "cell_type": "code",
   "execution_count": 137,
   "metadata": {},
   "outputs": [],
   "source": [
    "b = a"
   ]
  },
  {
   "cell_type": "code",
   "execution_count": 138,
   "metadata": {},
   "outputs": [
    {
     "data": {
      "text/plain": [
       "True"
      ]
     },
     "execution_count": 138,
     "metadata": {},
     "output_type": "execute_result"
    }
   ],
   "source": [
    "b is a"
   ]
  },
  {
   "cell_type": "code",
   "execution_count": 139,
   "metadata": {},
   "outputs": [
    {
     "data": {
      "text/plain": [
       "3"
      ]
     },
     "execution_count": 139,
     "metadata": {},
     "output_type": "execute_result"
    }
   ],
   "source": [
    "getrefcount(a)"
   ]
  },
  {
   "cell_type": "code",
   "execution_count": 140,
   "metadata": {},
   "outputs": [],
   "source": [
    "del(b)"
   ]
  },
  {
   "cell_type": "code",
   "execution_count": 141,
   "metadata": {},
   "outputs": [
    {
     "data": {
      "text/plain": [
       "2"
      ]
     },
     "execution_count": 141,
     "metadata": {},
     "output_type": "execute_result"
    }
   ],
   "source": [
    "getrefcount(a)"
   ]
  },
  {
   "cell_type": "code",
   "execution_count": null,
   "metadata": {},
   "outputs": [],
   "source": []
  }
 ],
 "metadata": {
  "kernelspec": {
   "display_name": "Python 3",
   "language": "python",
   "name": "python3"
  },
  "language_info": {
   "codemirror_mode": {
    "name": "ipython",
    "version": 3
   },
   "file_extension": ".py",
   "mimetype": "text/x-python",
   "name": "python",
   "nbconvert_exporter": "python",
   "pygments_lexer": "ipython3",
   "version": "3.7.6"
  }
 },
 "nbformat": 4,
 "nbformat_minor": 4
}
