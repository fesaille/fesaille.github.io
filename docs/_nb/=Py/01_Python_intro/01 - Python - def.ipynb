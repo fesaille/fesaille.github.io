{
 "cells": [
  {
   "cell_type": "markdown",
   "metadata": {},
   "source": [
    "> Python is an interpreted, high-level, general-purpose programming language. Created by Guido van Rossum and first released in 1991, Python's design philosophy emphasizes code readability with its notable use of significant whitespace. Its language constructs and object-oriented approach aim to help programmers write clear, logical code for small and large-scale projects.\n",
    ">\n",
    "> Python is dynamically typed and garbage-collected. It supports multiple programming paradigms, including procedural, object-oriented, and functional programming. Python is often described as a \"batteries included\" language due to its comprehensive standard library."
   ]
  },
  {
   "cell_type": "markdown",
   "metadata": {},
   "source": [
    "# High-level"
   ]
  },
  {
   "cell_type": "markdown",
   "metadata": {},
   "source": [
    "> In computer science, a high-level programming language is a programming language with strong abstraction from the details of the computer. In contrast to low-level programming languages, it may use natural language elements, be easier to use, or may automate (or even hide entirely) significant areas of computing systems (e.g. memory management), making the process of developing a program simpler and more understandable than when using a lower-level language\n",
    ">\n",
    "> [*Wikipedia*](https://en.wikipedia.org/wiki/High-level_programming_language)"
   ]
  },
  {
   "cell_type": "markdown",
   "metadata": {},
   "source": [
    "# Interpreted"
   ]
  },
  {
   "cell_type": "markdown",
   "metadata": {},
   "source": [
    "There are three general modes of execution for modern high-level languages:\n",
    "\n",
    "- **Interpreted**: the syntax is read and then executed directly, with no compilation stage. A program called an interpreter reads each program statement, following the program flow, then decides what to do, and does it.\n",
    "\n",
    "- **Compiled**: the code written in a language is compiled, its syntax is transformed into an executable form before running. There are two types of compilation:\n",
    "    - **Machine code generation**\n",
    "    - **Intermediate representations**: the code written in a language is compiled to an intermediate representation, that representation can be optimized or saved for later execution without the need to re-read the source file. When the intermediate representation is saved, it may be in a form such as bytecode. The intermediate representation must then be interpreted or further compiled to execute it.\n",
    "\n",
    "- **Source-to-source translated or transcompiled**"
   ]
  },
  {
   "cell_type": "markdown",
   "metadata": {},
   "source": [
    "![](https://www.researchgate.net/profile/Ricky_Sethi/publication/327882304/figure/fig11/AS:674958548144128@1537934066015/Python-Virtual-Machine-and-Compiler.png)\n",
    "\n",
    "First, consider only the upper direct path.\n",
    "\n",
    "- The code is parsed, i.e. split up into a list of pieces called tokens. These tokens are based on a set of rules for things that should be treated differently. For instance, the keyword *if* is a different token than a numeric value like *42*.\n",
    "- The list of tokens is transformed to build an **Abstract Syntax Tree, AST**, collection of nodes which are linked together based on the Python language [grammar](https://docs.python.org/3/reference/grammar.html).\n",
    "- From an abstract syntax tree, the interpreter can produce a lower level form of instructions called **bytecode**. These instructions are things like `BINARY_ADD` and are meant to be very generic so that a computer can run them.\n",
    "- With the bytecode instructions available, the interpreter can finally run your code. The bytecode is used to call functions in your operating system which will ultimately interact with a CPU and memory to run the program."
   ]
  },
  {
   "cell_type": "markdown",
   "metadata": {},
   "source": [
    "### Bytecode example"
   ]
  },
  {
   "cell_type": "code",
   "execution_count": 1,
   "metadata": {},
   "outputs": [
    {
     "name": "stdout",
     "output_type": "stream",
     "text": [
      "Hello, World!\n"
     ]
    }
   ],
   "source": [
    "print(\"Hello, World!\")"
   ]
  },
  {
   "cell_type": "code",
   "execution_count": 2,
   "metadata": {},
   "outputs": [
    {
     "name": "stdout",
     "output_type": "stream",
     "text": [
      "  1           0 LOAD_NAME                0 (print)\n",
      "              2 LOAD_CONST               0 ('Hello, World!')\n",
      "              4 CALL_FUNCTION            1\n",
      "              6 RETURN_VALUE\n"
     ]
    }
   ],
   "source": [
    "from dis import dis\n",
    "dis('print(\"Hello, World!\")')"
   ]
  },
  {
   "cell_type": "markdown",
   "metadata": {},
   "source": [
    "CPython uses a stack-based virtual machine. That is, it's oriented entirely around stack data structures (where you can \"push\" an item onto the \"top\" of the structure, or \"pop\" an item off the \"top\")."
   ]
  },
  {
   "cell_type": "markdown",
   "metadata": {},
   "source": [
    "# General purpose"
   ]
  },
  {
   "cell_type": "markdown",
   "metadata": {},
   "source": [
    "[https://awesome-python.com/](awesome-python):"
   ]
  },
  {
   "cell_type": "markdown",
   "metadata": {},
   "source": [
    "___\n",
    "References:\n",
    "- [Your Guide to the CPython Source Code](https://realpython.com/cpython-source-code-guide/)\n",
    "- [Inside The Python Virtual Machine](https://leanpub.com/insidethepythonvirtualmachine/read)\n",
    "- [An introduction to Python bytecode](https://opensource.com/article/18/4/introduction-python-bytecode)\n",
    "- [Deciphering Python: How to use Abstract Syntax Trees (AST) to understand code\n",
    "](https://www.mattlayman.com/blog/2018/decipher-python-ast/)"
   ]
  },
  {
   "cell_type": "raw",
   "metadata": {},
   "source": [
    "cpython/\n",
    "│\n",
    "├── Doc      ← Source for the documentation\n",
    "├── Grammar  ← The computer-readable language definition\n",
    "├── Include  ← The C header files\n",
    "├── Lib      ← Standard library modules written in Python\n",
    "├── Mac      ← macOS support files\n",
    "├── Misc     ← Miscellaneous files\n",
    "├── Modules  ← Standard Library Modules written in C\n",
    "├── Objects  ← Core types and the object model\n",
    "├── Parser   ← The Python parser source code\n",
    "├── PC       ← Windows build support files\n",
    "├── PCbuild  ← Windows build support files for older Windows versions\n",
    "├── Programs ← Source code for the python executable and other binaries\n",
    "├── Python   ← The CPython interpreter source code\n",
    "└── Tools    ← Standalone tools useful for building or extending Python"
   ]
  },
  {
   "cell_type": "markdown",
   "metadata": {},
   "source": [
    "# Garbage collected"
   ]
  },
  {
   "cell_type": "markdown",
   "metadata": {},
   "source": [
    "https://github.com/python/cpython/blob/ce6a070414ed1e1374d1e6212bfbff61b6d5d755/Include/object.h#L104"
   ]
  },
  {
   "cell_type": "code",
   "execution_count": 3,
   "metadata": {},
   "outputs": [],
   "source": [
    "from sys import getrefcount"
   ]
  },
  {
   "cell_type": "code",
   "execution_count": 4,
   "metadata": {},
   "outputs": [],
   "source": [
    "a = \"un\""
   ]
  },
  {
   "cell_type": "code",
   "execution_count": 5,
   "metadata": {},
   "outputs": [
    {
     "data": {
      "text/plain": [
       "2"
      ]
     },
     "execution_count": 5,
     "metadata": {},
     "output_type": "execute_result"
    }
   ],
   "source": [
    "getrefcount(a)"
   ]
  },
  {
   "cell_type": "code",
   "execution_count": 6,
   "metadata": {},
   "outputs": [],
   "source": [
    "b = a"
   ]
  },
  {
   "cell_type": "code",
   "execution_count": 7,
   "metadata": {},
   "outputs": [
    {
     "data": {
      "text/plain": [
       "True"
      ]
     },
     "execution_count": 7,
     "metadata": {},
     "output_type": "execute_result"
    }
   ],
   "source": [
    "b is a"
   ]
  },
  {
   "cell_type": "code",
   "execution_count": 8,
   "metadata": {},
   "outputs": [
    {
     "data": {
      "text/plain": [
       "3"
      ]
     },
     "execution_count": 8,
     "metadata": {},
     "output_type": "execute_result"
    }
   ],
   "source": [
    "getrefcount(a)"
   ]
  },
  {
   "cell_type": "code",
   "execution_count": 9,
   "metadata": {},
   "outputs": [],
   "source": [
    "del(b)"
   ]
  },
  {
   "cell_type": "code",
   "execution_count": 10,
   "metadata": {},
   "outputs": [
    {
     "data": {
      "text/plain": [
       "2"
      ]
     },
     "execution_count": 10,
     "metadata": {},
     "output_type": "execute_result"
    }
   ],
   "source": [
    "getrefcount(a)"
   ]
  }
 ],
 "metadata": {
  "kernelspec": {
   "display_name": "Python 3",
   "language": "python",
   "name": "python3"
  },
  "language_info": {
   "codemirror_mode": {
    "name": "ipython",
    "version": 3
   },
   "file_extension": ".py",
   "mimetype": "text/x-python",
   "name": "python",
   "nbconvert_exporter": "python",
   "pygments_lexer": "ipython3",
   "version": "3.7.3"
  }
 },
 "nbformat": 4,
 "nbformat_minor": 4
}
