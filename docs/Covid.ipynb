{
 "cells": [
  {
   "cell_type": "markdown",
   "metadata": {},
   "source": [
    "# Covid19"
   ]
  },
  {
   "cell_type": "code",
   "execution_count": null,
   "metadata": {},
   "outputs": [],
   "source": [
    "%load_ext lab_black"
   ]
  },
  {
   "cell_type": "code",
   "execution_count": null,
   "metadata": {},
   "outputs": [],
   "source": [
    "import intake\n",
    "import pandas as pd"
   ]
  },
  {
   "cell_type": "markdown",
   "metadata": {},
   "source": [
    "## Metadata"
   ]
  },
  {
   "cell_type": "code",
   "execution_count": 2,
   "metadata": {},
   "outputs": [],
   "source": [
    "url_metadata = (\n",
    "    \"https://www.data.gouv.fr/fr/datasets/r/a8b5931a-3aa7-4aec-a81b-8b3de628cf63\"\n",
    ")"
   ]
  },
  {
   "cell_type": "code",
   "execution_count": 3,
   "metadata": {},
   "outputs": [],
   "source": [
    "!mkdir -p data/covid; curl -s -o data/covid/metadata.xlsx -L $url_metadata"
   ]
  },
  {
   "cell_type": "code",
   "execution_count": 5,
   "metadata": {},
   "outputs": [
    {
     "data": {
      "text/html": [
       "<div>\n",
       "<style scoped>\n",
       "    .dataframe tbody tr th:only-of-type {\n",
       "        vertical-align: middle;\n",
       "    }\n",
       "\n",
       "    .dataframe tbody tr th {\n",
       "        vertical-align: top;\n",
       "    }\n",
       "\n",
       "    .dataframe thead th {\n",
       "        text-align: right;\n",
       "    }\n",
       "</style>\n",
       "<table border=\"1\" class=\"dataframe\">\n",
       "  <thead>\n",
       "    <tr style=\"text-align: right;\">\n",
       "      <th></th>\n",
       "      <th>Colonne</th>\n",
       "      <th>Type</th>\n",
       "      <th>Description_FR</th>\n",
       "      <th>Description_EN</th>\n",
       "      <th>Exemple</th>\n",
       "    </tr>\n",
       "  </thead>\n",
       "  <tbody>\n",
       "    <tr>\n",
       "      <th>0</th>\n",
       "      <td>dep</td>\n",
       "      <td>String</td>\n",
       "      <td>Departement</td>\n",
       "      <td>State</td>\n",
       "      <td>01</td>\n",
       "    </tr>\n",
       "    <tr>\n",
       "      <th>1</th>\n",
       "      <td>reg</td>\n",
       "      <td>String</td>\n",
       "      <td>Region</td>\n",
       "      <td>region</td>\n",
       "      <td>2</td>\n",
       "    </tr>\n",
       "    <tr>\n",
       "      <th>2</th>\n",
       "      <td>fra</td>\n",
       "      <td>String</td>\n",
       "      <td>France</td>\n",
       "      <td>France</td>\n",
       "      <td>FR</td>\n",
       "    </tr>\n",
       "    <tr>\n",
       "      <th>3</th>\n",
       "      <td>jour</td>\n",
       "      <td>Date</td>\n",
       "      <td>Jour</td>\n",
       "      <td>Day</td>\n",
       "      <td>2020-05-13</td>\n",
       "    </tr>\n",
       "    <tr>\n",
       "      <th>4</th>\n",
       "      <td>week</td>\n",
       "      <td>Date</td>\n",
       "      <td>Semaine</td>\n",
       "      <td>Week</td>\n",
       "      <td>2020-S21</td>\n",
       "    </tr>\n",
       "    <tr>\n",
       "      <th>5</th>\n",
       "      <td>pop</td>\n",
       "      <td>integer</td>\n",
       "      <td>Population de reference (du departement, de la...</td>\n",
       "      <td>Reference population (department, region, nati...</td>\n",
       "      <td>656955</td>\n",
       "    </tr>\n",
       "    <tr>\n",
       "      <th>6</th>\n",
       "      <td>t</td>\n",
       "      <td>integer</td>\n",
       "      <td>Nombre de test réalisés</td>\n",
       "      <td>Number of tests performed</td>\n",
       "      <td>2141</td>\n",
       "    </tr>\n",
       "    <tr>\n",
       "      <th>7</th>\n",
       "      <td>cl_age90</td>\n",
       "      <td>integer</td>\n",
       "      <td>Classe d'age</td>\n",
       "      <td>Age class</td>\n",
       "      <td>09</td>\n",
       "    </tr>\n",
       "    <tr>\n",
       "      <th>8</th>\n",
       "      <td>p</td>\n",
       "      <td>integer</td>\n",
       "      <td>Nombre de test positifs</td>\n",
       "      <td>Number of positive tests</td>\n",
       "      <td>34</td>\n",
       "    </tr>\n",
       "    <tr>\n",
       "      <th>9</th>\n",
       "      <td>p_h</td>\n",
       "      <td>integer</td>\n",
       "      <td>Nombre de test positif chez les hommes</td>\n",
       "      <td>Number of positive test in men</td>\n",
       "      <td>1688</td>\n",
       "    </tr>\n",
       "    <tr>\n",
       "      <th>10</th>\n",
       "      <td>t_h</td>\n",
       "      <td>integer</td>\n",
       "      <td>Nombre de test effectués chez les hommes</td>\n",
       "      <td>Number of tests performed on men</td>\n",
       "      <td>93639</td>\n",
       "    </tr>\n",
       "    <tr>\n",
       "      <th>11</th>\n",
       "      <td>p_f</td>\n",
       "      <td>integer</td>\n",
       "      <td>Nombre de test positif chez les femmes</td>\n",
       "      <td>Number of positive test in women</td>\n",
       "      <td>2415</td>\n",
       "    </tr>\n",
       "    <tr>\n",
       "      <th>12</th>\n",
       "      <td>t_f</td>\n",
       "      <td>integer</td>\n",
       "      <td>Nombre de test effectués chez les femmes</td>\n",
       "      <td>Number of tests performed on women</td>\n",
       "      <td>122725</td>\n",
       "    </tr>\n",
       "    <tr>\n",
       "      <th>13</th>\n",
       "      <td>tx_std</td>\n",
       "      <td>integer</td>\n",
       "      <td>Taux d'incidence standardisé (100000 * nombre ...</td>\n",
       "      <td>Standardized incidence rate</td>\n",
       "      <td>1</td>\n",
       "    </tr>\n",
       "  </tbody>\n",
       "</table>\n",
       "</div>"
      ],
      "text/plain": [
       "     Colonne    Type                                      Description_FR  \\\n",
       "0        dep   String                                        Departement   \n",
       "1        reg   String                                             Region   \n",
       "2        fra   String                                             France   \n",
       "3       jour     Date                                               Jour   \n",
       "4       week     Date                                            Semaine   \n",
       "5        pop  integer  Population de reference (du departement, de la...   \n",
       "6          t  integer                            Nombre de test réalisés   \n",
       "7   cl_age90  integer                                       Classe d'age   \n",
       "8          p  integer                            Nombre de test positifs   \n",
       "9        p_h  integer             Nombre de test positif chez les hommes   \n",
       "10       t_h  integer           Nombre de test effectués chez les hommes   \n",
       "11       p_f  integer             Nombre de test positif chez les femmes   \n",
       "12       t_f  integer           Nombre de test effectués chez les femmes   \n",
       "13    tx_std  integer  Taux d'incidence standardisé (100000 * nombre ...   \n",
       "\n",
       "                                       Description_EN     Exemple  \n",
       "0                                               State          01  \n",
       "1                                              region           2  \n",
       "2                                              France          FR  \n",
       "3                                                 Day  2020-05-13  \n",
       "4                                                Week    2020-S21  \n",
       "5   Reference population (department, region, nati...      656955  \n",
       "6                           Number of tests performed        2141  \n",
       "7                                           Age class          09  \n",
       "8                            Number of positive tests          34  \n",
       "9                      Number of positive test in men        1688  \n",
       "10                   Number of tests performed on men       93639  \n",
       "11                   Number of positive test in women        2415  \n",
       "12                 Number of tests performed on women      122725  \n",
       "13                        Standardized incidence rate           1  "
      ]
     },
     "execution_count": 5,
     "metadata": {},
     "output_type": "execute_result"
    }
   ],
   "source": [
    "pd.read_excel(\"data/covid/metadata.xlsx\")"
   ]
  },
  {
   "cell_type": "markdown",
   "metadata": {},
   "source": [
    "## Données"
   ]
  },
  {
   "cell_type": "markdown",
   "metadata": {},
   "source": [
    "https://www.data.gouv.fr/fr/datasets/taux-dincidence-de-lepidemie-de-covid-19/"
   ]
  },
  {
   "cell_type": "code",
   "execution_count": 6,
   "metadata": {},
   "outputs": [],
   "source": [
    "url = \"https://www.data.gouv.fr/fr/datasets/r/19a91d64-3cd3-42fc-9943-d635491a4d76\""
   ]
  },
  {
   "cell_type": "code",
   "execution_count": 7,
   "metadata": {},
   "outputs": [
    {
     "name": "stdout",
     "output_type": "stream",
     "text": [
      "  % Total    % Received % Xferd  Average Speed   Time    Time     Time  Current\n",
      "                                 Dload  Upload   Total   Spent    Left  Speed\n",
      "100   473  100   473    0     0    987      0 --:--:-- --:--:-- --:--:--   987\n",
      "100 3761k  100 3761k    0     0   240k      0  0:00:15  0:00:15 --:--:--  259k\n"
     ]
    }
   ],
   "source": [
    "!curl -LO $url"
   ]
  },
  {
   "cell_type": "code",
   "execution_count": 6,
   "metadata": {},
   "outputs": [],
   "source": [
    "import pyarrow.csv as csv\n",
    "import pyarrow as pa"
   ]
  },
  {
   "cell_type": "code",
   "execution_count": 7,
   "metadata": {},
   "outputs": [
    {
     "data": {
      "text/plain": [
       "<pyarrow._csv.ParseOptions at 0x7fd6c0060430>"
      ]
     },
     "execution_count": 7,
     "metadata": {},
     "output_type": "execute_result"
    }
   ],
   "source": [
    "csv.ParseOptions(delimiter=\";\")"
   ]
  },
  {
   "cell_type": "code",
   "execution_count": 8,
   "metadata": {},
   "outputs": [],
   "source": [
    "schema = pa.schema(\n",
    "    {\n",
    "        \"dep\": pa.string(),\n",
    "        \"jour\": pa.string(),\n",
    "        \"pop\": pa.float64(),\n",
    "        \"P\": pa.int32(),\n",
    "        \"cl_age90\": pa.int8(),\n",
    "    }\n",
    ")"
   ]
  },
  {
   "cell_type": "code",
   "execution_count": 9,
   "metadata": {},
   "outputs": [],
   "source": [
    "table = csv.read_csv(\n",
    "    \"19a91d64-3cd3-42fc-9943-d635491a4d76\",\n",
    "    parse_options=csv.ParseOptions(delimiter=\";\"),\n",
    "    convert_options=csv.ConvertOptions(column_types=schema),\n",
    ")"
   ]
  },
  {
   "cell_type": "code",
   "execution_count": 10,
   "metadata": {},
   "outputs": [],
   "source": [
    "dfpa = table.to_pandas().astype({\"jour\": \"datetime64[ns]\"})"
   ]
  },
  {
   "cell_type": "code",
   "execution_count": 11,
   "metadata": {},
   "outputs": [
    {
     "data": {
      "text/html": [
       "<div>\n",
       "<style scoped>\n",
       "    .dataframe tbody tr th:only-of-type {\n",
       "        vertical-align: middle;\n",
       "    }\n",
       "\n",
       "    .dataframe tbody tr th {\n",
       "        vertical-align: top;\n",
       "    }\n",
       "\n",
       "    .dataframe thead th {\n",
       "        text-align: right;\n",
       "    }\n",
       "</style>\n",
       "<table border=\"1\" class=\"dataframe\">\n",
       "  <thead>\n",
       "    <tr style=\"text-align: right;\">\n",
       "      <th></th>\n",
       "      <th>dep</th>\n",
       "      <th>jour</th>\n",
       "      <th>pop</th>\n",
       "      <th>P</th>\n",
       "      <th>cl_age90</th>\n",
       "    </tr>\n",
       "  </thead>\n",
       "  <tbody>\n",
       "    <tr>\n",
       "      <th>0</th>\n",
       "      <td>01</td>\n",
       "      <td>2020-05-13</td>\n",
       "      <td>83001.0</td>\n",
       "      <td>0</td>\n",
       "      <td>9</td>\n",
       "    </tr>\n",
       "    <tr>\n",
       "      <th>1</th>\n",
       "      <td>01</td>\n",
       "      <td>2020-05-13</td>\n",
       "      <td>84665.0</td>\n",
       "      <td>1</td>\n",
       "      <td>19</td>\n",
       "    </tr>\n",
       "    <tr>\n",
       "      <th>2</th>\n",
       "      <td>01</td>\n",
       "      <td>2020-05-13</td>\n",
       "      <td>65496.0</td>\n",
       "      <td>0</td>\n",
       "      <td>29</td>\n",
       "    </tr>\n",
       "    <tr>\n",
       "      <th>3</th>\n",
       "      <td>01</td>\n",
       "      <td>2020-05-13</td>\n",
       "      <td>85588.0</td>\n",
       "      <td>1</td>\n",
       "      <td>39</td>\n",
       "    </tr>\n",
       "    <tr>\n",
       "      <th>4</th>\n",
       "      <td>01</td>\n",
       "      <td>2020-05-13</td>\n",
       "      <td>89678.0</td>\n",
       "      <td>0</td>\n",
       "      <td>49</td>\n",
       "    </tr>\n",
       "  </tbody>\n",
       "</table>\n",
       "</div>"
      ],
      "text/plain": [
       "  dep       jour      pop  P  cl_age90\n",
       "0  01 2020-05-13  83001.0  0         9\n",
       "1  01 2020-05-13  84665.0  1        19\n",
       "2  01 2020-05-13  65496.0  0        29\n",
       "3  01 2020-05-13  85588.0  1        39\n",
       "4  01 2020-05-13  89678.0  0        49"
      ]
     },
     "execution_count": 11,
     "metadata": {},
     "output_type": "execute_result"
    }
   ],
   "source": [
    "dfpa.head()"
   ]
  },
  {
   "cell_type": "code",
   "execution_count": 12,
   "metadata": {},
   "outputs": [
    {
     "name": "stdout",
     "output_type": "stream",
     "text": [
      "<class 'pandas.core.frame.DataFrame'>\n",
      "RangeIndex: 152152 entries, 0 to 152151\n",
      "Data columns (total 5 columns):\n",
      " #   Column    Non-Null Count   Dtype         \n",
      "---  ------    --------------   -----         \n",
      " 0   dep       152152 non-null  object        \n",
      " 1   jour      152152 non-null  datetime64[ns]\n",
      " 2   pop       152152 non-null  float64       \n",
      " 3   P         152152 non-null  int32         \n",
      " 4   cl_age90  152152 non-null  int8          \n",
      "dtypes: datetime64[ns](1), float64(1), int32(1), int8(1), object(1)\n",
      "memory usage: 4.2+ MB\n"
     ]
    }
   ],
   "source": [
    "dfpa.info()"
   ]
  },
  {
   "cell_type": "raw",
   "metadata": {},
   "source": [
    "df = pd.read_csv(\"19a91d64-3cd3-42fc-9943-d635491a4d76\", sep=\";\", parse_dates=[\"jour\"])"
   ]
  },
  {
   "cell_type": "code",
   "execution_count": 13,
   "metadata": {},
   "outputs": [],
   "source": [
    "def plot_incidence(dpt: int):\n",
    "    gp = dfpa.where(dfpa.dep == dpt).groupby(\"jour\")\n",
    "    gp.P.sum().plot()\n",
    "    gp.P.sum().rolling(7).mean().plot()"
   ]
  },
  {
   "cell_type": "code",
   "execution_count": 14,
   "metadata": {},
   "outputs": [
    {
     "data": {
      "image/png": "[encoded data removed]",
      "text/plain": [
       "<Figure size 432x288 with 1 Axes>"
      ]
     },
     "metadata": {
      "needs_background": "light"
     },
     "output_type": "display_data"
    }
   ],
   "source": [
    "plot_incidence(\"43\")"
   ]
  },
  {
   "cell_type": "code",
   "execution_count": 156,
   "metadata": {},
   "outputs": [],
   "source": [
    "import numpy as np"
   ]
  },
  {
   "cell_type": "code",
   "execution_count": 157,
   "metadata": {},
   "outputs": [],
   "source": [
    "today = np.sort(df.jour.unique())[-1]"
   ]
  },
  {
   "cell_type": "code",
   "execution_count": 158,
   "metadata": {},
   "outputs": [
    {
     "data": {
      "text/plain": [
       "numpy.datetime64('2020-09-15T00:00:00.000000000')"
      ]
     },
     "execution_count": 158,
     "metadata": {},
     "output_type": "execute_result"
    }
   ],
   "source": [
    "today - np.timedelta64(7, 'D')"
   ]
  },
  {
   "cell_type": "code",
   "execution_count": 159,
   "metadata": {},
   "outputs": [],
   "source": [
    "import matplotlib.pyplot as plt"
   ]
  },
  {
   "cell_type": "code",
   "execution_count": 160,
   "metadata": {},
   "outputs": [],
   "source": [
    "df['P_normed'] = df.P / df['pop'] * 100_000"
   ]
  },
  {
   "cell_type": "code",
   "execution_count": 161,
   "metadata": {},
   "outputs": [],
   "source": [
    "df_today = df[df.jour >= today - np.timedelta64(7, 'D')]\n",
    "gp_today_dep = df_today.groupby('dep')"
   ]
  },
  {
   "cell_type": "code",
   "execution_count": 162,
   "metadata": {},
   "outputs": [
    {
     "data": {
      "text/plain": [
       "<matplotlib.lines.Line2D at 0x7f4cea8f1c70>"
      ]
     },
     "execution_count": 162,
     "metadata": {},
     "output_type": "execute_result"
    },
    {
     "data": {
      "image/png": "[encoded data removed]",
      "text/plain": [
       "<Figure size 1584x648 with 1 Axes>"
      ]
     },
     "metadata": {
      "needs_background": "light"
     },
     "output_type": "display_data"
    }
   ],
   "source": [
    "(gp_today_dep.sum().P_normed / 2 / 7).sort_values().plot.bar(figsize=(22,9))\n",
    "plt.axhline(50, c='red')"
   ]
  },
  {
   "cell_type": "code",
   "execution_count": 163,
   "metadata": {},
   "outputs": [
    {
     "data": {
      "image/png": "[encoded data removed]",
      "text/plain": [
       "<Figure size 432x288 with 1 Axes>"
      ]
     },
     "metadata": {
      "needs_background": "light"
     },
     "output_type": "display_data"
    }
   ],
   "source": [
    "plot_incidence('43')"
   ]
  },
  {
   "cell_type": "code",
   "execution_count": 27,
   "metadata": {},
   "outputs": [],
   "source": [
    "url_indic = (\n",
    "    \"https://www.data.gouv.fr/fr/datasets/r/4acad602-d8b1-4516-bc71-7d5574d5f33e\"\n",
    ")"
   ]
  },
  {
   "cell_type": "code",
   "execution_count": 28,
   "metadata": {},
   "outputs": [
    {
     "name": "stdout",
     "output_type": "stream",
     "text": [
      "  % Total    % Received % Xferd  Average Speed   Time    Time     Time  Current\n",
      "                                 Dload  Upload   Total   Spent    Left  Speed\n",
      "100   461  100   461    0     0   1546      0 --:--:-- --:--:-- --:--:--     0-:--:-- --:--:--  1546\n",
      "100 1916k  100 1916k    0     0   236k      0  0:00:08  0:00:08 --:--:--  259k\n"
     ]
    }
   ],
   "source": [
    "!curl -LO $url_indic"
   ]
  },
  {
   "cell_type": "code",
   "execution_count": 31,
   "metadata": {},
   "outputs": [
    {
     "name": "stdout",
     "output_type": "stream",
     "text": [
      "\"extract_date\",\"departement\",\"region\",\"libelle_reg\",\"libelle_dep\",\"tx_incid\",\"R\",\"taux_occupation_sae\",\"tx_pos\",\"tx_incid_couleur\",\"R_couleur\",\"taux_occupation_sae_couleur\",\"tx_pos_couleur\",\"nb_orange\",\"nb_rouge\"\n",
      "\"2020-04-04\",\"01\",84,\"Auvergne Rh�ne Alpes\",\"Ain\",NA,NA,134,NA,\"\",\"\",\"rouge\",\"\",0,1\n",
      "\"2020-04-07\",\"01\",84,\"Auvergne Rh�ne Alpes\",\"Ain\",NA,NA,135.1,NA,\"\",\"\",\"rouge\",\"\",0,1\n",
      "\"2020-04-08\",\"01\",84,\"Auvergne Rh�ne Alpes\",\"Ain\",NA,NA,131.7,NA,\"\",\"\",\"rouge\",\"\",0,1\n",
      "\"2020-04-05\",\"01\",84,\"Auvergne Rh�ne Alpes\",\"Ain\",NA,NA,139.4,NA,\"\",\"\",\"rouge\",\"\",0,1\n",
      "\"2020-04-06\",\"01\",84,\"Auvergne Rh�ne Alpes\",\"Ain\",NA,NA,140.1,NA,\"\",\"\",\"rouge\",\"\",0,1\n",
      "\"2020-04-15\",\"01\",84,\"Auvergne Rh�ne Alpes\",\"Ain\",NA,NA,114.3,NA,\"\",\"\",\"rouge\",\"\",0,1\n",
      "\"2020-04-16\",\"01\",84,\"Auvergne Rh�ne Alpes\",\"Ain\",NA,NA,112.3,NA,\"\",\"\",\"rouge\",\"\",0,1\n",
      "\"2020-04-17\",\"01\",84,\"Auvergne Rh�ne Alpes\",\"Ain\",NA,NA,107.5,NA,\"\",\"\",\"rouge\",\"\",0,1\n",
      "\"2020-04-18\",\"01\",84,\"Auvergne Rh�ne Alpes\",\"Ain\",NA,NA,103.4,NA,\"\",\"\",\"rouge\",\"\",0,1\n"
     ]
    }
   ],
   "source": [
    "!head \"4acad602-d8b1-4516-bc71-7d5574d5f33e\""
   ]
  },
  {
   "cell_type": "code",
   "execution_count": 33,
   "metadata": {},
   "outputs": [],
   "source": [
    "df_indic = pd.read_csv(\n",
    "    \"4acad602-d8b1-4516-bc71-7d5574d5f33e\", sep=\",\", encoding=\"ISO-8859-1\"\n",
    ")"
   ]
  },
  {
   "cell_type": "code",
   "execution_count": 41,
   "metadata": {},
   "outputs": [
    {
     "name": "stdout",
     "output_type": "stream",
     "text": [
      "<class 'pandas.core.frame.DataFrame'>\n",
      "RangeIndex: 18988 entries, 0 to 18987\n",
      "Data columns (total 15 columns):\n",
      " #   Column                       Non-Null Count  Dtype  \n",
      "---  ------                       --------------  -----  \n",
      " 0   extract_date                 18988 non-null  object \n",
      " 1   departement                  18988 non-null  object \n",
      " 2   region                       18988 non-null  int64  \n",
      " 3   libelle_reg                  18988 non-null  object \n",
      " 4   libelle_dep                  18988 non-null  object \n",
      " 5   tx_incid                     13029 non-null  float64\n",
      " 6   R                            2746 non-null   float64\n",
      " 7   taux_occupation_sae          18988 non-null  float64\n",
      " 8   tx_pos                       13029 non-null  float64\n",
      " 9   tx_incid_couleur             13029 non-null  object \n",
      " 10  R_couleur                    2746 non-null   object \n",
      " 11  taux_occupation_sae_couleur  18988 non-null  object \n",
      " 12  tx_pos_couleur               13029 non-null  object \n",
      " 13  nb_orange                    18988 non-null  int64  \n",
      " 14  nb_rouge                     18988 non-null  int64  \n",
      "dtypes: float64(4), int64(3), object(8)\n",
      "memory usage: 2.2+ MB\n"
     ]
    }
   ],
   "source": [
    "df_indic.info()"
   ]
  },
  {
   "cell_type": "code",
   "execution_count": 51,
   "metadata": {},
   "outputs": [
    {
     "data": {
      "text/plain": [
       "<AxesSubplot:>"
      ]
     },
     "execution_count": 51,
     "metadata": {},
     "output_type": "execute_result"
    },
    {
     "data": {
      "image/png": "[encoded data removed]",
      "text/plain": [
       "<Figure size 432x288 with 1 Axes>"
      ]
     },
     "metadata": {
      "needs_background": "light"
     },
     "output_type": "display_data"
    }
   ],
   "source": [
    "df_indic[df_indic.departement == \"43\"].tx_incid.plot.bar()"
   ]
  },
  {
   "cell_type": "code",
   "execution_count": 53,
   "metadata": {},
   "outputs": [
    {
     "data": {
      "text/html": [
       "<div>\n",
       "<style scoped>\n",
       "    .dataframe tbody tr th:only-of-type {\n",
       "        vertical-align: middle;\n",
       "    }\n",
       "\n",
       "    .dataframe tbody tr th {\n",
       "        vertical-align: top;\n",
       "    }\n",
       "\n",
       "    .dataframe thead th {\n",
       "        text-align: right;\n",
       "    }\n",
       "</style>\n",
       "<table border=\"1\" class=\"dataframe\">\n",
       "  <thead>\n",
       "    <tr style=\"text-align: right;\">\n",
       "      <th></th>\n",
       "      <th>extract_date</th>\n",
       "      <th>departement</th>\n",
       "      <th>region</th>\n",
       "      <th>libelle_reg</th>\n",
       "      <th>libelle_dep</th>\n",
       "      <th>tx_incid</th>\n",
       "      <th>R</th>\n",
       "      <th>taux_occupation_sae</th>\n",
       "      <th>tx_pos</th>\n",
       "      <th>tx_incid_couleur</th>\n",
       "      <th>R_couleur</th>\n",
       "      <th>taux_occupation_sae_couleur</th>\n",
       "      <th>tx_pos_couleur</th>\n",
       "      <th>nb_orange</th>\n",
       "      <th>nb_rouge</th>\n",
       "    </tr>\n",
       "  </thead>\n",
       "  <tbody>\n",
       "    <tr>\n",
       "      <th>1316</th>\n",
       "      <td>2020-03-19</td>\n",
       "      <td>43</td>\n",
       "      <td>84</td>\n",
       "      <td>Auvergne Rhône Alpes</td>\n",
       "      <td>Haute-Loire</td>\n",
       "      <td>NaN</td>\n",
       "      <td>NaN</td>\n",
       "      <td>14.1</td>\n",
       "      <td>NaN</td>\n",
       "      <td>NaN</td>\n",
       "      <td>NaN</td>\n",
       "      <td>vert</td>\n",
       "      <td>NaN</td>\n",
       "      <td>0</td>\n",
       "      <td>0</td>\n",
       "    </tr>\n",
       "    <tr>\n",
       "      <th>1317</th>\n",
       "      <td>2020-03-20</td>\n",
       "      <td>43</td>\n",
       "      <td>84</td>\n",
       "      <td>Auvergne Rhône Alpes</td>\n",
       "      <td>Haute-Loire</td>\n",
       "      <td>NaN</td>\n",
       "      <td>NaN</td>\n",
       "      <td>15.6</td>\n",
       "      <td>NaN</td>\n",
       "      <td>NaN</td>\n",
       "      <td>NaN</td>\n",
       "      <td>vert</td>\n",
       "      <td>NaN</td>\n",
       "      <td>0</td>\n",
       "      <td>0</td>\n",
       "    </tr>\n",
       "    <tr>\n",
       "      <th>1318</th>\n",
       "      <td>2020-03-18</td>\n",
       "      <td>43</td>\n",
       "      <td>84</td>\n",
       "      <td>Auvergne Rhône Alpes</td>\n",
       "      <td>Haute-Loire</td>\n",
       "      <td>NaN</td>\n",
       "      <td>NaN</td>\n",
       "      <td>6.3</td>\n",
       "      <td>NaN</td>\n",
       "      <td>NaN</td>\n",
       "      <td>NaN</td>\n",
       "      <td>vert</td>\n",
       "      <td>NaN</td>\n",
       "      <td>0</td>\n",
       "      <td>0</td>\n",
       "    </tr>\n",
       "    <tr>\n",
       "      <th>1319</th>\n",
       "      <td>2020-04-01</td>\n",
       "      <td>43</td>\n",
       "      <td>84</td>\n",
       "      <td>Auvergne Rhône Alpes</td>\n",
       "      <td>Haute-Loire</td>\n",
       "      <td>NaN</td>\n",
       "      <td>NaN</td>\n",
       "      <td>120.2</td>\n",
       "      <td>NaN</td>\n",
       "      <td>NaN</td>\n",
       "      <td>NaN</td>\n",
       "      <td>rouge</td>\n",
       "      <td>NaN</td>\n",
       "      <td>0</td>\n",
       "      <td>1</td>\n",
       "    </tr>\n",
       "    <tr>\n",
       "      <th>1320</th>\n",
       "      <td>2020-04-02</td>\n",
       "      <td>43</td>\n",
       "      <td>84</td>\n",
       "      <td>Auvergne Rhône Alpes</td>\n",
       "      <td>Haute-Loire</td>\n",
       "      <td>NaN</td>\n",
       "      <td>NaN</td>\n",
       "      <td>125.2</td>\n",
       "      <td>NaN</td>\n",
       "      <td>NaN</td>\n",
       "      <td>NaN</td>\n",
       "      <td>rouge</td>\n",
       "      <td>NaN</td>\n",
       "      <td>0</td>\n",
       "      <td>1</td>\n",
       "    </tr>\n",
       "    <tr>\n",
       "      <th>...</th>\n",
       "      <td>...</td>\n",
       "      <td>...</td>\n",
       "      <td>...</td>\n",
       "      <td>...</td>\n",
       "      <td>...</td>\n",
       "      <td>...</td>\n",
       "      <td>...</td>\n",
       "      <td>...</td>\n",
       "      <td>...</td>\n",
       "      <td>...</td>\n",
       "      <td>...</td>\n",
       "      <td>...</td>\n",
       "      <td>...</td>\n",
       "      <td>...</td>\n",
       "      <td>...</td>\n",
       "    </tr>\n",
       "    <tr>\n",
       "      <th>1499</th>\n",
       "      <td>2020-08-08</td>\n",
       "      <td>43</td>\n",
       "      <td>84</td>\n",
       "      <td>Auvergne Rhône Alpes</td>\n",
       "      <td>Haute-Loire</td>\n",
       "      <td>1.32</td>\n",
       "      <td>NaN</td>\n",
       "      <td>3.4</td>\n",
       "      <td>0.378788</td>\n",
       "      <td>vert</td>\n",
       "      <td>NaN</td>\n",
       "      <td>vert</td>\n",
       "      <td>vert</td>\n",
       "      <td>0</td>\n",
       "      <td>0</td>\n",
       "    </tr>\n",
       "    <tr>\n",
       "      <th>1500</th>\n",
       "      <td>2020-08-09</td>\n",
       "      <td>43</td>\n",
       "      <td>84</td>\n",
       "      <td>Auvergne Rhône Alpes</td>\n",
       "      <td>Haute-Loire</td>\n",
       "      <td>1.32</td>\n",
       "      <td>NaN</td>\n",
       "      <td>3.4</td>\n",
       "      <td>0.377358</td>\n",
       "      <td>vert</td>\n",
       "      <td>NaN</td>\n",
       "      <td>vert</td>\n",
       "      <td>vert</td>\n",
       "      <td>0</td>\n",
       "      <td>0</td>\n",
       "    </tr>\n",
       "    <tr>\n",
       "      <th>1501</th>\n",
       "      <td>2020-08-06</td>\n",
       "      <td>43</td>\n",
       "      <td>84</td>\n",
       "      <td>Auvergne Rhône Alpes</td>\n",
       "      <td>Haute-Loire</td>\n",
       "      <td>0.88</td>\n",
       "      <td>NaN</td>\n",
       "      <td>3.2</td>\n",
       "      <td>0.232558</td>\n",
       "      <td>vert</td>\n",
       "      <td>NaN</td>\n",
       "      <td>vert</td>\n",
       "      <td>vert</td>\n",
       "      <td>0</td>\n",
       "      <td>0</td>\n",
       "    </tr>\n",
       "    <tr>\n",
       "      <th>1502</th>\n",
       "      <td>2020-08-11</td>\n",
       "      <td>43</td>\n",
       "      <td>84</td>\n",
       "      <td>Auvergne Rhône Alpes</td>\n",
       "      <td>Haute-Loire</td>\n",
       "      <td>3.53</td>\n",
       "      <td>1.17</td>\n",
       "      <td>3.0</td>\n",
       "      <td>1.003764</td>\n",
       "      <td>vert</td>\n",
       "      <td>orange</td>\n",
       "      <td>vert</td>\n",
       "      <td>vert</td>\n",
       "      <td>1</td>\n",
       "      <td>0</td>\n",
       "    </tr>\n",
       "    <tr>\n",
       "      <th>1503</th>\n",
       "      <td>2020-08-10</td>\n",
       "      <td>43</td>\n",
       "      <td>84</td>\n",
       "      <td>Auvergne Rhône Alpes</td>\n",
       "      <td>Haute-Loire</td>\n",
       "      <td>3.53</td>\n",
       "      <td>NaN</td>\n",
       "      <td>3.4</td>\n",
       "      <td>1.021711</td>\n",
       "      <td>vert</td>\n",
       "      <td>NaN</td>\n",
       "      <td>vert</td>\n",
       "      <td>vert</td>\n",
       "      <td>0</td>\n",
       "      <td>0</td>\n",
       "    </tr>\n",
       "  </tbody>\n",
       "</table>\n",
       "<p>188 rows × 15 columns</p>\n",
       "</div>"
      ],
      "text/plain": [
       "     extract_date departement  region           libelle_reg  libelle_dep  \\\n",
       "1316   2020-03-19          43      84  Auvergne Rhône Alpes  Haute-Loire   \n",
       "1317   2020-03-20          43      84  Auvergne Rhône Alpes  Haute-Loire   \n",
       "1318   2020-03-18          43      84  Auvergne Rhône Alpes  Haute-Loire   \n",
       "1319   2020-04-01          43      84  Auvergne Rhône Alpes  Haute-Loire   \n",
       "1320   2020-04-02          43      84  Auvergne Rhône Alpes  Haute-Loire   \n",
       "...           ...         ...     ...                   ...          ...   \n",
       "1499   2020-08-08          43      84  Auvergne Rhône Alpes  Haute-Loire   \n",
       "1500   2020-08-09          43      84  Auvergne Rhône Alpes  Haute-Loire   \n",
       "1501   2020-08-06          43      84  Auvergne Rhône Alpes  Haute-Loire   \n",
       "1502   2020-08-11          43      84  Auvergne Rhône Alpes  Haute-Loire   \n",
       "1503   2020-08-10          43      84  Auvergne Rhône Alpes  Haute-Loire   \n",
       "\n",
       "      tx_incid     R  taux_occupation_sae    tx_pos tx_incid_couleur  \\\n",
       "1316       NaN   NaN                 14.1       NaN              NaN   \n",
       "1317       NaN   NaN                 15.6       NaN              NaN   \n",
       "1318       NaN   NaN                  6.3       NaN              NaN   \n",
       "1319       NaN   NaN                120.2       NaN              NaN   \n",
       "1320       NaN   NaN                125.2       NaN              NaN   \n",
       "...        ...   ...                  ...       ...              ...   \n",
       "1499      1.32   NaN                  3.4  0.378788             vert   \n",
       "1500      1.32   NaN                  3.4  0.377358             vert   \n",
       "1501      0.88   NaN                  3.2  0.232558             vert   \n",
       "1502      3.53  1.17                  3.0  1.003764             vert   \n",
       "1503      3.53   NaN                  3.4  1.021711             vert   \n",
       "\n",
       "     R_couleur taux_occupation_sae_couleur tx_pos_couleur  nb_orange  nb_rouge  \n",
       "1316       NaN                        vert            NaN          0         0  \n",
       "1317       NaN                        vert            NaN          0         0  \n",
       "1318       NaN                        vert            NaN          0         0  \n",
       "1319       NaN                       rouge            NaN          0         1  \n",
       "1320       NaN                       rouge            NaN          0         1  \n",
       "...        ...                         ...            ...        ...       ...  \n",
       "1499       NaN                        vert           vert          0         0  \n",
       "1500       NaN                        vert           vert          0         0  \n",
       "1501       NaN                        vert           vert          0         0  \n",
       "1502    orange                        vert           vert          1         0  \n",
       "1503       NaN                        vert           vert          0         0  \n",
       "\n",
       "[188 rows x 15 columns]"
      ]
     },
     "execution_count": 53,
     "metadata": {},
     "output_type": "execute_result"
    }
   ],
   "source": [
    "df_indic[df_indic.departement == \"43\"]"
   ]
  },
  {
   "cell_type": "code",
   "execution_count": null,
   "metadata": {},
   "outputs": [],
   "source": []
  }
 ],
 "metadata": {
  "kernelspec": {
   "display_name": "DataScience",
   "language": "python",
   "name": "datascience"
  },
  "language_info": {
   "codemirror_mode": {
    "name": "ipython",
    "version": 3
   },
   "file_extension": ".py",
   "mimetype": "text/x-python",
   "name": "python",
   "nbconvert_exporter": "python",
   "pygments_lexer": "ipython3",
   "version": "3.8.3"
  }
 },
 "nbformat": 4,
 "nbformat_minor": 4
}
