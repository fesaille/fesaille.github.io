{
 "cells": [
  {
   "cell_type": "markdown",
   "metadata": {},
   "source": [
    "# Intake data-sets from scratch"
   ]
  },
  {
   "cell_type": "code",
   "execution_count": 1,
   "metadata": {},
   "outputs": [],
   "source": [
    "%load_ext lab_black"
   ]
  },
  {
   "cell_type": "code",
   "execution_count": 2,
   "metadata": {},
   "outputs": [],
   "source": [
    "import intake\n",
    "import dask\n",
    "import pandas as pd"
   ]
  },
  {
   "cell_type": "markdown",
   "metadata": {},
   "source": [
    "## Open the data sources"
   ]
  },
  {
   "cell_type": "markdown",
   "metadata": {},
   "source": [
    "`intake.open_csv` reads CSV files into dataframes\n",
    "\n",
    "Parameters are:\n",
    "```\n",
    "urlpath : str or iterable, location of data\n",
    "csv_kwargs : dict\n",
    "storage_options : dict\n",
    "path_as_pattern : bool or str, optional        \n",
    "```"
   ]
  },
  {
   "cell_type": "raw",
   "metadata": {},
   "source": [
    "`csv_kwargs` are specific to the plugin. "
   ]
  },
  {
   "cell_type": "raw",
   "metadata": {},
   "source": [
    "dask.dataframe.read_csv?"
   ]
  },
  {
   "cell_type": "raw",
   "metadata": {},
   "source": [
    "Signature:\n",
    "dask.dataframe.read_csv(\n",
    "    urlpath,\n",
    "    blocksize='default',\n",
    "    lineterminator=None,\n",
    "    compression=None,\n",
    "    sample=256000,\n",
    "    enforce=False,\n",
    "    assume_missing=False,\n",
    "    storage_options=None,\n",
    "    include_path_column=False,\n",
    "    **kwargs,\n",
    ")"
   ]
  },
  {
   "cell_type": "code",
   "execution_count": 4,
   "metadata": {},
   "outputs": [],
   "source": [
    "src = intake.open_csv(\n",
    "    urlpath=\"https://www.data.gouv.fr/fr/datasets/r/4acad602-d8b1-4516-bc71-7d5574d5f33e\",\n",
    "    csv_kwargs={\n",
    "        \"sep\": \",\",\n",
    "        \"blocksize\": None,\n",
    "        \"encoding\": \"iso-8859-1\",\n",
    "        \"dtype\": {\n",
    "            \"departement\": str,\n",
    "            \"jour\": pd.StringDtype,\n",
    "            \"pop\": pd.StringDtype,\n",
    "            \"P\": pd.StringDtype,\n",
    "            \"cl_age90\": pd.StringDtype,\n",
    "        },\n",
    "    },\n",
    ")"
   ]
  },
  {
   "cell_type": "markdown",
   "metadata": {},
   "source": [
    "## Feed a `Catalog`"
   ]
  },
  {
   "cell_type": "markdown",
   "metadata": {},
   "source": [
    "A `Catalog` instance is an object with one or more named entries.The entries might be read:\n",
    "- from a static file (e.g., YAML),\n",
    "- from an Intake server\n",
    "- from any other data service that has a driver. Those are ordinary DataSource classes, except that they have the container type “catalog”, and do not return data products via the read() method."
   ]
  },
  {
   "cell_type": "code",
   "execution_count": 5,
   "metadata": {},
   "outputs": [],
   "source": [
    "cat = intake.open_catalog(name=\"mon catalogue\")"
   ]
  },
  {
   "cell_type": "code",
   "execution_count": 6,
   "metadata": {},
   "outputs": [
    {
     "data": {
      "application/json": "mon catalogue:\n  args:\n    args: null\n    name: mon catalogue\n  description: ''\n  driver: intake.catalog.base.Catalog\n  metadata: {}\n",
      "text/plain": [
       "mon catalogue:\n",
       "  args:\n",
       "    args: null\n",
       "    name: mon catalogue\n",
       "  description: ''\n",
       "  driver: intake.catalog.base.Catalog\n",
       "  metadata: {}\n"
      ]
     },
     "metadata": {
      "application/json": {
       "root": "mon catalogue"
      }
     },
     "output_type": "display_data"
    }
   ],
   "source": [
    "cat"
   ]
  },
  {
   "cell_type": "raw",
   "metadata": {},
   "source": [
    "intake.EntrypointsCatalog?"
   ]
  },
  {
   "cell_type": "markdown",
   "metadata": {},
   "source": [
    "`intake.Schema` holds details of data description for any type of data-source"
   ]
  },
  {
   "cell_type": "raw",
   "metadata": {},
   "source": [
    "Subclasses:\n",
    "    \n",
    "- `SQLCatalog`"
   ]
  },
  {
   "cell_type": "code",
   "execution_count": 34,
   "metadata": {},
   "outputs": [],
   "source": [
    "from intake.catalog import Catalog\n",
    "from intake.catalog.local import LocalCatalogEntry\n",
    "\n",
    "mycat = Catalog.from_dict(\n",
    "    {\n",
    "        \"source1\": LocalCatalogEntry(\n",
    "            \"taux\",\n",
    "            description=\"Taux de positivité - quotidien - département\",\n",
    "            driver=\"csv\",\n",
    "            args={\n",
    "                \"urlpath\": \"https://www.data.gouv.fr/fr/datasets/r/406c6a23-e283-4300-9484-54e78c8ae675\",\n",
    "                \"csv_kwargs\": {\n",
    "                    \"sep\": \";\",\n",
    "                    \"blocksize\": None,\n",
    "                    \"encoding\": \"iso-8859-1\",\n",
    "                    \"dtype\": {\n",
    "                        \"dep\": str,\n",
    "                    },\n",
    "                },\n",
    "            },\n",
    "        )\n",
    "    }\n",
    ")"
   ]
  },
  {
   "cell_type": "code",
   "execution_count": 35,
   "metadata": {},
   "outputs": [
    {
     "name": "stdout",
     "output_type": "stream",
     "text": [
      "sources:\n",
      "  taux:\n",
      "    args:\n",
      "      csv_kwargs:\n",
      "        blocksize: null\n",
      "        dtype:\n",
      "          dep: !!python/name:builtins.str ''\n",
      "        encoding: iso-8859-1\n",
      "        sep: ;\n",
      "      urlpath: https://www.data.gouv.fr/fr/datasets/r/406c6a23-e283-4300-9484-54e78c8ae675\n",
      "    description: \"Taux de positivit\\xE9 - quotidien - d\\xE9partement\"\n",
      "    driver: intake.source.csv.CSVSource\n",
      "    metadata:\n",
      "      catalog_dir: ''\n",
      "\n"
     ]
    }
   ],
   "source": [
    "print(mycat[\"source1\"].yaml())"
   ]
  },
  {
   "cell_type": "code",
   "execution_count": 28,
   "metadata": {},
   "outputs": [
    {
     "data": {
      "text/html": [
       "<div>\n",
       "<style scoped>\n",
       "    .dataframe tbody tr th:only-of-type {\n",
       "        vertical-align: middle;\n",
       "    }\n",
       "\n",
       "    .dataframe tbody tr th {\n",
       "        vertical-align: top;\n",
       "    }\n",
       "\n",
       "    .dataframe thead th {\n",
       "        text-align: right;\n",
       "    }\n",
       "</style>\n",
       "<table border=\"1\" class=\"dataframe\">\n",
       "  <thead>\n",
       "    <tr style=\"text-align: right;\">\n",
       "      <th></th>\n",
       "      <th>dep</th>\n",
       "      <th>jour</th>\n",
       "      <th>P</th>\n",
       "      <th>T</th>\n",
       "      <th>cl_age90</th>\n",
       "    </tr>\n",
       "  </thead>\n",
       "  <tbody>\n",
       "    <tr>\n",
       "      <th>0</th>\n",
       "      <td>01</td>\n",
       "      <td>2020-05-13</td>\n",
       "      <td>0</td>\n",
       "      <td>16</td>\n",
       "      <td>9</td>\n",
       "    </tr>\n",
       "    <tr>\n",
       "      <th>1</th>\n",
       "      <td>01</td>\n",
       "      <td>2020-05-13</td>\n",
       "      <td>1</td>\n",
       "      <td>17</td>\n",
       "      <td>19</td>\n",
       "    </tr>\n",
       "    <tr>\n",
       "      <th>2</th>\n",
       "      <td>01</td>\n",
       "      <td>2020-05-13</td>\n",
       "      <td>0</td>\n",
       "      <td>33</td>\n",
       "      <td>29</td>\n",
       "    </tr>\n",
       "    <tr>\n",
       "      <th>3</th>\n",
       "      <td>01</td>\n",
       "      <td>2020-05-13</td>\n",
       "      <td>1</td>\n",
       "      <td>72</td>\n",
       "      <td>39</td>\n",
       "    </tr>\n",
       "    <tr>\n",
       "      <th>4</th>\n",
       "      <td>01</td>\n",
       "      <td>2020-05-13</td>\n",
       "      <td>0</td>\n",
       "      <td>54</td>\n",
       "      <td>49</td>\n",
       "    </tr>\n",
       "  </tbody>\n",
       "</table>\n",
       "</div>"
      ],
      "text/plain": [
       "  dep        jour  P   T  cl_age90\n",
       "0  01  2020-05-13  0  16         9\n",
       "1  01  2020-05-13  1  17        19\n",
       "2  01  2020-05-13  0  33        29\n",
       "3  01  2020-05-13  1  72        39\n",
       "4  01  2020-05-13  0  54        49"
      ]
     },
     "execution_count": 28,
     "metadata": {},
     "output_type": "execute_result"
    }
   ],
   "source": [
    "mycat.source1.read().head()"
   ]
  },
  {
   "cell_type": "code",
   "execution_count": null,
   "metadata": {},
   "outputs": [],
   "source": []
  },
  {
   "cell_type": "code",
   "execution_count": 73,
   "metadata": {},
   "outputs": [],
   "source": [
    "acat = intake.open_catalog(name=\" catalogue\")"
   ]
  },
  {
   "cell_type": "code",
   "execution_count": 123,
   "metadata": {},
   "outputs": [
    {
     "name": "stdout",
     "output_type": "stream",
     "text": [
      "sources:\n",
      "  csv:\n",
      "    args:\n",
      "      csv_kwargs:\n",
      "        blocksize: null\n",
      "        dtype:\n",
      "          P: &id001 !!python/name:pandas.core.arrays.string_.StringDtype ''\n",
      "          cl_age90: *id001\n",
      "          departement: !!python/name:builtins.str ''\n",
      "          jour: *id001\n",
      "          pop: *id001\n",
      "        encoding: iso-8859-1\n",
      "        sep: ','\n",
      "      urlpath: https://www.data.gouv.fr/fr/datasets/r/4acad602-d8b1-4516-bc71-7d5574d5f33e\n",
      "    description: ''\n",
      "    driver: intake.source.csv.CSVSource\n",
      "    metadata: {}\n",
      "\n"
     ]
    }
   ],
   "source": [
    "print(src.yaml())"
   ]
  },
  {
   "cell_type": "code",
   "execution_count": 159,
   "metadata": {},
   "outputs": [],
   "source": [
    "from intake.catalog import Catalog\n",
    "from intake.catalog.local import LocalCatalogEntry\n",
    "\n",
    "mycat = Catalog.from_dict(\n",
    "    {\"cato\": src},\n",
    "    description=\"Données relatives aux résultats des tests virologiques COVID-19\",\n",
    ")"
   ]
  },
  {
   "cell_type": "code",
   "execution_count": 160,
   "metadata": {},
   "outputs": [
    {
     "data": {
      "application/json": "null:\n  args:\n    description: \"Donn\\xE9es relatives aux r\\xE9sultats des tests virologiques COVID-19\"\n  description: \"Donn\\xE9es relatives aux r\\xE9sultats des tests virologiques COVID-19\"\n  driver: intake.catalog.base.Catalog\n  metadata: {}\n",
      "text/plain": [
       "null:\n",
       "  args:\n",
       "    description: \"Donn\\xE9es relatives aux r\\xE9sultats des tests virologiques COVID-19\"\n",
       "  description: \"Donn\\xE9es relatives aux r\\xE9sultats des tests virologiques COVID-19\"\n",
       "  driver: intake.catalog.base.Catalog\n",
       "  metadata: {}\n"
      ]
     },
     "metadata": {
      "application/json": {
       "root": null
      }
     },
     "output_type": "display_data"
    }
   ],
   "source": [
    "mycat"
   ]
  },
  {
   "cell_type": "code",
   "execution_count": 138,
   "metadata": {},
   "outputs": [
    {
     "data": {
      "text/plain": [
       "intake.catalog.base.Catalog"
      ]
     },
     "execution_count": 138,
     "metadata": {},
     "output_type": "execute_result"
    }
   ],
   "source": [
    "type(mycat)"
   ]
  },
  {
   "cell_type": "code",
   "execution_count": 154,
   "metadata": {},
   "outputs": [
    {
     "data": {
      "application/json": "csv:\n  args:\n    csv_kwargs:\n      blocksize: null\n      dtype:\n        P: &id001 !!python/name:pandas.core.arrays.string_.StringDtype ''\n        cl_age90: *id001\n        departement: !!python/name:builtins.str ''\n        jour: *id001\n        pop: *id001\n      encoding: iso-8859-1\n      sep: ','\n    urlpath: https://www.data.gouv.fr/fr/datasets/r/4acad602-d8b1-4516-bc71-7d5574d5f33e\n  description: ''\n  driver: intake.source.csv.CSVSource\n  metadata: {}\n",
      "text/plain": [
       "csv:\n",
       "  args:\n",
       "    csv_kwargs:\n",
       "      blocksize: null\n",
       "      dtype:\n",
       "        P: &id001 !!python/name:pandas.core.arrays.string_.StringDtype ''\n",
       "        cl_age90: *id001\n",
       "        departement: !!python/name:builtins.str ''\n",
       "        jour: *id001\n",
       "        pop: *id001\n",
       "      encoding: iso-8859-1\n",
       "      sep: ','\n",
       "    urlpath: https://www.data.gouv.fr/fr/datasets/r/4acad602-d8b1-4516-bc71-7d5574d5f33e\n",
       "  description: ''\n",
       "  driver: intake.source.csv.CSVSource\n",
       "  metadata: {}\n"
      ]
     },
     "metadata": {
      "application/json": {
       "root": "csv"
      }
     },
     "output_type": "display_data"
    }
   ],
   "source": [
    "mycat.cato"
   ]
  },
  {
   "cell_type": "code",
   "execution_count": 150,
   "metadata": {},
   "outputs": [
    {
     "data": {
      "text/plain": [
       "intake.source.csv.CSVSource"
      ]
     },
     "execution_count": 150,
     "metadata": {},
     "output_type": "execute_result"
    }
   ],
   "source": [
    "type(src)"
   ]
  },
  {
   "cell_type": "code",
   "execution_count": 156,
   "metadata": {},
   "outputs": [],
   "source": [
    "mycat[\"cato\"].description = \"blabla\""
   ]
  },
  {
   "cell_type": "code",
   "execution_count": 157,
   "metadata": {},
   "outputs": [],
   "source": [
    "mycat.save(\"aze.yaml\")"
   ]
  },
  {
   "cell_type": "code",
   "execution_count": 158,
   "metadata": {},
   "outputs": [
    {
     "name": "stdout",
     "output_type": "stream",
     "text": [
      "metadata: {}\n",
      "name: null\n",
      "sources:\n",
      "  cato:\n",
      "    csv_kwargs:\n",
      "      blocksize: null\n",
      "      dtype:\n",
      "        P: &id001 !!python/name:pandas.core.arrays.string_.StringDtype ''\n",
      "        cl_age90: *id001\n",
      "        departement: !!python/name:builtins.str ''\n",
      "        jour: *id001\n",
      "        pop: *id001\n",
      "      encoding: iso-8859-1\n",
      "      sep: ','\n",
      "    parameters: {}\n",
      "    urlpath: https://www.data.gouv.fr/fr/datasets/r/4acad602-d8b1-4516-bc71-7d5574d5f33e\n"
     ]
    }
   ],
   "source": [
    "%cat aze.yaml"
   ]
  },
  {
   "cell_type": "code",
   "execution_count": 4,
   "metadata": {},
   "outputs": [],
   "source": [
    "src.description"
   ]
  },
  {
   "cell_type": "code",
   "execution_count": 5,
   "metadata": {},
   "outputs": [
    {
     "data": {
      "application/json": "csv:\n  args:\n    csv_kwargs:\n      blocksize: null\n      dtype:\n        P: &id001 !!python/name:pandas.core.arrays.string_.StringDtype ''\n        cl_age90: *id001\n        departement: !!python/name:builtins.str ''\n        jour: *id001\n        pop: *id001\n      encoding: iso-8859-1\n      sep: ','\n    urlpath: https://www.data.gouv.fr/fr/datasets/r/4acad602-d8b1-4516-bc71-7d5574d5f33e\n  description: ''\n  driver: intake.source.csv.CSVSource\n  metadata: {}\n",
      "text/plain": [
       "csv:\n",
       "  args:\n",
       "    csv_kwargs:\n",
       "      blocksize: null\n",
       "      dtype:\n",
       "        P: &id001 !!python/name:pandas.core.arrays.string_.StringDtype ''\n",
       "        cl_age90: *id001\n",
       "        departement: !!python/name:builtins.str ''\n",
       "        jour: *id001\n",
       "        pop: *id001\n",
       "      encoding: iso-8859-1\n",
       "      sep: ','\n",
       "    urlpath: https://www.data.gouv.fr/fr/datasets/r/4acad602-d8b1-4516-bc71-7d5574d5f33e\n",
       "  description: ''\n",
       "  driver: intake.source.csv.CSVSource\n",
       "  metadata: {}\n"
      ]
     },
     "metadata": {
      "application/json": {
       "root": "csv"
      }
     },
     "output_type": "display_data"
    }
   ],
   "source": [
    "src.get()"
   ]
  },
  {
   "cell_type": "code",
   "execution_count": 6,
   "metadata": {},
   "outputs": [
    {
     "data": {
      "text/plain": [
       "{'datashape': None,\n",
       " 'dtype': {'extract_date': 'object',\n",
       "  'departement': 'object',\n",
       "  'region': 'int64',\n",
       "  'libelle_reg': 'object',\n",
       "  'libelle_dep': 'object',\n",
       "  'tx_incid': 'float64',\n",
       "  'R': 'float64',\n",
       "  'taux_occupation_sae': 'float64',\n",
       "  'tx_pos': 'float64',\n",
       "  'tx_incid_couleur': 'object',\n",
       "  'R_couleur': 'object',\n",
       "  'taux_occupation_sae_couleur': 'object',\n",
       "  'tx_pos_couleur': 'object',\n",
       "  'nb_orange': 'int64',\n",
       "  'nb_rouge': 'int64'},\n",
       " 'shape': (None, 15),\n",
       " 'npartitions': 1,\n",
       " 'metadata': {}}"
      ]
     },
     "execution_count": 6,
     "metadata": {},
     "output_type": "execute_result"
    }
   ],
   "source": [
    "src.discover()"
   ]
  },
  {
   "cell_type": "code",
   "execution_count": 10,
   "metadata": {},
   "outputs": [],
   "source": [
    "src.catalog_object"
   ]
  },
  {
   "cell_type": "code",
   "execution_count": 73,
   "metadata": {},
   "outputs": [],
   "source": [
    "src.description = \"AZE\""
   ]
  },
  {
   "cell_type": "code",
   "execution_count": 12,
   "metadata": {},
   "outputs": [],
   "source": [
    "from pathlib import Path"
   ]
  },
  {
   "cell_type": "code",
   "execution_count": 15,
   "metadata": {},
   "outputs": [
    {
     "data": {
      "text/plain": [
       "498"
      ]
     },
     "execution_count": 15,
     "metadata": {},
     "output_type": "execute_result"
    }
   ],
   "source": [
    "Path(\"./one.yml\").write_text(src.yaml())"
   ]
  },
  {
   "cell_type": "code",
   "execution_count": 11,
   "metadata": {},
   "outputs": [
    {
     "name": "stdout",
     "output_type": "stream",
     "text": [
      "sources:\n",
      "  csv:\n",
      "    args:\n",
      "      csv_kwargs:\n",
      "        blocksize: null\n",
      "        dtype:\n",
      "          P: &id001 !!python/name:pandas.core.arrays.string_.StringDtype ''\n",
      "          cl_age90: *id001\n",
      "          departement: !!python/name:builtins.str ''\n",
      "          jour: *id001\n",
      "          pop: *id001\n",
      "        encoding: iso-8859-1\n",
      "        sep: ','\n",
      "      urlpath: https://www.data.gouv.fr/fr/datasets/r/4acad602-d8b1-4516-bc71-7d5574d5f33e\n",
      "    description: ''\n",
      "    driver: intake.source.csv.CSVSource\n",
      "    metadata: {}\n",
      "\n"
     ]
    }
   ],
   "source": [
    "print(src.yaml())"
   ]
  },
  {
   "cell_type": "code",
   "execution_count": 69,
   "metadata": {},
   "outputs": [
    {
     "data": {
      "text/plain": [
       "(None, 15)"
      ]
     },
     "execution_count": 69,
     "metadata": {},
     "output_type": "execute_result"
    }
   ],
   "source": [
    "src.shape"
   ]
  },
  {
   "cell_type": "code",
   "execution_count": 70,
   "metadata": {},
   "outputs": [],
   "source": [
    "df = src.read()"
   ]
  },
  {
   "cell_type": "code",
   "execution_count": null,
   "metadata": {},
   "outputs": [],
   "source": [
    "print(src.yaml())"
   ]
  },
  {
   "cell_type": "code",
   "execution_count": null,
   "metadata": {},
   "outputs": [],
   "source": [
    "src."
   ]
  },
  {
   "cell_type": "code",
   "execution_count": 16,
   "metadata": {},
   "outputs": [],
   "source": [
    "urls = dict(\n",
    "    indicateurs=dict(\n",
    "        url_web=\"https://www.data.gouv.fr/fr/datasets/indicateurs-de-suivi-de-lepidemie-de-covid-19/\",\n",
    "        url_stable=\"https://www.data.gouv.fr/fr/datasets/r/4acad602-d8b1-4516-bc71-7d5574d5f33e\",\n",
    "        url_api=\"https://www.data.gouv.fr/api/1/datasets/5ee9df5003284f565d561278/\",\n",
    "        titre=\"Indicateurs de suivi de l'épidémie de COVID-19\",\n",
    "        file_pattern=\"indicateurs-covid19-dep\",\n",
    "        delim=\",\",\n",
    "    ),\n",
    "    tests_positivite=dict(\n",
    "        url_web=\"https://www.data.gouv.fr/fr/datasets/donnees-relatives-aux-resultats-des-tests-virologiques-covid-19/\",\n",
    "        url_stable=\"https://www.data.gouv.fr/fr/datasets/r/406c6a23-e283-4300-9484-54e78c8ae675\",\n",
    "        url_api=\"https://www.data.gouv.fr/api/1/datasets/5ed117db6c161bd5baf070be\",\n",
    "        titre=\"Données relatives aux résultats des tests virologiques COVID-19 SI-DEP\",\n",
    "        file_pattern=\"sp-pos-quot-dep\",\n",
    "        delim=\";\",\n",
    "    ),\n",
    "    tests_capacites=dict(\n",
    "        url_web=\"https://www.data.gouv.fr/fr/datasets/capacite-analytique-de-tests-virologiques-dans-le-cadre-de-lepidemie-covid-19/\",\n",
    "        url_stable=\"https://www.data.gouv.fr/fr/datasets/r/0c230dc3-2d51-4f17-be97-aa9938564b39\",\n",
    "        url_api=\"https://www.data.gouv.fr/api/1/datasets/5ed11705afd28672e40fbc2f/\",\n",
    "        titre=\"Capacité analytique de tests virologiques dans le cadre de l'épidémie COVID-19 SI-DEP\",\n",
    "        file_pattern=\"sp-capa-quot-dep\",\n",
    "        delim=\";\",\n",
    "    ),\n",
    "    incidence=dict(\n",
    "        url_web=\"https://www.data.gouv.fr/fr/datasets/taux-dincidence-de-lepidemie-de-covid-19/\",\n",
    "        url_stable=\"https://www.data.gouv.fr/fr/datasets/r/19a91d64-3cd3-42fc-9943-d635491a4d76\",\n",
    "        url_api=\"https://www.data.gouv.fr/api/1/datasets/5ed1175ca00bbe1e4941a46a\",\n",
    "        titre=\"Taux d'incidence de l'épidémie de COVID-19 SI-DEP\",\n",
    "        file_pattern=\"sp-pe-tb-quot-dep\",\n",
    "        delim=\";\",\n",
    "    ),\n",
    "    sursaud=dict(\n",
    "        url_web=\"https://www.data.gouv.fr/fr/datasets/donnees-des-urgences-hospitalieres-et-de-sos-medecins-relatives-a-lepidemie-de-covid-19/\",\n",
    "        url_stable=\"https://www.data.gouv.fr/fr/datasets/r/eceb9fb4-3ebc-4da3-828d-f5939712600a\",\n",
    "        url_api=\"https://www.data.gouv.fr/api/1/datasets/5e74ecf52eb7514f2d3b8845\",\n",
    "        titre=\"Données des urgences hospitalières et de SOS médecins relatives à l'épidémie de COVID-19\",\n",
    "        file_pattern=\"sursaud-corona-quot-dep\",\n",
    "        delim=\";\",\n",
    "    ),\n",
    ")"
   ]
  },
  {
   "cell_type": "code",
   "execution_count": 19,
   "metadata": {},
   "outputs": [],
   "source": [
    "import requests"
   ]
  },
  {
   "cell_type": "code",
   "execution_count": 20,
   "metadata": {},
   "outputs": [],
   "source": [
    "req = requests.get(urls[\"tests_positivite\"][\"url_api\"])"
   ]
  },
  {
   "cell_type": "code",
   "execution_count": 22,
   "metadata": {},
   "outputs": [],
   "source": [
    "resp = req.json()"
   ]
  },
  {
   "cell_type": "code",
   "execution_count": null,
   "metadata": {},
   "outputs": [],
   "source": [
    "resources = [r for r in resp[\"resources\"] if \"wordprocessingml\" not in r[\"mime\"]]"
   ]
  },
  {
   "cell_type": "code",
   "execution_count": 96,
   "metadata": {},
   "outputs": [],
   "source": [
    "import re"
   ]
  },
  {
   "cell_type": "code",
   "execution_count": 106,
   "metadata": {},
   "outputs": [
    {
     "data": {
      "text/plain": [
       "'sp-pos-quot-dep-2020-09-25-19h15.csv'"
      ]
     },
     "execution_count": 106,
     "metadata": {},
     "output_type": "execute_result"
    }
   ],
   "source": [
    "resources[0][\"title\"].rstrip(r\"\\w*\")"
   ]
  },
  {
   "cell_type": "code",
   "execution_count": 93,
   "metadata": {},
   "outputs": [
    {
     "name": "stderr",
     "output_type": "stream",
     "text": [
      "<ipython-input-93-f0a5f1c8081f>:12: YAMLLoadWarning: calling yaml.load() without Loader=... is deprecated, as the default Loader is unsafe. Please read https://msg.pyyaml.org/load for full details.\n",
      "  load(out)\n"
     ]
    },
    {
     "ename": "AttributeError",
     "evalue": "'list' object has no attribute 'read'",
     "output_type": "error",
     "traceback": [
      "\u001b[0;31m---------------------------------------------------------------------------\u001b[0m",
      "\u001b[0;31mAttributeError\u001b[0m                            Traceback (most recent call last)",
      "\u001b[0;32m<ipython-input-93-f0a5f1c8081f>\u001b[0m in \u001b[0;36m<module>\u001b[0;34m\u001b[0m\n\u001b[1;32m     10\u001b[0m ]\n\u001b[1;32m     11\u001b[0m \u001b[0;34m\u001b[0m\u001b[0m\n\u001b[0;32m---> 12\u001b[0;31m \u001b[0mload\u001b[0m\u001b[0;34m(\u001b[0m\u001b[0mout\u001b[0m\u001b[0;34m)\u001b[0m\u001b[0;34m\u001b[0m\u001b[0;34m\u001b[0m\u001b[0m\n\u001b[0m",
      "\u001b[0;32m/opt/venvs/data_science/lib/python3.8/site-packages/yaml/__init__.py\u001b[0m in \u001b[0;36mload\u001b[0;34m(stream, Loader)\u001b[0m\n\u001b[1;32m    110\u001b[0m         \u001b[0mLoader\u001b[0m \u001b[0;34m=\u001b[0m \u001b[0mFullLoader\u001b[0m\u001b[0;34m\u001b[0m\u001b[0;34m\u001b[0m\u001b[0m\n\u001b[1;32m    111\u001b[0m \u001b[0;34m\u001b[0m\u001b[0m\n\u001b[0;32m--> 112\u001b[0;31m     \u001b[0mloader\u001b[0m \u001b[0;34m=\u001b[0m \u001b[0mLoader\u001b[0m\u001b[0;34m(\u001b[0m\u001b[0mstream\u001b[0m\u001b[0;34m)\u001b[0m\u001b[0;34m\u001b[0m\u001b[0;34m\u001b[0m\u001b[0m\n\u001b[0m\u001b[1;32m    113\u001b[0m     \u001b[0;32mtry\u001b[0m\u001b[0;34m:\u001b[0m\u001b[0;34m\u001b[0m\u001b[0;34m\u001b[0m\u001b[0m\n\u001b[1;32m    114\u001b[0m         \u001b[0;32mreturn\u001b[0m \u001b[0mloader\u001b[0m\u001b[0;34m.\u001b[0m\u001b[0mget_single_data\u001b[0m\u001b[0;34m(\u001b[0m\u001b[0;34m)\u001b[0m\u001b[0;34m\u001b[0m\u001b[0;34m\u001b[0m\u001b[0m\n",
      "\u001b[0;32m/opt/venvs/data_science/lib/python3.8/site-packages/yaml/loader.py\u001b[0m in \u001b[0;36m__init__\u001b[0;34m(self, stream)\u001b[0m\n\u001b[1;32m     22\u001b[0m \u001b[0;34m\u001b[0m\u001b[0m\n\u001b[1;32m     23\u001b[0m     \u001b[0;32mdef\u001b[0m \u001b[0m__init__\u001b[0m\u001b[0;34m(\u001b[0m\u001b[0mself\u001b[0m\u001b[0;34m,\u001b[0m \u001b[0mstream\u001b[0m\u001b[0;34m)\u001b[0m\u001b[0;34m:\u001b[0m\u001b[0;34m\u001b[0m\u001b[0;34m\u001b[0m\u001b[0m\n\u001b[0;32m---> 24\u001b[0;31m         \u001b[0mReader\u001b[0m\u001b[0;34m.\u001b[0m\u001b[0m__init__\u001b[0m\u001b[0;34m(\u001b[0m\u001b[0mself\u001b[0m\u001b[0;34m,\u001b[0m \u001b[0mstream\u001b[0m\u001b[0;34m)\u001b[0m\u001b[0;34m\u001b[0m\u001b[0;34m\u001b[0m\u001b[0m\n\u001b[0m\u001b[1;32m     25\u001b[0m         \u001b[0mScanner\u001b[0m\u001b[0;34m.\u001b[0m\u001b[0m__init__\u001b[0m\u001b[0;34m(\u001b[0m\u001b[0mself\u001b[0m\u001b[0;34m)\u001b[0m\u001b[0;34m\u001b[0m\u001b[0;34m\u001b[0m\u001b[0m\n\u001b[1;32m     26\u001b[0m         \u001b[0mParser\u001b[0m\u001b[0;34m.\u001b[0m\u001b[0m__init__\u001b[0m\u001b[0;34m(\u001b[0m\u001b[0mself\u001b[0m\u001b[0;34m)\u001b[0m\u001b[0;34m\u001b[0m\u001b[0;34m\u001b[0m\u001b[0m\n",
      "\u001b[0;32m/opt/venvs/data_science/lib/python3.8/site-packages/yaml/reader.py\u001b[0m in \u001b[0;36m__init__\u001b[0;34m(self, stream)\u001b[0m\n\u001b[1;32m     83\u001b[0m             \u001b[0mself\u001b[0m\u001b[0;34m.\u001b[0m\u001b[0meof\u001b[0m \u001b[0;34m=\u001b[0m \u001b[0;32mFalse\u001b[0m\u001b[0;34m\u001b[0m\u001b[0;34m\u001b[0m\u001b[0m\n\u001b[1;32m     84\u001b[0m             \u001b[0mself\u001b[0m\u001b[0;34m.\u001b[0m\u001b[0mraw_buffer\u001b[0m \u001b[0;34m=\u001b[0m \u001b[0;32mNone\u001b[0m\u001b[0;34m\u001b[0m\u001b[0;34m\u001b[0m\u001b[0m\n\u001b[0;32m---> 85\u001b[0;31m             \u001b[0mself\u001b[0m\u001b[0;34m.\u001b[0m\u001b[0mdetermine_encoding\u001b[0m\u001b[0;34m(\u001b[0m\u001b[0;34m)\u001b[0m\u001b[0;34m\u001b[0m\u001b[0;34m\u001b[0m\u001b[0m\n\u001b[0m\u001b[1;32m     86\u001b[0m \u001b[0;34m\u001b[0m\u001b[0m\n\u001b[1;32m     87\u001b[0m     \u001b[0;32mdef\u001b[0m \u001b[0mpeek\u001b[0m\u001b[0;34m(\u001b[0m\u001b[0mself\u001b[0m\u001b[0;34m,\u001b[0m \u001b[0mindex\u001b[0m\u001b[0;34m=\u001b[0m\u001b[0;36m0\u001b[0m\u001b[0;34m)\u001b[0m\u001b[0;34m:\u001b[0m\u001b[0;34m\u001b[0m\u001b[0;34m\u001b[0m\u001b[0m\n",
      "\u001b[0;32m/opt/venvs/data_science/lib/python3.8/site-packages/yaml/reader.py\u001b[0m in \u001b[0;36mdetermine_encoding\u001b[0;34m(self)\u001b[0m\n\u001b[1;32m    122\u001b[0m     \u001b[0;32mdef\u001b[0m \u001b[0mdetermine_encoding\u001b[0m\u001b[0;34m(\u001b[0m\u001b[0mself\u001b[0m\u001b[0;34m)\u001b[0m\u001b[0;34m:\u001b[0m\u001b[0;34m\u001b[0m\u001b[0;34m\u001b[0m\u001b[0m\n\u001b[1;32m    123\u001b[0m         \u001b[0;32mwhile\u001b[0m \u001b[0;32mnot\u001b[0m \u001b[0mself\u001b[0m\u001b[0;34m.\u001b[0m\u001b[0meof\u001b[0m \u001b[0;32mand\u001b[0m \u001b[0;34m(\u001b[0m\u001b[0mself\u001b[0m\u001b[0;34m.\u001b[0m\u001b[0mraw_buffer\u001b[0m \u001b[0;32mis\u001b[0m \u001b[0;32mNone\u001b[0m \u001b[0;32mor\u001b[0m \u001b[0mlen\u001b[0m\u001b[0;34m(\u001b[0m\u001b[0mself\u001b[0m\u001b[0;34m.\u001b[0m\u001b[0mraw_buffer\u001b[0m\u001b[0;34m)\u001b[0m \u001b[0;34m<\u001b[0m \u001b[0;36m2\u001b[0m\u001b[0;34m)\u001b[0m\u001b[0;34m:\u001b[0m\u001b[0;34m\u001b[0m\u001b[0;34m\u001b[0m\u001b[0m\n\u001b[0;32m--> 124\u001b[0;31m             \u001b[0mself\u001b[0m\u001b[0;34m.\u001b[0m\u001b[0mupdate_raw\u001b[0m\u001b[0;34m(\u001b[0m\u001b[0;34m)\u001b[0m\u001b[0;34m\u001b[0m\u001b[0;34m\u001b[0m\u001b[0m\n\u001b[0m\u001b[1;32m    125\u001b[0m         \u001b[0;32mif\u001b[0m \u001b[0misinstance\u001b[0m\u001b[0;34m(\u001b[0m\u001b[0mself\u001b[0m\u001b[0;34m.\u001b[0m\u001b[0mraw_buffer\u001b[0m\u001b[0;34m,\u001b[0m \u001b[0mbytes\u001b[0m\u001b[0;34m)\u001b[0m\u001b[0;34m:\u001b[0m\u001b[0;34m\u001b[0m\u001b[0;34m\u001b[0m\u001b[0m\n\u001b[1;32m    126\u001b[0m             \u001b[0;32mif\u001b[0m \u001b[0mself\u001b[0m\u001b[0;34m.\u001b[0m\u001b[0mraw_buffer\u001b[0m\u001b[0;34m.\u001b[0m\u001b[0mstartswith\u001b[0m\u001b[0;34m(\u001b[0m\u001b[0mcodecs\u001b[0m\u001b[0;34m.\u001b[0m\u001b[0mBOM_UTF16_LE\u001b[0m\u001b[0;34m)\u001b[0m\u001b[0;34m:\u001b[0m\u001b[0;34m\u001b[0m\u001b[0;34m\u001b[0m\u001b[0m\n",
      "\u001b[0;32m/opt/venvs/data_science/lib/python3.8/site-packages/yaml/reader.py\u001b[0m in \u001b[0;36mupdate_raw\u001b[0;34m(self, size)\u001b[0m\n\u001b[1;32m    176\u001b[0m \u001b[0;34m\u001b[0m\u001b[0m\n\u001b[1;32m    177\u001b[0m     \u001b[0;32mdef\u001b[0m \u001b[0mupdate_raw\u001b[0m\u001b[0;34m(\u001b[0m\u001b[0mself\u001b[0m\u001b[0;34m,\u001b[0m \u001b[0msize\u001b[0m\u001b[0;34m=\u001b[0m\u001b[0;36m4096\u001b[0m\u001b[0;34m)\u001b[0m\u001b[0;34m:\u001b[0m\u001b[0;34m\u001b[0m\u001b[0;34m\u001b[0m\u001b[0m\n\u001b[0;32m--> 178\u001b[0;31m         \u001b[0mdata\u001b[0m \u001b[0;34m=\u001b[0m \u001b[0mself\u001b[0m\u001b[0;34m.\u001b[0m\u001b[0mstream\u001b[0m\u001b[0;34m.\u001b[0m\u001b[0mread\u001b[0m\u001b[0;34m(\u001b[0m\u001b[0msize\u001b[0m\u001b[0;34m)\u001b[0m\u001b[0;34m\u001b[0m\u001b[0;34m\u001b[0m\u001b[0m\n\u001b[0m\u001b[1;32m    179\u001b[0m         \u001b[0;32mif\u001b[0m \u001b[0mself\u001b[0m\u001b[0;34m.\u001b[0m\u001b[0mraw_buffer\u001b[0m \u001b[0;32mis\u001b[0m \u001b[0;32mNone\u001b[0m\u001b[0;34m:\u001b[0m\u001b[0;34m\u001b[0m\u001b[0;34m\u001b[0m\u001b[0m\n\u001b[1;32m    180\u001b[0m             \u001b[0mself\u001b[0m\u001b[0;34m.\u001b[0m\u001b[0mraw_buffer\u001b[0m \u001b[0;34m=\u001b[0m \u001b[0mdata\u001b[0m\u001b[0;34m\u001b[0m\u001b[0;34m\u001b[0m\u001b[0m\n",
      "\u001b[0;31mAttributeError\u001b[0m: 'list' object has no attribute 'read'"
     ]
    }
   ],
   "source": [
    "out = [\n",
    "    {\n",
    "        \"args\": {\n",
    "            \"csv_kwargs\": {\"blocksize\": \"null\", \"encoding\": \"iso-8850-1\", \"sep\": \",\"}\n",
    "        },\n",
    "        \"description\": resource.get(\"description\", None),\n",
    "        \"metadata\": {\"title\": resp.get(\"title\", None), \"uri\": resp.get(\"uri\", None)},\n",
    "    }\n",
    "    for resource in resources\n",
    "]\n",
    "\n",
    "load(out)"
   ]
  },
  {
   "cell_type": "code",
   "execution_count": 94,
   "metadata": {},
   "outputs": [
    {
     "data": {
      "text/plain": [
       "[{'args': {'csv_kwargs': {'blocksize': 'null',\n",
       "    'encoding': 'iso-8850-1',\n",
       "    'sep': ','}},\n",
       "  'description': 'Taux de positivité - quotidien - département .',\n",
       "  'metadata': {'title': 'Données relatives aux résultats des tests virologiques COVID-19',\n",
       "   'uri': 'https://www.data.gouv.fr/api/1/datasets/donnees-relatives-aux-resultats-des-tests-virologiques-covid-19/'}},\n",
       " {'args': {'csv_kwargs': {'blocksize': 'null',\n",
       "    'encoding': 'iso-8850-1',\n",
       "    'sep': ','}},\n",
       "  'description': 'Taux de positivité - quotidien - région.',\n",
       "  'metadata': {'title': 'Données relatives aux résultats des tests virologiques COVID-19',\n",
       "   'uri': 'https://www.data.gouv.fr/api/1/datasets/donnees-relatives-aux-resultats-des-tests-virologiques-covid-19/'}},\n",
       " {'args': {'csv_kwargs': {'blocksize': 'null',\n",
       "    'encoding': 'iso-8850-1',\n",
       "    'sep': ','}},\n",
       "  'description': 'Taux de positivité - quotidien - france.',\n",
       "  'metadata': {'title': 'Données relatives aux résultats des tests virologiques COVID-19',\n",
       "   'uri': 'https://www.data.gouv.fr/api/1/datasets/donnees-relatives-aux-resultats-des-tests-virologiques-covid-19/'}},\n",
       " {'args': {'csv_kwargs': {'blocksize': 'null',\n",
       "    'encoding': 'iso-8850-1',\n",
       "    'sep': ','}},\n",
       "  'description': 'Taux de positivité - hebdomadaire - departement.',\n",
       "  'metadata': {'title': 'Données relatives aux résultats des tests virologiques COVID-19',\n",
       "   'uri': 'https://www.data.gouv.fr/api/1/datasets/donnees-relatives-aux-resultats-des-tests-virologiques-covid-19/'}},\n",
       " {'args': {'csv_kwargs': {'blocksize': 'null',\n",
       "    'encoding': 'iso-8850-1',\n",
       "    'sep': ','}},\n",
       "  'description': 'Taux de positivité - hebdomadaire - région .',\n",
       "  'metadata': {'title': 'Données relatives aux résultats des tests virologiques COVID-19',\n",
       "   'uri': 'https://www.data.gouv.fr/api/1/datasets/donnees-relatives-aux-resultats-des-tests-virologiques-covid-19/'}},\n",
       " {'args': {'csv_kwargs': {'blocksize': 'null',\n",
       "    'encoding': 'iso-8850-1',\n",
       "    'sep': ','}},\n",
       "  'description': 'Taux de positivité - hebdomadaire - France.',\n",
       "  'metadata': {'title': 'Données relatives aux résultats des tests virologiques COVID-19',\n",
       "   'uri': 'https://www.data.gouv.fr/api/1/datasets/donnees-relatives-aux-resultats-des-tests-virologiques-covid-19/'}},\n",
       " {'args': {'csv_kwargs': {'blocksize': 'null',\n",
       "    'encoding': 'iso-8850-1',\n",
       "    'sep': ','}},\n",
       "  'description': None,\n",
       "  'metadata': {'title': 'Données relatives aux résultats des tests virologiques COVID-19',\n",
       "   'uri': 'https://www.data.gouv.fr/api/1/datasets/donnees-relatives-aux-resultats-des-tests-virologiques-covid-19/'}},\n",
       " {'args': {'csv_kwargs': {'blocksize': 'null',\n",
       "    'encoding': 'iso-8850-1',\n",
       "    'sep': ','}},\n",
       "  'description': None,\n",
       "  'metadata': {'title': 'Données relatives aux résultats des tests virologiques COVID-19',\n",
       "   'uri': 'https://www.data.gouv.fr/api/1/datasets/donnees-relatives-aux-resultats-des-tests-virologiques-covid-19/'}},\n",
       " {'args': {'csv_kwargs': {'blocksize': 'null',\n",
       "    'encoding': 'iso-8850-1',\n",
       "    'sep': ','}},\n",
       "  'description': None,\n",
       "  'metadata': {'title': 'Données relatives aux résultats des tests virologiques COVID-19',\n",
       "   'uri': 'https://www.data.gouv.fr/api/1/datasets/donnees-relatives-aux-resultats-des-tests-virologiques-covid-19/'}},\n",
       " {'args': {'csv_kwargs': {'blocksize': 'null',\n",
       "    'encoding': 'iso-8850-1',\n",
       "    'sep': ','}},\n",
       "  'description': 'Taux de positivité - Quotidien.',\n",
       "  'metadata': {'title': 'Données relatives aux résultats des tests virologiques COVID-19',\n",
       "   'uri': 'https://www.data.gouv.fr/api/1/datasets/donnees-relatives-aux-resultats-des-tests-virologiques-covid-19/'}},\n",
       " {'args': {'csv_kwargs': {'blocksize': 'null',\n",
       "    'encoding': 'iso-8850-1',\n",
       "    'sep': ','}},\n",
       "  'description': 'Taux de positivité - hebdomadaire.',\n",
       "  'metadata': {'title': 'Données relatives aux résultats des tests virologiques COVID-19',\n",
       "   'uri': 'https://www.data.gouv.fr/api/1/datasets/donnees-relatives-aux-resultats-des-tests-virologiques-covid-19/'}},\n",
       " {'args': {'csv_kwargs': {'blocksize': 'null',\n",
       "    'encoding': 'iso-8850-1',\n",
       "    'sep': ','}},\n",
       "  'description': None,\n",
       "  'metadata': {'title': 'Données relatives aux résultats des tests virologiques COVID-19',\n",
       "   'uri': 'https://www.data.gouv.fr/api/1/datasets/donnees-relatives-aux-resultats-des-tests-virologiques-covid-19/'}},\n",
       " {'args': {'csv_kwargs': {'blocksize': 'null',\n",
       "    'encoding': 'iso-8850-1',\n",
       "    'sep': ','}},\n",
       "  'description': 'Description des métadonnées.',\n",
       "  'metadata': {'title': 'Données relatives aux résultats des tests virologiques COVID-19',\n",
       "   'uri': 'https://www.data.gouv.fr/api/1/datasets/donnees-relatives-aux-resultats-des-tests-virologiques-covid-19/'}}]"
      ]
     },
     "execution_count": 94,
     "metadata": {},
     "output_type": "execute_result"
    }
   ],
   "source": [
    "out"
   ]
  },
  {
   "cell_type": "code",
   "execution_count": 75,
   "metadata": {},
   "outputs": [
    {
     "name": "stdout",
     "output_type": "stream",
     "text": [
      "********************************************************************************\n",
      "acronym\n",
      "--------------------------------------------------------------------------------\n",
      "SI-DEP\n",
      "********************************************************************************\n",
      "archived\n",
      "--------------------------------------------------------------------------------\n",
      "None\n",
      "********************************************************************************\n",
      "badges\n",
      "--------------------------------------------------------------------------------\n",
      "[]\n",
      "********************************************************************************\n",
      "created_at\n",
      "--------------------------------------------------------------------------------\n",
      "2020-05-29T16:10:35.407000\n",
      "********************************************************************************\n",
      "deleted\n",
      "--------------------------------------------------------------------------------\n",
      "None\n",
      "********************************************************************************\n",
      "description\n",
      "--------------------------------------------------------------------------------\n",
      "### Les actions de Santé publique France\n",
      "\n",
      "Santé publique France a pour mission d'améliorer et de protéger la santé des populations. Durant la crise sanitaire liée à l'épidémie du COVID-19, Santé publique France se charge de surveiller et comprendre la dynamique de l'épidémie, d'anticiper les différents scénarii et de mettre en place des actions pour prévenir et limiter la transmission de ce virus sur le territoire national.\n",
      "\n",
      "### Le Système d’Informations de DEPistage (SI-DEP)\n",
      "\n",
      "Le nouveau système d’information de dépistage (SI-DEP), en déploiement depuis le 13 mai 2020, est une plateforme sécurisée où sont systématiquement enregistrés les résultats des laboratoires des tests (RT-PCR) réalisés par l’ensemble des laboratoires de ville et établissements hospitaliers concernant le SARS-COV2.\n",
      "\n",
      "La création de ce système d'information est autorisée pour une durée de 6 mois à compter de la fin de l'état d'urgence sanitaire par application du [décret n° 2020-551 du 12 mai 2020](https://www.legifrance.gouv.fr/affichTexte.do?cidTexte=JORFTEXT000041869923) relatif aux systèmes d’information mentionnés à l’article 11 de la loi n° 2020-546 du 11 mai 2020 prorogeant l’état d’urgence sanitaire et complétant ses dispositions.\n",
      "\n",
      "### Description des données \n",
      "\n",
      "Le présent jeu de données renseigne à l'échelle départementale et régionale : \n",
      "- le nombre de personnes testées et le nombre de personnes déclarées positives par classe d'âge (quotidien et hebdomadaire) ;\n",
      "- le nombre de personnes positives sur 7 jours glissants.\n",
      "\n",
      "Le présent jeu de données renseigne à l'échelle nationale : \n",
      "- le nombre de personnes testées et le nombre de personnes déclarées positives par sexe et classe d'âge (quotidien et hebdomadaire).\n",
      "\n",
      "Le taux de positivité correspond au nombre de tests positifs rapportés au nombre de tests réalisés. Il est calculé de la manière suivante : 100*nombre de test positif/ nombre de tests réalisés\n",
      "\n",
      "**Précisions** : Si plusieurs prélèvements sont rapportés pour un même patient:\n",
      "- Sélection de la première date pour les pcr ayant le même résultat (par exemple première date si plusieurs pcr négatives)\n",
      "- Si pcr discordantes chez un même patient (N et P), la première pcr positive est conservée.\n",
      "Exclusion des résultats ininterprétables\n",
      "- A compter du 29/08, les indicateurs issus des données de laboratoires (SI-DEP) présentent des taux d’incidence, de positivité et de dépistage corrigés en fonction des dépistages réalisés dans les aéroports à l’arrivée des vols internationaux.\n",
      "\n",
      "La correction s’applique sur l’ensemble des données postérieures à la date du 12 août.\n",
      "\n",
      "**Limites** : \n",
      "- Seuls les tests biologiques des personnes pour lesquelles le département de résidence a pu être localisé sont représentés sur les cartes. Les personnes dont le département n’a pas pu être remonté dans les données SIDEP ne sont comptabilisées qu'au niveau France entière. De ce fait la somme des tests indiqués dans les départements ou régions est inférieure au nombre de tests indiqué en France.\n",
      "- Le délai de remontée des tests peut excéder 9 jours dans certains cas. Les indicateurs sont ajustés quotidiennement selon la réception des résultats.\n",
      "\n",
      "Pour en savoir plus consultez la note méthodologique disponible dans les ressources.\n",
      "********************************************************************************\n",
      "extras\n",
      "--------------------------------------------------------------------------------\n",
      "{'recommendations': [{'id': '5e7de8cf4663c08d4f74ba01', 'score': 89, 'source': 'matomo'}], 'recommendations:sources': ['matomo']}\n",
      "********************************************************************************\n",
      "frequency\n",
      "--------------------------------------------------------------------------------\n",
      "unknown\n",
      "********************************************************************************\n",
      "frequency_date\n",
      "--------------------------------------------------------------------------------\n",
      "None\n",
      "********************************************************************************\n",
      "id\n",
      "--------------------------------------------------------------------------------\n",
      "5ed117db6c161bd5baf070be\n",
      "********************************************************************************\n",
      "last_modified\n",
      "--------------------------------------------------------------------------------\n",
      "2020-09-25T19:15:13.847000\n",
      "********************************************************************************\n",
      "last_update\n",
      "--------------------------------------------------------------------------------\n",
      "2020-08-27T00:00:00\n",
      "********************************************************************************\n",
      "license\n",
      "--------------------------------------------------------------------------------\n",
      "fr-lo\n",
      "********************************************************************************\n",
      "metrics\n",
      "--------------------------------------------------------------------------------\n",
      "{'discussions': 21, 'followers': 5, 'issues': 0, 'reuses': 22, 'views': 6112}\n",
      "********************************************************************************\n",
      "organization\n",
      "--------------------------------------------------------------------------------\n",
      "{'acronym': 'SPF', 'class': 'Organization', 'id': '5e721a395d57f93d0bed451f', 'logo': 'https://static.data.gouv.fr/avatars/79/7e94cd7a8d43d39544d4018666e646-original.png', 'logo_thumbnail': 'https://static.data.gouv.fr/avatars/79/7e94cd7a8d43d39544d4018666e646-100.png', 'name': 'Santé publique France', 'page': 'https://www.data.gouv.fr/fr/organizations/sante-publique-france/', 'slug': 'sante-publique-france', 'uri': 'https://www.data.gouv.fr/api/1/organizations/sante-publique-france/'}\n",
      "********************************************************************************\n",
      "owner\n",
      "--------------------------------------------------------------------------------\n",
      "None\n",
      "********************************************************************************\n",
      "page\n",
      "--------------------------------------------------------------------------------\n",
      "https://www.data.gouv.fr/fr/datasets/donnees-relatives-aux-resultats-des-tests-virologiques-covid-19/\n",
      "********************************************************************************\n",
      "private\n",
      "--------------------------------------------------------------------------------\n",
      "False\n",
      "********************************************************************************\n",
      "resources\n",
      "--------------------------------------------------------------------------------\n",
      "[{'checksum': {'type': 'sha1', 'value': '21b8878f9b8df70e78a5a8ca6d9d28dd4b34a07e'}, 'created_at': '2020-09-01T15:01:03.280000', 'description': 'Note méthodologique 27/08', 'extras': {}, 'filesize': 29885, 'filetype': 'file', 'format': 'docx', 'id': 'c98482d3-fba1-4397-99ae-1c958aa629f6', 'last_modified': '2020-09-01T15:04:27.976000', 'latest': 'https://www.data.gouv.fr/fr/datasets/r/c98482d3-fba1-4397-99ae-1c958aa629f6', 'metrics': {'views': 167}, 'mime': 'application/vnd.openxmlformats-officedocument.wordprocessingml.document', 'preview_url': None, 'published': '2020-08-27T00:00:00', 'schema': None, 'title': 'analyse-de-la-base-sidep-note-methodologique.docx', 'type': 'documentation', 'url': 'https://static.data.gouv.fr/resources/donnees-relatives-aux-resultats-des-tests-virologiques-covid-19/20200901-150103/analyse-de-la-base-sidep-note-methodologique.docx'}, {'checksum': {'type': 'sha1', 'value': 'eb395230851890fe96cbc0618000ae70e302decd'}, 'created_at': '2020-05-29T18:02:26.703000', 'description': 'Taux de positivité - quotidien - département .', 'extras': {}, 'filesize': 3361733, 'filetype': 'file', 'format': 'csv', 'id': '406c6a23-e283-4300-9484-54e78c8ae675', 'last_modified': '2020-09-25T19:15:06.758000', 'latest': 'https://www.data.gouv.fr/fr/datasets/r/406c6a23-e283-4300-9484-54e78c8ae675', 'metrics': {'views': 8155}, 'mime': 'text/csv', 'preview_url': '/tabular/preview/?url=https%3A%2F%2Fstatic.data.gouv.fr%2Fresources%2Fdonnees-relatives-aux-resultats-des-tests-virologiques-covid-19%2F20200925-191506%2Fsp-pos-quot-dep-2020-09-25-19h15.csv', 'published': '2020-05-29T18:02:26', 'schema': None, 'title': 'sp-pos-quot-dep-2020-09-25-19h15.csv', 'type': 'main', 'url': 'https://static.data.gouv.fr/resources/donnees-relatives-aux-resultats-des-tests-virologiques-covid-19/20200925-191506/sp-pos-quot-dep-2020-09-25-19h15.csv'}, {'checksum': {'type': 'sha1', 'value': 'af41c6bc3aff81d2e3ab27e1fd4e85edd12efc77'}, 'created_at': '2020-05-29T18:03:11.045000', 'description': 'Taux de positivité - quotidien - région.', 'extras': {}, 'filesize': 1026513, 'filetype': 'file', 'format': 'csv', 'id': '001aca18-df6a-45c8-89e6-f82d689e6c01', 'last_modified': '2020-09-25T19:15:13.194000', 'latest': 'https://www.data.gouv.fr/fr/datasets/r/001aca18-df6a-45c8-89e6-f82d689e6c01', 'metrics': {'views': 828}, 'mime': 'text/csv', 'preview_url': '/tabular/preview/?url=https%3A%2F%2Fstatic.data.gouv.fr%2Fresources%2Fdonnees-relatives-aux-resultats-des-tests-virologiques-covid-19%2F20200925-191513%2Fsp-pos-quot-reg-2020-09-25-19h15.csv', 'published': '2020-05-29T18:03:11', 'schema': None, 'title': 'sp-pos-quot-reg-2020-09-25-19h15.csv', 'type': 'main', 'url': 'https://static.data.gouv.fr/resources/donnees-relatives-aux-resultats-des-tests-virologiques-covid-19/20200925-191513/sp-pos-quot-reg-2020-09-25-19h15.csv'}, {'checksum': {'type': 'sha1', 'value': '2879bad07eea8f4420beb68021944ab71af19b87'}, 'created_at': '2020-05-29T18:02:57.551000', 'description': 'Taux de positivité - quotidien - france.', 'extras': {}, 'filesize': 61466, 'filetype': 'file', 'format': 'csv', 'id': 'dd0de5d9-b5a5-4503-930a-7b08dc0adc7c', 'last_modified': '2020-09-25T19:15:13.762000', 'latest': 'https://www.data.gouv.fr/fr/datasets/r/dd0de5d9-b5a5-4503-930a-7b08dc0adc7c', 'metrics': {'views': 2639}, 'mime': 'text/csv', 'preview_url': '/tabular/preview/?url=https%3A%2F%2Fstatic.data.gouv.fr%2Fresources%2Fdonnees-relatives-aux-resultats-des-tests-virologiques-covid-19%2F20200925-191513%2Fsp-pos-quot-fra-2020-09-25-19h15.csv', 'published': '2020-05-29T18:02:57', 'schema': None, 'title': 'sp-pos-quot-fra-2020-09-25-19h15.csv', 'type': 'main', 'url': 'https://static.data.gouv.fr/resources/donnees-relatives-aux-resultats-des-tests-virologiques-covid-19/20200925-191513/sp-pos-quot-fra-2020-09-25-19h15.csv'}, {'checksum': {'type': 'sha1', 'value': '511d145379f80e1fb1e2fe0bf90cff2d493b5fc5'}, 'created_at': '2020-05-29T18:01:11.291000', 'description': 'Taux de positivité - hebdomadaire - departement.', 'extras': {}, 'filesize': 438028, 'filetype': 'file', 'format': 'csv', 'id': 'dd3ac13c-e87f-4b33-8897-07baff4e1783', 'last_modified': '2020-09-25T19:15:11.314000', 'latest': 'https://www.data.gouv.fr/fr/datasets/r/dd3ac13c-e87f-4b33-8897-07baff4e1783', 'metrics': {'views': 238}, 'mime': 'text/csv', 'preview_url': '/tabular/preview/?url=https%3A%2F%2Fstatic.data.gouv.fr%2Fresources%2Fdonnees-relatives-aux-resultats-des-tests-virologiques-covid-19%2F20200925-191511%2Fsp-pos-heb-dep-2020-09-25-19h15.csv', 'published': '2020-05-29T18:01:11', 'schema': None, 'title': 'sp-pos-heb-dep-2020-09-25-19h15.csv', 'type': 'main', 'url': 'https://static.data.gouv.fr/resources/donnees-relatives-aux-resultats-des-tests-virologiques-covid-19/20200925-191511/sp-pos-heb-dep-2020-09-25-19h15.csv'}, {'checksum': {'type': 'sha1', 'value': '59b6f0c920f3aa5a700d1ee1b20fef26b211596a'}, 'created_at': '2020-05-29T18:02:10.342000', 'description': 'Taux de positivité - hebdomadaire - région .', 'extras': {}, 'filesize': 146314, 'filetype': 'file', 'format': 'csv', 'id': '1ff7af5f-88d6-44bd-b8b6-16308b046afc', 'last_modified': '2020-09-25T19:15:05.806000', 'latest': 'https://www.data.gouv.fr/fr/datasets/r/1ff7af5f-88d6-44bd-b8b6-16308b046afc', 'metrics': {'views': 25}, 'mime': 'text/csv', 'preview_url': '/tabular/preview/?url=https%3A%2F%2Fstatic.data.gouv.fr%2Fresources%2Fdonnees-relatives-aux-resultats-des-tests-virologiques-covid-19%2F20200925-191505%2Fsp-pos-heb-reg-2020-09-25-19h15.csv', 'published': '2020-05-29T18:02:10', 'schema': None, 'title': 'sp-pos-heb-reg-2020-09-25-19h15.csv', 'type': 'main', 'url': 'https://static.data.gouv.fr/resources/donnees-relatives-aux-resultats-des-tests-virologiques-covid-19/20200925-191505/sp-pos-heb-reg-2020-09-25-19h15.csv'}, {'checksum': {'type': 'sha1', 'value': '27b6ce97a5004564ea5f876f8c8c00f83300a288'}, 'created_at': '2020-05-29T18:01:35.129000', 'description': 'Taux de positivité - hebdomadaire - France.', 'extras': {}, 'filesize': 9087, 'filetype': 'file', 'format': 'csv', 'id': '2f0f720d-fbd2-41a7-95b4-3a70ff5a9253', 'last_modified': '2020-09-25T19:15:03.498000', 'latest': 'https://www.data.gouv.fr/fr/datasets/r/2f0f720d-fbd2-41a7-95b4-3a70ff5a9253', 'metrics': {'views': 293}, 'mime': 'text/csv', 'preview_url': '/tabular/preview/?url=https%3A%2F%2Fstatic.data.gouv.fr%2Fresources%2Fdonnees-relatives-aux-resultats-des-tests-virologiques-covid-19%2F20200925-191503%2Fsp-pos-heb-fra-2020-09-25-19h15.csv', 'published': '2020-05-29T18:01:35', 'schema': None, 'title': 'sp-pos-heb-fra-2020-09-25-19h15.csv', 'type': 'main', 'url': 'https://static.data.gouv.fr/resources/donnees-relatives-aux-resultats-des-tests-virologiques-covid-19/20200925-191503/sp-pos-heb-fra-2020-09-25-19h15.csv'}, {'checksum': {'type': 'sha1', 'value': '41c46a8b6c450ddffea0845c85815dc42502192b'}, 'created_at': '2020-05-29T18:20:52.321000', 'description': None, 'extras': {}, 'filesize': 215055, 'filetype': 'file', 'format': 'csv', 'id': 'd1c1846c-f2d1-43cb-ad84-b46c40d1bec8', 'last_modified': '2020-07-03T19:15:20.039000', 'latest': 'https://www.data.gouv.fr/fr/datasets/r/d1c1846c-f2d1-43cb-ad84-b46c40d1bec8', 'metrics': {}, 'mime': 'text/csv', 'preview_url': '/tabular/preview/?url=https%3A%2F%2Fstatic.data.gouv.fr%2Fresources%2Fdonnees-relatives-aux-resultats-des-tests-virologiques-covid-19%2F20200703-191519%2Fsp-ti-tp-7j-dep-2020-07-03-19h15.csv', 'published': '2020-05-29T18:20:52.321000', 'schema': None, 'title': 'sp-ti-tp-7j-dep-2020-07-03-19h15.csv', 'type': 'main', 'url': 'https://static.data.gouv.fr/resources/donnees-relatives-aux-resultats-des-tests-virologiques-covid-19/20200703-191519/sp-ti-tp-7j-dep-2020-07-03-19h15.csv'}, {'checksum': {'type': 'sha1', 'value': '215ad0960bbad3719ea13622cbca9b4f15d01332'}, 'created_at': '2020-05-29T18:20:52.324000', 'description': None, 'extras': {}, 'filesize': 52837, 'filetype': 'file', 'format': 'csv', 'id': 'df2f66d3-ef9b-48e0-abdf-f33a6a7ff2fa', 'last_modified': '2020-07-03T19:15:20.439000', 'latest': 'https://www.data.gouv.fr/fr/datasets/r/df2f66d3-ef9b-48e0-abdf-f33a6a7ff2fa', 'metrics': {}, 'mime': 'text/csv', 'preview_url': '/tabular/preview/?url=https%3A%2F%2Fstatic.data.gouv.fr%2Fresources%2Fdonnees-relatives-aux-resultats-des-tests-virologiques-covid-19%2F20200703-191520%2Fsp-ti-tp-7j-reg-2020-07-03-19h15.csv', 'published': '2020-05-29T18:20:52.324000', 'schema': None, 'title': 'sp-ti-tp-7j-reg-2020-07-03-19h15.csv', 'type': 'main', 'url': 'https://static.data.gouv.fr/resources/donnees-relatives-aux-resultats-des-tests-virologiques-covid-19/20200703-191520/sp-ti-tp-7j-reg-2020-07-03-19h15.csv'}, {'checksum': {'type': 'sha1', 'value': '3272b07774ea14ed57c63bb7b9fd26065cf3125d'}, 'created_at': '2020-05-29T18:20:52.318000', 'description': None, 'extras': {}, 'filesize': 2880, 'filetype': 'file', 'format': 'csv', 'id': 'c1167c4e-8c89-40f2-adb3-1954f8fedfa7', 'last_modified': '2020-07-03T19:15:19.607000', 'latest': 'https://www.data.gouv.fr/fr/datasets/r/c1167c4e-8c89-40f2-adb3-1954f8fedfa7', 'metrics': {}, 'mime': 'text/csv', 'preview_url': '/tabular/preview/?url=https%3A%2F%2Fstatic.data.gouv.fr%2Fresources%2Fdonnees-relatives-aux-resultats-des-tests-virologiques-covid-19%2F20200703-191519%2Fsp-ti-tp-7j-fra-2020-07-03-19h15.csv', 'published': '2020-05-29T18:20:52.318000', 'schema': None, 'title': 'sp-ti-tp-7j-fra-2020-07-03-19h15.csv', 'type': 'main', 'url': 'https://static.data.gouv.fr/resources/donnees-relatives-aux-resultats-des-tests-virologiques-covid-19/20200703-191519/sp-ti-tp-7j-fra-2020-07-03-19h15.csv'}, {'checksum': {'type': 'sha1', 'value': 'ce0d062e5faa1dcd83616f7bc9f74367b43fb6ff'}, 'created_at': '2020-05-29T17:19:23.764000', 'description': 'Taux de positivité - Quotidien.', 'extras': {}, 'filesize': 1337737, 'filetype': 'file', 'format': 'xlsx', 'id': 'c20aa429-d30b-41d1-8bea-37b106c5f33b', 'last_modified': '2020-07-03T19:15:27.711000', 'latest': 'https://www.data.gouv.fr/fr/datasets/r/c20aa429-d30b-41d1-8bea-37b106c5f33b', 'metrics': {}, 'mime': 'application/vnd.openxmlformats-officedocument.spreadsheetml.sheet', 'preview_url': '/tabular/preview/?url=https%3A%2F%2Fstatic.data.gouv.fr%2Fresources%2Fdonnees-relatives-aux-resultats-des-tests-virologiques-covid-19%2F20200703-191527%2Fsp-pos-quot-2020-07-03-19h15.xlsx', 'published': '2020-05-29T17:19:23', 'schema': None, 'title': 'sp-pos-quot-2020-07-03-19h15.xlsx', 'type': 'main', 'url': 'https://static.data.gouv.fr/resources/donnees-relatives-aux-resultats-des-tests-virologiques-covid-19/20200703-191527/sp-pos-quot-2020-07-03-19h15.xlsx'}, {'checksum': {'type': 'sha1', 'value': '62fb3c2bf176eed6254a72d4067d250bb5414490'}, 'created_at': '2020-05-29T17:17:47.913000', 'description': 'Taux de positivité - hebdomadaire.', 'extras': {}, 'filesize': 207005, 'filetype': 'file', 'format': 'xlsx', 'id': 'fc7f9844-05bd-41eb-9d9a-2a4b8010af1d', 'last_modified': '2020-07-01T19:15:23.424000', 'latest': 'https://www.data.gouv.fr/fr/datasets/r/fc7f9844-05bd-41eb-9d9a-2a4b8010af1d', 'metrics': {}, 'mime': 'application/vnd.openxmlformats-officedocument.spreadsheetml.sheet', 'preview_url': '/tabular/preview/?url=https%3A%2F%2Fstatic.data.gouv.fr%2Fresources%2Fdonnees-relatives-aux-resultats-des-tests-virologiques-covid-19%2F20200701-191523%2Fsp-pos-heb-2020-07-01-19h15.xlsx', 'published': '2020-05-29T17:17:47', 'schema': None, 'title': 'sp-pos-heb-2020-07-01-19h15.xlsx', 'type': 'main', 'url': 'https://static.data.gouv.fr/resources/donnees-relatives-aux-resultats-des-tests-virologiques-covid-19/20200701-191523/sp-pos-heb-2020-07-01-19h15.xlsx'}, {'checksum': {'type': 'sha1', 'value': 'f526f981c17773cfc4207320275c2822ce425613'}, 'created_at': '2020-05-29T18:49:52.653000', 'description': None, 'extras': {}, 'filesize': 182582, 'filetype': 'file', 'format': 'xlsx', 'id': '708eb9ee-d8e8-4008-ac2d-0827acd95ba7', 'last_modified': '2020-07-03T19:15:20.863000', 'latest': 'https://www.data.gouv.fr/fr/datasets/r/708eb9ee-d8e8-4008-ac2d-0827acd95ba7', 'metrics': {}, 'mime': 'application/vnd.openxmlformats-officedocument.spreadsheetml.sheet', 'preview_url': '/tabular/preview/?url=https%3A%2F%2Fstatic.data.gouv.fr%2Fresources%2Fdonnees-relatives-aux-resultats-des-tests-virologiques-covid-19%2F20200703-191520%2Fsp-ti-tp-7j-2020-07-03-19h15.xlsx', 'published': '2020-05-29T18:49:52.653000', 'schema': None, 'title': 'sp-ti-tp-7j-2020-07-03-19h15.xlsx', 'type': 'main', 'url': 'https://static.data.gouv.fr/resources/donnees-relatives-aux-resultats-des-tests-virologiques-covid-19/20200703-191520/sp-ti-tp-7j-2020-07-03-19h15.xlsx'}, {'checksum': {'type': 'sha1', 'value': '89c55f3a82bb8dcb5f1d1b1f4cb431b798a653ec'}, 'created_at': '2020-05-29T17:00:35.757000', 'description': 'Description des métadonnées.', 'extras': {}, 'filesize': 10422, 'filetype': 'file', 'format': 'xlsx', 'id': '39aaad1c-9aac-4be8-96b2-6d001f892b34', 'last_modified': '2020-05-29T17:00:54.313000', 'latest': 'https://www.data.gouv.fr/fr/datasets/r/39aaad1c-9aac-4be8-96b2-6d001f892b34', 'metrics': {'views': 321}, 'mime': 'application/vnd.openxmlformats-officedocument.spreadsheetml.sheet', 'preview_url': '/tabular/preview/?url=https%3A%2F%2Fstatic.data.gouv.fr%2Fresources%2Ftaux-de-positivite-aux-tests-virologiques-covid-19%2F20200529-170035%2Fmetadonnees-positivite.xlsx', 'published': '2020-05-29T17:00:35', 'schema': None, 'title': 'metadonnees-positivite.xlsx', 'type': 'documentation', 'url': 'https://static.data.gouv.fr/resources/taux-de-positivite-aux-tests-virologiques-covid-19/20200529-170035/metadonnees-positivite.xlsx'}]\n",
      "********************************************************************************\n",
      "slug\n",
      "--------------------------------------------------------------------------------\n",
      "donnees-relatives-aux-resultats-des-tests-virologiques-covid-19\n",
      "********************************************************************************\n",
      "spatial\n",
      "--------------------------------------------------------------------------------\n",
      "None\n",
      "********************************************************************************\n",
      "tags\n",
      "--------------------------------------------------------------------------------\n",
      "[]\n",
      "********************************************************************************\n",
      "temporal_coverage\n",
      "--------------------------------------------------------------------------------\n",
      "None\n",
      "********************************************************************************\n",
      "title\n",
      "--------------------------------------------------------------------------------\n",
      "Données relatives aux résultats des tests virologiques COVID-19\n",
      "********************************************************************************\n",
      "uri\n",
      "--------------------------------------------------------------------------------\n",
      "https://www.data.gouv.fr/api/1/datasets/donnees-relatives-aux-resultats-des-tests-virologiques-covid-19/\n"
     ]
    }
   ],
   "source": [
    "for k in resp:\n",
    "    print(\"*\" * 80)\n",
    "    print(k)\n",
    "    print(\"-\" * 80)\n",
    "    print(resp.get(k))"
   ]
  },
  {
   "cell_type": "code",
   "execution_count": 32,
   "metadata": {},
   "outputs": [],
   "source": [
    "resources = [r for r in resp[\"resources\"] if \"wordprocessingml\" not in r[\"mime\"]]"
   ]
  },
  {
   "cell_type": "code",
   "execution_count": 78,
   "metadata": {},
   "outputs": [],
   "source": [
    "from yaml import load, dump"
   ]
  },
  {
   "cell_type": "code",
   "execution_count": 77,
   "metadata": {},
   "outputs": [
    {
     "data": {
      "text/plain": [
       "{'checksum': {'type': 'sha1',\n",
       "  'value': 'eb395230851890fe96cbc0618000ae70e302decd'},\n",
       " 'created_at': '2020-05-29T18:02:26.703000',\n",
       " 'description': 'Taux de positivité - quotidien - département .',\n",
       " 'extras': {},\n",
       " 'filesize': 3361733,\n",
       " 'filetype': 'file',\n",
       " 'format': 'csv',\n",
       " 'id': '406c6a23-e283-4300-9484-54e78c8ae675',\n",
       " 'last_modified': '2020-09-25T19:15:06.758000',\n",
       " 'latest': 'https://www.data.gouv.fr/fr/datasets/r/406c6a23-e283-4300-9484-54e78c8ae675',\n",
       " 'metrics': {'views': 8155},\n",
       " 'mime': 'text/csv',\n",
       " 'preview_url': '/tabular/preview/?url=https%3A%2F%2Fstatic.data.gouv.fr%2Fresources%2Fdonnees-relatives-aux-resultats-des-tests-virologiques-covid-19%2F20200925-191506%2Fsp-pos-quot-dep-2020-09-25-19h15.csv',\n",
       " 'published': '2020-05-29T18:02:26',\n",
       " 'schema': None,\n",
       " 'title': 'sp-pos-quot-dep-2020-09-25-19h15.csv',\n",
       " 'type': 'main',\n",
       " 'url': 'https://static.data.gouv.fr/resources/donnees-relatives-aux-resultats-des-tests-virologiques-covid-19/20200925-191506/sp-pos-quot-dep-2020-09-25-19h15.csv'}"
      ]
     },
     "execution_count": 77,
     "metadata": {},
     "output_type": "execute_result"
    }
   ],
   "source": [
    "resources[0]"
   ]
  },
  {
   "cell_type": "code",
   "execution_count": 80,
   "metadata": {},
   "outputs": [
    {
     "name": "stdout",
     "output_type": "stream",
     "text": [
      "checksum:\n",
      "  type: sha1\n",
      "  value: eb395230851890fe96cbc0618000ae70e302decd\n",
      "created_at: '2020-05-29T18:02:26.703000'\n",
      "description: \"Taux de positivit\\xE9 - quotidien - d\\xE9partement .\"\n",
      "extras: {}\n",
      "filesize: 3361733\n",
      "filetype: file\n",
      "format: csv\n",
      "id: 406c6a23-e283-4300-9484-54e78c8ae675\n",
      "last_modified: '2020-09-25T19:15:06.758000'\n",
      "latest: https://www.data.gouv.fr/fr/datasets/r/406c6a23-e283-4300-9484-54e78c8ae675\n",
      "metrics:\n",
      "  views: 8155\n",
      "mime: text/csv\n",
      "preview_url: /tabular/preview/?url=https%3A%2F%2Fstatic.data.gouv.fr%2Fresources%2Fdonnees-relatives-aux-resultats-des-tests-virologiques-covid-19%2F20200925-191506%2Fsp-pos-quot-dep-2020-09-25-19h15.csv\n",
      "published: '2020-05-29T18:02:26'\n",
      "schema: null\n",
      "title: sp-pos-quot-dep-2020-09-25-19h15.csv\n",
      "type: main\n",
      "url: https://static.data.gouv.fr/resources/donnees-relatives-aux-resultats-des-tests-virologiques-covid-19/20200925-191506/sp-pos-quot-dep-2020-09-25-19h15.csv\n",
      "\n"
     ]
    }
   ],
   "source": [
    "print(dump(resources[0]))"
   ]
  },
  {
   "cell_type": "code",
   "execution_count": null,
   "metadata": {},
   "outputs": [],
   "source": [
    "'description', 'latest', 'title'"
   ]
  },
  {
   "cell_type": "code",
   "execution_count": 76,
   "metadata": {},
   "outputs": [
    {
     "name": "stdout",
     "output_type": "stream",
     "text": [
      "sp-pos-quot-dep-2020-09-25-19h15.csv\n",
      "sp-pos-quot-reg-2020-09-25-19h15.csv\n",
      "sp-pos-quot-fra-2020-09-25-19h15.csv\n",
      "sp-pos-heb-dep-2020-09-25-19h15.csv\n",
      "sp-pos-heb-reg-2020-09-25-19h15.csv\n",
      "sp-pos-heb-fra-2020-09-25-19h15.csv\n",
      "sp-ti-tp-7j-dep-2020-07-03-19h15.csv\n",
      "sp-ti-tp-7j-reg-2020-07-03-19h15.csv\n",
      "sp-ti-tp-7j-fra-2020-07-03-19h15.csv\n",
      "sp-pos-quot-2020-07-03-19h15.xlsx\n",
      "sp-pos-heb-2020-07-01-19h15.xlsx\n",
      "sp-ti-tp-7j-2020-07-03-19h15.xlsx\n",
      "metadonnees-positivite.xlsx\n"
     ]
    }
   ],
   "source": [
    "for k in resources:\n",
    "    print(k[\"title\"])"
   ]
  },
  {
   "cell_type": "code",
   "execution_count": null,
   "metadata": {},
   "outputs": [],
   "source": [
    "for k in resources[-1]:\n",
    "    print(\"*\" * 80)\n",
    "    print(k)\n",
    "    print(\"-\" * 80)\n",
    "    print(resources[-1].get(k))"
   ]
  },
  {
   "cell_type": "code",
   "execution_count": 91,
   "metadata": {},
   "outputs": [
    {
     "data": {
      "text/plain": [
       "{'url_web': 'https://www.data.gouv.fr/fr/datasets/indicateurs-de-suivi-de-lepidemie-de-covid-19/',\n",
       " 'url_stable': 'https://www.data.gouv.fr/fr/datasets/r/4acad602-d8b1-4516-bc71-7d5574d5f33e',\n",
       " 'url_api': 'https://www.data.gouv.fr/api/1/datasets/5ee9df5003284f565d561278/',\n",
       " 'titre': \"Indicateurs de suivi de l'épidémie de COVID-19\",\n",
       " 'file_pattern': 'indicateurs-covid19-dep',\n",
       " 'delim': ','}"
      ]
     },
     "execution_count": 91,
     "metadata": {},
     "output_type": "execute_result"
    }
   ],
   "source": [
    "src[\"indicateurs\"]"
   ]
  },
  {
   "cell_type": "code",
   "execution_count": null,
   "metadata": {},
   "outputs": [],
   "source": []
  }
 ],
 "metadata": {
  "kernelspec": {
   "display_name": "DataScience",
   "language": "python",
   "name": "datascience"
  },
  "language_info": {
   "codemirror_mode": {
    "name": "ipython",
    "version": 3
   },
   "file_extension": ".py",
   "mimetype": "text/x-python",
   "name": "python",
   "nbconvert_exporter": "python",
   "pygments_lexer": "ipython3",
   "version": "3.8.3"
  }
 },
 "nbformat": 4,
 "nbformat_minor": 4
}
